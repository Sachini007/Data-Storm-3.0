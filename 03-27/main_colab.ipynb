{
  "cells": [
    {
      "cell_type": "markdown",
      "metadata": {
        "id": "view-in-github",
        "colab_type": "text"
      },
      "source": [
        "<a href=\"https://colab.research.google.com/github/Sachini007/Data-Storm-3.0/blob/main/03-27/main_colab.ipynb\" target=\"_parent\"><img src=\"https://colab.research.google.com/assets/colab-badge.svg\" alt=\"Open In Colab\"/></a>"
      ]
    },
    {
      "cell_type": "code",
      "execution_count": null,
      "metadata": {
        "id": "mX8HDD8iee6a"
      },
      "outputs": [],
      "source": [
        "import numpy as np\n",
        "import pandas as pd\n",
        "import plotly.graph_objs as go\n",
        "import plotly.offline as py\n",
        "from sklearn.model_selection import train_test_split"
      ]
    },
    {
      "cell_type": "code",
      "execution_count": null,
      "metadata": {
        "id": "JHHpETQBvqTC"
      },
      "outputs": [],
      "source": [
        "#from google.colab import drive\n",
        "#drive.mount('/content/drive')"
      ]
    },
    {
      "cell_type": "code",
      "execution_count": null,
      "metadata": {
        "id": "zdpxIKECee6e"
      },
      "outputs": [],
      "source": [
        "import tensorflow as tf\n",
        "from tensorflow.keras.layers import Dense\n",
        "from tensorflow.keras.models import Sequential\n",
        "from tensorflow.keras.utils import to_categorical\n",
        "from tensorflow.keras.optimizers import SGD,Adadelta,Adam,RMSprop \n",
        "from tensorflow.keras.callbacks import EarlyStopping\n",
        "import lightgbm as lgb\n",
        "import itertools\n",
        "from tensorflow.keras.layers import LSTM\n",
        "from tensorflow.keras.layers import Conv1D\n",
        "from tensorflow.keras.layers import MaxPooling1D\n",
        "from tensorflow.keras.layers import Dropout\n",
        "import seaborn as sns"
      ]
    },
    {
      "cell_type": "markdown",
      "metadata": {
        "id": "nkw5gpXfee6f"
      },
      "source": [
        "# load data"
      ]
    },
    {
      "cell_type": "code",
      "execution_count": null,
      "metadata": {
        "id": "6i8YcJC1v3O2"
      },
      "outputs": [],
      "source": [
        "#%cd /content/drive/MyDrive/Data-Storm-3.0/03-26"
      ]
    },
    {
      "cell_type": "code",
      "execution_count": null,
      "metadata": {
        "colab": {
          "base_uri": "https://localhost:8080/",
          "height": 224
        },
        "id": "KW9kkW-zee6g",
        "outputId": "33515199-8444-49e7-8eb8-ca519ffe1ee5"
      },
      "outputs": [
        {
          "name": "stdout",
          "output_type": "stream",
          "text": [
            "(19921, 4)\n"
          ]
        },
        {
          "data": {
            "text/html": [
              "<div>\n",
              "<style scoped>\n",
              "    .dataframe tbody tr th:only-of-type {\n",
              "        vertical-align: middle;\n",
              "    }\n",
              "\n",
              "    .dataframe tbody tr th {\n",
              "        vertical-align: top;\n",
              "    }\n",
              "\n",
              "    .dataframe thead th {\n",
              "        text-align: right;\n",
              "    }\n",
              "</style>\n",
              "<table border=\"1\" class=\"dataframe\">\n",
              "  <thead>\n",
              "    <tr style=\"text-align: right;\">\n",
              "      <th></th>\n",
              "      <th>CategoryCode</th>\n",
              "      <th>ItemCode</th>\n",
              "      <th>DateID</th>\n",
              "      <th>DailySales</th>\n",
              "    </tr>\n",
              "  </thead>\n",
              "  <tbody>\n",
              "    <tr>\n",
              "      <th>0</th>\n",
              "      <td>category_2</td>\n",
              "      <td>117610</td>\n",
              "      <td>2021-11-06</td>\n",
              "      <td>7</td>\n",
              "    </tr>\n",
              "    <tr>\n",
              "      <th>1</th>\n",
              "      <td>category_4</td>\n",
              "      <td>836584</td>\n",
              "      <td>2021-11-18</td>\n",
              "      <td>16</td>\n",
              "    </tr>\n",
              "    <tr>\n",
              "      <th>2</th>\n",
              "      <td>category_1</td>\n",
              "      <td>370195</td>\n",
              "      <td>2022-01-24</td>\n",
              "      <td>6</td>\n",
              "    </tr>\n",
              "    <tr>\n",
              "      <th>3</th>\n",
              "      <td>category_2</td>\n",
              "      <td>172582</td>\n",
              "      <td>2021-10-30</td>\n",
              "      <td>5</td>\n",
              "    </tr>\n",
              "    <tr>\n",
              "      <th>4</th>\n",
              "      <td>category_2</td>\n",
              "      <td>1006009</td>\n",
              "      <td>2021-10-30</td>\n",
              "      <td>5</td>\n",
              "    </tr>\n",
              "  </tbody>\n",
              "</table>\n",
              "</div>"
            ],
            "text/plain": [
              "  CategoryCode  ItemCode     DateID  DailySales\n",
              "0   category_2    117610 2021-11-06           7\n",
              "1   category_4    836584 2021-11-18          16\n",
              "2   category_1    370195 2022-01-24           6\n",
              "3   category_2    172582 2021-10-30           5\n",
              "4   category_2   1006009 2021-10-30           5"
            ]
          },
          "execution_count": 3,
          "metadata": {},
          "output_type": "execute_result"
        }
      ],
      "source": [
        "file_name = 'train_data.csv'\n",
        "train_df = pd.read_csv(file_name,parse_dates=['DateID'] )\n",
        "print(train_df.shape)\n",
        "train_df.head()"
      ]
    },
    {
      "cell_type": "code",
      "execution_count": null,
      "metadata": {
        "id": "Sso51y3_uSrZ"
      },
      "outputs": [],
      "source": [
        "train_df = train_df.sort_values(\"DateID\").reset_index(drop = True)"
      ]
    },
    {
      "cell_type": "code",
      "execution_count": null,
      "metadata": {
        "id": "YDez8SpPBqWK"
      },
      "outputs": [],
      "source": [
        "train_df.index.name = 'ID'"
      ]
    },
    {
      "cell_type": "code",
      "execution_count": null,
      "metadata": {
        "colab": {
          "base_uri": "https://localhost:8080/",
          "height": 238
        },
        "id": "N-hOtT4JB8_e",
        "outputId": "b2700458-86d0-4904-a569-0f0c38060f6f"
      },
      "outputs": [
        {
          "data": {
            "text/html": [
              "<div>\n",
              "<style scoped>\n",
              "    .dataframe tbody tr th:only-of-type {\n",
              "        vertical-align: middle;\n",
              "    }\n",
              "\n",
              "    .dataframe tbody tr th {\n",
              "        vertical-align: top;\n",
              "    }\n",
              "\n",
              "    .dataframe thead th {\n",
              "        text-align: right;\n",
              "    }\n",
              "</style>\n",
              "<table border=\"1\" class=\"dataframe\">\n",
              "  <thead>\n",
              "    <tr style=\"text-align: right;\">\n",
              "      <th></th>\n",
              "      <th>CategoryCode</th>\n",
              "      <th>ItemCode</th>\n",
              "      <th>DateID</th>\n",
              "      <th>DailySales</th>\n",
              "    </tr>\n",
              "    <tr>\n",
              "      <th>ID</th>\n",
              "      <th></th>\n",
              "      <th></th>\n",
              "      <th></th>\n",
              "      <th></th>\n",
              "    </tr>\n",
              "  </thead>\n",
              "  <tbody>\n",
              "    <tr>\n",
              "      <th>0</th>\n",
              "      <td>category_2</td>\n",
              "      <td>174436</td>\n",
              "      <td>2021-10-01</td>\n",
              "      <td>9</td>\n",
              "    </tr>\n",
              "    <tr>\n",
              "      <th>1</th>\n",
              "      <td>category_2</td>\n",
              "      <td>118033</td>\n",
              "      <td>2021-10-01</td>\n",
              "      <td>4</td>\n",
              "    </tr>\n",
              "    <tr>\n",
              "      <th>2</th>\n",
              "      <td>category_2</td>\n",
              "      <td>20824</td>\n",
              "      <td>2021-10-01</td>\n",
              "      <td>7</td>\n",
              "    </tr>\n",
              "    <tr>\n",
              "      <th>3</th>\n",
              "      <td>category_1</td>\n",
              "      <td>1061341</td>\n",
              "      <td>2021-10-01</td>\n",
              "      <td>11</td>\n",
              "    </tr>\n",
              "    <tr>\n",
              "      <th>4</th>\n",
              "      <td>category_1</td>\n",
              "      <td>76399</td>\n",
              "      <td>2021-10-01</td>\n",
              "      <td>14</td>\n",
              "    </tr>\n",
              "  </tbody>\n",
              "</table>\n",
              "</div>"
            ],
            "text/plain": [
              "   CategoryCode  ItemCode     DateID  DailySales\n",
              "ID                                              \n",
              "0    category_2    174436 2021-10-01           9\n",
              "1    category_2    118033 2021-10-01           4\n",
              "2    category_2     20824 2021-10-01           7\n",
              "3    category_1   1061341 2021-10-01          11\n",
              "4    category_1     76399 2021-10-01          14"
            ]
          },
          "execution_count": 6,
          "metadata": {},
          "output_type": "execute_result"
        }
      ],
      "source": [
        "train_df.head()"
      ]
    },
    {
      "cell_type": "code",
      "execution_count": null,
      "metadata": {
        "colab": {
          "base_uri": "https://localhost:8080/"
        },
        "id": "0bEML7rAk2RC",
        "outputId": "42e00877-b8a8-4847-c4f5-728e92448556"
      },
      "outputs": [
        {
          "data": {
            "text/plain": [
              "CategoryCode            object\n",
              "ItemCode                 int64\n",
              "DateID          datetime64[ns]\n",
              "DailySales               int64\n",
              "dtype: object"
            ]
          },
          "execution_count": 7,
          "metadata": {},
          "output_type": "execute_result"
        }
      ],
      "source": [
        "train_df.dtypes"
      ]
    },
    {
      "cell_type": "code",
      "execution_count": null,
      "metadata": {
        "colab": {
          "base_uri": "https://localhost:8080/",
          "height": 224
        },
        "id": "KSYqBDTZee6i",
        "outputId": "8057d87c-88f6-4ccf-8531-0eefd2eacbf0"
      },
      "outputs": [
        {
          "name": "stdout",
          "output_type": "stream",
          "text": [
            "(2590, 4)\n"
          ]
        },
        {
          "data": {
            "text/html": [
              "<div>\n",
              "<style scoped>\n",
              "    .dataframe tbody tr th:only-of-type {\n",
              "        vertical-align: middle;\n",
              "    }\n",
              "\n",
              "    .dataframe tbody tr th {\n",
              "        vertical-align: top;\n",
              "    }\n",
              "\n",
              "    .dataframe thead th {\n",
              "        text-align: right;\n",
              "    }\n",
              "</style>\n",
              "<table border=\"1\" class=\"dataframe\">\n",
              "  <thead>\n",
              "    <tr style=\"text-align: right;\">\n",
              "      <th></th>\n",
              "      <th>CategoryCode</th>\n",
              "      <th>ItemCode</th>\n",
              "      <th>Week</th>\n",
              "      <th>DateID</th>\n",
              "    </tr>\n",
              "  </thead>\n",
              "  <tbody>\n",
              "    <tr>\n",
              "      <th>0</th>\n",
              "      <td>category_2</td>\n",
              "      <td>1044502</td>\n",
              "      <td>w1</td>\n",
              "      <td>2022-02-14</td>\n",
              "    </tr>\n",
              "    <tr>\n",
              "      <th>1</th>\n",
              "      <td>category_2</td>\n",
              "      <td>172582</td>\n",
              "      <td>w1</td>\n",
              "      <td>2022-02-14</td>\n",
              "    </tr>\n",
              "    <tr>\n",
              "      <th>2</th>\n",
              "      <td>category_3</td>\n",
              "      <td>1066570</td>\n",
              "      <td>w1</td>\n",
              "      <td>2022-02-14</td>\n",
              "    </tr>\n",
              "    <tr>\n",
              "      <th>3</th>\n",
              "      <td>category_2</td>\n",
              "      <td>1090240</td>\n",
              "      <td>w1</td>\n",
              "      <td>2022-02-14</td>\n",
              "    </tr>\n",
              "    <tr>\n",
              "      <th>4</th>\n",
              "      <td>category_3</td>\n",
              "      <td>1097143</td>\n",
              "      <td>w1</td>\n",
              "      <td>2022-02-14</td>\n",
              "    </tr>\n",
              "  </tbody>\n",
              "</table>\n",
              "</div>"
            ],
            "text/plain": [
              "  CategoryCode  ItemCode Week     DateID\n",
              "0   category_2   1044502   w1 2022-02-14\n",
              "1   category_2    172582   w1 2022-02-14\n",
              "2   category_3   1066570   w1 2022-02-14\n",
              "3   category_2   1090240   w1 2022-02-14\n",
              "4   category_3   1097143   w1 2022-02-14"
            ]
          },
          "execution_count": 8,
          "metadata": {},
          "output_type": "execute_result"
        }
      ],
      "source": [
        "validation_df = pd.read_csv('new_validation_data.csv',parse_dates=['DateID'])\n",
        "# validation_df.drop('Week', axis=1, inplace=True)\n",
        "print(validation_df.shape)\n",
        "validation_df = validation_df.sort_values(\"DateID\").reset_index(drop = True)\n",
        "validation_df.head()"
      ]
    },
    {
      "cell_type": "code",
      "execution_count": null,
      "metadata": {
        "id": "9ZVM4ZmPCKca"
      },
      "outputs": [],
      "source": [
        "validation_df.index.name = 'ID'"
      ]
    },
    {
      "cell_type": "code",
      "execution_count": null,
      "metadata": {
        "id": "NDkdCSrLTXy0"
      },
      "outputs": [],
      "source": [
        "validation_df_original = validation_df.copy()"
      ]
    },
    {
      "cell_type": "code",
      "execution_count": null,
      "metadata": {
        "colab": {
          "base_uri": "https://localhost:8080/",
          "height": 224
        },
        "id": "FV8g-a6KRtR9",
        "outputId": "1e86a18c-8d0b-492e-81c1-f0bafba432a6"
      },
      "outputs": [
        {
          "name": "stdout",
          "output_type": "stream",
          "text": [
            "(2639, 4)\n"
          ]
        },
        {
          "data": {
            "text/html": [
              "<div>\n",
              "<style scoped>\n",
              "    .dataframe tbody tr th:only-of-type {\n",
              "        vertical-align: middle;\n",
              "    }\n",
              "\n",
              "    .dataframe tbody tr th {\n",
              "        vertical-align: top;\n",
              "    }\n",
              "\n",
              "    .dataframe thead th {\n",
              "        text-align: right;\n",
              "    }\n",
              "</style>\n",
              "<table border=\"1\" class=\"dataframe\">\n",
              "  <thead>\n",
              "    <tr style=\"text-align: right;\">\n",
              "      <th></th>\n",
              "      <th>CategoryCode</th>\n",
              "      <th>ItemCode</th>\n",
              "      <th>Week</th>\n",
              "      <th>DateID</th>\n",
              "    </tr>\n",
              "  </thead>\n",
              "  <tbody>\n",
              "    <tr>\n",
              "      <th>0</th>\n",
              "      <td>category_1</td>\n",
              "      <td>370195</td>\n",
              "      <td>w1</td>\n",
              "      <td>2022-02-14</td>\n",
              "    </tr>\n",
              "    <tr>\n",
              "      <th>1</th>\n",
              "      <td>category_1</td>\n",
              "      <td>1032559</td>\n",
              "      <td>w1</td>\n",
              "      <td>2022-02-14</td>\n",
              "    </tr>\n",
              "    <tr>\n",
              "      <th>2</th>\n",
              "      <td>category_2</td>\n",
              "      <td>174436</td>\n",
              "      <td>w1</td>\n",
              "      <td>2022-02-14</td>\n",
              "    </tr>\n",
              "    <tr>\n",
              "      <th>3</th>\n",
              "      <td>category_2</td>\n",
              "      <td>262384</td>\n",
              "      <td>w1</td>\n",
              "      <td>2022-02-14</td>\n",
              "    </tr>\n",
              "    <tr>\n",
              "      <th>4</th>\n",
              "      <td>category_1</td>\n",
              "      <td>371104</td>\n",
              "      <td>w1</td>\n",
              "      <td>2022-02-14</td>\n",
              "    </tr>\n",
              "  </tbody>\n",
              "</table>\n",
              "</div>"
            ],
            "text/plain": [
              "  CategoryCode  ItemCode Week     DateID\n",
              "0   category_1    370195   w1 2022-02-14\n",
              "1   category_1   1032559   w1 2022-02-14\n",
              "2   category_2    174436   w1 2022-02-14\n",
              "3   category_2    262384   w1 2022-02-14\n",
              "4   category_1    371104   w1 2022-02-14"
            ]
          },
          "execution_count": 11,
          "metadata": {},
          "output_type": "execute_result"
        }
      ],
      "source": [
        "test_df = pd.read_csv('new_test_data.csv',parse_dates=['DateID'])\n",
        "# test_df.drop('Week', axis=1, inplace=True)\n",
        "print(test_df.shape)\n",
        "test_df = test_df.sort_values(\"DateID\").reset_index(drop = True)\n",
        "test_df.head()"
      ]
    },
    {
      "cell_type": "code",
      "execution_count": null,
      "metadata": {
        "id": "PnbqBBhFR-rx"
      },
      "outputs": [],
      "source": [
        "test_df.index.name = 'ID'"
      ]
    },
    {
      "cell_type": "code",
      "execution_count": null,
      "metadata": {
        "id": "-4lvmk2LTu3L"
      },
      "outputs": [],
      "source": [
        "test_df_original = test_df.copy()"
      ]
    },
    {
      "cell_type": "markdown",
      "metadata": {
        "id": "YSHb7-cxee6j"
      },
      "source": [
        "# Daily Sales distribution"
      ]
    },
    {
      "cell_type": "code",
      "execution_count": null,
      "metadata": {
        "colab": {
          "base_uri": "https://localhost:8080/"
        },
        "id": "LyQeGL0wee6j",
        "outputId": "4f160d62-9d5a-4d4b-cc52-3760dd52e97d"
      },
      "outputs": [
        {
          "name": "stdout",
          "output_type": "stream",
          "text": [
            "Max sale: 434\n",
            "Min sale: 1\n",
            "Avg sale: 7.351889965363185\n",
            "Total sale: 146457\n"
          ]
        }
      ],
      "source": [
        "train_df['DailySales_bins'] = pd.cut(train_df.DailySales,[0,1,2,3,4,5,6,7,8,9,10,20,30,40,50,100,150,200,250,300,350,400,450])\n",
        "print('Max sale:', train_df.DailySales.max())\n",
        "print('Min sale:', train_df.DailySales.min())\n",
        "print('Avg sale:', train_df.DailySales.mean())\n",
        "print('Total sale:', train_df.DailySales.sum())"
      ]
    },
    {
      "cell_type": "code",
      "execution_count": null,
      "metadata": {
        "colab": {
          "base_uri": "https://localhost:8080/"
        },
        "id": "TC3rsEWOee6k",
        "outputId": "e986c7db-c50a-42b5-e4b1-5167c9a2bf4a"
      },
      "outputs": [
        {
          "data": {
            "text/plain": [
              "(0, 1]        4413\n",
              "(1, 2]        3503\n",
              "(2, 3]        2376\n",
              "(3, 4]        1887\n",
              "(10, 20]      1868\n",
              "(4, 5]        1297\n",
              "(5, 6]        1026\n",
              "(6, 7]         770\n",
              "(7, 8]         583\n",
              "(20, 30]       551\n",
              "(8, 9]         480\n",
              "(9, 10]        428\n",
              "(50, 100]      304\n",
              "(30, 40]       202\n",
              "(40, 50]       128\n",
              "(100, 150]      83\n",
              "(150, 200]      15\n",
              "(200, 250]       4\n",
              "(250, 300]       1\n",
              "(300, 350]       1\n",
              "(400, 450]       1\n",
              "(350, 400]       0\n",
              "Name: DailySales_bins, dtype: int64"
            ]
          },
          "execution_count": 15,
          "metadata": {},
          "output_type": "execute_result"
        }
      ],
      "source": [
        "pd.value_counts(train_df.DailySales_bins)"
      ]
    },
    {
      "cell_type": "code",
      "execution_count": null,
      "metadata": {
        "colab": {
          "base_uri": "https://localhost:8080/",
          "height": 298
        },
        "id": "mlzrzdq3ee6l",
        "outputId": "cdcb472e-fb01-4268-ad06-190db9e47304"
      },
      "outputs": [
        {
          "data": {
            "text/plain": [
              "<AxesSubplot:title={'center':'Sales distribution'}>"
            ]
          },
          "execution_count": 16,
          "metadata": {},
          "output_type": "execute_result"
        },
        {
          "data": {
            "image/png": "[encoded data removed]",
            "text/plain": [
              "<Figure size 432x288 with 1 Axes>"
            ]
          },
          "metadata": {
            "needs_background": "light"
          },
          "output_type": "display_data"
        }
      ],
      "source": [
        "sales_count = pd.value_counts(train_df.DailySales_bins)\n",
        "sales_count.sort_values(ascending=True).plot(kind='barh', title='Sales distribution', )"
      ]
    },
    {
      "cell_type": "code",
      "execution_count": null,
      "metadata": {
        "colab": {
          "base_uri": "https://localhost:8080/"
        },
        "id": "-yoO7IYoee6l",
        "outputId": "75a969dc-5821-4be1-cf06-3f9817a959e5"
      },
      "outputs": [
        {
          "data": {
            "text/plain": [
              "(0, 1]        22.152502\n",
              "(1, 2]        17.584459\n",
              "(2, 3]        11.927112\n",
              "(3, 4]         9.472416\n",
              "(10, 20]       9.377039\n",
              "(4, 5]         6.510717\n",
              "(5, 6]         5.150344\n",
              "(6, 7]         3.865268\n",
              "(7, 8]         2.926560\n",
              "(20, 30]       2.765925\n",
              "(8, 9]         2.409518\n",
              "(9, 10]        2.148487\n",
              "(50, 100]      1.526028\n",
              "(30, 40]       1.014005\n",
              "(40, 50]       0.642538\n",
              "(100, 150]     0.416646\n",
              "(150, 200]     0.075297\n",
              "(200, 250]     0.020079\n",
              "(250, 300]     0.005020\n",
              "(300, 350]     0.005020\n",
              "(400, 450]     0.005020\n",
              "(350, 400]     0.000000\n",
              "Name: DailySales_bins, dtype: float64"
            ]
          },
          "execution_count": 17,
          "metadata": {},
          "output_type": "execute_result"
        }
      ],
      "source": [
        "total_points = pd.value_counts(train_df.DailySales_bins).sum()\n",
        "pd.value_counts(train_df.DailySales_bins).apply(lambda s: (s/total_points)*100)"
      ]
    },
    {
      "cell_type": "markdown",
      "metadata": {
        "id": "o7tcDVcDee6m"
      },
      "source": [
        "# Sales variation across category"
      ]
    },
    {
      "cell_type": "code",
      "execution_count": null,
      "metadata": {
        "colab": {
          "base_uri": "https://localhost:8080/",
          "height": 331
        },
        "id": "NQLmgQy_ee6m",
        "outputId": "90e413bc-6f47-4707-f670-36875dda42d3"
      },
      "outputs": [
        {
          "data": {
            "text/html": [
              "<div>\n",
              "<style scoped>\n",
              "    .dataframe tbody tr th:only-of-type {\n",
              "        vertical-align: middle;\n",
              "    }\n",
              "\n",
              "    .dataframe tbody tr th {\n",
              "        vertical-align: top;\n",
              "    }\n",
              "\n",
              "    .dataframe thead tr th {\n",
              "        text-align: left;\n",
              "    }\n",
              "\n",
              "    .dataframe thead tr:last-of-type th {\n",
              "        text-align: right;\n",
              "    }\n",
              "</style>\n",
              "<table border=\"1\" class=\"dataframe\">\n",
              "  <thead>\n",
              "    <tr>\n",
              "      <th></th>\n",
              "      <th colspan=\"21\" halign=\"left\">DailySales</th>\n",
              "    </tr>\n",
              "    <tr>\n",
              "      <th>ItemCode</th>\n",
              "      <th>3418</th>\n",
              "      <th>3427</th>\n",
              "      <th>7666</th>\n",
              "      <th>9925</th>\n",
              "      <th>16936</th>\n",
              "      <th>17287</th>\n",
              "      <th>17296</th>\n",
              "      <th>20824</th>\n",
              "      <th>23200</th>\n",
              "      <th>23569</th>\n",
              "      <th>...</th>\n",
              "      <th>1098502</th>\n",
              "      <th>1101553</th>\n",
              "      <th>1101562</th>\n",
              "      <th>1101571</th>\n",
              "      <th>1101661</th>\n",
              "      <th>1101769</th>\n",
              "      <th>1103056</th>\n",
              "      <th>1105009</th>\n",
              "      <th>1105018</th>\n",
              "      <th>1105027</th>\n",
              "    </tr>\n",
              "    <tr>\n",
              "      <th>CategoryCode</th>\n",
              "      <th></th>\n",
              "      <th></th>\n",
              "      <th></th>\n",
              "      <th></th>\n",
              "      <th></th>\n",
              "      <th></th>\n",
              "      <th></th>\n",
              "      <th></th>\n",
              "      <th></th>\n",
              "      <th></th>\n",
              "      <th></th>\n",
              "      <th></th>\n",
              "      <th></th>\n",
              "      <th></th>\n",
              "      <th></th>\n",
              "      <th></th>\n",
              "      <th></th>\n",
              "      <th></th>\n",
              "      <th></th>\n",
              "      <th></th>\n",
              "      <th></th>\n",
              "    </tr>\n",
              "  </thead>\n",
              "  <tbody>\n",
              "    <tr>\n",
              "      <th>category_1</th>\n",
              "      <td>9.829457</td>\n",
              "      <td>6.538462</td>\n",
              "      <td>NaN</td>\n",
              "      <td>NaN</td>\n",
              "      <td>NaN</td>\n",
              "      <td>4.293478</td>\n",
              "      <td>71.191176</td>\n",
              "      <td>NaN</td>\n",
              "      <td>NaN</td>\n",
              "      <td>NaN</td>\n",
              "      <td>...</td>\n",
              "      <td>NaN</td>\n",
              "      <td>NaN</td>\n",
              "      <td>NaN</td>\n",
              "      <td>NaN</td>\n",
              "      <td>NaN</td>\n",
              "      <td>NaN</td>\n",
              "      <td>NaN</td>\n",
              "      <td>NaN</td>\n",
              "      <td>NaN</td>\n",
              "      <td>NaN</td>\n",
              "    </tr>\n",
              "    <tr>\n",
              "      <th>category_2</th>\n",
              "      <td>NaN</td>\n",
              "      <td>NaN</td>\n",
              "      <td>NaN</td>\n",
              "      <td>2.479167</td>\n",
              "      <td>NaN</td>\n",
              "      <td>NaN</td>\n",
              "      <td>NaN</td>\n",
              "      <td>18.647059</td>\n",
              "      <td>NaN</td>\n",
              "      <td>3.530973</td>\n",
              "      <td>...</td>\n",
              "      <td>1.594937</td>\n",
              "      <td>1.906667</td>\n",
              "      <td>2.265957</td>\n",
              "      <td>4.8</td>\n",
              "      <td>NaN</td>\n",
              "      <td>2.921053</td>\n",
              "      <td>2.826923</td>\n",
              "      <td>1.898551</td>\n",
              "      <td>1.863636</td>\n",
              "      <td>1.961538</td>\n",
              "    </tr>\n",
              "    <tr>\n",
              "      <th>category_3</th>\n",
              "      <td>NaN</td>\n",
              "      <td>NaN</td>\n",
              "      <td>14.80531</td>\n",
              "      <td>NaN</td>\n",
              "      <td>8.135135</td>\n",
              "      <td>NaN</td>\n",
              "      <td>NaN</td>\n",
              "      <td>NaN</td>\n",
              "      <td>NaN</td>\n",
              "      <td>NaN</td>\n",
              "      <td>...</td>\n",
              "      <td>NaN</td>\n",
              "      <td>NaN</td>\n",
              "      <td>NaN</td>\n",
              "      <td>NaN</td>\n",
              "      <td>6.205607</td>\n",
              "      <td>NaN</td>\n",
              "      <td>NaN</td>\n",
              "      <td>NaN</td>\n",
              "      <td>NaN</td>\n",
              "      <td>NaN</td>\n",
              "    </tr>\n",
              "    <tr>\n",
              "      <th>category_4</th>\n",
              "      <td>NaN</td>\n",
              "      <td>NaN</td>\n",
              "      <td>NaN</td>\n",
              "      <td>NaN</td>\n",
              "      <td>NaN</td>\n",
              "      <td>NaN</td>\n",
              "      <td>NaN</td>\n",
              "      <td>NaN</td>\n",
              "      <td>13.860759</td>\n",
              "      <td>NaN</td>\n",
              "      <td>...</td>\n",
              "      <td>NaN</td>\n",
              "      <td>NaN</td>\n",
              "      <td>NaN</td>\n",
              "      <td>NaN</td>\n",
              "      <td>NaN</td>\n",
              "      <td>NaN</td>\n",
              "      <td>NaN</td>\n",
              "      <td>NaN</td>\n",
              "      <td>NaN</td>\n",
              "      <td>NaN</td>\n",
              "    </tr>\n",
              "  </tbody>\n",
              "</table>\n",
              "<p>4 rows × 194 columns</p>\n",
              "</div>"
            ],
            "text/plain": [
              "             DailySales                                                    \\\n",
              "ItemCode        3418      3427      7666      9925      16936     17287     \n",
              "CategoryCode                                                                \n",
              "category_1     9.829457  6.538462       NaN       NaN       NaN  4.293478   \n",
              "category_2          NaN       NaN       NaN  2.479167       NaN       NaN   \n",
              "category_3          NaN       NaN  14.80531       NaN  8.135135       NaN   \n",
              "category_4          NaN       NaN       NaN       NaN       NaN       NaN   \n",
              "\n",
              "                                                         ...            \\\n",
              "ItemCode        17296      20824      23200     23569    ...   1098502   \n",
              "CategoryCode                                             ...             \n",
              "category_1    71.191176        NaN        NaN       NaN  ...       NaN   \n",
              "category_2          NaN  18.647059        NaN  3.530973  ...  1.594937   \n",
              "category_3          NaN        NaN        NaN       NaN  ...       NaN   \n",
              "category_4          NaN        NaN  13.860759       NaN  ...       NaN   \n",
              "\n",
              "                                                                        \\\n",
              "ItemCode       1101553   1101562 1101571   1101661   1101769   1103056   \n",
              "CategoryCode                                                             \n",
              "category_1         NaN       NaN     NaN       NaN       NaN       NaN   \n",
              "category_2    1.906667  2.265957     4.8       NaN  2.921053  2.826923   \n",
              "category_3         NaN       NaN     NaN  6.205607       NaN       NaN   \n",
              "category_4         NaN       NaN     NaN       NaN       NaN       NaN   \n",
              "\n",
              "                                            \n",
              "ItemCode       1105009   1105018   1105027  \n",
              "CategoryCode                                \n",
              "category_1         NaN       NaN       NaN  \n",
              "category_2    1.898551  1.863636  1.961538  \n",
              "category_3         NaN       NaN       NaN  \n",
              "category_4         NaN       NaN       NaN  \n",
              "\n",
              "[4 rows x 194 columns]"
            ]
          },
          "execution_count": 18,
          "metadata": {},
          "output_type": "execute_result"
        }
      ],
      "source": [
        "sales_pivoted_df = pd.pivot_table(train_df, index='CategoryCode', values=['DailySales','DateID'], columns='ItemCode', aggfunc=np.mean)\n",
        "sales_pivoted_df"
      ]
    },
    {
      "cell_type": "code",
      "execution_count": null,
      "metadata": {
        "colab": {
          "base_uri": "https://localhost:8080/"
        },
        "id": "D5UDpfzdee6n",
        "outputId": "c2b3e982-0df0-4994-98d5-2097c421aec5"
      },
      "outputs": [
        {
          "data": {
            "text/plain": [
              "CategoryCode\n",
              "category_1     6.280729\n",
              "category_2     4.139096\n",
              "category_3    10.856383\n",
              "category_4    15.820818\n",
              "Name: AvgDailySale, dtype: float64"
            ]
          },
          "execution_count": 22,
          "metadata": {},
          "output_type": "execute_result"
        }
      ],
      "source": [
        "sales_across_store_df = sales_pivoted_df.copy()\n",
        "sales_across_store_df['AvgDailySale'] = sales_across_store_df.apply(lambda r: r.mean(), axis=1)\n",
        "sales_across_store_df['AvgDailySale']"
      ]
    },
    {
      "cell_type": "code",
      "execution_count": null,
      "metadata": {
        "colab": {
          "base_uri": "https://localhost:8080/",
          "height": 542
        },
        "id": "iioaBpckee6n",
        "outputId": "27b67007-d637-4069-b2f3-506f366f0677"
      },
      "outputs": [
        {
          "data": {
            "application/vnd.plotly.v1+json": {
              "config": {
                "linkText": "Export to plot.ly",
                "plotlyServerURL": "https://plot.ly",
                "showLink": false
              },
              "data": [
                {
                  "marker": {
                    "color": [
                      6.280729437415185,
                      4.139095683586096,
                      10.856383408876546,
                      15.82081798425951
                    ],
                    "colorscale": [
                      [
                        0,
                        "#440154"
                      ],
                      [
                        0.1111111111111111,
                        "#482878"
                      ],
                      [
                        0.2222222222222222,
                        "#3e4989"
                      ],
                      [
                        0.3333333333333333,
                        "#31688e"
                      ],
                      [
                        0.4444444444444444,
                        "#26828e"
                      ],
                      [
                        0.5555555555555556,
                        "#1f9e89"
                      ],
                      [
                        0.6666666666666666,
                        "#35b779"
                      ],
                      [
                        0.7777777777777778,
                        "#6ece58"
                      ],
                      [
                        0.8888888888888888,
                        "#b5de2b"
                      ],
                      [
                        1,
                        "#fde725"
                      ]
                    ],
                    "showscale": true,
                    "size": [
                      6.280729437415185,
                      4.139095683586096,
                      10.856383408876546,
                      15.82081798425951
                    ]
                  },
                  "mode": "markers",
                  "text": [
                    "category_1",
                    "category_2",
                    "category_3",
                    "category_4"
                  ],
                  "type": "scatter",
                  "y": [
                    6.280729437415185,
                    4.139095683586096,
                    10.856383408876546,
                    15.82081798425951
                  ]
                }
              ],
              "layout": {
                "autosize": true,
                "hovermode": "closest",
                "showlegend": false,
                "template": {
                  "data": {
                    "bar": [
                      {
                        "error_x": {
                          "color": "#2a3f5f"
                        },
                        "error_y": {
                          "color": "#2a3f5f"
                        },
                        "marker": {
                          "line": {
                            "color": "#E5ECF6",
                            "width": 0.5
                          }
                        },
                        "type": "bar"
                      }
                    ],
                    "barpolar": [
                      {
                        "marker": {
                          "line": {
                            "color": "#E5ECF6",
                            "width": 0.5
                          }
                        },
                        "type": "barpolar"
                      }
                    ],
                    "carpet": [
                      {
                        "aaxis": {
                          "endlinecolor": "#2a3f5f",
                          "gridcolor": "white",
                          "linecolor": "white",
                          "minorgridcolor": "white",
                          "startlinecolor": "#2a3f5f"
                        },
                        "baxis": {
                          "endlinecolor": "#2a3f5f",
                          "gridcolor": "white",
                          "linecolor": "white",
                          "minorgridcolor": "white",
                          "startlinecolor": "#2a3f5f"
                        },
                        "type": "carpet"
                      }
                    ],
                    "choropleth": [
                      {
                        "colorbar": {
                          "outlinewidth": 0,
                          "ticks": ""
                        },
                        "type": "choropleth"
                      }
                    ],
                    "contour": [
                      {
                        "colorbar": {
                          "outlinewidth": 0,
                          "ticks": ""
                        },
                        "colorscale": [
                          [
                            0,
                            "#0d0887"
                          ],
                          [
                            0.1111111111111111,
                            "#46039f"
                          ],
                          [
                            0.2222222222222222,
                            "#7201a8"
                          ],
                          [
                            0.3333333333333333,
                            "#9c179e"
                          ],
                          [
                            0.4444444444444444,
                            "#bd3786"
                          ],
                          [
                            0.5555555555555556,
                            "#d8576b"
                          ],
                          [
                            0.6666666666666666,
                            "#ed7953"
                          ],
                          [
                            0.7777777777777778,
                            "#fb9f3a"
                          ],
                          [
                            0.8888888888888888,
                            "#fdca26"
                          ],
                          [
                            1,
                            "#f0f921"
                          ]
                        ],
                        "type": "contour"
                      }
                    ],
                    "contourcarpet": [
                      {
                        "colorbar": {
                          "outlinewidth": 0,
                          "ticks": ""
                        },
                        "type": "contourcarpet"
                      }
                    ],
                    "heatmap": [
                      {
                        "colorbar": {
                          "outlinewidth": 0,
                          "ticks": ""
                        },
                        "colorscale": [
                          [
                            0,
                            "#0d0887"
                          ],
                          [
                            0.1111111111111111,
                            "#46039f"
                          ],
                          [
                            0.2222222222222222,
                            "#7201a8"
                          ],
                          [
                            0.3333333333333333,
                            "#9c179e"
                          ],
                          [
                            0.4444444444444444,
                            "#bd3786"
                          ],
                          [
                            0.5555555555555556,
                            "#d8576b"
                          ],
                          [
                            0.6666666666666666,
                            "#ed7953"
                          ],
                          [
                            0.7777777777777778,
                            "#fb9f3a"
                          ],
                          [
                            0.8888888888888888,
                            "#fdca26"
                          ],
                          [
                            1,
                            "#f0f921"
                          ]
                        ],
                        "type": "heatmap"
                      }
                    ],
                    "heatmapgl": [
                      {
                        "colorbar": {
                          "outlinewidth": 0,
                          "ticks": ""
                        },
                        "colorscale": [
                          [
                            0,
                            "#0d0887"
                          ],
                          [
                            0.1111111111111111,
                            "#46039f"
                          ],
                          [
                            0.2222222222222222,
                            "#7201a8"
                          ],
                          [
                            0.3333333333333333,
                            "#9c179e"
                          ],
                          [
                            0.4444444444444444,
                            "#bd3786"
                          ],
                          [
                            0.5555555555555556,
                            "#d8576b"
                          ],
                          [
                            0.6666666666666666,
                            "#ed7953"
                          ],
                          [
                            0.7777777777777778,
                            "#fb9f3a"
                          ],
                          [
                            0.8888888888888888,
                            "#fdca26"
                          ],
                          [
                            1,
                            "#f0f921"
                          ]
                        ],
                        "type": "heatmapgl"
                      }
                    ],
                    "histogram": [
                      {
                        "marker": {
                          "colorbar": {
                            "outlinewidth": 0,
                            "ticks": ""
                          }
                        },
                        "type": "histogram"
                      }
                    ],
                    "histogram2d": [
                      {
                        "colorbar": {
                          "outlinewidth": 0,
                          "ticks": ""
                        },
                        "colorscale": [
                          [
                            0,
                            "#0d0887"
                          ],
                          [
                            0.1111111111111111,
                            "#46039f"
                          ],
                          [
                            0.2222222222222222,
                            "#7201a8"
                          ],
                          [
                            0.3333333333333333,
                            "#9c179e"
                          ],
                          [
                            0.4444444444444444,
                            "#bd3786"
                          ],
                          [
                            0.5555555555555556,
                            "#d8576b"
                          ],
                          [
                            0.6666666666666666,
                            "#ed7953"
                          ],
                          [
                            0.7777777777777778,
                            "#fb9f3a"
                          ],
                          [
                            0.8888888888888888,
                            "#fdca26"
                          ],
                          [
                            1,
                            "#f0f921"
                          ]
                        ],
                        "type": "histogram2d"
                      }
                    ],
                    "histogram2dcontour": [
                      {
                        "colorbar": {
                          "outlinewidth": 0,
                          "ticks": ""
                        },
                        "colorscale": [
                          [
                            0,
                            "#0d0887"
                          ],
                          [
                            0.1111111111111111,
                            "#46039f"
                          ],
                          [
                            0.2222222222222222,
                            "#7201a8"
                          ],
                          [
                            0.3333333333333333,
                            "#9c179e"
                          ],
                          [
                            0.4444444444444444,
                            "#bd3786"
                          ],
                          [
                            0.5555555555555556,
                            "#d8576b"
                          ],
                          [
                            0.6666666666666666,
                            "#ed7953"
                          ],
                          [
                            0.7777777777777778,
                            "#fb9f3a"
                          ],
                          [
                            0.8888888888888888,
                            "#fdca26"
                          ],
                          [
                            1,
                            "#f0f921"
                          ]
                        ],
                        "type": "histogram2dcontour"
                      }
                    ],
                    "mesh3d": [
                      {
                        "colorbar": {
                          "outlinewidth": 0,
                          "ticks": ""
                        },
                        "type": "mesh3d"
                      }
                    ],
                    "parcoords": [
                      {
                        "line": {
                          "colorbar": {
                            "outlinewidth": 0,
                            "ticks": ""
                          }
                        },
                        "type": "parcoords"
                      }
                    ],
                    "pie": [
                      {
                        "automargin": true,
                        "type": "pie"
                      }
                    ],
                    "scatter": [
                      {
                        "marker": {
                          "colorbar": {
                            "outlinewidth": 0,
                            "ticks": ""
                          }
                        },
                        "type": "scatter"
                      }
                    ],
                    "scatter3d": [
                      {
                        "line": {
                          "colorbar": {
                            "outlinewidth": 0,
                            "ticks": ""
                          }
                        },
                        "marker": {
                          "colorbar": {
                            "outlinewidth": 0,
                            "ticks": ""
                          }
                        },
                        "type": "scatter3d"
                      }
                    ],
                    "scattercarpet": [
                      {
                        "marker": {
                          "colorbar": {
                            "outlinewidth": 0,
                            "ticks": ""
                          }
                        },
                        "type": "scattercarpet"
                      }
                    ],
                    "scattergeo": [
                      {
                        "marker": {
                          "colorbar": {
                            "outlinewidth": 0,
                            "ticks": ""
                          }
                        },
                        "type": "scattergeo"
                      }
                    ],
                    "scattergl": [
                      {
                        "marker": {
                          "colorbar": {
                            "outlinewidth": 0,
                            "ticks": ""
                          }
                        },
                        "type": "scattergl"
                      }
                    ],
                    "scattermapbox": [
                      {
                        "marker": {
                          "colorbar": {
                            "outlinewidth": 0,
                            "ticks": ""
                          }
                        },
                        "type": "scattermapbox"
                      }
                    ],
                    "scatterpolar": [
                      {
                        "marker": {
                          "colorbar": {
                            "outlinewidth": 0,
                            "ticks": ""
                          }
                        },
                        "type": "scatterpolar"
                      }
                    ],
                    "scatterpolargl": [
                      {
                        "marker": {
                          "colorbar": {
                            "outlinewidth": 0,
                            "ticks": ""
                          }
                        },
                        "type": "scatterpolargl"
                      }
                    ],
                    "scatterternary": [
                      {
                        "marker": {
                          "colorbar": {
                            "outlinewidth": 0,
                            "ticks": ""
                          }
                        },
                        "type": "scatterternary"
                      }
                    ],
                    "surface": [
                      {
                        "colorbar": {
                          "outlinewidth": 0,
                          "ticks": ""
                        },
                        "colorscale": [
                          [
                            0,
                            "#0d0887"
                          ],
                          [
                            0.1111111111111111,
                            "#46039f"
                          ],
                          [
                            0.2222222222222222,
                            "#7201a8"
                          ],
                          [
                            0.3333333333333333,
                            "#9c179e"
                          ],
                          [
                            0.4444444444444444,
                            "#bd3786"
                          ],
                          [
                            0.5555555555555556,
                            "#d8576b"
                          ],
                          [
                            0.6666666666666666,
                            "#ed7953"
                          ],
                          [
                            0.7777777777777778,
                            "#fb9f3a"
                          ],
                          [
                            0.8888888888888888,
                            "#fdca26"
                          ],
                          [
                            1,
                            "#f0f921"
                          ]
                        ],
                        "type": "surface"
                      }
                    ],
                    "table": [
                      {
                        "cells": {
                          "fill": {
                            "color": "#EBF0F8"
                          },
                          "line": {
                            "color": "white"
                          }
                        },
                        "header": {
                          "fill": {
                            "color": "#C8D4E3"
                          },
                          "line": {
                            "color": "white"
                          }
                        },
                        "type": "table"
                      }
                    ]
                  },
                  "layout": {
                    "annotationdefaults": {
                      "arrowcolor": "#2a3f5f",
                      "arrowhead": 0,
                      "arrowwidth": 1
                    },
                    "autotypenumbers": "strict",
                    "coloraxis": {
                      "colorbar": {
                        "outlinewidth": 0,
                        "ticks": ""
                      }
                    },
                    "colorscale": {
                      "diverging": [
                        [
                          0,
                          "#8e0152"
                        ],
                        [
                          0.1,
                          "#c51b7d"
                        ],
                        [
                          0.2,
                          "#de77ae"
                        ],
                        [
                          0.3,
                          "#f1b6da"
                        ],
                        [
                          0.4,
                          "#fde0ef"
                        ],
                        [
                          0.5,
                          "#f7f7f7"
                        ],
                        [
                          0.6,
                          "#e6f5d0"
                        ],
                        [
                          0.7,
                          "#b8e186"
                        ],
                        [
                          0.8,
                          "#7fbc41"
                        ],
                        [
                          0.9,
                          "#4d9221"
                        ],
                        [
                          1,
                          "#276419"
                        ]
                      ],
                      "sequential": [
                        [
                          0,
                          "#0d0887"
                        ],
                        [
                          0.1111111111111111,
                          "#46039f"
                        ],
                        [
                          0.2222222222222222,
                          "#7201a8"
                        ],
                        [
                          0.3333333333333333,
                          "#9c179e"
                        ],
                        [
                          0.4444444444444444,
                          "#bd3786"
                        ],
                        [
                          0.5555555555555556,
                          "#d8576b"
                        ],
                        [
                          0.6666666666666666,
                          "#ed7953"
                        ],
                        [
                          0.7777777777777778,
                          "#fb9f3a"
                        ],
                        [
                          0.8888888888888888,
                          "#fdca26"
                        ],
                        [
                          1,
                          "#f0f921"
                        ]
                      ],
                      "sequentialminus": [
                        [
                          0,
                          "#0d0887"
                        ],
                        [
                          0.1111111111111111,
                          "#46039f"
                        ],
                        [
                          0.2222222222222222,
                          "#7201a8"
                        ],
                        [
                          0.3333333333333333,
                          "#9c179e"
                        ],
                        [
                          0.4444444444444444,
                          "#bd3786"
                        ],
                        [
                          0.5555555555555556,
                          "#d8576b"
                        ],
                        [
                          0.6666666666666666,
                          "#ed7953"
                        ],
                        [
                          0.7777777777777778,
                          "#fb9f3a"
                        ],
                        [
                          0.8888888888888888,
                          "#fdca26"
                        ],
                        [
                          1,
                          "#f0f921"
                        ]
                      ]
                    },
                    "colorway": [
                      "#636efa",
                      "#EF553B",
                      "#00cc96",
                      "#ab63fa",
                      "#FFA15A",
                      "#19d3f3",
                      "#FF6692",
                      "#B6E880",
                      "#FF97FF",
                      "#FECB52"
                    ],
                    "font": {
                      "color": "#2a3f5f"
                    },
                    "geo": {
                      "bgcolor": "white",
                      "lakecolor": "white",
                      "landcolor": "#E5ECF6",
                      "showlakes": true,
                      "showland": true,
                      "subunitcolor": "white"
                    },
                    "hoverlabel": {
                      "align": "left"
                    },
                    "hovermode": "closest",
                    "mapbox": {
                      "style": "light"
                    },
                    "paper_bgcolor": "white",
                    "plot_bgcolor": "#E5ECF6",
                    "polar": {
                      "angularaxis": {
                        "gridcolor": "white",
                        "linecolor": "white",
                        "ticks": ""
                      },
                      "bgcolor": "#E5ECF6",
                      "radialaxis": {
                        "gridcolor": "white",
                        "linecolor": "white",
                        "ticks": ""
                      }
                    },
                    "scene": {
                      "xaxis": {
                        "backgroundcolor": "#E5ECF6",
                        "gridcolor": "white",
                        "gridwidth": 2,
                        "linecolor": "white",
                        "showbackground": true,
                        "ticks": "",
                        "zerolinecolor": "white"
                      },
                      "yaxis": {
                        "backgroundcolor": "#E5ECF6",
                        "gridcolor": "white",
                        "gridwidth": 2,
                        "linecolor": "white",
                        "showbackground": true,
                        "ticks": "",
                        "zerolinecolor": "white"
                      },
                      "zaxis": {
                        "backgroundcolor": "#E5ECF6",
                        "gridcolor": "white",
                        "gridwidth": 2,
                        "linecolor": "white",
                        "showbackground": true,
                        "ticks": "",
                        "zerolinecolor": "white"
                      }
                    },
                    "shapedefaults": {
                      "line": {
                        "color": "#2a3f5f"
                      }
                    },
                    "ternary": {
                      "aaxis": {
                        "gridcolor": "white",
                        "linecolor": "white",
                        "ticks": ""
                      },
                      "baxis": {
                        "gridcolor": "white",
                        "linecolor": "white",
                        "ticks": ""
                      },
                      "bgcolor": "#E5ECF6",
                      "caxis": {
                        "gridcolor": "white",
                        "linecolor": "white",
                        "ticks": ""
                      }
                    },
                    "title": {
                      "x": 0.05
                    },
                    "xaxis": {
                      "automargin": true,
                      "gridcolor": "white",
                      "linecolor": "white",
                      "ticks": "",
                      "title": {
                        "standoff": 15
                      },
                      "zerolinecolor": "white",
                      "zerolinewidth": 2
                    },
                    "yaxis": {
                      "automargin": true,
                      "gridcolor": "white",
                      "linecolor": "white",
                      "ticks": "",
                      "title": {
                        "standoff": 15
                      },
                      "zerolinecolor": "white",
                      "zerolinewidth": 2
                    }
                  }
                },
                "title": {
                  "text": "Scatter plot of avg Daily sales per Category"
                },
                "xaxis": {
                  "gridwidth": 1,
                  "ticklen": 4,
                  "title": {
                    "text": "Category"
                  },
                  "zeroline": false
                },
                "yaxis": {
                  "gridwidth": 1,
                  "ticklen": 10,
                  "title": {
                    "text": "Avg Daily Sales"
                  },
                  "zeroline": false
                }
              }
            }
          },
          "metadata": {},
          "output_type": "display_data"
        }
      ],
      "source": [
        "# Scatter plot of average sales per store\n",
        "sales_store_data = go.Scatter(\n",
        "    y = sales_across_store_df.AvgDailySale.values,\n",
        "    mode='markers',\n",
        "    marker=dict(\n",
        "        size = sales_across_store_df.AvgDailySale.values,\n",
        "        color = sales_across_store_df.AvgDailySale.values,\n",
        "        colorscale='Viridis',\n",
        "        showscale=True\n",
        "    ),\n",
        "    text = sales_across_store_df.index.values\n",
        ")\n",
        "data = [sales_store_data]\n",
        "\n",
        "sales_store_layout = go.Layout(\n",
        "    autosize= True,\n",
        "    title= 'Scatter plot of avg Daily sales per Category',\n",
        "    hovermode= 'closest',\n",
        "    xaxis= dict(\n",
        "        title= 'Category',\n",
        "        ticklen= 4,\n",
        "        zeroline= False,\n",
        "        gridwidth= 1,\n",
        "    ),\n",
        "    yaxis=dict(\n",
        "        title= 'Avg Daily Sales',\n",
        "        ticklen= 10,\n",
        "        zeroline= False,\n",
        "        gridwidth= 1,\n",
        "    ),\n",
        "    showlegend= False\n",
        ")\n",
        "fig = go.Figure(data=data, layout=sales_store_layout)\n",
        "py.iplot(fig,filename='scatter_sales_store')"
      ]
    },
    {
      "cell_type": "markdown",
      "metadata": {
        "id": "zBHs3AdVee6o"
      },
      "source": [
        "# Sales variation across item"
      ]
    },
    {
      "cell_type": "code",
      "execution_count": null,
      "metadata": {
        "colab": {
          "base_uri": "https://localhost:8080/",
          "height": 363
        },
        "id": "uwWIiJ7Zee6o",
        "outputId": "f04cc77b-3329-4d62-acf5-390739d6b6da"
      },
      "outputs": [
        {
          "data": {
            "text/html": [
              "<div>\n",
              "<style scoped>\n",
              "    .dataframe tbody tr th:only-of-type {\n",
              "        vertical-align: middle;\n",
              "    }\n",
              "\n",
              "    .dataframe tbody tr th {\n",
              "        vertical-align: top;\n",
              "    }\n",
              "\n",
              "    .dataframe thead th {\n",
              "        text-align: right;\n",
              "    }\n",
              "</style>\n",
              "<table border=\"1\" class=\"dataframe\">\n",
              "  <thead>\n",
              "    <tr style=\"text-align: right;\">\n",
              "      <th></th>\n",
              "      <th>ItemID</th>\n",
              "      <th>AvgDailySale</th>\n",
              "    </tr>\n",
              "  </thead>\n",
              "  <tbody>\n",
              "    <tr>\n",
              "      <th>60</th>\n",
              "      <td>61</td>\n",
              "      <td>89.355556</td>\n",
              "    </tr>\n",
              "    <tr>\n",
              "      <th>49</th>\n",
              "      <td>50</td>\n",
              "      <td>71.310606</td>\n",
              "    </tr>\n",
              "    <tr>\n",
              "      <th>6</th>\n",
              "      <td>7</td>\n",
              "      <td>71.191176</td>\n",
              "    </tr>\n",
              "    <tr>\n",
              "      <th>157</th>\n",
              "      <td>158</td>\n",
              "      <td>34.094118</td>\n",
              "    </tr>\n",
              "    <tr>\n",
              "      <th>48</th>\n",
              "      <td>49</td>\n",
              "      <td>22.742647</td>\n",
              "    </tr>\n",
              "    <tr>\n",
              "      <th>90</th>\n",
              "      <td>91</td>\n",
              "      <td>22.442478</td>\n",
              "    </tr>\n",
              "    <tr>\n",
              "      <th>54</th>\n",
              "      <td>55</td>\n",
              "      <td>22.213235</td>\n",
              "    </tr>\n",
              "    <tr>\n",
              "      <th>18</th>\n",
              "      <td>19</td>\n",
              "      <td>20.066667</td>\n",
              "    </tr>\n",
              "    <tr>\n",
              "      <th>7</th>\n",
              "      <td>8</td>\n",
              "      <td>18.647059</td>\n",
              "    </tr>\n",
              "    <tr>\n",
              "      <th>121</th>\n",
              "      <td>122</td>\n",
              "      <td>18.029851</td>\n",
              "    </tr>\n",
              "  </tbody>\n",
              "</table>\n",
              "</div>"
            ],
            "text/plain": [
              "     ItemID  AvgDailySale\n",
              "60       61     89.355556\n",
              "49       50     71.310606\n",
              "6         7     71.191176\n",
              "157     158     34.094118\n",
              "48       49     22.742647\n",
              "90       91     22.442478\n",
              "54       55     22.213235\n",
              "18       19     20.066667\n",
              "7         8     18.647059\n",
              "121     122     18.029851"
            ]
          },
          "execution_count": 24,
          "metadata": {},
          "output_type": "execute_result"
        }
      ],
      "source": [
        "sales_across_item_df = sales_pivoted_df.copy()\n",
        "    # Aggregate the sales per item and add it as a new row in the same dataframe\n",
        "sales_across_item_df.loc[11] = sales_across_item_df.apply(lambda r: r.mean(), axis=0)\n",
        "    # Note the 11th index row, which is the average sale of each of the item across all the stores\n",
        "    #display(sales_across_item_df.loc[11:])\n",
        "avg_sales_per_item_across_stores_df = pd.DataFrame(data=[[i+1,a] for i,a in enumerate(sales_across_item_df.loc[11:].values[0])], columns=['ItemID', 'AvgDailySale'])\n",
        "    # And finally, sort by avg sale\n",
        "avg_sales_per_item_across_stores_df.sort_values(by='AvgDailySale', ascending=False, inplace=True)\n",
        "    # Display the top 10 rows\n",
        "avg_sales_per_item_across_stores_df.head(10)"
      ]
    },
    {
      "cell_type": "code",
      "execution_count": null,
      "metadata": {
        "colab": {
          "base_uri": "https://localhost:8080/",
          "height": 542
        },
        "id": "4RPiIttIee6p",
        "outputId": "8607e8eb-1360-4e9a-a3a2-deb7bc56167a"
      },
      "outputs": [
        {
          "data": {
            "application/vnd.plotly.v1+json": {
              "config": {
                "linkText": "Export to plot.ly",
                "plotlyServerURL": "https://plot.ly",
                "showLink": false
              },
              "data": [
                {
                  "marker": {
                    "color": [
                      89.35555555555555,
                      71.31060606060606,
                      71.19117647058823,
                      34.09411764705882,
                      22.74264705882353,
                      22.442477876106196,
                      22.21323529411765,
                      20.066666666666666,
                      18.647058823529413,
                      18.029850746268657,
                      16.904411764705884,
                      15.244444444444444,
                      15.220588235294118,
                      14.805309734513274,
                      14.099236641221374,
                      14.063636363636364,
                      13.860759493670885,
                      13.852941176470589,
                      13.47107438016529,
                      12.481818181818182,
                      12.323529411764707,
                      11,
                      10.669565217391304,
                      10.614814814814816,
                      10.488888888888889,
                      10.358695652173912,
                      9.829457364341085,
                      9.681818181818182,
                      9.037593984962406,
                      8.955555555555556,
                      8.763157894736842,
                      8.472527472527473,
                      8.346153846153847,
                      8.318518518518518,
                      8.223880597014926,
                      8.197916666666666,
                      8.186440677966102,
                      8.135135135135135,
                      7.82962962962963,
                      7.598484848484849,
                      7.376146788990826,
                      7.274336283185841,
                      7.230769230769231,
                      7.205882352941177,
                      7.096153846153846,
                      6.7936507936507935,
                      6.649122807017544,
                      6.622047244094488,
                      6.538461538461538,
                      6.350746268656716,
                      6.306666666666667,
                      6.298387096774194,
                      6.2384615384615385,
                      6.205607476635514,
                      6.1441441441441444,
                      6.1328125,
                      6.106870229007634,
                      6,
                      5.956521739130435,
                      5.7819548872180455,
                      5.65625,
                      5.650406504065041,
                      5.492957746478873,
                      5.477611940298507,
                      5.357142857142857,
                      5.260273972602739,
                      5.257142857142857,
                      5.207920792079208,
                      5.203252032520325,
                      5.134328358208955,
                      5.052631578947368,
                      4.8,
                      4.780821917808219,
                      4.757009345794392,
                      4.71969696969697,
                      4.552,
                      4.509803921568627,
                      4.506024096385542,
                      4.351145038167939,
                      4.30379746835443,
                      4.293478260869565,
                      4.163636363636364,
                      4.153846153846154,
                      4.084615384615384,
                      4.064,
                      3.9904761904761905,
                      3.9655172413793105,
                      3.9615384615384617,
                      3.9324324324324325,
                      3.9035087719298245,
                      3.8958333333333335,
                      3.8925619834710745,
                      3.826771653543307,
                      3.775,
                      3.768,
                      3.742424242424242,
                      3.682926829268293,
                      3.6736842105263157,
                      3.6444444444444444,
                      3.622448979591837,
                      3.6206896551724137,
                      3.617391304347826,
                      3.5309734513274336,
                      3.518987341772152,
                      3.513888888888889,
                      3.4835164835164836,
                      3.4431818181818183,
                      3.4285714285714284,
                      3.4054054054054053,
                      3.3979591836734695,
                      3.393700787401575,
                      3.376146788990826,
                      3.330188679245283,
                      3.3066666666666666,
                      3.303370786516854,
                      3.272727272727273,
                      3.260869565217391,
                      3.25,
                      3.2413793103448274,
                      3.21505376344086,
                      3.1926605504587156,
                      3.177570093457944,
                      3.1721311475409837,
                      3.1487603305785123,
                      3.13,
                      3.0825688073394497,
                      3.076923076923077,
                      3,
                      2.983050847457627,
                      2.9391304347826086,
                      2.9263157894736844,
                      2.9210526315789473,
                      2.8857142857142857,
                      2.8645833333333335,
                      2.826923076923077,
                      2.7567567567567566,
                      2.7107438016528924,
                      2.696969696969697,
                      2.694915254237288,
                      2.6666666666666665,
                      2.643835616438356,
                      2.623853211009174,
                      2.6198347107438016,
                      2.618181818181818,
                      2.611111111111111,
                      2.574468085106383,
                      2.542372881355932,
                      2.511904761904762,
                      2.5,
                      2.5,
                      2.4791666666666665,
                      2.4299065420560746,
                      2.417910447761194,
                      2.361111111111111,
                      2.3529411764705883,
                      2.3488372093023258,
                      2.3440860215053765,
                      2.3176470588235296,
                      2.308641975308642,
                      2.306451612903226,
                      2.288659793814433,
                      2.268292682926829,
                      2.265957446808511,
                      2.2588235294117647,
                      2.2253521126760565,
                      2.164705882352941,
                      2.1515151515151514,
                      2.1511627906976742,
                      2.1323529411764706,
                      2.0930232558139537,
                      2.087912087912088,
                      2.0135135135135136,
                      1.9861111111111112,
                      1.967741935483871,
                      1.9615384615384615,
                      1.9382716049382716,
                      1.934065934065934,
                      1.9295774647887325,
                      1.9230769230769231,
                      1.9166666666666667,
                      1.9157894736842105,
                      1.9066666666666667,
                      1.8985507246376812,
                      1.8636363636363635,
                      1.8620689655172413,
                      1.846938775510204,
                      1.837837837837838,
                      1.8144329896907216,
                      1.6507936507936507,
                      1.5949367088607596,
                      1.532258064516129,
                      1.5205479452054795,
                      1.4736842105263157,
                      1.421875
                    ],
                    "colorscale": [
                      [
                        0,
                        "rgb(0,0,0)"
                      ],
                      [
                        0.25,
                        "rgb(230,0,0)"
                      ],
                      [
                        0.5,
                        "rgb(230,210,0)"
                      ],
                      [
                        0.75,
                        "rgb(255,255,255)"
                      ],
                      [
                        1,
                        "rgb(160,200,255)"
                      ]
                    ],
                    "showscale": true
                  },
                  "text": [
                    61,
                    50,
                    7,
                    158,
                    49,
                    91,
                    55,
                    19,
                    8,
                    122,
                    133,
                    121,
                    149,
                    3,
                    42,
                    106,
                    9,
                    71,
                    107,
                    141,
                    92,
                    118,
                    147,
                    17,
                    12,
                    143,
                    1,
                    164,
                    22,
                    86,
                    94,
                    100,
                    79,
                    65,
                    132,
                    183,
                    76,
                    5,
                    39,
                    137,
                    95,
                    62,
                    138,
                    33,
                    142,
                    130,
                    129,
                    87,
                    2,
                    44,
                    178,
                    58,
                    139,
                    189,
                    176,
                    13,
                    145,
                    148,
                    21,
                    89,
                    24,
                    25,
                    170,
                    60,
                    140,
                    167,
                    37,
                    109,
                    11,
                    54,
                    171,
                    188,
                    80,
                    136,
                    81,
                    99,
                    97,
                    113,
                    26,
                    38,
                    6,
                    64,
                    101,
                    88,
                    150,
                    51,
                    135,
                    84,
                    162,
                    56,
                    53,
                    57,
                    41,
                    177,
                    155,
                    163,
                    165,
                    108,
                    114,
                    30,
                    78,
                    173,
                    10,
                    125,
                    169,
                    123,
                    98,
                    131,
                    15,
                    134,
                    52,
                    35,
                    72,
                    117,
                    29,
                    43,
                    182,
                    161,
                    90,
                    168,
                    28,
                    85,
                    126,
                    63,
                    47,
                    20,
                    111,
                    14,
                    154,
                    124,
                    67,
                    190,
                    105,
                    83,
                    191,
                    127,
                    69,
                    32,
                    23,
                    156,
                    159,
                    73,
                    93,
                    48,
                    157,
                    70,
                    180,
                    172,
                    166,
                    77,
                    4,
                    45,
                    112,
                    59,
                    179,
                    74,
                    144,
                    96,
                    46,
                    181,
                    128,
                    160,
                    187,
                    115,
                    40,
                    153,
                    119,
                    36,
                    31,
                    151,
                    146,
                    75,
                    110,
                    27,
                    194,
                    66,
                    68,
                    16,
                    104,
                    82,
                    184,
                    186,
                    192,
                    193,
                    116,
                    102,
                    18,
                    103,
                    175,
                    185,
                    152,
                    174,
                    120,
                    34
                  ],
                  "type": "bar",
                  "x": [
                    0,
                    1,
                    2,
                    3,
                    4,
                    5,
                    6,
                    7,
                    8,
                    9,
                    10,
                    11,
                    12,
                    13,
                    14,
                    15,
                    16,
                    17,
                    18,
                    19,
                    20,
                    21,
                    22,
                    23,
                    24,
                    25,
                    26,
                    27,
                    28,
                    29,
                    30,
                    31,
                    32,
                    33,
                    34,
                    35,
                    36,
                    37,
                    38,
                    39,
                    40,
                    41,
                    42,
                    43,
                    44,
                    45,
                    46,
                    47,
                    48,
                    49,
                    50,
                    51,
                    52,
                    53,
                    54,
                    55,
                    56,
                    57,
                    58,
                    59,
                    60,
                    61,
                    62,
                    63,
                    64,
                    65,
                    66,
                    67,
                    68,
                    69,
                    70,
                    71,
                    72,
                    73,
                    74,
                    75,
                    76,
                    77,
                    78,
                    79,
                    80,
                    81,
                    82,
                    83,
                    84,
                    85,
                    86,
                    87,
                    88,
                    89,
                    90,
                    91,
                    92,
                    93,
                    94,
                    95,
                    96,
                    97,
                    98,
                    99,
                    100,
                    101,
                    102,
                    103,
                    104,
                    105,
                    106,
                    107,
                    108,
                    109,
                    110,
                    111,
                    112,
                    113,
                    114,
                    115,
                    116,
                    117,
                    118,
                    119,
                    120,
                    121,
                    122,
                    123,
                    124,
                    125,
                    126,
                    127,
                    128,
                    129,
                    130,
                    131,
                    132,
                    133,
                    134,
                    135,
                    136,
                    137,
                    138,
                    139,
                    140,
                    141,
                    142,
                    143,
                    144,
                    145,
                    146,
                    147,
                    148,
                    149,
                    150,
                    151,
                    152,
                    153,
                    154,
                    155,
                    156,
                    157,
                    158,
                    159,
                    160,
                    161,
                    162,
                    163,
                    164,
                    165,
                    166,
                    167,
                    168,
                    169,
                    170,
                    171,
                    172,
                    173,
                    174,
                    175,
                    176,
                    177,
                    178,
                    179,
                    180,
                    181,
                    182,
                    183,
                    184,
                    185,
                    186,
                    187,
                    188,
                    189,
                    190,
                    191,
                    192,
                    193,
                    194,
                    195,
                    196,
                    197,
                    198,
                    199
                  ],
                  "y": [
                    89.35555555555555,
                    71.31060606060606,
                    71.19117647058823,
                    34.09411764705882,
                    22.74264705882353,
                    22.442477876106196,
                    22.21323529411765,
                    20.066666666666666,
                    18.647058823529413,
                    18.029850746268657,
                    16.904411764705884,
                    15.244444444444444,
                    15.220588235294118,
                    14.805309734513274,
                    14.099236641221374,
                    14.063636363636364,
                    13.860759493670885,
                    13.852941176470589,
                    13.47107438016529,
                    12.481818181818182,
                    12.323529411764707,
                    11,
                    10.669565217391304,
                    10.614814814814816,
                    10.488888888888889,
                    10.358695652173912,
                    9.829457364341085,
                    9.681818181818182,
                    9.037593984962406,
                    8.955555555555556,
                    8.763157894736842,
                    8.472527472527473,
                    8.346153846153847,
                    8.318518518518518,
                    8.223880597014926,
                    8.197916666666666,
                    8.186440677966102,
                    8.135135135135135,
                    7.82962962962963,
                    7.598484848484849,
                    7.376146788990826,
                    7.274336283185841,
                    7.230769230769231,
                    7.205882352941177,
                    7.096153846153846,
                    6.7936507936507935,
                    6.649122807017544,
                    6.622047244094488,
                    6.538461538461538,
                    6.350746268656716,
                    6.306666666666667,
                    6.298387096774194,
                    6.2384615384615385,
                    6.205607476635514,
                    6.1441441441441444,
                    6.1328125,
                    6.106870229007634,
                    6,
                    5.956521739130435,
                    5.7819548872180455,
                    5.65625,
                    5.650406504065041,
                    5.492957746478873,
                    5.477611940298507,
                    5.357142857142857,
                    5.260273972602739,
                    5.257142857142857,
                    5.207920792079208,
                    5.203252032520325,
                    5.134328358208955,
                    5.052631578947368,
                    4.8,
                    4.780821917808219,
                    4.757009345794392,
                    4.71969696969697,
                    4.552,
                    4.509803921568627,
                    4.506024096385542,
                    4.351145038167939,
                    4.30379746835443,
                    4.293478260869565,
                    4.163636363636364,
                    4.153846153846154,
                    4.084615384615384,
                    4.064,
                    3.9904761904761905,
                    3.9655172413793105,
                    3.9615384615384617,
                    3.9324324324324325,
                    3.9035087719298245,
                    3.8958333333333335,
                    3.8925619834710745,
                    3.826771653543307,
                    3.775,
                    3.768,
                    3.742424242424242,
                    3.682926829268293,
                    3.6736842105263157,
                    3.6444444444444444,
                    3.622448979591837,
                    3.6206896551724137,
                    3.617391304347826,
                    3.5309734513274336,
                    3.518987341772152,
                    3.513888888888889,
                    3.4835164835164836,
                    3.4431818181818183,
                    3.4285714285714284,
                    3.4054054054054053,
                    3.3979591836734695,
                    3.393700787401575,
                    3.376146788990826,
                    3.330188679245283,
                    3.3066666666666666,
                    3.303370786516854,
                    3.272727272727273,
                    3.260869565217391,
                    3.25,
                    3.2413793103448274,
                    3.21505376344086,
                    3.1926605504587156,
                    3.177570093457944,
                    3.1721311475409837,
                    3.1487603305785123,
                    3.13,
                    3.0825688073394497,
                    3.076923076923077,
                    3,
                    2.983050847457627,
                    2.9391304347826086,
                    2.9263157894736844,
                    2.9210526315789473,
                    2.8857142857142857,
                    2.8645833333333335,
                    2.826923076923077,
                    2.7567567567567566,
                    2.7107438016528924,
                    2.696969696969697,
                    2.694915254237288,
                    2.6666666666666665,
                    2.643835616438356,
                    2.623853211009174,
                    2.6198347107438016,
                    2.618181818181818,
                    2.611111111111111,
                    2.574468085106383,
                    2.542372881355932,
                    2.511904761904762,
                    2.5,
                    2.5,
                    2.4791666666666665,
                    2.4299065420560746,
                    2.417910447761194,
                    2.361111111111111,
                    2.3529411764705883,
                    2.3488372093023258,
                    2.3440860215053765,
                    2.3176470588235296,
                    2.308641975308642,
                    2.306451612903226,
                    2.288659793814433,
                    2.268292682926829,
                    2.265957446808511,
                    2.2588235294117647,
                    2.2253521126760565,
                    2.164705882352941,
                    2.1515151515151514,
                    2.1511627906976742,
                    2.1323529411764706,
                    2.0930232558139537,
                    2.087912087912088,
                    2.0135135135135136,
                    1.9861111111111112,
                    1.967741935483871,
                    1.9615384615384615,
                    1.9382716049382716,
                    1.934065934065934,
                    1.9295774647887325,
                    1.9230769230769231,
                    1.9166666666666667,
                    1.9157894736842105,
                    1.9066666666666667,
                    1.8985507246376812,
                    1.8636363636363635,
                    1.8620689655172413,
                    1.846938775510204,
                    1.837837837837838,
                    1.8144329896907216,
                    1.6507936507936507,
                    1.5949367088607596,
                    1.532258064516129,
                    1.5205479452054795,
                    1.4736842105263157,
                    1.421875
                  ]
                }
              ],
              "layout": {
                "autosize": true,
                "hovermode": "closest",
                "showlegend": false,
                "template": {
                  "data": {
                    "bar": [
                      {
                        "error_x": {
                          "color": "#2a3f5f"
                        },
                        "error_y": {
                          "color": "#2a3f5f"
                        },
                        "marker": {
                          "line": {
                            "color": "#E5ECF6",
                            "width": 0.5
                          }
                        },
                        "type": "bar"
                      }
                    ],
                    "barpolar": [
                      {
                        "marker": {
                          "line": {
                            "color": "#E5ECF6",
                            "width": 0.5
                          }
                        },
                        "type": "barpolar"
                      }
                    ],
                    "carpet": [
                      {
                        "aaxis": {
                          "endlinecolor": "#2a3f5f",
                          "gridcolor": "white",
                          "linecolor": "white",
                          "minorgridcolor": "white",
                          "startlinecolor": "#2a3f5f"
                        },
                        "baxis": {
                          "endlinecolor": "#2a3f5f",
                          "gridcolor": "white",
                          "linecolor": "white",
                          "minorgridcolor": "white",
                          "startlinecolor": "#2a3f5f"
                        },
                        "type": "carpet"
                      }
                    ],
                    "choropleth": [
                      {
                        "colorbar": {
                          "outlinewidth": 0,
                          "ticks": ""
                        },
                        "type": "choropleth"
                      }
                    ],
                    "contour": [
                      {
                        "colorbar": {
                          "outlinewidth": 0,
                          "ticks": ""
                        },
                        "colorscale": [
                          [
                            0,
                            "#0d0887"
                          ],
                          [
                            0.1111111111111111,
                            "#46039f"
                          ],
                          [
                            0.2222222222222222,
                            "#7201a8"
                          ],
                          [
                            0.3333333333333333,
                            "#9c179e"
                          ],
                          [
                            0.4444444444444444,
                            "#bd3786"
                          ],
                          [
                            0.5555555555555556,
                            "#d8576b"
                          ],
                          [
                            0.6666666666666666,
                            "#ed7953"
                          ],
                          [
                            0.7777777777777778,
                            "#fb9f3a"
                          ],
                          [
                            0.8888888888888888,
                            "#fdca26"
                          ],
                          [
                            1,
                            "#f0f921"
                          ]
                        ],
                        "type": "contour"
                      }
                    ],
                    "contourcarpet": [
                      {
                        "colorbar": {
                          "outlinewidth": 0,
                          "ticks": ""
                        },
                        "type": "contourcarpet"
                      }
                    ],
                    "heatmap": [
                      {
                        "colorbar": {
                          "outlinewidth": 0,
                          "ticks": ""
                        },
                        "colorscale": [
                          [
                            0,
                            "#0d0887"
                          ],
                          [
                            0.1111111111111111,
                            "#46039f"
                          ],
                          [
                            0.2222222222222222,
                            "#7201a8"
                          ],
                          [
                            0.3333333333333333,
                            "#9c179e"
                          ],
                          [
                            0.4444444444444444,
                            "#bd3786"
                          ],
                          [
                            0.5555555555555556,
                            "#d8576b"
                          ],
                          [
                            0.6666666666666666,
                            "#ed7953"
                          ],
                          [
                            0.7777777777777778,
                            "#fb9f3a"
                          ],
                          [
                            0.8888888888888888,
                            "#fdca26"
                          ],
                          [
                            1,
                            "#f0f921"
                          ]
                        ],
                        "type": "heatmap"
                      }
                    ],
                    "heatmapgl": [
                      {
                        "colorbar": {
                          "outlinewidth": 0,
                          "ticks": ""
                        },
                        "colorscale": [
                          [
                            0,
                            "#0d0887"
                          ],
                          [
                            0.1111111111111111,
                            "#46039f"
                          ],
                          [
                            0.2222222222222222,
                            "#7201a8"
                          ],
                          [
                            0.3333333333333333,
                            "#9c179e"
                          ],
                          [
                            0.4444444444444444,
                            "#bd3786"
                          ],
                          [
                            0.5555555555555556,
                            "#d8576b"
                          ],
                          [
                            0.6666666666666666,
                            "#ed7953"
                          ],
                          [
                            0.7777777777777778,
                            "#fb9f3a"
                          ],
                          [
                            0.8888888888888888,
                            "#fdca26"
                          ],
                          [
                            1,
                            "#f0f921"
                          ]
                        ],
                        "type": "heatmapgl"
                      }
                    ],
                    "histogram": [
                      {
                        "marker": {
                          "colorbar": {
                            "outlinewidth": 0,
                            "ticks": ""
                          }
                        },
                        "type": "histogram"
                      }
                    ],
                    "histogram2d": [
                      {
                        "colorbar": {
                          "outlinewidth": 0,
                          "ticks": ""
                        },
                        "colorscale": [
                          [
                            0,
                            "#0d0887"
                          ],
                          [
                            0.1111111111111111,
                            "#46039f"
                          ],
                          [
                            0.2222222222222222,
                            "#7201a8"
                          ],
                          [
                            0.3333333333333333,
                            "#9c179e"
                          ],
                          [
                            0.4444444444444444,
                            "#bd3786"
                          ],
                          [
                            0.5555555555555556,
                            "#d8576b"
                          ],
                          [
                            0.6666666666666666,
                            "#ed7953"
                          ],
                          [
                            0.7777777777777778,
                            "#fb9f3a"
                          ],
                          [
                            0.8888888888888888,
                            "#fdca26"
                          ],
                          [
                            1,
                            "#f0f921"
                          ]
                        ],
                        "type": "histogram2d"
                      }
                    ],
                    "histogram2dcontour": [
                      {
                        "colorbar": {
                          "outlinewidth": 0,
                          "ticks": ""
                        },
                        "colorscale": [
                          [
                            0,
                            "#0d0887"
                          ],
                          [
                            0.1111111111111111,
                            "#46039f"
                          ],
                          [
                            0.2222222222222222,
                            "#7201a8"
                          ],
                          [
                            0.3333333333333333,
                            "#9c179e"
                          ],
                          [
                            0.4444444444444444,
                            "#bd3786"
                          ],
                          [
                            0.5555555555555556,
                            "#d8576b"
                          ],
                          [
                            0.6666666666666666,
                            "#ed7953"
                          ],
                          [
                            0.7777777777777778,
                            "#fb9f3a"
                          ],
                          [
                            0.8888888888888888,
                            "#fdca26"
                          ],
                          [
                            1,
                            "#f0f921"
                          ]
                        ],
                        "type": "histogram2dcontour"
                      }
                    ],
                    "mesh3d": [
                      {
                        "colorbar": {
                          "outlinewidth": 0,
                          "ticks": ""
                        },
                        "type": "mesh3d"
                      }
                    ],
                    "parcoords": [
                      {
                        "line": {
                          "colorbar": {
                            "outlinewidth": 0,
                            "ticks": ""
                          }
                        },
                        "type": "parcoords"
                      }
                    ],
                    "pie": [
                      {
                        "automargin": true,
                        "type": "pie"
                      }
                    ],
                    "scatter": [
                      {
                        "marker": {
                          "colorbar": {
                            "outlinewidth": 0,
                            "ticks": ""
                          }
                        },
                        "type": "scatter"
                      }
                    ],
                    "scatter3d": [
                      {
                        "line": {
                          "colorbar": {
                            "outlinewidth": 0,
                            "ticks": ""
                          }
                        },
                        "marker": {
                          "colorbar": {
                            "outlinewidth": 0,
                            "ticks": ""
                          }
                        },
                        "type": "scatter3d"
                      }
                    ],
                    "scattercarpet": [
                      {
                        "marker": {
                          "colorbar": {
                            "outlinewidth": 0,
                            "ticks": ""
                          }
                        },
                        "type": "scattercarpet"
                      }
                    ],
                    "scattergeo": [
                      {
                        "marker": {
                          "colorbar": {
                            "outlinewidth": 0,
                            "ticks": ""
                          }
                        },
                        "type": "scattergeo"
                      }
                    ],
                    "scattergl": [
                      {
                        "marker": {
                          "colorbar": {
                            "outlinewidth": 0,
                            "ticks": ""
                          }
                        },
                        "type": "scattergl"
                      }
                    ],
                    "scattermapbox": [
                      {
                        "marker": {
                          "colorbar": {
                            "outlinewidth": 0,
                            "ticks": ""
                          }
                        },
                        "type": "scattermapbox"
                      }
                    ],
                    "scatterpolar": [
                      {
                        "marker": {
                          "colorbar": {
                            "outlinewidth": 0,
                            "ticks": ""
                          }
                        },
                        "type": "scatterpolar"
                      }
                    ],
                    "scatterpolargl": [
                      {
                        "marker": {
                          "colorbar": {
                            "outlinewidth": 0,
                            "ticks": ""
                          }
                        },
                        "type": "scatterpolargl"
                      }
                    ],
                    "scatterternary": [
                      {
                        "marker": {
                          "colorbar": {
                            "outlinewidth": 0,
                            "ticks": ""
                          }
                        },
                        "type": "scatterternary"
                      }
                    ],
                    "surface": [
                      {
                        "colorbar": {
                          "outlinewidth": 0,
                          "ticks": ""
                        },
                        "colorscale": [
                          [
                            0,
                            "#0d0887"
                          ],
                          [
                            0.1111111111111111,
                            "#46039f"
                          ],
                          [
                            0.2222222222222222,
                            "#7201a8"
                          ],
                          [
                            0.3333333333333333,
                            "#9c179e"
                          ],
                          [
                            0.4444444444444444,
                            "#bd3786"
                          ],
                          [
                            0.5555555555555556,
                            "#d8576b"
                          ],
                          [
                            0.6666666666666666,
                            "#ed7953"
                          ],
                          [
                            0.7777777777777778,
                            "#fb9f3a"
                          ],
                          [
                            0.8888888888888888,
                            "#fdca26"
                          ],
                          [
                            1,
                            "#f0f921"
                          ]
                        ],
                        "type": "surface"
                      }
                    ],
                    "table": [
                      {
                        "cells": {
                          "fill": {
                            "color": "#EBF0F8"
                          },
                          "line": {
                            "color": "white"
                          }
                        },
                        "header": {
                          "fill": {
                            "color": "#C8D4E3"
                          },
                          "line": {
                            "color": "white"
                          }
                        },
                        "type": "table"
                      }
                    ]
                  },
                  "layout": {
                    "annotationdefaults": {
                      "arrowcolor": "#2a3f5f",
                      "arrowhead": 0,
                      "arrowwidth": 1
                    },
                    "autotypenumbers": "strict",
                    "coloraxis": {
                      "colorbar": {
                        "outlinewidth": 0,
                        "ticks": ""
                      }
                    },
                    "colorscale": {
                      "diverging": [
                        [
                          0,
                          "#8e0152"
                        ],
                        [
                          0.1,
                          "#c51b7d"
                        ],
                        [
                          0.2,
                          "#de77ae"
                        ],
                        [
                          0.3,
                          "#f1b6da"
                        ],
                        [
                          0.4,
                          "#fde0ef"
                        ],
                        [
                          0.5,
                          "#f7f7f7"
                        ],
                        [
                          0.6,
                          "#e6f5d0"
                        ],
                        [
                          0.7,
                          "#b8e186"
                        ],
                        [
                          0.8,
                          "#7fbc41"
                        ],
                        [
                          0.9,
                          "#4d9221"
                        ],
                        [
                          1,
                          "#276419"
                        ]
                      ],
                      "sequential": [
                        [
                          0,
                          "#0d0887"
                        ],
                        [
                          0.1111111111111111,
                          "#46039f"
                        ],
                        [
                          0.2222222222222222,
                          "#7201a8"
                        ],
                        [
                          0.3333333333333333,
                          "#9c179e"
                        ],
                        [
                          0.4444444444444444,
                          "#bd3786"
                        ],
                        [
                          0.5555555555555556,
                          "#d8576b"
                        ],
                        [
                          0.6666666666666666,
                          "#ed7953"
                        ],
                        [
                          0.7777777777777778,
                          "#fb9f3a"
                        ],
                        [
                          0.8888888888888888,
                          "#fdca26"
                        ],
                        [
                          1,
                          "#f0f921"
                        ]
                      ],
                      "sequentialminus": [
                        [
                          0,
                          "#0d0887"
                        ],
                        [
                          0.1111111111111111,
                          "#46039f"
                        ],
                        [
                          0.2222222222222222,
                          "#7201a8"
                        ],
                        [
                          0.3333333333333333,
                          "#9c179e"
                        ],
                        [
                          0.4444444444444444,
                          "#bd3786"
                        ],
                        [
                          0.5555555555555556,
                          "#d8576b"
                        ],
                        [
                          0.6666666666666666,
                          "#ed7953"
                        ],
                        [
                          0.7777777777777778,
                          "#fb9f3a"
                        ],
                        [
                          0.8888888888888888,
                          "#fdca26"
                        ],
                        [
                          1,
                          "#f0f921"
                        ]
                      ]
                    },
                    "colorway": [
                      "#636efa",
                      "#EF553B",
                      "#00cc96",
                      "#ab63fa",
                      "#FFA15A",
                      "#19d3f3",
                      "#FF6692",
                      "#B6E880",
                      "#FF97FF",
                      "#FECB52"
                    ],
                    "font": {
                      "color": "#2a3f5f"
                    },
                    "geo": {
                      "bgcolor": "white",
                      "lakecolor": "white",
                      "landcolor": "#E5ECF6",
                      "showlakes": true,
                      "showland": true,
                      "subunitcolor": "white"
                    },
                    "hoverlabel": {
                      "align": "left"
                    },
                    "hovermode": "closest",
                    "mapbox": {
                      "style": "light"
                    },
                    "paper_bgcolor": "white",
                    "plot_bgcolor": "#E5ECF6",
                    "polar": {
                      "angularaxis": {
                        "gridcolor": "white",
                        "linecolor": "white",
                        "ticks": ""
                      },
                      "bgcolor": "#E5ECF6",
                      "radialaxis": {
                        "gridcolor": "white",
                        "linecolor": "white",
                        "ticks": ""
                      }
                    },
                    "scene": {
                      "xaxis": {
                        "backgroundcolor": "#E5ECF6",
                        "gridcolor": "white",
                        "gridwidth": 2,
                        "linecolor": "white",
                        "showbackground": true,
                        "ticks": "",
                        "zerolinecolor": "white"
                      },
                      "yaxis": {
                        "backgroundcolor": "#E5ECF6",
                        "gridcolor": "white",
                        "gridwidth": 2,
                        "linecolor": "white",
                        "showbackground": true,
                        "ticks": "",
                        "zerolinecolor": "white"
                      },
                      "zaxis": {
                        "backgroundcolor": "#E5ECF6",
                        "gridcolor": "white",
                        "gridwidth": 2,
                        "linecolor": "white",
                        "showbackground": true,
                        "ticks": "",
                        "zerolinecolor": "white"
                      }
                    },
                    "shapedefaults": {
                      "line": {
                        "color": "#2a3f5f"
                      }
                    },
                    "ternary": {
                      "aaxis": {
                        "gridcolor": "white",
                        "linecolor": "white",
                        "ticks": ""
                      },
                      "baxis": {
                        "gridcolor": "white",
                        "linecolor": "white",
                        "ticks": ""
                      },
                      "bgcolor": "#E5ECF6",
                      "caxis": {
                        "gridcolor": "white",
                        "linecolor": "white",
                        "ticks": ""
                      }
                    },
                    "title": {
                      "x": 0.05
                    },
                    "xaxis": {
                      "automargin": true,
                      "gridcolor": "white",
                      "linecolor": "white",
                      "ticks": "",
                      "title": {
                        "standoff": 15
                      },
                      "zerolinecolor": "white",
                      "zerolinewidth": 2
                    },
                    "yaxis": {
                      "automargin": true,
                      "gridcolor": "white",
                      "linecolor": "white",
                      "ticks": "",
                      "title": {
                        "standoff": 15
                      },
                      "zerolinecolor": "white",
                      "zerolinewidth": 2
                    }
                  }
                },
                "title": {
                  "text": "Scatter plot of avg sales per item"
                },
                "xaxis": {
                  "gridwidth": 1,
                  "ticklen": 200,
                  "title": {
                    "text": "Items"
                  },
                  "zeroline": false
                },
                "yaxis": {
                  "gridwidth": 1,
                  "ticklen": 10,
                  "title": {
                    "text": "Avg Sales"
                  },
                  "zeroline": false
                }
              }
            }
          },
          "metadata": {},
          "output_type": "display_data"
        }
      ],
      "source": [
        "avg_sales_per_item_across_stores_sorted = avg_sales_per_item_across_stores_df.AvgDailySale.values\n",
        "# Scatter plot of average sales per item\n",
        "sales_item_data = go.Bar(\n",
        "    x=[i for i in range(0, 200)],\n",
        "    y=avg_sales_per_item_across_stores_sorted,\n",
        "    marker=dict(\n",
        "        color=avg_sales_per_item_across_stores_sorted,\n",
        "        colorscale='Blackbody',\n",
        "        showscale=True\n",
        "    ),\n",
        "    text = avg_sales_per_item_across_stores_df.ItemID.values\n",
        ")\n",
        "data = [sales_item_data]\n",
        "\n",
        "sales_item_layout = go.Layout(\n",
        "    autosize= True,\n",
        "    title= 'Scatter plot of avg sales per item',\n",
        "    hovermode= 'closest',\n",
        "    xaxis= dict(\n",
        "        title= 'Items',\n",
        "        ticklen= 200,\n",
        "        zeroline= False,\n",
        "        gridwidth= 1,\n",
        "    ),\n",
        "    yaxis=dict(\n",
        "        title= 'Avg Sales',\n",
        "        ticklen= 10,\n",
        "        zeroline= False,\n",
        "        gridwidth= 1,\n",
        "    ),\n",
        "    showlegend= False\n",
        ")\n",
        "fig = go.Figure(data=data, layout=sales_item_layout)\n",
        "py.iplot(fig,filename='scatter_sales_item')"
      ]
    },
    {
      "cell_type": "markdown",
      "metadata": {
        "id": "MF8IJfi2ee6p"
      },
      "source": [
        "# time series visualization of sales"
      ]
    },
    {
      "cell_type": "code",
      "execution_count": null,
      "metadata": {
        "id": "XdyQNOEZee6p"
      },
      "outputs": [],
      "source": [
        "# store_item_df = train_df.copy()\n",
        "# # First, let us filterout the required data\n",
        "# item_id = 117610   # Some item\n",
        "# print('Before filter:', store_item_df.shape)\n",
        "# store_item_df = store_item_df[store_item_df.ItemCode == item_id]\n",
        "# print('After filter:', store_item_df.shape)\n",
        "# store_item_df.head()\n",
        "\n",
        "# store_item_ts_data = [go.Scatter(\n",
        "#         x=store_item_df.DateID,\n",
        "#         y=store_item_df.DailySales)]\n",
        "# py.iplot(store_item_ts_data)\n",
        "    "
      ]
    },
    {
      "cell_type": "markdown",
      "metadata": {
        "id": "qfJvyg2uh9bU"
      },
      "source": [
        "Feature Engineering"
      ]
    },
    {
      "cell_type": "code",
      "execution_count": null,
      "metadata": {
        "id": "ZaRXIC9jh8s7"
      },
      "outputs": [],
      "source": [
        "# def date_features(df):\n",
        "#     # Date Features\n",
        "#     # df['date'] = pd.to_datetime(df['DateID'])\n",
        "#     df['year'] = df.DateID.dt.year\n",
        "#     df['month'] = df.DateID.dt.month\n",
        "#     df['day'] = df.DateID.dt.day\n",
        "#     df['dayofyear'] = df.DateID.dt.dayofyear\n",
        "#     df['dayofweek'] = df.DateID.dt.dayofweek\n",
        "#     df['weekofyear'] = df.DateID.dt.weekofyear\n",
        "    \n",
        "#     # Additionnal Data Features\n",
        "#     df['day^year'] = np.log((np.log(df['dayofyear'] + 1)) ** (df['year'] - 2000))\n",
        "    \n",
        "#     # Drop date\n",
        "#     df.drop('DateID', axis=1, inplace=True)\n",
        "    \n",
        "#     return df"
      ]
    },
    {
      "cell_type": "code",
      "execution_count": null,
      "metadata": {
        "colab": {
          "base_uri": "https://localhost:8080/"
        },
        "id": "xyuf487givdM",
        "outputId": "fed017ef-5f0e-4924-bc66-3b2c9443e8e2"
      },
      "outputs": [
        {
          "name": "stderr",
          "output_type": "stream",
          "text": [
            "/usr/local/lib/python3.7/dist-packages/ipykernel_launcher.py:9: FutureWarning:\n",
            "\n",
            "Series.dt.weekofyear and Series.dt.week have been deprecated.  Please use Series.dt.isocalendar().week instead.\n",
            "\n"
          ]
        }
      ],
      "source": [
        "# train_df, validation_df, test_df = date_features(train_df), date_features(validation_df), date_features(test_df)"
      ]
    },
    {
      "cell_type": "code",
      "execution_count": null,
      "metadata": {
        "colab": {
          "base_uri": "https://localhost:8080/",
          "height": 238
        },
        "id": "NyUbElHbxF6R",
        "outputId": "17f16455-b446-4fb4-d955-da5a9a999cbb"
      },
      "outputs": [
        {
          "data": {
            "text/html": [
              "<div>\n",
              "<style scoped>\n",
              "    .dataframe tbody tr th:only-of-type {\n",
              "        vertical-align: middle;\n",
              "    }\n",
              "\n",
              "    .dataframe tbody tr th {\n",
              "        vertical-align: top;\n",
              "    }\n",
              "\n",
              "    .dataframe thead th {\n",
              "        text-align: right;\n",
              "    }\n",
              "</style>\n",
              "<table border=\"1\" class=\"dataframe\">\n",
              "  <thead>\n",
              "    <tr style=\"text-align: right;\">\n",
              "      <th></th>\n",
              "      <th>CategoryCode</th>\n",
              "      <th>ItemCode</th>\n",
              "      <th>DateID</th>\n",
              "      <th>DailySales</th>\n",
              "      <th>DailySales_bins</th>\n",
              "    </tr>\n",
              "    <tr>\n",
              "      <th>ID</th>\n",
              "      <th></th>\n",
              "      <th></th>\n",
              "      <th></th>\n",
              "      <th></th>\n",
              "      <th></th>\n",
              "    </tr>\n",
              "  </thead>\n",
              "  <tbody>\n",
              "    <tr>\n",
              "      <th>0</th>\n",
              "      <td>category_2</td>\n",
              "      <td>174436</td>\n",
              "      <td>2021-10-01</td>\n",
              "      <td>9</td>\n",
              "      <td>(8, 9]</td>\n",
              "    </tr>\n",
              "    <tr>\n",
              "      <th>1</th>\n",
              "      <td>category_2</td>\n",
              "      <td>118033</td>\n",
              "      <td>2021-10-01</td>\n",
              "      <td>4</td>\n",
              "      <td>(3, 4]</td>\n",
              "    </tr>\n",
              "    <tr>\n",
              "      <th>2</th>\n",
              "      <td>category_2</td>\n",
              "      <td>20824</td>\n",
              "      <td>2021-10-01</td>\n",
              "      <td>7</td>\n",
              "      <td>(6, 7]</td>\n",
              "    </tr>\n",
              "    <tr>\n",
              "      <th>3</th>\n",
              "      <td>category_1</td>\n",
              "      <td>1061341</td>\n",
              "      <td>2021-10-01</td>\n",
              "      <td>11</td>\n",
              "      <td>(10, 20]</td>\n",
              "    </tr>\n",
              "    <tr>\n",
              "      <th>4</th>\n",
              "      <td>category_1</td>\n",
              "      <td>76399</td>\n",
              "      <td>2021-10-01</td>\n",
              "      <td>14</td>\n",
              "      <td>(10, 20]</td>\n",
              "    </tr>\n",
              "  </tbody>\n",
              "</table>\n",
              "</div>"
            ],
            "text/plain": [
              "   CategoryCode  ItemCode     DateID  DailySales DailySales_bins\n",
              "ID                                                              \n",
              "0    category_2    174436 2021-10-01           9          (8, 9]\n",
              "1    category_2    118033 2021-10-01           4          (3, 4]\n",
              "2    category_2     20824 2021-10-01           7          (6, 7]\n",
              "3    category_1   1061341 2021-10-01          11        (10, 20]\n",
              "4    category_1     76399 2021-10-01          14        (10, 20]"
            ]
          },
          "execution_count": 19,
          "metadata": {},
          "output_type": "execute_result"
        }
      ],
      "source": [
        "train_df.head()"
      ]
    },
    {
      "cell_type": "code",
      "execution_count": null,
      "metadata": {
        "id": "BBf-S2sFmNNW",
        "outputId": "60bfb76d-bdd8-4bbd-9b54-984dfe2d249e"
      },
      "outputs": [
        {
          "data": {
            "text/html": [
              "<div>\n",
              "<style scoped>\n",
              "    .dataframe tbody tr th:only-of-type {\n",
              "        vertical-align: middle;\n",
              "    }\n",
              "\n",
              "    .dataframe tbody tr th {\n",
              "        vertical-align: top;\n",
              "    }\n",
              "\n",
              "    .dataframe thead th {\n",
              "        text-align: right;\n",
              "    }\n",
              "</style>\n",
              "<table border=\"1\" class=\"dataframe\">\n",
              "  <thead>\n",
              "    <tr style=\"text-align: right;\">\n",
              "      <th></th>\n",
              "      <th>CategoryCode</th>\n",
              "      <th>ItemCode</th>\n",
              "      <th>Week</th>\n",
              "      <th>DateID</th>\n",
              "    </tr>\n",
              "    <tr>\n",
              "      <th>ID</th>\n",
              "      <th></th>\n",
              "      <th></th>\n",
              "      <th></th>\n",
              "      <th></th>\n",
              "    </tr>\n",
              "  </thead>\n",
              "  <tbody>\n",
              "    <tr>\n",
              "      <th>0</th>\n",
              "      <td>category_2</td>\n",
              "      <td>1044502</td>\n",
              "      <td>w1</td>\n",
              "      <td>2022-02-14</td>\n",
              "    </tr>\n",
              "    <tr>\n",
              "      <th>1</th>\n",
              "      <td>category_2</td>\n",
              "      <td>172582</td>\n",
              "      <td>w1</td>\n",
              "      <td>2022-02-14</td>\n",
              "    </tr>\n",
              "    <tr>\n",
              "      <th>2</th>\n",
              "      <td>category_3</td>\n",
              "      <td>1066570</td>\n",
              "      <td>w1</td>\n",
              "      <td>2022-02-14</td>\n",
              "    </tr>\n",
              "    <tr>\n",
              "      <th>3</th>\n",
              "      <td>category_2</td>\n",
              "      <td>1090240</td>\n",
              "      <td>w1</td>\n",
              "      <td>2022-02-14</td>\n",
              "    </tr>\n",
              "    <tr>\n",
              "      <th>4</th>\n",
              "      <td>category_3</td>\n",
              "      <td>1097143</td>\n",
              "      <td>w1</td>\n",
              "      <td>2022-02-14</td>\n",
              "    </tr>\n",
              "  </tbody>\n",
              "</table>\n",
              "</div>"
            ],
            "text/plain": [
              "   CategoryCode  ItemCode Week     DateID\n",
              "ID                                       \n",
              "0    category_2   1044502   w1 2022-02-14\n",
              "1    category_2    172582   w1 2022-02-14\n",
              "2    category_3   1066570   w1 2022-02-14\n",
              "3    category_2   1090240   w1 2022-02-14\n",
              "4    category_3   1097143   w1 2022-02-14"
            ]
          },
          "execution_count": 20,
          "metadata": {},
          "output_type": "execute_result"
        }
      ],
      "source": [
        "validation_df.head()"
      ]
    },
    {
      "cell_type": "code",
      "execution_count": null,
      "metadata": {
        "id": "J4QBa-gZvn1A"
      },
      "outputs": [],
      "source": [
        "def create_date_features(df):\n",
        "    df['month'] = df.DateID.dt.month\n",
        "    df['day_of_month'] = df.DateID.dt.day\n",
        "    df['day_of_year'] = df.DateID.dt.dayofyear\n",
        "    df['week_of_year'] = df.DateID.dt.weekofyear\n",
        "    df['day_of_week'] = df.DateID.dt.dayofweek + 1\n",
        "    df['year'] = df.DateID.dt.year\n",
        "    df[\"is_wknd\"] = df.DateID.dt.weekday // 4\n",
        "    # df[\"quarter\"] = df.date.dt.quarter\n",
        "    df['is_month_start'] = df.DateID.dt.is_month_start.astype(int)\n",
        "    df['is_month_end'] = df.DateID.dt.is_month_end.astype(int)\n",
        "    df['is_quarter_start'] = df.DateID.dt.is_quarter_start.astype(int)\n",
        "    df['is_quarter_end'] = df.DateID.dt.is_quarter_end.astype(int)\n",
        "    df['is_year_start'] = df.DateID.dt.is_year_start.astype(int)\n",
        "    df['is_year_end'] = df.DateID.dt.is_year_end.astype(int)\n",
        "    # 0: Winter - 1: Spring - 2: Summer - 3: Fall\n",
        "    df[\"season\"] = np.where(df.month.isin([12,1,2]), 0, 1)\n",
        "    df[\"season\"] = np.where(df.month.isin([6,7,8]), 2, df[\"season\"])\n",
        "    df[\"season\"] = np.where(df.month.isin([9, 10, 11]), 3, df[\"season\"])\n",
        "    return df"
      ]
    },
    {
      "cell_type": "code",
      "execution_count": null,
      "metadata": {
        "colab": {
          "base_uri": "https://localhost:8080/"
        },
        "id": "39AFuuInw4Zb",
        "outputId": "2e469898-e55a-4675-9c76-417dd8ffb572"
      },
      "outputs": [
        {
          "name": "stderr",
          "output_type": "stream",
          "text": [
            "c:\\Python37\\cv\\lib\\site-packages\\ipykernel_launcher.py:5: FutureWarning:\n",
            "\n",
            "Series.dt.weekofyear and Series.dt.week have been deprecated.  Please use Series.dt.isocalendar().week instead.\n",
            "\n"
          ]
        }
      ],
      "source": [
        "train_df, validation_df, test_df = create_date_features(train_df), create_date_features(validation_df), create_date_features(test_df)"
      ]
    },
    {
      "cell_type": "code",
      "execution_count": null,
      "metadata": {
        "id": "BkyTCR8QxbMc",
        "outputId": "b1bfcf88-fd2b-422e-dd79-1e05ddaaa8ff"
      },
      "outputs": [
        {
          "data": {
            "text/html": [
              "<div>\n",
              "<style scoped>\n",
              "    .dataframe tbody tr th:only-of-type {\n",
              "        vertical-align: middle;\n",
              "    }\n",
              "\n",
              "    .dataframe tbody tr th {\n",
              "        vertical-align: top;\n",
              "    }\n",
              "\n",
              "    .dataframe thead th {\n",
              "        text-align: right;\n",
              "    }\n",
              "</style>\n",
              "<table border=\"1\" class=\"dataframe\">\n",
              "  <thead>\n",
              "    <tr style=\"text-align: right;\">\n",
              "      <th></th>\n",
              "      <th>CategoryCode</th>\n",
              "      <th>ItemCode</th>\n",
              "      <th>DateID</th>\n",
              "      <th>DailySales</th>\n",
              "      <th>DailySales_bins</th>\n",
              "      <th>month</th>\n",
              "      <th>day_of_month</th>\n",
              "      <th>day_of_year</th>\n",
              "      <th>week_of_year</th>\n",
              "      <th>day_of_week</th>\n",
              "      <th>year</th>\n",
              "      <th>is_wknd</th>\n",
              "      <th>is_month_start</th>\n",
              "      <th>is_month_end</th>\n",
              "      <th>is_quarter_start</th>\n",
              "      <th>is_quarter_end</th>\n",
              "      <th>is_year_start</th>\n",
              "      <th>is_year_end</th>\n",
              "      <th>season</th>\n",
              "    </tr>\n",
              "    <tr>\n",
              "      <th>ID</th>\n",
              "      <th></th>\n",
              "      <th></th>\n",
              "      <th></th>\n",
              "      <th></th>\n",
              "      <th></th>\n",
              "      <th></th>\n",
              "      <th></th>\n",
              "      <th></th>\n",
              "      <th></th>\n",
              "      <th></th>\n",
              "      <th></th>\n",
              "      <th></th>\n",
              "      <th></th>\n",
              "      <th></th>\n",
              "      <th></th>\n",
              "      <th></th>\n",
              "      <th></th>\n",
              "      <th></th>\n",
              "      <th></th>\n",
              "    </tr>\n",
              "  </thead>\n",
              "  <tbody>\n",
              "    <tr>\n",
              "      <th>0</th>\n",
              "      <td>category_2</td>\n",
              "      <td>174436</td>\n",
              "      <td>2021-10-01</td>\n",
              "      <td>9</td>\n",
              "      <td>(8, 9]</td>\n",
              "      <td>10</td>\n",
              "      <td>1</td>\n",
              "      <td>274</td>\n",
              "      <td>39</td>\n",
              "      <td>5</td>\n",
              "      <td>2021</td>\n",
              "      <td>1</td>\n",
              "      <td>1</td>\n",
              "      <td>0</td>\n",
              "      <td>1</td>\n",
              "      <td>0</td>\n",
              "      <td>0</td>\n",
              "      <td>0</td>\n",
              "      <td>3</td>\n",
              "    </tr>\n",
              "    <tr>\n",
              "      <th>1</th>\n",
              "      <td>category_2</td>\n",
              "      <td>118033</td>\n",
              "      <td>2021-10-01</td>\n",
              "      <td>4</td>\n",
              "      <td>(3, 4]</td>\n",
              "      <td>10</td>\n",
              "      <td>1</td>\n",
              "      <td>274</td>\n",
              "      <td>39</td>\n",
              "      <td>5</td>\n",
              "      <td>2021</td>\n",
              "      <td>1</td>\n",
              "      <td>1</td>\n",
              "      <td>0</td>\n",
              "      <td>1</td>\n",
              "      <td>0</td>\n",
              "      <td>0</td>\n",
              "      <td>0</td>\n",
              "      <td>3</td>\n",
              "    </tr>\n",
              "    <tr>\n",
              "      <th>2</th>\n",
              "      <td>category_2</td>\n",
              "      <td>20824</td>\n",
              "      <td>2021-10-01</td>\n",
              "      <td>7</td>\n",
              "      <td>(6, 7]</td>\n",
              "      <td>10</td>\n",
              "      <td>1</td>\n",
              "      <td>274</td>\n",
              "      <td>39</td>\n",
              "      <td>5</td>\n",
              "      <td>2021</td>\n",
              "      <td>1</td>\n",
              "      <td>1</td>\n",
              "      <td>0</td>\n",
              "      <td>1</td>\n",
              "      <td>0</td>\n",
              "      <td>0</td>\n",
              "      <td>0</td>\n",
              "      <td>3</td>\n",
              "    </tr>\n",
              "    <tr>\n",
              "      <th>3</th>\n",
              "      <td>category_1</td>\n",
              "      <td>1061341</td>\n",
              "      <td>2021-10-01</td>\n",
              "      <td>11</td>\n",
              "      <td>(10, 20]</td>\n",
              "      <td>10</td>\n",
              "      <td>1</td>\n",
              "      <td>274</td>\n",
              "      <td>39</td>\n",
              "      <td>5</td>\n",
              "      <td>2021</td>\n",
              "      <td>1</td>\n",
              "      <td>1</td>\n",
              "      <td>0</td>\n",
              "      <td>1</td>\n",
              "      <td>0</td>\n",
              "      <td>0</td>\n",
              "      <td>0</td>\n",
              "      <td>3</td>\n",
              "    </tr>\n",
              "    <tr>\n",
              "      <th>4</th>\n",
              "      <td>category_1</td>\n",
              "      <td>76399</td>\n",
              "      <td>2021-10-01</td>\n",
              "      <td>14</td>\n",
              "      <td>(10, 20]</td>\n",
              "      <td>10</td>\n",
              "      <td>1</td>\n",
              "      <td>274</td>\n",
              "      <td>39</td>\n",
              "      <td>5</td>\n",
              "      <td>2021</td>\n",
              "      <td>1</td>\n",
              "      <td>1</td>\n",
              "      <td>0</td>\n",
              "      <td>1</td>\n",
              "      <td>0</td>\n",
              "      <td>0</td>\n",
              "      <td>0</td>\n",
              "      <td>3</td>\n",
              "    </tr>\n",
              "    <tr>\n",
              "      <th>...</th>\n",
              "      <td>...</td>\n",
              "      <td>...</td>\n",
              "      <td>...</td>\n",
              "      <td>...</td>\n",
              "      <td>...</td>\n",
              "      <td>...</td>\n",
              "      <td>...</td>\n",
              "      <td>...</td>\n",
              "      <td>...</td>\n",
              "      <td>...</td>\n",
              "      <td>...</td>\n",
              "      <td>...</td>\n",
              "      <td>...</td>\n",
              "      <td>...</td>\n",
              "      <td>...</td>\n",
              "      <td>...</td>\n",
              "      <td>...</td>\n",
              "      <td>...</td>\n",
              "      <td>...</td>\n",
              "    </tr>\n",
              "    <tr>\n",
              "      <th>19916</th>\n",
              "      <td>category_2</td>\n",
              "      <td>57058</td>\n",
              "      <td>2022-02-13</td>\n",
              "      <td>3</td>\n",
              "      <td>(2, 3]</td>\n",
              "      <td>2</td>\n",
              "      <td>13</td>\n",
              "      <td>44</td>\n",
              "      <td>6</td>\n",
              "      <td>7</td>\n",
              "      <td>2022</td>\n",
              "      <td>1</td>\n",
              "      <td>0</td>\n",
              "      <td>0</td>\n",
              "      <td>0</td>\n",
              "      <td>0</td>\n",
              "      <td>0</td>\n",
              "      <td>0</td>\n",
              "      <td>0</td>\n",
              "    </tr>\n",
              "    <tr>\n",
              "      <th>19917</th>\n",
              "      <td>category_1</td>\n",
              "      <td>1084498</td>\n",
              "      <td>2022-02-13</td>\n",
              "      <td>4</td>\n",
              "      <td>(3, 4]</td>\n",
              "      <td>2</td>\n",
              "      <td>13</td>\n",
              "      <td>44</td>\n",
              "      <td>6</td>\n",
              "      <td>7</td>\n",
              "      <td>2022</td>\n",
              "      <td>1</td>\n",
              "      <td>0</td>\n",
              "      <td>0</td>\n",
              "      <td>0</td>\n",
              "      <td>0</td>\n",
              "      <td>0</td>\n",
              "      <td>0</td>\n",
              "      <td>0</td>\n",
              "    </tr>\n",
              "    <tr>\n",
              "      <th>19918</th>\n",
              "      <td>category_2</td>\n",
              "      <td>1067092</td>\n",
              "      <td>2022-02-13</td>\n",
              "      <td>13</td>\n",
              "      <td>(10, 20]</td>\n",
              "      <td>2</td>\n",
              "      <td>13</td>\n",
              "      <td>44</td>\n",
              "      <td>6</td>\n",
              "      <td>7</td>\n",
              "      <td>2022</td>\n",
              "      <td>1</td>\n",
              "      <td>0</td>\n",
              "      <td>0</td>\n",
              "      <td>0</td>\n",
              "      <td>0</td>\n",
              "      <td>0</td>\n",
              "      <td>0</td>\n",
              "      <td>0</td>\n",
              "    </tr>\n",
              "    <tr>\n",
              "      <th>19919</th>\n",
              "      <td>category_1</td>\n",
              "      <td>755584</td>\n",
              "      <td>2022-02-13</td>\n",
              "      <td>2</td>\n",
              "      <td>(1, 2]</td>\n",
              "      <td>2</td>\n",
              "      <td>13</td>\n",
              "      <td>44</td>\n",
              "      <td>6</td>\n",
              "      <td>7</td>\n",
              "      <td>2022</td>\n",
              "      <td>1</td>\n",
              "      <td>0</td>\n",
              "      <td>0</td>\n",
              "      <td>0</td>\n",
              "      <td>0</td>\n",
              "      <td>0</td>\n",
              "      <td>0</td>\n",
              "      <td>0</td>\n",
              "    </tr>\n",
              "    <tr>\n",
              "      <th>19920</th>\n",
              "      <td>category_3</td>\n",
              "      <td>893824</td>\n",
              "      <td>2022-02-13</td>\n",
              "      <td>1</td>\n",
              "      <td>(0, 1]</td>\n",
              "      <td>2</td>\n",
              "      <td>13</td>\n",
              "      <td>44</td>\n",
              "      <td>6</td>\n",
              "      <td>7</td>\n",
              "      <td>2022</td>\n",
              "      <td>1</td>\n",
              "      <td>0</td>\n",
              "      <td>0</td>\n",
              "      <td>0</td>\n",
              "      <td>0</td>\n",
              "      <td>0</td>\n",
              "      <td>0</td>\n",
              "      <td>0</td>\n",
              "    </tr>\n",
              "  </tbody>\n",
              "</table>\n",
              "<p>19921 rows × 19 columns</p>\n",
              "</div>"
            ],
            "text/plain": [
              "      CategoryCode  ItemCode     DateID  DailySales DailySales_bins  month  \\\n",
              "ID                                                                           \n",
              "0       category_2    174436 2021-10-01           9          (8, 9]     10   \n",
              "1       category_2    118033 2021-10-01           4          (3, 4]     10   \n",
              "2       category_2     20824 2021-10-01           7          (6, 7]     10   \n",
              "3       category_1   1061341 2021-10-01          11        (10, 20]     10   \n",
              "4       category_1     76399 2021-10-01          14        (10, 20]     10   \n",
              "...            ...       ...        ...         ...             ...    ...   \n",
              "19916   category_2     57058 2022-02-13           3          (2, 3]      2   \n",
              "19917   category_1   1084498 2022-02-13           4          (3, 4]      2   \n",
              "19918   category_2   1067092 2022-02-13          13        (10, 20]      2   \n",
              "19919   category_1    755584 2022-02-13           2          (1, 2]      2   \n",
              "19920   category_3    893824 2022-02-13           1          (0, 1]      2   \n",
              "\n",
              "       day_of_month  day_of_year  week_of_year  day_of_week  year  is_wknd  \\\n",
              "ID                                                                           \n",
              "0                 1          274            39            5  2021        1   \n",
              "1                 1          274            39            5  2021        1   \n",
              "2                 1          274            39            5  2021        1   \n",
              "3                 1          274            39            5  2021        1   \n",
              "4                 1          274            39            5  2021        1   \n",
              "...             ...          ...           ...          ...   ...      ...   \n",
              "19916            13           44             6            7  2022        1   \n",
              "19917            13           44             6            7  2022        1   \n",
              "19918            13           44             6            7  2022        1   \n",
              "19919            13           44             6            7  2022        1   \n",
              "19920            13           44             6            7  2022        1   \n",
              "\n",
              "       is_month_start  is_month_end  is_quarter_start  is_quarter_end  \\\n",
              "ID                                                                      \n",
              "0                   1             0                 1               0   \n",
              "1                   1             0                 1               0   \n",
              "2                   1             0                 1               0   \n",
              "3                   1             0                 1               0   \n",
              "4                   1             0                 1               0   \n",
              "...               ...           ...               ...             ...   \n",
              "19916               0             0                 0               0   \n",
              "19917               0             0                 0               0   \n",
              "19918               0             0                 0               0   \n",
              "19919               0             0                 0               0   \n",
              "19920               0             0                 0               0   \n",
              "\n",
              "       is_year_start  is_year_end  season  \n",
              "ID                                         \n",
              "0                  0            0       3  \n",
              "1                  0            0       3  \n",
              "2                  0            0       3  \n",
              "3                  0            0       3  \n",
              "4                  0            0       3  \n",
              "...              ...          ...     ...  \n",
              "19916              0            0       0  \n",
              "19917              0            0       0  \n",
              "19918              0            0       0  \n",
              "19919              0            0       0  \n",
              "19920              0            0       0  \n",
              "\n",
              "[19921 rows x 19 columns]"
            ]
          },
          "execution_count": 23,
          "metadata": {},
          "output_type": "execute_result"
        }
      ],
      "source": [
        "train_df"
      ]
    },
    {
      "cell_type": "code",
      "execution_count": null,
      "metadata": {
        "id": "x6wV2_9DxbJF",
        "outputId": "f310c914-1c6e-461b-d688-dd7b5e1bd514"
      },
      "outputs": [
        {
          "data": {
            "text/html": [
              "<div>\n",
              "<style scoped>\n",
              "    .dataframe tbody tr th:only-of-type {\n",
              "        vertical-align: middle;\n",
              "    }\n",
              "\n",
              "    .dataframe tbody tr th {\n",
              "        vertical-align: top;\n",
              "    }\n",
              "\n",
              "    .dataframe thead th {\n",
              "        text-align: right;\n",
              "    }\n",
              "</style>\n",
              "<table border=\"1\" class=\"dataframe\">\n",
              "  <thead>\n",
              "    <tr style=\"text-align: right;\">\n",
              "      <th></th>\n",
              "      <th>CategoryCode</th>\n",
              "      <th>ItemCode</th>\n",
              "      <th>Week</th>\n",
              "      <th>DateID</th>\n",
              "      <th>month</th>\n",
              "      <th>day_of_month</th>\n",
              "      <th>day_of_year</th>\n",
              "      <th>week_of_year</th>\n",
              "      <th>day_of_week</th>\n",
              "      <th>year</th>\n",
              "      <th>is_wknd</th>\n",
              "      <th>is_month_start</th>\n",
              "      <th>is_month_end</th>\n",
              "      <th>is_quarter_start</th>\n",
              "      <th>is_quarter_end</th>\n",
              "      <th>is_year_start</th>\n",
              "      <th>is_year_end</th>\n",
              "      <th>season</th>\n",
              "    </tr>\n",
              "    <tr>\n",
              "      <th>ID</th>\n",
              "      <th></th>\n",
              "      <th></th>\n",
              "      <th></th>\n",
              "      <th></th>\n",
              "      <th></th>\n",
              "      <th></th>\n",
              "      <th></th>\n",
              "      <th></th>\n",
              "      <th></th>\n",
              "      <th></th>\n",
              "      <th></th>\n",
              "      <th></th>\n",
              "      <th></th>\n",
              "      <th></th>\n",
              "      <th></th>\n",
              "      <th></th>\n",
              "      <th></th>\n",
              "      <th></th>\n",
              "    </tr>\n",
              "  </thead>\n",
              "  <tbody>\n",
              "    <tr>\n",
              "      <th>0</th>\n",
              "      <td>category_2</td>\n",
              "      <td>1044502</td>\n",
              "      <td>w1</td>\n",
              "      <td>2022-02-14</td>\n",
              "      <td>2</td>\n",
              "      <td>14</td>\n",
              "      <td>45</td>\n",
              "      <td>7</td>\n",
              "      <td>1</td>\n",
              "      <td>2022</td>\n",
              "      <td>0</td>\n",
              "      <td>0</td>\n",
              "      <td>0</td>\n",
              "      <td>0</td>\n",
              "      <td>0</td>\n",
              "      <td>0</td>\n",
              "      <td>0</td>\n",
              "      <td>0</td>\n",
              "    </tr>\n",
              "    <tr>\n",
              "      <th>1</th>\n",
              "      <td>category_2</td>\n",
              "      <td>172582</td>\n",
              "      <td>w1</td>\n",
              "      <td>2022-02-14</td>\n",
              "      <td>2</td>\n",
              "      <td>14</td>\n",
              "      <td>45</td>\n",
              "      <td>7</td>\n",
              "      <td>1</td>\n",
              "      <td>2022</td>\n",
              "      <td>0</td>\n",
              "      <td>0</td>\n",
              "      <td>0</td>\n",
              "      <td>0</td>\n",
              "      <td>0</td>\n",
              "      <td>0</td>\n",
              "      <td>0</td>\n",
              "      <td>0</td>\n",
              "    </tr>\n",
              "    <tr>\n",
              "      <th>2</th>\n",
              "      <td>category_3</td>\n",
              "      <td>1066570</td>\n",
              "      <td>w1</td>\n",
              "      <td>2022-02-14</td>\n",
              "      <td>2</td>\n",
              "      <td>14</td>\n",
              "      <td>45</td>\n",
              "      <td>7</td>\n",
              "      <td>1</td>\n",
              "      <td>2022</td>\n",
              "      <td>0</td>\n",
              "      <td>0</td>\n",
              "      <td>0</td>\n",
              "      <td>0</td>\n",
              "      <td>0</td>\n",
              "      <td>0</td>\n",
              "      <td>0</td>\n",
              "      <td>0</td>\n",
              "    </tr>\n",
              "    <tr>\n",
              "      <th>3</th>\n",
              "      <td>category_2</td>\n",
              "      <td>1090240</td>\n",
              "      <td>w1</td>\n",
              "      <td>2022-02-14</td>\n",
              "      <td>2</td>\n",
              "      <td>14</td>\n",
              "      <td>45</td>\n",
              "      <td>7</td>\n",
              "      <td>1</td>\n",
              "      <td>2022</td>\n",
              "      <td>0</td>\n",
              "      <td>0</td>\n",
              "      <td>0</td>\n",
              "      <td>0</td>\n",
              "      <td>0</td>\n",
              "      <td>0</td>\n",
              "      <td>0</td>\n",
              "      <td>0</td>\n",
              "    </tr>\n",
              "    <tr>\n",
              "      <th>4</th>\n",
              "      <td>category_3</td>\n",
              "      <td>1097143</td>\n",
              "      <td>w1</td>\n",
              "      <td>2022-02-14</td>\n",
              "      <td>2</td>\n",
              "      <td>14</td>\n",
              "      <td>45</td>\n",
              "      <td>7</td>\n",
              "      <td>1</td>\n",
              "      <td>2022</td>\n",
              "      <td>0</td>\n",
              "      <td>0</td>\n",
              "      <td>0</td>\n",
              "      <td>0</td>\n",
              "      <td>0</td>\n",
              "      <td>0</td>\n",
              "      <td>0</td>\n",
              "      <td>0</td>\n",
              "    </tr>\n",
              "    <tr>\n",
              "      <th>...</th>\n",
              "      <td>...</td>\n",
              "      <td>...</td>\n",
              "      <td>...</td>\n",
              "      <td>...</td>\n",
              "      <td>...</td>\n",
              "      <td>...</td>\n",
              "      <td>...</td>\n",
              "      <td>...</td>\n",
              "      <td>...</td>\n",
              "      <td>...</td>\n",
              "      <td>...</td>\n",
              "      <td>...</td>\n",
              "      <td>...</td>\n",
              "      <td>...</td>\n",
              "      <td>...</td>\n",
              "      <td>...</td>\n",
              "      <td>...</td>\n",
              "      <td>...</td>\n",
              "    </tr>\n",
              "    <tr>\n",
              "      <th>2585</th>\n",
              "      <td>category_2</td>\n",
              "      <td>1026871</td>\n",
              "      <td>w4</td>\n",
              "      <td>2022-03-13</td>\n",
              "      <td>3</td>\n",
              "      <td>13</td>\n",
              "      <td>72</td>\n",
              "      <td>10</td>\n",
              "      <td>7</td>\n",
              "      <td>2022</td>\n",
              "      <td>1</td>\n",
              "      <td>0</td>\n",
              "      <td>0</td>\n",
              "      <td>0</td>\n",
              "      <td>0</td>\n",
              "      <td>0</td>\n",
              "      <td>0</td>\n",
              "      <td>1</td>\n",
              "    </tr>\n",
              "    <tr>\n",
              "      <th>2586</th>\n",
              "      <td>category_2</td>\n",
              "      <td>1071124</td>\n",
              "      <td>w4</td>\n",
              "      <td>2022-03-13</td>\n",
              "      <td>3</td>\n",
              "      <td>13</td>\n",
              "      <td>72</td>\n",
              "      <td>10</td>\n",
              "      <td>7</td>\n",
              "      <td>2022</td>\n",
              "      <td>1</td>\n",
              "      <td>0</td>\n",
              "      <td>0</td>\n",
              "      <td>0</td>\n",
              "      <td>0</td>\n",
              "      <td>0</td>\n",
              "      <td>0</td>\n",
              "      <td>1</td>\n",
              "    </tr>\n",
              "    <tr>\n",
              "      <th>2587</th>\n",
              "      <td>category_1</td>\n",
              "      <td>1050046</td>\n",
              "      <td>w4</td>\n",
              "      <td>2022-03-13</td>\n",
              "      <td>3</td>\n",
              "      <td>13</td>\n",
              "      <td>72</td>\n",
              "      <td>10</td>\n",
              "      <td>7</td>\n",
              "      <td>2022</td>\n",
              "      <td>1</td>\n",
              "      <td>0</td>\n",
              "      <td>0</td>\n",
              "      <td>0</td>\n",
              "      <td>0</td>\n",
              "      <td>0</td>\n",
              "      <td>0</td>\n",
              "      <td>1</td>\n",
              "    </tr>\n",
              "    <tr>\n",
              "      <th>2588</th>\n",
              "      <td>category_1</td>\n",
              "      <td>1030948</td>\n",
              "      <td>w4</td>\n",
              "      <td>2022-03-13</td>\n",
              "      <td>3</td>\n",
              "      <td>13</td>\n",
              "      <td>72</td>\n",
              "      <td>10</td>\n",
              "      <td>7</td>\n",
              "      <td>2022</td>\n",
              "      <td>1</td>\n",
              "      <td>0</td>\n",
              "      <td>0</td>\n",
              "      <td>0</td>\n",
              "      <td>0</td>\n",
              "      <td>0</td>\n",
              "      <td>0</td>\n",
              "      <td>1</td>\n",
              "    </tr>\n",
              "    <tr>\n",
              "      <th>2589</th>\n",
              "      <td>category_1</td>\n",
              "      <td>3418</td>\n",
              "      <td>w4</td>\n",
              "      <td>2022-03-13</td>\n",
              "      <td>3</td>\n",
              "      <td>13</td>\n",
              "      <td>72</td>\n",
              "      <td>10</td>\n",
              "      <td>7</td>\n",
              "      <td>2022</td>\n",
              "      <td>1</td>\n",
              "      <td>0</td>\n",
              "      <td>0</td>\n",
              "      <td>0</td>\n",
              "      <td>0</td>\n",
              "      <td>0</td>\n",
              "      <td>0</td>\n",
              "      <td>1</td>\n",
              "    </tr>\n",
              "  </tbody>\n",
              "</table>\n",
              "<p>2590 rows × 18 columns</p>\n",
              "</div>"
            ],
            "text/plain": [
              "     CategoryCode  ItemCode Week     DateID  month  day_of_month  day_of_year  \\\n",
              "ID                                                                              \n",
              "0      category_2   1044502   w1 2022-02-14      2            14           45   \n",
              "1      category_2    172582   w1 2022-02-14      2            14           45   \n",
              "2      category_3   1066570   w1 2022-02-14      2            14           45   \n",
              "3      category_2   1090240   w1 2022-02-14      2            14           45   \n",
              "4      category_3   1097143   w1 2022-02-14      2            14           45   \n",
              "...           ...       ...  ...        ...    ...           ...          ...   \n",
              "2585   category_2   1026871   w4 2022-03-13      3            13           72   \n",
              "2586   category_2   1071124   w4 2022-03-13      3            13           72   \n",
              "2587   category_1   1050046   w4 2022-03-13      3            13           72   \n",
              "2588   category_1   1030948   w4 2022-03-13      3            13           72   \n",
              "2589   category_1      3418   w4 2022-03-13      3            13           72   \n",
              "\n",
              "      week_of_year  day_of_week  year  is_wknd  is_month_start  is_month_end  \\\n",
              "ID                                                                             \n",
              "0                7            1  2022        0               0             0   \n",
              "1                7            1  2022        0               0             0   \n",
              "2                7            1  2022        0               0             0   \n",
              "3                7            1  2022        0               0             0   \n",
              "4                7            1  2022        0               0             0   \n",
              "...            ...          ...   ...      ...             ...           ...   \n",
              "2585            10            7  2022        1               0             0   \n",
              "2586            10            7  2022        1               0             0   \n",
              "2587            10            7  2022        1               0             0   \n",
              "2588            10            7  2022        1               0             0   \n",
              "2589            10            7  2022        1               0             0   \n",
              "\n",
              "      is_quarter_start  is_quarter_end  is_year_start  is_year_end  season  \n",
              "ID                                                                          \n",
              "0                    0               0              0            0       0  \n",
              "1                    0               0              0            0       0  \n",
              "2                    0               0              0            0       0  \n",
              "3                    0               0              0            0       0  \n",
              "4                    0               0              0            0       0  \n",
              "...                ...             ...            ...          ...     ...  \n",
              "2585                 0               0              0            0       1  \n",
              "2586                 0               0              0            0       1  \n",
              "2587                 0               0              0            0       1  \n",
              "2588                 0               0              0            0       1  \n",
              "2589                 0               0              0            0       1  \n",
              "\n",
              "[2590 rows x 18 columns]"
            ]
          },
          "execution_count": 24,
          "metadata": {},
          "output_type": "execute_result"
        }
      ],
      "source": [
        "validation_df"
      ]
    },
    {
      "cell_type": "code",
      "execution_count": null,
      "metadata": {
        "id": "7K-jHVzYxbFk",
        "outputId": "4e2ce526-44d3-4820-adb9-500a76fb507c"
      },
      "outputs": [
        {
          "data": {
            "text/html": [
              "<div>\n",
              "<style scoped>\n",
              "    .dataframe tbody tr th:only-of-type {\n",
              "        vertical-align: middle;\n",
              "    }\n",
              "\n",
              "    .dataframe tbody tr th {\n",
              "        vertical-align: top;\n",
              "    }\n",
              "\n",
              "    .dataframe thead th {\n",
              "        text-align: right;\n",
              "    }\n",
              "</style>\n",
              "<table border=\"1\" class=\"dataframe\">\n",
              "  <thead>\n",
              "    <tr style=\"text-align: right;\">\n",
              "      <th></th>\n",
              "      <th>CategoryCode</th>\n",
              "      <th>ItemCode</th>\n",
              "      <th>Week</th>\n",
              "      <th>DateID</th>\n",
              "      <th>month</th>\n",
              "      <th>day_of_month</th>\n",
              "      <th>day_of_year</th>\n",
              "      <th>week_of_year</th>\n",
              "      <th>day_of_week</th>\n",
              "      <th>year</th>\n",
              "      <th>is_wknd</th>\n",
              "      <th>is_month_start</th>\n",
              "      <th>is_month_end</th>\n",
              "      <th>is_quarter_start</th>\n",
              "      <th>is_quarter_end</th>\n",
              "      <th>is_year_start</th>\n",
              "      <th>is_year_end</th>\n",
              "      <th>season</th>\n",
              "    </tr>\n",
              "    <tr>\n",
              "      <th>ID</th>\n",
              "      <th></th>\n",
              "      <th></th>\n",
              "      <th></th>\n",
              "      <th></th>\n",
              "      <th></th>\n",
              "      <th></th>\n",
              "      <th></th>\n",
              "      <th></th>\n",
              "      <th></th>\n",
              "      <th></th>\n",
              "      <th></th>\n",
              "      <th></th>\n",
              "      <th></th>\n",
              "      <th></th>\n",
              "      <th></th>\n",
              "      <th></th>\n",
              "      <th></th>\n",
              "      <th></th>\n",
              "    </tr>\n",
              "  </thead>\n",
              "  <tbody>\n",
              "    <tr>\n",
              "      <th>0</th>\n",
              "      <td>category_1</td>\n",
              "      <td>370195</td>\n",
              "      <td>w1</td>\n",
              "      <td>2022-02-14</td>\n",
              "      <td>2</td>\n",
              "      <td>14</td>\n",
              "      <td>45</td>\n",
              "      <td>7</td>\n",
              "      <td>1</td>\n",
              "      <td>2022</td>\n",
              "      <td>0</td>\n",
              "      <td>0</td>\n",
              "      <td>0</td>\n",
              "      <td>0</td>\n",
              "      <td>0</td>\n",
              "      <td>0</td>\n",
              "      <td>0</td>\n",
              "      <td>0</td>\n",
              "    </tr>\n",
              "    <tr>\n",
              "      <th>1</th>\n",
              "      <td>category_1</td>\n",
              "      <td>1032559</td>\n",
              "      <td>w1</td>\n",
              "      <td>2022-02-14</td>\n",
              "      <td>2</td>\n",
              "      <td>14</td>\n",
              "      <td>45</td>\n",
              "      <td>7</td>\n",
              "      <td>1</td>\n",
              "      <td>2022</td>\n",
              "      <td>0</td>\n",
              "      <td>0</td>\n",
              "      <td>0</td>\n",
              "      <td>0</td>\n",
              "      <td>0</td>\n",
              "      <td>0</td>\n",
              "      <td>0</td>\n",
              "      <td>0</td>\n",
              "    </tr>\n",
              "    <tr>\n",
              "      <th>2</th>\n",
              "      <td>category_2</td>\n",
              "      <td>174436</td>\n",
              "      <td>w1</td>\n",
              "      <td>2022-02-14</td>\n",
              "      <td>2</td>\n",
              "      <td>14</td>\n",
              "      <td>45</td>\n",
              "      <td>7</td>\n",
              "      <td>1</td>\n",
              "      <td>2022</td>\n",
              "      <td>0</td>\n",
              "      <td>0</td>\n",
              "      <td>0</td>\n",
              "      <td>0</td>\n",
              "      <td>0</td>\n",
              "      <td>0</td>\n",
              "      <td>0</td>\n",
              "      <td>0</td>\n",
              "    </tr>\n",
              "    <tr>\n",
              "      <th>3</th>\n",
              "      <td>category_2</td>\n",
              "      <td>262384</td>\n",
              "      <td>w1</td>\n",
              "      <td>2022-02-14</td>\n",
              "      <td>2</td>\n",
              "      <td>14</td>\n",
              "      <td>45</td>\n",
              "      <td>7</td>\n",
              "      <td>1</td>\n",
              "      <td>2022</td>\n",
              "      <td>0</td>\n",
              "      <td>0</td>\n",
              "      <td>0</td>\n",
              "      <td>0</td>\n",
              "      <td>0</td>\n",
              "      <td>0</td>\n",
              "      <td>0</td>\n",
              "      <td>0</td>\n",
              "    </tr>\n",
              "    <tr>\n",
              "      <th>4</th>\n",
              "      <td>category_1</td>\n",
              "      <td>371104</td>\n",
              "      <td>w1</td>\n",
              "      <td>2022-02-14</td>\n",
              "      <td>2</td>\n",
              "      <td>14</td>\n",
              "      <td>45</td>\n",
              "      <td>7</td>\n",
              "      <td>1</td>\n",
              "      <td>2022</td>\n",
              "      <td>0</td>\n",
              "      <td>0</td>\n",
              "      <td>0</td>\n",
              "      <td>0</td>\n",
              "      <td>0</td>\n",
              "      <td>0</td>\n",
              "      <td>0</td>\n",
              "      <td>0</td>\n",
              "    </tr>\n",
              "    <tr>\n",
              "      <th>...</th>\n",
              "      <td>...</td>\n",
              "      <td>...</td>\n",
              "      <td>...</td>\n",
              "      <td>...</td>\n",
              "      <td>...</td>\n",
              "      <td>...</td>\n",
              "      <td>...</td>\n",
              "      <td>...</td>\n",
              "      <td>...</td>\n",
              "      <td>...</td>\n",
              "      <td>...</td>\n",
              "      <td>...</td>\n",
              "      <td>...</td>\n",
              "      <td>...</td>\n",
              "      <td>...</td>\n",
              "      <td>...</td>\n",
              "      <td>...</td>\n",
              "      <td>...</td>\n",
              "    </tr>\n",
              "    <tr>\n",
              "      <th>2634</th>\n",
              "      <td>category_1</td>\n",
              "      <td>371104</td>\n",
              "      <td>w4</td>\n",
              "      <td>2022-03-13</td>\n",
              "      <td>3</td>\n",
              "      <td>13</td>\n",
              "      <td>72</td>\n",
              "      <td>10</td>\n",
              "      <td>7</td>\n",
              "      <td>2022</td>\n",
              "      <td>1</td>\n",
              "      <td>0</td>\n",
              "      <td>0</td>\n",
              "      <td>0</td>\n",
              "      <td>0</td>\n",
              "      <td>0</td>\n",
              "      <td>0</td>\n",
              "      <td>1</td>\n",
              "    </tr>\n",
              "    <tr>\n",
              "      <th>2635</th>\n",
              "      <td>category_1</td>\n",
              "      <td>42424</td>\n",
              "      <td>w4</td>\n",
              "      <td>2022-03-13</td>\n",
              "      <td>3</td>\n",
              "      <td>13</td>\n",
              "      <td>72</td>\n",
              "      <td>10</td>\n",
              "      <td>7</td>\n",
              "      <td>2022</td>\n",
              "      <td>1</td>\n",
              "      <td>0</td>\n",
              "      <td>0</td>\n",
              "      <td>0</td>\n",
              "      <td>0</td>\n",
              "      <td>0</td>\n",
              "      <td>0</td>\n",
              "      <td>1</td>\n",
              "    </tr>\n",
              "    <tr>\n",
              "      <th>2636</th>\n",
              "      <td>category_3</td>\n",
              "      <td>1090024</td>\n",
              "      <td>w4</td>\n",
              "      <td>2022-03-13</td>\n",
              "      <td>3</td>\n",
              "      <td>13</td>\n",
              "      <td>72</td>\n",
              "      <td>10</td>\n",
              "      <td>7</td>\n",
              "      <td>2022</td>\n",
              "      <td>1</td>\n",
              "      <td>0</td>\n",
              "      <td>0</td>\n",
              "      <td>0</td>\n",
              "      <td>0</td>\n",
              "      <td>0</td>\n",
              "      <td>0</td>\n",
              "      <td>1</td>\n",
              "    </tr>\n",
              "    <tr>\n",
              "      <th>2637</th>\n",
              "      <td>category_2</td>\n",
              "      <td>999403</td>\n",
              "      <td>w4</td>\n",
              "      <td>2022-03-13</td>\n",
              "      <td>3</td>\n",
              "      <td>13</td>\n",
              "      <td>72</td>\n",
              "      <td>10</td>\n",
              "      <td>7</td>\n",
              "      <td>2022</td>\n",
              "      <td>1</td>\n",
              "      <td>0</td>\n",
              "      <td>0</td>\n",
              "      <td>0</td>\n",
              "      <td>0</td>\n",
              "      <td>0</td>\n",
              "      <td>0</td>\n",
              "      <td>1</td>\n",
              "    </tr>\n",
              "    <tr>\n",
              "      <th>2638</th>\n",
              "      <td>category_1</td>\n",
              "      <td>1044691</td>\n",
              "      <td>w4</td>\n",
              "      <td>2022-03-13</td>\n",
              "      <td>3</td>\n",
              "      <td>13</td>\n",
              "      <td>72</td>\n",
              "      <td>10</td>\n",
              "      <td>7</td>\n",
              "      <td>2022</td>\n",
              "      <td>1</td>\n",
              "      <td>0</td>\n",
              "      <td>0</td>\n",
              "      <td>0</td>\n",
              "      <td>0</td>\n",
              "      <td>0</td>\n",
              "      <td>0</td>\n",
              "      <td>1</td>\n",
              "    </tr>\n",
              "  </tbody>\n",
              "</table>\n",
              "<p>2639 rows × 18 columns</p>\n",
              "</div>"
            ],
            "text/plain": [
              "     CategoryCode  ItemCode Week     DateID  month  day_of_month  day_of_year  \\\n",
              "ID                                                                              \n",
              "0      category_1    370195   w1 2022-02-14      2            14           45   \n",
              "1      category_1   1032559   w1 2022-02-14      2            14           45   \n",
              "2      category_2    174436   w1 2022-02-14      2            14           45   \n",
              "3      category_2    262384   w1 2022-02-14      2            14           45   \n",
              "4      category_1    371104   w1 2022-02-14      2            14           45   \n",
              "...           ...       ...  ...        ...    ...           ...          ...   \n",
              "2634   category_1    371104   w4 2022-03-13      3            13           72   \n",
              "2635   category_1     42424   w4 2022-03-13      3            13           72   \n",
              "2636   category_3   1090024   w4 2022-03-13      3            13           72   \n",
              "2637   category_2    999403   w4 2022-03-13      3            13           72   \n",
              "2638   category_1   1044691   w4 2022-03-13      3            13           72   \n",
              "\n",
              "      week_of_year  day_of_week  year  is_wknd  is_month_start  is_month_end  \\\n",
              "ID                                                                             \n",
              "0                7            1  2022        0               0             0   \n",
              "1                7            1  2022        0               0             0   \n",
              "2                7            1  2022        0               0             0   \n",
              "3                7            1  2022        0               0             0   \n",
              "4                7            1  2022        0               0             0   \n",
              "...            ...          ...   ...      ...             ...           ...   \n",
              "2634            10            7  2022        1               0             0   \n",
              "2635            10            7  2022        1               0             0   \n",
              "2636            10            7  2022        1               0             0   \n",
              "2637            10            7  2022        1               0             0   \n",
              "2638            10            7  2022        1               0             0   \n",
              "\n",
              "      is_quarter_start  is_quarter_end  is_year_start  is_year_end  season  \n",
              "ID                                                                          \n",
              "0                    0               0              0            0       0  \n",
              "1                    0               0              0            0       0  \n",
              "2                    0               0              0            0       0  \n",
              "3                    0               0              0            0       0  \n",
              "4                    0               0              0            0       0  \n",
              "...                ...             ...            ...          ...     ...  \n",
              "2634                 0               0              0            0       1  \n",
              "2635                 0               0              0            0       1  \n",
              "2636                 0               0              0            0       1  \n",
              "2637                 0               0              0            0       1  \n",
              "2638                 0               0              0            0       1  \n",
              "\n",
              "[2639 rows x 18 columns]"
            ]
          },
          "execution_count": 25,
          "metadata": {},
          "output_type": "execute_result"
        }
      ],
      "source": [
        "test_df"
      ]
    },
    {
      "cell_type": "code",
      "execution_count": null,
      "metadata": {
        "id": "BbJ4aaJUT-Z4"
      },
      "outputs": [],
      "source": [
        "validation_df = validation_df.drop('Week', axis=1)\n",
        "test_df = test_df.drop('Week', axis=1)"
      ]
    },
    {
      "cell_type": "code",
      "execution_count": null,
      "metadata": {
        "colab": {
          "base_uri": "https://localhost:8080/",
          "height": 238
        },
        "id": "9xpQbu2jlIB8",
        "outputId": "656205b5-f456-4e4d-c2cb-5e71e1676807"
      },
      "outputs": [
        {
          "data": {
            "text/html": [
              "<div>\n",
              "<style scoped>\n",
              "    .dataframe tbody tr th:only-of-type {\n",
              "        vertical-align: middle;\n",
              "    }\n",
              "\n",
              "    .dataframe tbody tr th {\n",
              "        vertical-align: top;\n",
              "    }\n",
              "\n",
              "    .dataframe thead th {\n",
              "        text-align: right;\n",
              "    }\n",
              "</style>\n",
              "<table border=\"1\" class=\"dataframe\">\n",
              "  <thead>\n",
              "    <tr style=\"text-align: right;\">\n",
              "      <th></th>\n",
              "      <th>CategoryCode</th>\n",
              "      <th>ItemCode</th>\n",
              "      <th>DateID</th>\n",
              "      <th>DailySales</th>\n",
              "      <th>DailySales_bins</th>\n",
              "      <th>month</th>\n",
              "      <th>day_of_month</th>\n",
              "      <th>day_of_year</th>\n",
              "      <th>week_of_year</th>\n",
              "      <th>day_of_week</th>\n",
              "      <th>year</th>\n",
              "      <th>is_wknd</th>\n",
              "      <th>is_month_start</th>\n",
              "      <th>is_month_end</th>\n",
              "      <th>is_quarter_start</th>\n",
              "      <th>is_quarter_end</th>\n",
              "      <th>is_year_start</th>\n",
              "      <th>is_year_end</th>\n",
              "      <th>season</th>\n",
              "    </tr>\n",
              "    <tr>\n",
              "      <th>ID</th>\n",
              "      <th></th>\n",
              "      <th></th>\n",
              "      <th></th>\n",
              "      <th></th>\n",
              "      <th></th>\n",
              "      <th></th>\n",
              "      <th></th>\n",
              "      <th></th>\n",
              "      <th></th>\n",
              "      <th></th>\n",
              "      <th></th>\n",
              "      <th></th>\n",
              "      <th></th>\n",
              "      <th></th>\n",
              "      <th></th>\n",
              "      <th></th>\n",
              "      <th></th>\n",
              "      <th></th>\n",
              "      <th></th>\n",
              "    </tr>\n",
              "  </thead>\n",
              "  <tbody>\n",
              "    <tr>\n",
              "      <th>0</th>\n",
              "      <td>category_2</td>\n",
              "      <td>174436</td>\n",
              "      <td>2021-10-01</td>\n",
              "      <td>9</td>\n",
              "      <td>(8, 9]</td>\n",
              "      <td>10</td>\n",
              "      <td>1</td>\n",
              "      <td>274</td>\n",
              "      <td>39</td>\n",
              "      <td>5</td>\n",
              "      <td>2021</td>\n",
              "      <td>1</td>\n",
              "      <td>1</td>\n",
              "      <td>0</td>\n",
              "      <td>1</td>\n",
              "      <td>0</td>\n",
              "      <td>0</td>\n",
              "      <td>0</td>\n",
              "      <td>3</td>\n",
              "    </tr>\n",
              "    <tr>\n",
              "      <th>1</th>\n",
              "      <td>category_2</td>\n",
              "      <td>118033</td>\n",
              "      <td>2021-10-01</td>\n",
              "      <td>4</td>\n",
              "      <td>(3, 4]</td>\n",
              "      <td>10</td>\n",
              "      <td>1</td>\n",
              "      <td>274</td>\n",
              "      <td>39</td>\n",
              "      <td>5</td>\n",
              "      <td>2021</td>\n",
              "      <td>1</td>\n",
              "      <td>1</td>\n",
              "      <td>0</td>\n",
              "      <td>1</td>\n",
              "      <td>0</td>\n",
              "      <td>0</td>\n",
              "      <td>0</td>\n",
              "      <td>3</td>\n",
              "    </tr>\n",
              "    <tr>\n",
              "      <th>2</th>\n",
              "      <td>category_2</td>\n",
              "      <td>20824</td>\n",
              "      <td>2021-10-01</td>\n",
              "      <td>7</td>\n",
              "      <td>(6, 7]</td>\n",
              "      <td>10</td>\n",
              "      <td>1</td>\n",
              "      <td>274</td>\n",
              "      <td>39</td>\n",
              "      <td>5</td>\n",
              "      <td>2021</td>\n",
              "      <td>1</td>\n",
              "      <td>1</td>\n",
              "      <td>0</td>\n",
              "      <td>1</td>\n",
              "      <td>0</td>\n",
              "      <td>0</td>\n",
              "      <td>0</td>\n",
              "      <td>3</td>\n",
              "    </tr>\n",
              "    <tr>\n",
              "      <th>3</th>\n",
              "      <td>category_1</td>\n",
              "      <td>1061341</td>\n",
              "      <td>2021-10-01</td>\n",
              "      <td>11</td>\n",
              "      <td>(10, 20]</td>\n",
              "      <td>10</td>\n",
              "      <td>1</td>\n",
              "      <td>274</td>\n",
              "      <td>39</td>\n",
              "      <td>5</td>\n",
              "      <td>2021</td>\n",
              "      <td>1</td>\n",
              "      <td>1</td>\n",
              "      <td>0</td>\n",
              "      <td>1</td>\n",
              "      <td>0</td>\n",
              "      <td>0</td>\n",
              "      <td>0</td>\n",
              "      <td>3</td>\n",
              "    </tr>\n",
              "    <tr>\n",
              "      <th>4</th>\n",
              "      <td>category_1</td>\n",
              "      <td>76399</td>\n",
              "      <td>2021-10-01</td>\n",
              "      <td>14</td>\n",
              "      <td>(10, 20]</td>\n",
              "      <td>10</td>\n",
              "      <td>1</td>\n",
              "      <td>274</td>\n",
              "      <td>39</td>\n",
              "      <td>5</td>\n",
              "      <td>2021</td>\n",
              "      <td>1</td>\n",
              "      <td>1</td>\n",
              "      <td>0</td>\n",
              "      <td>1</td>\n",
              "      <td>0</td>\n",
              "      <td>0</td>\n",
              "      <td>0</td>\n",
              "      <td>3</td>\n",
              "    </tr>\n",
              "    <tr>\n",
              "      <th>...</th>\n",
              "      <td>...</td>\n",
              "      <td>...</td>\n",
              "      <td>...</td>\n",
              "      <td>...</td>\n",
              "      <td>...</td>\n",
              "      <td>...</td>\n",
              "      <td>...</td>\n",
              "      <td>...</td>\n",
              "      <td>...</td>\n",
              "      <td>...</td>\n",
              "      <td>...</td>\n",
              "      <td>...</td>\n",
              "      <td>...</td>\n",
              "      <td>...</td>\n",
              "      <td>...</td>\n",
              "      <td>...</td>\n",
              "      <td>...</td>\n",
              "      <td>...</td>\n",
              "      <td>...</td>\n",
              "    </tr>\n",
              "    <tr>\n",
              "      <th>19916</th>\n",
              "      <td>category_2</td>\n",
              "      <td>57058</td>\n",
              "      <td>2022-02-13</td>\n",
              "      <td>3</td>\n",
              "      <td>(2, 3]</td>\n",
              "      <td>2</td>\n",
              "      <td>13</td>\n",
              "      <td>44</td>\n",
              "      <td>6</td>\n",
              "      <td>7</td>\n",
              "      <td>2022</td>\n",
              "      <td>1</td>\n",
              "      <td>0</td>\n",
              "      <td>0</td>\n",
              "      <td>0</td>\n",
              "      <td>0</td>\n",
              "      <td>0</td>\n",
              "      <td>0</td>\n",
              "      <td>0</td>\n",
              "    </tr>\n",
              "    <tr>\n",
              "      <th>19917</th>\n",
              "      <td>category_1</td>\n",
              "      <td>1084498</td>\n",
              "      <td>2022-02-13</td>\n",
              "      <td>4</td>\n",
              "      <td>(3, 4]</td>\n",
              "      <td>2</td>\n",
              "      <td>13</td>\n",
              "      <td>44</td>\n",
              "      <td>6</td>\n",
              "      <td>7</td>\n",
              "      <td>2022</td>\n",
              "      <td>1</td>\n",
              "      <td>0</td>\n",
              "      <td>0</td>\n",
              "      <td>0</td>\n",
              "      <td>0</td>\n",
              "      <td>0</td>\n",
              "      <td>0</td>\n",
              "      <td>0</td>\n",
              "    </tr>\n",
              "    <tr>\n",
              "      <th>19918</th>\n",
              "      <td>category_2</td>\n",
              "      <td>1067092</td>\n",
              "      <td>2022-02-13</td>\n",
              "      <td>13</td>\n",
              "      <td>(10, 20]</td>\n",
              "      <td>2</td>\n",
              "      <td>13</td>\n",
              "      <td>44</td>\n",
              "      <td>6</td>\n",
              "      <td>7</td>\n",
              "      <td>2022</td>\n",
              "      <td>1</td>\n",
              "      <td>0</td>\n",
              "      <td>0</td>\n",
              "      <td>0</td>\n",
              "      <td>0</td>\n",
              "      <td>0</td>\n",
              "      <td>0</td>\n",
              "      <td>0</td>\n",
              "    </tr>\n",
              "    <tr>\n",
              "      <th>19919</th>\n",
              "      <td>category_1</td>\n",
              "      <td>755584</td>\n",
              "      <td>2022-02-13</td>\n",
              "      <td>2</td>\n",
              "      <td>(1, 2]</td>\n",
              "      <td>2</td>\n",
              "      <td>13</td>\n",
              "      <td>44</td>\n",
              "      <td>6</td>\n",
              "      <td>7</td>\n",
              "      <td>2022</td>\n",
              "      <td>1</td>\n",
              "      <td>0</td>\n",
              "      <td>0</td>\n",
              "      <td>0</td>\n",
              "      <td>0</td>\n",
              "      <td>0</td>\n",
              "      <td>0</td>\n",
              "      <td>0</td>\n",
              "    </tr>\n",
              "    <tr>\n",
              "      <th>19920</th>\n",
              "      <td>category_3</td>\n",
              "      <td>893824</td>\n",
              "      <td>2022-02-13</td>\n",
              "      <td>1</td>\n",
              "      <td>(0, 1]</td>\n",
              "      <td>2</td>\n",
              "      <td>13</td>\n",
              "      <td>44</td>\n",
              "      <td>6</td>\n",
              "      <td>7</td>\n",
              "      <td>2022</td>\n",
              "      <td>1</td>\n",
              "      <td>0</td>\n",
              "      <td>0</td>\n",
              "      <td>0</td>\n",
              "      <td>0</td>\n",
              "      <td>0</td>\n",
              "      <td>0</td>\n",
              "      <td>0</td>\n",
              "    </tr>\n",
              "  </tbody>\n",
              "</table>\n",
              "<p>19921 rows × 19 columns</p>\n",
              "</div>"
            ],
            "text/plain": [
              "      CategoryCode  ItemCode     DateID  DailySales DailySales_bins  month  \\\n",
              "ID                                                                           \n",
              "0       category_2    174436 2021-10-01           9          (8, 9]     10   \n",
              "1       category_2    118033 2021-10-01           4          (3, 4]     10   \n",
              "2       category_2     20824 2021-10-01           7          (6, 7]     10   \n",
              "3       category_1   1061341 2021-10-01          11        (10, 20]     10   \n",
              "4       category_1     76399 2021-10-01          14        (10, 20]     10   \n",
              "...            ...       ...        ...         ...             ...    ...   \n",
              "19916   category_2     57058 2022-02-13           3          (2, 3]      2   \n",
              "19917   category_1   1084498 2022-02-13           4          (3, 4]      2   \n",
              "19918   category_2   1067092 2022-02-13          13        (10, 20]      2   \n",
              "19919   category_1    755584 2022-02-13           2          (1, 2]      2   \n",
              "19920   category_3    893824 2022-02-13           1          (0, 1]      2   \n",
              "\n",
              "       day_of_month  day_of_year  week_of_year  day_of_week  year  is_wknd  \\\n",
              "ID                                                                           \n",
              "0                 1          274            39            5  2021        1   \n",
              "1                 1          274            39            5  2021        1   \n",
              "2                 1          274            39            5  2021        1   \n",
              "3                 1          274            39            5  2021        1   \n",
              "4                 1          274            39            5  2021        1   \n",
              "...             ...          ...           ...          ...   ...      ...   \n",
              "19916            13           44             6            7  2022        1   \n",
              "19917            13           44             6            7  2022        1   \n",
              "19918            13           44             6            7  2022        1   \n",
              "19919            13           44             6            7  2022        1   \n",
              "19920            13           44             6            7  2022        1   \n",
              "\n",
              "       is_month_start  is_month_end  is_quarter_start  is_quarter_end  \\\n",
              "ID                                                                      \n",
              "0                   1             0                 1               0   \n",
              "1                   1             0                 1               0   \n",
              "2                   1             0                 1               0   \n",
              "3                   1             0                 1               0   \n",
              "4                   1             0                 1               0   \n",
              "...               ...           ...               ...             ...   \n",
              "19916               0             0                 0               0   \n",
              "19917               0             0                 0               0   \n",
              "19918               0             0                 0               0   \n",
              "19919               0             0                 0               0   \n",
              "19920               0             0                 0               0   \n",
              "\n",
              "       is_year_start  is_year_end  season  \n",
              "ID                                         \n",
              "0                  0            0       3  \n",
              "1                  0            0       3  \n",
              "2                  0            0       3  \n",
              "3                  0            0       3  \n",
              "4                  0            0       3  \n",
              "...              ...          ...     ...  \n",
              "19916              0            0       0  \n",
              "19917              0            0       0  \n",
              "19918              0            0       0  \n",
              "19919              0            0       0  \n",
              "19920              0            0       0  \n",
              "\n",
              "[19921 rows x 19 columns]"
            ]
          },
          "execution_count": 27,
          "metadata": {},
          "output_type": "execute_result"
        }
      ],
      "source": [
        "train_df"
      ]
    },
    {
      "cell_type": "code",
      "execution_count": null,
      "metadata": {
        "colab": {
          "base_uri": "https://localhost:8080/",
          "height": 238
        },
        "id": "jzMOpz4Eqt_G",
        "outputId": "c5100c3a-5278-43ab-8e62-7005099341a4"
      },
      "outputs": [
        {
          "data": {
            "text/html": [
              "<div>\n",
              "<style scoped>\n",
              "    .dataframe tbody tr th:only-of-type {\n",
              "        vertical-align: middle;\n",
              "    }\n",
              "\n",
              "    .dataframe tbody tr th {\n",
              "        vertical-align: top;\n",
              "    }\n",
              "\n",
              "    .dataframe thead th {\n",
              "        text-align: right;\n",
              "    }\n",
              "</style>\n",
              "<table border=\"1\" class=\"dataframe\">\n",
              "  <thead>\n",
              "    <tr style=\"text-align: right;\">\n",
              "      <th></th>\n",
              "      <th>CategoryCode</th>\n",
              "      <th>ItemCode</th>\n",
              "      <th>DateID</th>\n",
              "      <th>month</th>\n",
              "      <th>day_of_month</th>\n",
              "      <th>day_of_year</th>\n",
              "      <th>week_of_year</th>\n",
              "      <th>day_of_week</th>\n",
              "      <th>year</th>\n",
              "      <th>is_wknd</th>\n",
              "      <th>is_month_start</th>\n",
              "      <th>is_month_end</th>\n",
              "      <th>is_quarter_start</th>\n",
              "      <th>is_quarter_end</th>\n",
              "      <th>is_year_start</th>\n",
              "      <th>is_year_end</th>\n",
              "      <th>season</th>\n",
              "    </tr>\n",
              "    <tr>\n",
              "      <th>ID</th>\n",
              "      <th></th>\n",
              "      <th></th>\n",
              "      <th></th>\n",
              "      <th></th>\n",
              "      <th></th>\n",
              "      <th></th>\n",
              "      <th></th>\n",
              "      <th></th>\n",
              "      <th></th>\n",
              "      <th></th>\n",
              "      <th></th>\n",
              "      <th></th>\n",
              "      <th></th>\n",
              "      <th></th>\n",
              "      <th></th>\n",
              "      <th></th>\n",
              "      <th></th>\n",
              "    </tr>\n",
              "  </thead>\n",
              "  <tbody>\n",
              "    <tr>\n",
              "      <th>0</th>\n",
              "      <td>category_2</td>\n",
              "      <td>1044502</td>\n",
              "      <td>2022-02-14</td>\n",
              "      <td>2</td>\n",
              "      <td>14</td>\n",
              "      <td>45</td>\n",
              "      <td>7</td>\n",
              "      <td>1</td>\n",
              "      <td>2022</td>\n",
              "      <td>0</td>\n",
              "      <td>0</td>\n",
              "      <td>0</td>\n",
              "      <td>0</td>\n",
              "      <td>0</td>\n",
              "      <td>0</td>\n",
              "      <td>0</td>\n",
              "      <td>0</td>\n",
              "    </tr>\n",
              "    <tr>\n",
              "      <th>1</th>\n",
              "      <td>category_2</td>\n",
              "      <td>172582</td>\n",
              "      <td>2022-02-14</td>\n",
              "      <td>2</td>\n",
              "      <td>14</td>\n",
              "      <td>45</td>\n",
              "      <td>7</td>\n",
              "      <td>1</td>\n",
              "      <td>2022</td>\n",
              "      <td>0</td>\n",
              "      <td>0</td>\n",
              "      <td>0</td>\n",
              "      <td>0</td>\n",
              "      <td>0</td>\n",
              "      <td>0</td>\n",
              "      <td>0</td>\n",
              "      <td>0</td>\n",
              "    </tr>\n",
              "    <tr>\n",
              "      <th>2</th>\n",
              "      <td>category_3</td>\n",
              "      <td>1066570</td>\n",
              "      <td>2022-02-14</td>\n",
              "      <td>2</td>\n",
              "      <td>14</td>\n",
              "      <td>45</td>\n",
              "      <td>7</td>\n",
              "      <td>1</td>\n",
              "      <td>2022</td>\n",
              "      <td>0</td>\n",
              "      <td>0</td>\n",
              "      <td>0</td>\n",
              "      <td>0</td>\n",
              "      <td>0</td>\n",
              "      <td>0</td>\n",
              "      <td>0</td>\n",
              "      <td>0</td>\n",
              "    </tr>\n",
              "    <tr>\n",
              "      <th>3</th>\n",
              "      <td>category_2</td>\n",
              "      <td>1090240</td>\n",
              "      <td>2022-02-14</td>\n",
              "      <td>2</td>\n",
              "      <td>14</td>\n",
              "      <td>45</td>\n",
              "      <td>7</td>\n",
              "      <td>1</td>\n",
              "      <td>2022</td>\n",
              "      <td>0</td>\n",
              "      <td>0</td>\n",
              "      <td>0</td>\n",
              "      <td>0</td>\n",
              "      <td>0</td>\n",
              "      <td>0</td>\n",
              "      <td>0</td>\n",
              "      <td>0</td>\n",
              "    </tr>\n",
              "    <tr>\n",
              "      <th>4</th>\n",
              "      <td>category_3</td>\n",
              "      <td>1097143</td>\n",
              "      <td>2022-02-14</td>\n",
              "      <td>2</td>\n",
              "      <td>14</td>\n",
              "      <td>45</td>\n",
              "      <td>7</td>\n",
              "      <td>1</td>\n",
              "      <td>2022</td>\n",
              "      <td>0</td>\n",
              "      <td>0</td>\n",
              "      <td>0</td>\n",
              "      <td>0</td>\n",
              "      <td>0</td>\n",
              "      <td>0</td>\n",
              "      <td>0</td>\n",
              "      <td>0</td>\n",
              "    </tr>\n",
              "    <tr>\n",
              "      <th>...</th>\n",
              "      <td>...</td>\n",
              "      <td>...</td>\n",
              "      <td>...</td>\n",
              "      <td>...</td>\n",
              "      <td>...</td>\n",
              "      <td>...</td>\n",
              "      <td>...</td>\n",
              "      <td>...</td>\n",
              "      <td>...</td>\n",
              "      <td>...</td>\n",
              "      <td>...</td>\n",
              "      <td>...</td>\n",
              "      <td>...</td>\n",
              "      <td>...</td>\n",
              "      <td>...</td>\n",
              "      <td>...</td>\n",
              "      <td>...</td>\n",
              "    </tr>\n",
              "    <tr>\n",
              "      <th>2585</th>\n",
              "      <td>category_2</td>\n",
              "      <td>1026871</td>\n",
              "      <td>2022-03-13</td>\n",
              "      <td>3</td>\n",
              "      <td>13</td>\n",
              "      <td>72</td>\n",
              "      <td>10</td>\n",
              "      <td>7</td>\n",
              "      <td>2022</td>\n",
              "      <td>1</td>\n",
              "      <td>0</td>\n",
              "      <td>0</td>\n",
              "      <td>0</td>\n",
              "      <td>0</td>\n",
              "      <td>0</td>\n",
              "      <td>0</td>\n",
              "      <td>1</td>\n",
              "    </tr>\n",
              "    <tr>\n",
              "      <th>2586</th>\n",
              "      <td>category_2</td>\n",
              "      <td>1071124</td>\n",
              "      <td>2022-03-13</td>\n",
              "      <td>3</td>\n",
              "      <td>13</td>\n",
              "      <td>72</td>\n",
              "      <td>10</td>\n",
              "      <td>7</td>\n",
              "      <td>2022</td>\n",
              "      <td>1</td>\n",
              "      <td>0</td>\n",
              "      <td>0</td>\n",
              "      <td>0</td>\n",
              "      <td>0</td>\n",
              "      <td>0</td>\n",
              "      <td>0</td>\n",
              "      <td>1</td>\n",
              "    </tr>\n",
              "    <tr>\n",
              "      <th>2587</th>\n",
              "      <td>category_1</td>\n",
              "      <td>1050046</td>\n",
              "      <td>2022-03-13</td>\n",
              "      <td>3</td>\n",
              "      <td>13</td>\n",
              "      <td>72</td>\n",
              "      <td>10</td>\n",
              "      <td>7</td>\n",
              "      <td>2022</td>\n",
              "      <td>1</td>\n",
              "      <td>0</td>\n",
              "      <td>0</td>\n",
              "      <td>0</td>\n",
              "      <td>0</td>\n",
              "      <td>0</td>\n",
              "      <td>0</td>\n",
              "      <td>1</td>\n",
              "    </tr>\n",
              "    <tr>\n",
              "      <th>2588</th>\n",
              "      <td>category_1</td>\n",
              "      <td>1030948</td>\n",
              "      <td>2022-03-13</td>\n",
              "      <td>3</td>\n",
              "      <td>13</td>\n",
              "      <td>72</td>\n",
              "      <td>10</td>\n",
              "      <td>7</td>\n",
              "      <td>2022</td>\n",
              "      <td>1</td>\n",
              "      <td>0</td>\n",
              "      <td>0</td>\n",
              "      <td>0</td>\n",
              "      <td>0</td>\n",
              "      <td>0</td>\n",
              "      <td>0</td>\n",
              "      <td>1</td>\n",
              "    </tr>\n",
              "    <tr>\n",
              "      <th>2589</th>\n",
              "      <td>category_1</td>\n",
              "      <td>3418</td>\n",
              "      <td>2022-03-13</td>\n",
              "      <td>3</td>\n",
              "      <td>13</td>\n",
              "      <td>72</td>\n",
              "      <td>10</td>\n",
              "      <td>7</td>\n",
              "      <td>2022</td>\n",
              "      <td>1</td>\n",
              "      <td>0</td>\n",
              "      <td>0</td>\n",
              "      <td>0</td>\n",
              "      <td>0</td>\n",
              "      <td>0</td>\n",
              "      <td>0</td>\n",
              "      <td>1</td>\n",
              "    </tr>\n",
              "  </tbody>\n",
              "</table>\n",
              "<p>2590 rows × 17 columns</p>\n",
              "</div>"
            ],
            "text/plain": [
              "     CategoryCode  ItemCode     DateID  month  day_of_month  day_of_year  \\\n",
              "ID                                                                         \n",
              "0      category_2   1044502 2022-02-14      2            14           45   \n",
              "1      category_2    172582 2022-02-14      2            14           45   \n",
              "2      category_3   1066570 2022-02-14      2            14           45   \n",
              "3      category_2   1090240 2022-02-14      2            14           45   \n",
              "4      category_3   1097143 2022-02-14      2            14           45   \n",
              "...           ...       ...        ...    ...           ...          ...   \n",
              "2585   category_2   1026871 2022-03-13      3            13           72   \n",
              "2586   category_2   1071124 2022-03-13      3            13           72   \n",
              "2587   category_1   1050046 2022-03-13      3            13           72   \n",
              "2588   category_1   1030948 2022-03-13      3            13           72   \n",
              "2589   category_1      3418 2022-03-13      3            13           72   \n",
              "\n",
              "      week_of_year  day_of_week  year  is_wknd  is_month_start  is_month_end  \\\n",
              "ID                                                                             \n",
              "0                7            1  2022        0               0             0   \n",
              "1                7            1  2022        0               0             0   \n",
              "2                7            1  2022        0               0             0   \n",
              "3                7            1  2022        0               0             0   \n",
              "4                7            1  2022        0               0             0   \n",
              "...            ...          ...   ...      ...             ...           ...   \n",
              "2585            10            7  2022        1               0             0   \n",
              "2586            10            7  2022        1               0             0   \n",
              "2587            10            7  2022        1               0             0   \n",
              "2588            10            7  2022        1               0             0   \n",
              "2589            10            7  2022        1               0             0   \n",
              "\n",
              "      is_quarter_start  is_quarter_end  is_year_start  is_year_end  season  \n",
              "ID                                                                          \n",
              "0                    0               0              0            0       0  \n",
              "1                    0               0              0            0       0  \n",
              "2                    0               0              0            0       0  \n",
              "3                    0               0              0            0       0  \n",
              "4                    0               0              0            0       0  \n",
              "...                ...             ...            ...          ...     ...  \n",
              "2585                 0               0              0            0       1  \n",
              "2586                 0               0              0            0       1  \n",
              "2587                 0               0              0            0       1  \n",
              "2588                 0               0              0            0       1  \n",
              "2589                 0               0              0            0       1  \n",
              "\n",
              "[2590 rows x 17 columns]"
            ]
          },
          "execution_count": 29,
          "metadata": {},
          "output_type": "execute_result"
        }
      ],
      "source": [
        "validation_df"
      ]
    },
    {
      "cell_type": "code",
      "execution_count": null,
      "metadata": {
        "colab": {
          "base_uri": "https://localhost:8080/",
          "height": 238
        },
        "id": "N7AmYqkLSf8g",
        "outputId": "5dad131c-4e2b-4752-b01e-faf2fda8db31"
      },
      "outputs": [
        {
          "data": {
            "text/html": [
              "<div>\n",
              "<style scoped>\n",
              "    .dataframe tbody tr th:only-of-type {\n",
              "        vertical-align: middle;\n",
              "    }\n",
              "\n",
              "    .dataframe tbody tr th {\n",
              "        vertical-align: top;\n",
              "    }\n",
              "\n",
              "    .dataframe thead th {\n",
              "        text-align: right;\n",
              "    }\n",
              "</style>\n",
              "<table border=\"1\" class=\"dataframe\">\n",
              "  <thead>\n",
              "    <tr style=\"text-align: right;\">\n",
              "      <th></th>\n",
              "      <th>CategoryCode</th>\n",
              "      <th>ItemCode</th>\n",
              "      <th>DateID</th>\n",
              "      <th>month</th>\n",
              "      <th>day_of_month</th>\n",
              "      <th>day_of_year</th>\n",
              "      <th>week_of_year</th>\n",
              "      <th>day_of_week</th>\n",
              "      <th>year</th>\n",
              "      <th>is_wknd</th>\n",
              "      <th>is_month_start</th>\n",
              "      <th>is_month_end</th>\n",
              "      <th>is_quarter_start</th>\n",
              "      <th>is_quarter_end</th>\n",
              "      <th>is_year_start</th>\n",
              "      <th>is_year_end</th>\n",
              "      <th>season</th>\n",
              "    </tr>\n",
              "    <tr>\n",
              "      <th>ID</th>\n",
              "      <th></th>\n",
              "      <th></th>\n",
              "      <th></th>\n",
              "      <th></th>\n",
              "      <th></th>\n",
              "      <th></th>\n",
              "      <th></th>\n",
              "      <th></th>\n",
              "      <th></th>\n",
              "      <th></th>\n",
              "      <th></th>\n",
              "      <th></th>\n",
              "      <th></th>\n",
              "      <th></th>\n",
              "      <th></th>\n",
              "      <th></th>\n",
              "      <th></th>\n",
              "    </tr>\n",
              "  </thead>\n",
              "  <tbody>\n",
              "    <tr>\n",
              "      <th>0</th>\n",
              "      <td>category_1</td>\n",
              "      <td>370195</td>\n",
              "      <td>2022-02-14</td>\n",
              "      <td>2</td>\n",
              "      <td>14</td>\n",
              "      <td>45</td>\n",
              "      <td>7</td>\n",
              "      <td>1</td>\n",
              "      <td>2022</td>\n",
              "      <td>0</td>\n",
              "      <td>0</td>\n",
              "      <td>0</td>\n",
              "      <td>0</td>\n",
              "      <td>0</td>\n",
              "      <td>0</td>\n",
              "      <td>0</td>\n",
              "      <td>0</td>\n",
              "    </tr>\n",
              "    <tr>\n",
              "      <th>1</th>\n",
              "      <td>category_1</td>\n",
              "      <td>1032559</td>\n",
              "      <td>2022-02-14</td>\n",
              "      <td>2</td>\n",
              "      <td>14</td>\n",
              "      <td>45</td>\n",
              "      <td>7</td>\n",
              "      <td>1</td>\n",
              "      <td>2022</td>\n",
              "      <td>0</td>\n",
              "      <td>0</td>\n",
              "      <td>0</td>\n",
              "      <td>0</td>\n",
              "      <td>0</td>\n",
              "      <td>0</td>\n",
              "      <td>0</td>\n",
              "      <td>0</td>\n",
              "    </tr>\n",
              "    <tr>\n",
              "      <th>2</th>\n",
              "      <td>category_2</td>\n",
              "      <td>174436</td>\n",
              "      <td>2022-02-14</td>\n",
              "      <td>2</td>\n",
              "      <td>14</td>\n",
              "      <td>45</td>\n",
              "      <td>7</td>\n",
              "      <td>1</td>\n",
              "      <td>2022</td>\n",
              "      <td>0</td>\n",
              "      <td>0</td>\n",
              "      <td>0</td>\n",
              "      <td>0</td>\n",
              "      <td>0</td>\n",
              "      <td>0</td>\n",
              "      <td>0</td>\n",
              "      <td>0</td>\n",
              "    </tr>\n",
              "    <tr>\n",
              "      <th>3</th>\n",
              "      <td>category_2</td>\n",
              "      <td>262384</td>\n",
              "      <td>2022-02-14</td>\n",
              "      <td>2</td>\n",
              "      <td>14</td>\n",
              "      <td>45</td>\n",
              "      <td>7</td>\n",
              "      <td>1</td>\n",
              "      <td>2022</td>\n",
              "      <td>0</td>\n",
              "      <td>0</td>\n",
              "      <td>0</td>\n",
              "      <td>0</td>\n",
              "      <td>0</td>\n",
              "      <td>0</td>\n",
              "      <td>0</td>\n",
              "      <td>0</td>\n",
              "    </tr>\n",
              "    <tr>\n",
              "      <th>4</th>\n",
              "      <td>category_1</td>\n",
              "      <td>371104</td>\n",
              "      <td>2022-02-14</td>\n",
              "      <td>2</td>\n",
              "      <td>14</td>\n",
              "      <td>45</td>\n",
              "      <td>7</td>\n",
              "      <td>1</td>\n",
              "      <td>2022</td>\n",
              "      <td>0</td>\n",
              "      <td>0</td>\n",
              "      <td>0</td>\n",
              "      <td>0</td>\n",
              "      <td>0</td>\n",
              "      <td>0</td>\n",
              "      <td>0</td>\n",
              "      <td>0</td>\n",
              "    </tr>\n",
              "    <tr>\n",
              "      <th>...</th>\n",
              "      <td>...</td>\n",
              "      <td>...</td>\n",
              "      <td>...</td>\n",
              "      <td>...</td>\n",
              "      <td>...</td>\n",
              "      <td>...</td>\n",
              "      <td>...</td>\n",
              "      <td>...</td>\n",
              "      <td>...</td>\n",
              "      <td>...</td>\n",
              "      <td>...</td>\n",
              "      <td>...</td>\n",
              "      <td>...</td>\n",
              "      <td>...</td>\n",
              "      <td>...</td>\n",
              "      <td>...</td>\n",
              "      <td>...</td>\n",
              "    </tr>\n",
              "    <tr>\n",
              "      <th>2634</th>\n",
              "      <td>category_1</td>\n",
              "      <td>371104</td>\n",
              "      <td>2022-03-13</td>\n",
              "      <td>3</td>\n",
              "      <td>13</td>\n",
              "      <td>72</td>\n",
              "      <td>10</td>\n",
              "      <td>7</td>\n",
              "      <td>2022</td>\n",
              "      <td>1</td>\n",
              "      <td>0</td>\n",
              "      <td>0</td>\n",
              "      <td>0</td>\n",
              "      <td>0</td>\n",
              "      <td>0</td>\n",
              "      <td>0</td>\n",
              "      <td>1</td>\n",
              "    </tr>\n",
              "    <tr>\n",
              "      <th>2635</th>\n",
              "      <td>category_1</td>\n",
              "      <td>42424</td>\n",
              "      <td>2022-03-13</td>\n",
              "      <td>3</td>\n",
              "      <td>13</td>\n",
              "      <td>72</td>\n",
              "      <td>10</td>\n",
              "      <td>7</td>\n",
              "      <td>2022</td>\n",
              "      <td>1</td>\n",
              "      <td>0</td>\n",
              "      <td>0</td>\n",
              "      <td>0</td>\n",
              "      <td>0</td>\n",
              "      <td>0</td>\n",
              "      <td>0</td>\n",
              "      <td>1</td>\n",
              "    </tr>\n",
              "    <tr>\n",
              "      <th>2636</th>\n",
              "      <td>category_3</td>\n",
              "      <td>1090024</td>\n",
              "      <td>2022-03-13</td>\n",
              "      <td>3</td>\n",
              "      <td>13</td>\n",
              "      <td>72</td>\n",
              "      <td>10</td>\n",
              "      <td>7</td>\n",
              "      <td>2022</td>\n",
              "      <td>1</td>\n",
              "      <td>0</td>\n",
              "      <td>0</td>\n",
              "      <td>0</td>\n",
              "      <td>0</td>\n",
              "      <td>0</td>\n",
              "      <td>0</td>\n",
              "      <td>1</td>\n",
              "    </tr>\n",
              "    <tr>\n",
              "      <th>2637</th>\n",
              "      <td>category_2</td>\n",
              "      <td>999403</td>\n",
              "      <td>2022-03-13</td>\n",
              "      <td>3</td>\n",
              "      <td>13</td>\n",
              "      <td>72</td>\n",
              "      <td>10</td>\n",
              "      <td>7</td>\n",
              "      <td>2022</td>\n",
              "      <td>1</td>\n",
              "      <td>0</td>\n",
              "      <td>0</td>\n",
              "      <td>0</td>\n",
              "      <td>0</td>\n",
              "      <td>0</td>\n",
              "      <td>0</td>\n",
              "      <td>1</td>\n",
              "    </tr>\n",
              "    <tr>\n",
              "      <th>2638</th>\n",
              "      <td>category_1</td>\n",
              "      <td>1044691</td>\n",
              "      <td>2022-03-13</td>\n",
              "      <td>3</td>\n",
              "      <td>13</td>\n",
              "      <td>72</td>\n",
              "      <td>10</td>\n",
              "      <td>7</td>\n",
              "      <td>2022</td>\n",
              "      <td>1</td>\n",
              "      <td>0</td>\n",
              "      <td>0</td>\n",
              "      <td>0</td>\n",
              "      <td>0</td>\n",
              "      <td>0</td>\n",
              "      <td>0</td>\n",
              "      <td>1</td>\n",
              "    </tr>\n",
              "  </tbody>\n",
              "</table>\n",
              "<p>2639 rows × 17 columns</p>\n",
              "</div>"
            ],
            "text/plain": [
              "     CategoryCode  ItemCode     DateID  month  day_of_month  day_of_year  \\\n",
              "ID                                                                         \n",
              "0      category_1    370195 2022-02-14      2            14           45   \n",
              "1      category_1   1032559 2022-02-14      2            14           45   \n",
              "2      category_2    174436 2022-02-14      2            14           45   \n",
              "3      category_2    262384 2022-02-14      2            14           45   \n",
              "4      category_1    371104 2022-02-14      2            14           45   \n",
              "...           ...       ...        ...    ...           ...          ...   \n",
              "2634   category_1    371104 2022-03-13      3            13           72   \n",
              "2635   category_1     42424 2022-03-13      3            13           72   \n",
              "2636   category_3   1090024 2022-03-13      3            13           72   \n",
              "2637   category_2    999403 2022-03-13      3            13           72   \n",
              "2638   category_1   1044691 2022-03-13      3            13           72   \n",
              "\n",
              "      week_of_year  day_of_week  year  is_wknd  is_month_start  is_month_end  \\\n",
              "ID                                                                             \n",
              "0                7            1  2022        0               0             0   \n",
              "1                7            1  2022        0               0             0   \n",
              "2                7            1  2022        0               0             0   \n",
              "3                7            1  2022        0               0             0   \n",
              "4                7            1  2022        0               0             0   \n",
              "...            ...          ...   ...      ...             ...           ...   \n",
              "2634            10            7  2022        1               0             0   \n",
              "2635            10            7  2022        1               0             0   \n",
              "2636            10            7  2022        1               0             0   \n",
              "2637            10            7  2022        1               0             0   \n",
              "2638            10            7  2022        1               0             0   \n",
              "\n",
              "      is_quarter_start  is_quarter_end  is_year_start  is_year_end  season  \n",
              "ID                                                                          \n",
              "0                    0               0              0            0       0  \n",
              "1                    0               0              0            0       0  \n",
              "2                    0               0              0            0       0  \n",
              "3                    0               0              0            0       0  \n",
              "4                    0               0              0            0       0  \n",
              "...                ...             ...            ...          ...     ...  \n",
              "2634                 0               0              0            0       1  \n",
              "2635                 0               0              0            0       1  \n",
              "2636                 0               0              0            0       1  \n",
              "2637                 0               0              0            0       1  \n",
              "2638                 0               0              0            0       1  \n",
              "\n",
              "[2639 rows x 17 columns]"
            ]
          },
          "execution_count": 30,
          "metadata": {},
          "output_type": "execute_result"
        }
      ],
      "source": [
        "test_df"
      ]
    },
    {
      "cell_type": "code",
      "execution_count": null,
      "metadata": {
        "id": "fvu5rI5ZlUs3"
      },
      "outputs": [],
      "source": [
        "# train_df['daily_avg']  = train_df.groupby(['ItemCode','CategoryCode','day_of_week'])['DailySales'].transform('mean')\n",
        "# train_df['monthly_avg'] = train_df.groupby(['ItemCode','CategoryCode','month'])['DailySales'].transform('mean')\n",
        "# train_df = train_df.dropna()\n",
        "\n",
        "# # Average sales for Day_of_week = d per Item,Store\n",
        "# daymonth_avg = train_df.groupby(['ItemCode','CategoryCode','day_of_week'])['DailySales'].mean().reset_index()\n",
        "# # Average sales for Month = m per Item,Store\n",
        "# monthly_avg = train_df.groupby(['ItemCode','CategoryCode','month'])['DailySales'].mean().reset_index()"
      ]
    },
    {
      "cell_type": "code",
      "execution_count": null,
      "metadata": {
        "id": "hAjlxd5Wq0SO"
      },
      "outputs": [],
      "source": [
        "#train_df.head()"
      ]
    },
    {
      "cell_type": "code",
      "execution_count": null,
      "metadata": {
        "id": "eXh7BdcknItx"
      },
      "outputs": [],
      "source": [
        "#Merge Test with Daily Avg, Monthly Avg\n",
        "# def merge(df1, df2, col,col_name):\n",
        "    \n",
        "#     df1 = pd.merge(df1, df2, how='left', on=None, left_on=col, right_on=col,\n",
        "#             left_index=False, right_index=False, sort=True,\n",
        "#              copy=True, indicator=False)\n",
        "    \n",
        "#     df1 = df1.rename(columns={'DailySales':col_name})\n",
        "#     return df1"
      ]
    },
    {
      "cell_type": "code",
      "execution_count": null,
      "metadata": {
        "id": "_uOzKuAtqGfF"
      },
      "outputs": [],
      "source": [
        "#daymonth_avg.head()"
      ]
    },
    {
      "cell_type": "code",
      "execution_count": null,
      "metadata": {
        "id": "x649UAl_pu-D"
      },
      "outputs": [],
      "source": [
        "#monthly_avg.head()"
      ]
    },
    {
      "cell_type": "code",
      "execution_count": null,
      "metadata": {
        "id": "IWGjxynlnJLG"
      },
      "outputs": [],
      "source": [
        "# # Add Daily_avg and Monthly_avg features to test \n",
        "# validation_df = merge(validation_df, daymonth_avg, ['ItemCode','CategoryCode','day_of_week'],'daily_avg')\n",
        "# validation_df = merge(validation_df, monthly_avg,['ItemCode','CategoryCode','month'],'monthly_avg')\n",
        "\n",
        "# # Add Daily_avg and Monthly_avg features to test \n",
        "# test_df = merge(test_df, daymonth_avg, ['ItemCode','CategoryCode','day_of_week'],'daily_avg')\n",
        "# test_df = merge(test_df, monthly_avg,['ItemCode','CategoryCode','month'],'monthly_avg')\n",
        "\n",
        "# # Sales Rolling mean sequence per item \n",
        "# rolling_10 = train_df.groupby(['ItemCode'])['DailySales'].rolling(5).mean().reset_index()\n",
        "# train_df['rolling_mean'] = rolling_10['DailySales'] \n",
        "\n",
        "# # 90 last days of training rolling mean sequence added to test data\n",
        "# rolling_last90 = train_df.groupby(['ItemCode','CategoryCode'])['rolling_mean'].tail(10).copy()\n",
        "# validation_df['rolling_mean'] = rolling_last90.reset_index().drop('ID', axis=1)\n",
        "# test_df['rolling_mean'] = rolling_last90.reset_index().drop('ID', axis=1)\n",
        "\n",
        "# # Shifting rolling mean 3 months\n",
        "# train_df['rolling_mean'] = train_df.groupby(['ItemCode'])['rolling_mean'].shift(10) # Create a feature with rolling mean of day - 90\n",
        "# train_df.head()"
      ]
    },
    {
      "cell_type": "code",
      "execution_count": null,
      "metadata": {
        "id": "BGiA3v4vye52"
      },
      "outputs": [],
      "source": [
        "# train_df['rolling_mean'] = train_df['rolling_mean'].fillna(0)\n",
        "# validation_df['rolling_mean'] = validation_df['rolling_mean'].fillna(0)\n",
        "# test_df['rolling_mean'] = test_df['rolling_mean'].fillna(0)"
      ]
    },
    {
      "cell_type": "code",
      "execution_count": null,
      "metadata": {
        "id": "w6FZq-oGe2gr"
      },
      "outputs": [],
      "source": [
        "# train_df['monthly_avg'] = train_df['monthly_avg'].fillna(0)\n",
        "# validation_df['monthly_avg'] = validation_df['monthly_avg'].fillna(0)\n",
        "# test_df['monthly_avg'] = test_df['monthly_avg'].fillna(0)"
      ]
    },
    {
      "cell_type": "code",
      "execution_count": null,
      "metadata": {
        "id": "buzPtqg-zLzJ"
      },
      "outputs": [],
      "source": [
        "# from sklearn.preprocessing import OneHotEncoder\n",
        "# enc = OneHotEncoder(handle_unknown='ignore', sparse=False, drop='first')\n",
        "# encoded_train = pd.DataFrame(enc.fit_transform(train_df['CategoryCode'].values.reshape(-1,1)))\n",
        "# encoded_val = pd.DataFrame(enc.transform(validation_df['CategoryCode'].values.reshape(-1,1)))\n",
        "# encoded_test = pd.DataFrame(enc.transform(test_df['CategoryCode'].values.reshape(-1,1)))"
      ]
    },
    {
      "cell_type": "code",
      "execution_count": null,
      "metadata": {
        "id": "fAoai-Py77Yp"
      },
      "outputs": [],
      "source": [
        "# train_df['Category_1'] = encoded_train[0]\n",
        "# train_df['Category_2'] = encoded_train[1]\n",
        "# train_df['Category_3'] = encoded_train[2]"
      ]
    },
    {
      "cell_type": "code",
      "execution_count": null,
      "metadata": {
        "id": "6RKab3oH3WLG"
      },
      "outputs": [],
      "source": [
        "# validation_df['Category_1'] = encoded_val[0]\n",
        "# validation_df['Category_2'] = encoded_val[1]\n",
        "# validation_df['Category_3'] = encoded_val[2]"
      ]
    },
    {
      "cell_type": "code",
      "execution_count": null,
      "metadata": {
        "id": "cGkROtDkTH7x"
      },
      "outputs": [],
      "source": [
        "# test_df['Category_1'] = encoded_test[0]\n",
        "# test_df['Category_2'] = encoded_test[1]\n",
        "# test_df['Category_3'] = encoded_test[2]"
      ]
    },
    {
      "cell_type": "code",
      "execution_count": null,
      "metadata": {
        "id": "vy6noI1Z67OC"
      },
      "outputs": [],
      "source": [
        "from sklearn import preprocessing\n",
        "le = preprocessing.LabelEncoder()\n"
      ]
    },
    {
      "cell_type": "code",
      "execution_count": null,
      "metadata": {
        "id": "QWJrEk-Q7HnF"
      },
      "outputs": [],
      "source": [
        "a = le.fit(train_df['CategoryCode'])\n",
        "train_df['CategoryCode'] = a.transform(train_df['CategoryCode'])\n",
        "validation_df['CategoryCode'] = a.transform(validation_df['CategoryCode'])\n",
        "test_df['CategoryCode'] = le.transform(test_df['CategoryCode'])"
      ]
    },
    {
      "cell_type": "code",
      "execution_count": null,
      "metadata": {
        "colab": {
          "base_uri": "https://localhost:8080/",
          "height": 708
        },
        "id": "mKtKfYPE88qm",
        "outputId": "ecde3199-fae1-4f10-9387-ed30242e8041"
      },
      "outputs": [
        {
          "data": {
            "text/html": [
              "<div>\n",
              "<style scoped>\n",
              "    .dataframe tbody tr th:only-of-type {\n",
              "        vertical-align: middle;\n",
              "    }\n",
              "\n",
              "    .dataframe tbody tr th {\n",
              "        vertical-align: top;\n",
              "    }\n",
              "\n",
              "    .dataframe thead th {\n",
              "        text-align: right;\n",
              "    }\n",
              "</style>\n",
              "<table border=\"1\" class=\"dataframe\">\n",
              "  <thead>\n",
              "    <tr style=\"text-align: right;\">\n",
              "      <th></th>\n",
              "      <th>CategoryCode</th>\n",
              "      <th>ItemCode</th>\n",
              "      <th>DateID</th>\n",
              "      <th>DailySales</th>\n",
              "      <th>DailySales_bins</th>\n",
              "      <th>month</th>\n",
              "      <th>day_of_month</th>\n",
              "      <th>day_of_year</th>\n",
              "      <th>week_of_year</th>\n",
              "      <th>day_of_week</th>\n",
              "      <th>year</th>\n",
              "      <th>is_wknd</th>\n",
              "      <th>is_month_start</th>\n",
              "      <th>is_month_end</th>\n",
              "      <th>is_quarter_start</th>\n",
              "      <th>is_quarter_end</th>\n",
              "      <th>is_year_start</th>\n",
              "      <th>is_year_end</th>\n",
              "      <th>season</th>\n",
              "    </tr>\n",
              "    <tr>\n",
              "      <th>ID</th>\n",
              "      <th></th>\n",
              "      <th></th>\n",
              "      <th></th>\n",
              "      <th></th>\n",
              "      <th></th>\n",
              "      <th></th>\n",
              "      <th></th>\n",
              "      <th></th>\n",
              "      <th></th>\n",
              "      <th></th>\n",
              "      <th></th>\n",
              "      <th></th>\n",
              "      <th></th>\n",
              "      <th></th>\n",
              "      <th></th>\n",
              "      <th></th>\n",
              "      <th></th>\n",
              "      <th></th>\n",
              "      <th></th>\n",
              "    </tr>\n",
              "  </thead>\n",
              "  <tbody>\n",
              "    <tr>\n",
              "      <th>0</th>\n",
              "      <td>1</td>\n",
              "      <td>174436</td>\n",
              "      <td>2021-10-01</td>\n",
              "      <td>9</td>\n",
              "      <td>(8, 9]</td>\n",
              "      <td>10</td>\n",
              "      <td>1</td>\n",
              "      <td>274</td>\n",
              "      <td>39</td>\n",
              "      <td>5</td>\n",
              "      <td>2021</td>\n",
              "      <td>1</td>\n",
              "      <td>1</td>\n",
              "      <td>0</td>\n",
              "      <td>1</td>\n",
              "      <td>0</td>\n",
              "      <td>0</td>\n",
              "      <td>0</td>\n",
              "      <td>3</td>\n",
              "    </tr>\n",
              "    <tr>\n",
              "      <th>1</th>\n",
              "      <td>1</td>\n",
              "      <td>118033</td>\n",
              "      <td>2021-10-01</td>\n",
              "      <td>4</td>\n",
              "      <td>(3, 4]</td>\n",
              "      <td>10</td>\n",
              "      <td>1</td>\n",
              "      <td>274</td>\n",
              "      <td>39</td>\n",
              "      <td>5</td>\n",
              "      <td>2021</td>\n",
              "      <td>1</td>\n",
              "      <td>1</td>\n",
              "      <td>0</td>\n",
              "      <td>1</td>\n",
              "      <td>0</td>\n",
              "      <td>0</td>\n",
              "      <td>0</td>\n",
              "      <td>3</td>\n",
              "    </tr>\n",
              "    <tr>\n",
              "      <th>2</th>\n",
              "      <td>1</td>\n",
              "      <td>20824</td>\n",
              "      <td>2021-10-01</td>\n",
              "      <td>7</td>\n",
              "      <td>(6, 7]</td>\n",
              "      <td>10</td>\n",
              "      <td>1</td>\n",
              "      <td>274</td>\n",
              "      <td>39</td>\n",
              "      <td>5</td>\n",
              "      <td>2021</td>\n",
              "      <td>1</td>\n",
              "      <td>1</td>\n",
              "      <td>0</td>\n",
              "      <td>1</td>\n",
              "      <td>0</td>\n",
              "      <td>0</td>\n",
              "      <td>0</td>\n",
              "      <td>3</td>\n",
              "    </tr>\n",
              "    <tr>\n",
              "      <th>3</th>\n",
              "      <td>0</td>\n",
              "      <td>1061341</td>\n",
              "      <td>2021-10-01</td>\n",
              "      <td>11</td>\n",
              "      <td>(10, 20]</td>\n",
              "      <td>10</td>\n",
              "      <td>1</td>\n",
              "      <td>274</td>\n",
              "      <td>39</td>\n",
              "      <td>5</td>\n",
              "      <td>2021</td>\n",
              "      <td>1</td>\n",
              "      <td>1</td>\n",
              "      <td>0</td>\n",
              "      <td>1</td>\n",
              "      <td>0</td>\n",
              "      <td>0</td>\n",
              "      <td>0</td>\n",
              "      <td>3</td>\n",
              "    </tr>\n",
              "    <tr>\n",
              "      <th>4</th>\n",
              "      <td>0</td>\n",
              "      <td>76399</td>\n",
              "      <td>2021-10-01</td>\n",
              "      <td>14</td>\n",
              "      <td>(10, 20]</td>\n",
              "      <td>10</td>\n",
              "      <td>1</td>\n",
              "      <td>274</td>\n",
              "      <td>39</td>\n",
              "      <td>5</td>\n",
              "      <td>2021</td>\n",
              "      <td>1</td>\n",
              "      <td>1</td>\n",
              "      <td>0</td>\n",
              "      <td>1</td>\n",
              "      <td>0</td>\n",
              "      <td>0</td>\n",
              "      <td>0</td>\n",
              "      <td>3</td>\n",
              "    </tr>\n",
              "    <tr>\n",
              "      <th>...</th>\n",
              "      <td>...</td>\n",
              "      <td>...</td>\n",
              "      <td>...</td>\n",
              "      <td>...</td>\n",
              "      <td>...</td>\n",
              "      <td>...</td>\n",
              "      <td>...</td>\n",
              "      <td>...</td>\n",
              "      <td>...</td>\n",
              "      <td>...</td>\n",
              "      <td>...</td>\n",
              "      <td>...</td>\n",
              "      <td>...</td>\n",
              "      <td>...</td>\n",
              "      <td>...</td>\n",
              "      <td>...</td>\n",
              "      <td>...</td>\n",
              "      <td>...</td>\n",
              "      <td>...</td>\n",
              "    </tr>\n",
              "    <tr>\n",
              "      <th>19916</th>\n",
              "      <td>1</td>\n",
              "      <td>57058</td>\n",
              "      <td>2022-02-13</td>\n",
              "      <td>3</td>\n",
              "      <td>(2, 3]</td>\n",
              "      <td>2</td>\n",
              "      <td>13</td>\n",
              "      <td>44</td>\n",
              "      <td>6</td>\n",
              "      <td>7</td>\n",
              "      <td>2022</td>\n",
              "      <td>1</td>\n",
              "      <td>0</td>\n",
              "      <td>0</td>\n",
              "      <td>0</td>\n",
              "      <td>0</td>\n",
              "      <td>0</td>\n",
              "      <td>0</td>\n",
              "      <td>0</td>\n",
              "    </tr>\n",
              "    <tr>\n",
              "      <th>19917</th>\n",
              "      <td>0</td>\n",
              "      <td>1084498</td>\n",
              "      <td>2022-02-13</td>\n",
              "      <td>4</td>\n",
              "      <td>(3, 4]</td>\n",
              "      <td>2</td>\n",
              "      <td>13</td>\n",
              "      <td>44</td>\n",
              "      <td>6</td>\n",
              "      <td>7</td>\n",
              "      <td>2022</td>\n",
              "      <td>1</td>\n",
              "      <td>0</td>\n",
              "      <td>0</td>\n",
              "      <td>0</td>\n",
              "      <td>0</td>\n",
              "      <td>0</td>\n",
              "      <td>0</td>\n",
              "      <td>0</td>\n",
              "    </tr>\n",
              "    <tr>\n",
              "      <th>19918</th>\n",
              "      <td>1</td>\n",
              "      <td>1067092</td>\n",
              "      <td>2022-02-13</td>\n",
              "      <td>13</td>\n",
              "      <td>(10, 20]</td>\n",
              "      <td>2</td>\n",
              "      <td>13</td>\n",
              "      <td>44</td>\n",
              "      <td>6</td>\n",
              "      <td>7</td>\n",
              "      <td>2022</td>\n",
              "      <td>1</td>\n",
              "      <td>0</td>\n",
              "      <td>0</td>\n",
              "      <td>0</td>\n",
              "      <td>0</td>\n",
              "      <td>0</td>\n",
              "      <td>0</td>\n",
              "      <td>0</td>\n",
              "    </tr>\n",
              "    <tr>\n",
              "      <th>19919</th>\n",
              "      <td>0</td>\n",
              "      <td>755584</td>\n",
              "      <td>2022-02-13</td>\n",
              "      <td>2</td>\n",
              "      <td>(1, 2]</td>\n",
              "      <td>2</td>\n",
              "      <td>13</td>\n",
              "      <td>44</td>\n",
              "      <td>6</td>\n",
              "      <td>7</td>\n",
              "      <td>2022</td>\n",
              "      <td>1</td>\n",
              "      <td>0</td>\n",
              "      <td>0</td>\n",
              "      <td>0</td>\n",
              "      <td>0</td>\n",
              "      <td>0</td>\n",
              "      <td>0</td>\n",
              "      <td>0</td>\n",
              "    </tr>\n",
              "    <tr>\n",
              "      <th>19920</th>\n",
              "      <td>2</td>\n",
              "      <td>893824</td>\n",
              "      <td>2022-02-13</td>\n",
              "      <td>1</td>\n",
              "      <td>(0, 1]</td>\n",
              "      <td>2</td>\n",
              "      <td>13</td>\n",
              "      <td>44</td>\n",
              "      <td>6</td>\n",
              "      <td>7</td>\n",
              "      <td>2022</td>\n",
              "      <td>1</td>\n",
              "      <td>0</td>\n",
              "      <td>0</td>\n",
              "      <td>0</td>\n",
              "      <td>0</td>\n",
              "      <td>0</td>\n",
              "      <td>0</td>\n",
              "      <td>0</td>\n",
              "    </tr>\n",
              "  </tbody>\n",
              "</table>\n",
              "<p>19921 rows × 19 columns</p>\n",
              "</div>"
            ],
            "text/plain": [
              "       CategoryCode  ItemCode     DateID  DailySales DailySales_bins  month  \\\n",
              "ID                                                                            \n",
              "0                 1    174436 2021-10-01           9          (8, 9]     10   \n",
              "1                 1    118033 2021-10-01           4          (3, 4]     10   \n",
              "2                 1     20824 2021-10-01           7          (6, 7]     10   \n",
              "3                 0   1061341 2021-10-01          11        (10, 20]     10   \n",
              "4                 0     76399 2021-10-01          14        (10, 20]     10   \n",
              "...             ...       ...        ...         ...             ...    ...   \n",
              "19916             1     57058 2022-02-13           3          (2, 3]      2   \n",
              "19917             0   1084498 2022-02-13           4          (3, 4]      2   \n",
              "19918             1   1067092 2022-02-13          13        (10, 20]      2   \n",
              "19919             0    755584 2022-02-13           2          (1, 2]      2   \n",
              "19920             2    893824 2022-02-13           1          (0, 1]      2   \n",
              "\n",
              "       day_of_month  day_of_year  week_of_year  day_of_week  year  is_wknd  \\\n",
              "ID                                                                           \n",
              "0                 1          274            39            5  2021        1   \n",
              "1                 1          274            39            5  2021        1   \n",
              "2                 1          274            39            5  2021        1   \n",
              "3                 1          274            39            5  2021        1   \n",
              "4                 1          274            39            5  2021        1   \n",
              "...             ...          ...           ...          ...   ...      ...   \n",
              "19916            13           44             6            7  2022        1   \n",
              "19917            13           44             6            7  2022        1   \n",
              "19918            13           44             6            7  2022        1   \n",
              "19919            13           44             6            7  2022        1   \n",
              "19920            13           44             6            7  2022        1   \n",
              "\n",
              "       is_month_start  is_month_end  is_quarter_start  is_quarter_end  \\\n",
              "ID                                                                      \n",
              "0                   1             0                 1               0   \n",
              "1                   1             0                 1               0   \n",
              "2                   1             0                 1               0   \n",
              "3                   1             0                 1               0   \n",
              "4                   1             0                 1               0   \n",
              "...               ...           ...               ...             ...   \n",
              "19916               0             0                 0               0   \n",
              "19917               0             0                 0               0   \n",
              "19918               0             0                 0               0   \n",
              "19919               0             0                 0               0   \n",
              "19920               0             0                 0               0   \n",
              "\n",
              "       is_year_start  is_year_end  season  \n",
              "ID                                         \n",
              "0                  0            0       3  \n",
              "1                  0            0       3  \n",
              "2                  0            0       3  \n",
              "3                  0            0       3  \n",
              "4                  0            0       3  \n",
              "...              ...          ...     ...  \n",
              "19916              0            0       0  \n",
              "19917              0            0       0  \n",
              "19918              0            0       0  \n",
              "19919              0            0       0  \n",
              "19920              0            0       0  \n",
              "\n",
              "[19921 rows x 19 columns]"
            ]
          },
          "execution_count": 38,
          "metadata": {},
          "output_type": "execute_result"
        }
      ],
      "source": [
        "train_df"
      ]
    },
    {
      "cell_type": "code",
      "execution_count": null,
      "metadata": {
        "id": "Ytlnz8di8tt9"
      },
      "outputs": [],
      "source": [
        "train_df = train_df.drop('CategoryCode', axis=1)\n",
        "train_df = train_df.drop('DailySales_bins', axis=1)\n",
        "test_df = test_df.drop('CategoryCode', axis=1)\n",
        "validation_df = validation_df.drop('CategoryCode', axis=1)"
      ]
    },
    {
      "cell_type": "code",
      "execution_count": null,
      "metadata": {
        "colab": {
          "base_uri": "https://localhost:8080/",
          "height": 238
        },
        "id": "h4hses7aC0F4",
        "outputId": "d40feff8-d2b5-4f37-a9e5-dda76b8556c2"
      },
      "outputs": [
        {
          "data": {
            "text/html": [
              "<div>\n",
              "<style scoped>\n",
              "    .dataframe tbody tr th:only-of-type {\n",
              "        vertical-align: middle;\n",
              "    }\n",
              "\n",
              "    .dataframe tbody tr th {\n",
              "        vertical-align: top;\n",
              "    }\n",
              "\n",
              "    .dataframe thead th {\n",
              "        text-align: right;\n",
              "    }\n",
              "</style>\n",
              "<table border=\"1\" class=\"dataframe\">\n",
              "  <thead>\n",
              "    <tr style=\"text-align: right;\">\n",
              "      <th></th>\n",
              "      <th>ItemCode</th>\n",
              "      <th>DateID</th>\n",
              "      <th>DailySales</th>\n",
              "      <th>month</th>\n",
              "      <th>day_of_month</th>\n",
              "      <th>day_of_year</th>\n",
              "      <th>week_of_year</th>\n",
              "      <th>day_of_week</th>\n",
              "      <th>year</th>\n",
              "      <th>is_wknd</th>\n",
              "      <th>is_month_start</th>\n",
              "      <th>is_month_end</th>\n",
              "      <th>is_quarter_start</th>\n",
              "      <th>is_quarter_end</th>\n",
              "      <th>is_year_start</th>\n",
              "      <th>is_year_end</th>\n",
              "      <th>season</th>\n",
              "    </tr>\n",
              "    <tr>\n",
              "      <th>ID</th>\n",
              "      <th></th>\n",
              "      <th></th>\n",
              "      <th></th>\n",
              "      <th></th>\n",
              "      <th></th>\n",
              "      <th></th>\n",
              "      <th></th>\n",
              "      <th></th>\n",
              "      <th></th>\n",
              "      <th></th>\n",
              "      <th></th>\n",
              "      <th></th>\n",
              "      <th></th>\n",
              "      <th></th>\n",
              "      <th></th>\n",
              "      <th></th>\n",
              "      <th></th>\n",
              "    </tr>\n",
              "  </thead>\n",
              "  <tbody>\n",
              "    <tr>\n",
              "      <th>0</th>\n",
              "      <td>174436</td>\n",
              "      <td>2021-10-01</td>\n",
              "      <td>9</td>\n",
              "      <td>10</td>\n",
              "      <td>1</td>\n",
              "      <td>274</td>\n",
              "      <td>39</td>\n",
              "      <td>5</td>\n",
              "      <td>2021</td>\n",
              "      <td>1</td>\n",
              "      <td>1</td>\n",
              "      <td>0</td>\n",
              "      <td>1</td>\n",
              "      <td>0</td>\n",
              "      <td>0</td>\n",
              "      <td>0</td>\n",
              "      <td>3</td>\n",
              "    </tr>\n",
              "    <tr>\n",
              "      <th>1</th>\n",
              "      <td>118033</td>\n",
              "      <td>2021-10-01</td>\n",
              "      <td>4</td>\n",
              "      <td>10</td>\n",
              "      <td>1</td>\n",
              "      <td>274</td>\n",
              "      <td>39</td>\n",
              "      <td>5</td>\n",
              "      <td>2021</td>\n",
              "      <td>1</td>\n",
              "      <td>1</td>\n",
              "      <td>0</td>\n",
              "      <td>1</td>\n",
              "      <td>0</td>\n",
              "      <td>0</td>\n",
              "      <td>0</td>\n",
              "      <td>3</td>\n",
              "    </tr>\n",
              "    <tr>\n",
              "      <th>2</th>\n",
              "      <td>20824</td>\n",
              "      <td>2021-10-01</td>\n",
              "      <td>7</td>\n",
              "      <td>10</td>\n",
              "      <td>1</td>\n",
              "      <td>274</td>\n",
              "      <td>39</td>\n",
              "      <td>5</td>\n",
              "      <td>2021</td>\n",
              "      <td>1</td>\n",
              "      <td>1</td>\n",
              "      <td>0</td>\n",
              "      <td>1</td>\n",
              "      <td>0</td>\n",
              "      <td>0</td>\n",
              "      <td>0</td>\n",
              "      <td>3</td>\n",
              "    </tr>\n",
              "    <tr>\n",
              "      <th>3</th>\n",
              "      <td>1061341</td>\n",
              "      <td>2021-10-01</td>\n",
              "      <td>11</td>\n",
              "      <td>10</td>\n",
              "      <td>1</td>\n",
              "      <td>274</td>\n",
              "      <td>39</td>\n",
              "      <td>5</td>\n",
              "      <td>2021</td>\n",
              "      <td>1</td>\n",
              "      <td>1</td>\n",
              "      <td>0</td>\n",
              "      <td>1</td>\n",
              "      <td>0</td>\n",
              "      <td>0</td>\n",
              "      <td>0</td>\n",
              "      <td>3</td>\n",
              "    </tr>\n",
              "    <tr>\n",
              "      <th>4</th>\n",
              "      <td>76399</td>\n",
              "      <td>2021-10-01</td>\n",
              "      <td>14</td>\n",
              "      <td>10</td>\n",
              "      <td>1</td>\n",
              "      <td>274</td>\n",
              "      <td>39</td>\n",
              "      <td>5</td>\n",
              "      <td>2021</td>\n",
              "      <td>1</td>\n",
              "      <td>1</td>\n",
              "      <td>0</td>\n",
              "      <td>1</td>\n",
              "      <td>0</td>\n",
              "      <td>0</td>\n",
              "      <td>0</td>\n",
              "      <td>3</td>\n",
              "    </tr>\n",
              "    <tr>\n",
              "      <th>...</th>\n",
              "      <td>...</td>\n",
              "      <td>...</td>\n",
              "      <td>...</td>\n",
              "      <td>...</td>\n",
              "      <td>...</td>\n",
              "      <td>...</td>\n",
              "      <td>...</td>\n",
              "      <td>...</td>\n",
              "      <td>...</td>\n",
              "      <td>...</td>\n",
              "      <td>...</td>\n",
              "      <td>...</td>\n",
              "      <td>...</td>\n",
              "      <td>...</td>\n",
              "      <td>...</td>\n",
              "      <td>...</td>\n",
              "      <td>...</td>\n",
              "    </tr>\n",
              "    <tr>\n",
              "      <th>19916</th>\n",
              "      <td>57058</td>\n",
              "      <td>2022-02-13</td>\n",
              "      <td>3</td>\n",
              "      <td>2</td>\n",
              "      <td>13</td>\n",
              "      <td>44</td>\n",
              "      <td>6</td>\n",
              "      <td>7</td>\n",
              "      <td>2022</td>\n",
              "      <td>1</td>\n",
              "      <td>0</td>\n",
              "      <td>0</td>\n",
              "      <td>0</td>\n",
              "      <td>0</td>\n",
              "      <td>0</td>\n",
              "      <td>0</td>\n",
              "      <td>0</td>\n",
              "    </tr>\n",
              "    <tr>\n",
              "      <th>19917</th>\n",
              "      <td>1084498</td>\n",
              "      <td>2022-02-13</td>\n",
              "      <td>4</td>\n",
              "      <td>2</td>\n",
              "      <td>13</td>\n",
              "      <td>44</td>\n",
              "      <td>6</td>\n",
              "      <td>7</td>\n",
              "      <td>2022</td>\n",
              "      <td>1</td>\n",
              "      <td>0</td>\n",
              "      <td>0</td>\n",
              "      <td>0</td>\n",
              "      <td>0</td>\n",
              "      <td>0</td>\n",
              "      <td>0</td>\n",
              "      <td>0</td>\n",
              "    </tr>\n",
              "    <tr>\n",
              "      <th>19918</th>\n",
              "      <td>1067092</td>\n",
              "      <td>2022-02-13</td>\n",
              "      <td>13</td>\n",
              "      <td>2</td>\n",
              "      <td>13</td>\n",
              "      <td>44</td>\n",
              "      <td>6</td>\n",
              "      <td>7</td>\n",
              "      <td>2022</td>\n",
              "      <td>1</td>\n",
              "      <td>0</td>\n",
              "      <td>0</td>\n",
              "      <td>0</td>\n",
              "      <td>0</td>\n",
              "      <td>0</td>\n",
              "      <td>0</td>\n",
              "      <td>0</td>\n",
              "    </tr>\n",
              "    <tr>\n",
              "      <th>19919</th>\n",
              "      <td>755584</td>\n",
              "      <td>2022-02-13</td>\n",
              "      <td>2</td>\n",
              "      <td>2</td>\n",
              "      <td>13</td>\n",
              "      <td>44</td>\n",
              "      <td>6</td>\n",
              "      <td>7</td>\n",
              "      <td>2022</td>\n",
              "      <td>1</td>\n",
              "      <td>0</td>\n",
              "      <td>0</td>\n",
              "      <td>0</td>\n",
              "      <td>0</td>\n",
              "      <td>0</td>\n",
              "      <td>0</td>\n",
              "      <td>0</td>\n",
              "    </tr>\n",
              "    <tr>\n",
              "      <th>19920</th>\n",
              "      <td>893824</td>\n",
              "      <td>2022-02-13</td>\n",
              "      <td>1</td>\n",
              "      <td>2</td>\n",
              "      <td>13</td>\n",
              "      <td>44</td>\n",
              "      <td>6</td>\n",
              "      <td>7</td>\n",
              "      <td>2022</td>\n",
              "      <td>1</td>\n",
              "      <td>0</td>\n",
              "      <td>0</td>\n",
              "      <td>0</td>\n",
              "      <td>0</td>\n",
              "      <td>0</td>\n",
              "      <td>0</td>\n",
              "      <td>0</td>\n",
              "    </tr>\n",
              "  </tbody>\n",
              "</table>\n",
              "<p>19921 rows × 17 columns</p>\n",
              "</div>"
            ],
            "text/plain": [
              "       ItemCode     DateID  DailySales  month  day_of_month  day_of_year  \\\n",
              "ID                                                                         \n",
              "0        174436 2021-10-01           9     10             1          274   \n",
              "1        118033 2021-10-01           4     10             1          274   \n",
              "2         20824 2021-10-01           7     10             1          274   \n",
              "3       1061341 2021-10-01          11     10             1          274   \n",
              "4         76399 2021-10-01          14     10             1          274   \n",
              "...         ...        ...         ...    ...           ...          ...   \n",
              "19916     57058 2022-02-13           3      2            13           44   \n",
              "19917   1084498 2022-02-13           4      2            13           44   \n",
              "19918   1067092 2022-02-13          13      2            13           44   \n",
              "19919    755584 2022-02-13           2      2            13           44   \n",
              "19920    893824 2022-02-13           1      2            13           44   \n",
              "\n",
              "       week_of_year  day_of_week  year  is_wknd  is_month_start  is_month_end  \\\n",
              "ID                                                                              \n",
              "0                39            5  2021        1               1             0   \n",
              "1                39            5  2021        1               1             0   \n",
              "2                39            5  2021        1               1             0   \n",
              "3                39            5  2021        1               1             0   \n",
              "4                39            5  2021        1               1             0   \n",
              "...             ...          ...   ...      ...             ...           ...   \n",
              "19916             6            7  2022        1               0             0   \n",
              "19917             6            7  2022        1               0             0   \n",
              "19918             6            7  2022        1               0             0   \n",
              "19919             6            7  2022        1               0             0   \n",
              "19920             6            7  2022        1               0             0   \n",
              "\n",
              "       is_quarter_start  is_quarter_end  is_year_start  is_year_end  season  \n",
              "ID                                                                           \n",
              "0                     1               0              0            0       3  \n",
              "1                     1               0              0            0       3  \n",
              "2                     1               0              0            0       3  \n",
              "3                     1               0              0            0       3  \n",
              "4                     1               0              0            0       3  \n",
              "...                 ...             ...            ...          ...     ...  \n",
              "19916                 0               0              0            0       0  \n",
              "19917                 0               0              0            0       0  \n",
              "19918                 0               0              0            0       0  \n",
              "19919                 0               0              0            0       0  \n",
              "19920                 0               0              0            0       0  \n",
              "\n",
              "[19921 rows x 17 columns]"
            ]
          },
          "execution_count": 40,
          "metadata": {},
          "output_type": "execute_result"
        }
      ],
      "source": [
        "train_df"
      ]
    },
    {
      "cell_type": "code",
      "execution_count": null,
      "metadata": {
        "id": "ovrdV2RJmNNa",
        "outputId": "0d54556b-1850-4c35-a67e-3116eab5c879"
      },
      "outputs": [
        {
          "data": {
            "text/plain": [
              "ItemCode                     int64\n",
              "DateID              datetime64[ns]\n",
              "DailySales                   int64\n",
              "month                        int64\n",
              "day_of_month                 int64\n",
              "day_of_year                  int64\n",
              "week_of_year                 int64\n",
              "day_of_week                  int64\n",
              "year                         int64\n",
              "is_wknd                      int64\n",
              "is_month_start               int32\n",
              "is_month_end                 int32\n",
              "is_quarter_start             int32\n",
              "is_quarter_end               int32\n",
              "is_year_start                int32\n",
              "is_year_end                  int32\n",
              "season                       int32\n",
              "dtype: object"
            ]
          },
          "execution_count": 41,
          "metadata": {},
          "output_type": "execute_result"
        }
      ],
      "source": [
        "train_df.dtypes"
      ]
    },
    {
      "cell_type": "code",
      "execution_count": null,
      "metadata": {
        "colab": {
          "base_uri": "https://localhost:8080/",
          "height": 238
        },
        "id": "g4_UsCyCUmO0",
        "outputId": "455c12d1-02ec-4f46-aff1-055e508671d7"
      },
      "outputs": [
        {
          "data": {
            "text/html": [
              "<div>\n",
              "<style scoped>\n",
              "    .dataframe tbody tr th:only-of-type {\n",
              "        vertical-align: middle;\n",
              "    }\n",
              "\n",
              "    .dataframe tbody tr th {\n",
              "        vertical-align: top;\n",
              "    }\n",
              "\n",
              "    .dataframe thead th {\n",
              "        text-align: right;\n",
              "    }\n",
              "</style>\n",
              "<table border=\"1\" class=\"dataframe\">\n",
              "  <thead>\n",
              "    <tr style=\"text-align: right;\">\n",
              "      <th></th>\n",
              "      <th>ItemCode</th>\n",
              "      <th>DateID</th>\n",
              "      <th>month</th>\n",
              "      <th>day_of_month</th>\n",
              "      <th>day_of_year</th>\n",
              "      <th>week_of_year</th>\n",
              "      <th>day_of_week</th>\n",
              "      <th>year</th>\n",
              "      <th>is_wknd</th>\n",
              "      <th>is_month_start</th>\n",
              "      <th>is_month_end</th>\n",
              "      <th>is_quarter_start</th>\n",
              "      <th>is_quarter_end</th>\n",
              "      <th>is_year_start</th>\n",
              "      <th>is_year_end</th>\n",
              "      <th>season</th>\n",
              "    </tr>\n",
              "    <tr>\n",
              "      <th>ID</th>\n",
              "      <th></th>\n",
              "      <th></th>\n",
              "      <th></th>\n",
              "      <th></th>\n",
              "      <th></th>\n",
              "      <th></th>\n",
              "      <th></th>\n",
              "      <th></th>\n",
              "      <th></th>\n",
              "      <th></th>\n",
              "      <th></th>\n",
              "      <th></th>\n",
              "      <th></th>\n",
              "      <th></th>\n",
              "      <th></th>\n",
              "      <th></th>\n",
              "    </tr>\n",
              "  </thead>\n",
              "  <tbody>\n",
              "    <tr>\n",
              "      <th>0</th>\n",
              "      <td>1044502</td>\n",
              "      <td>2022-02-14</td>\n",
              "      <td>2</td>\n",
              "      <td>14</td>\n",
              "      <td>45</td>\n",
              "      <td>7</td>\n",
              "      <td>1</td>\n",
              "      <td>2022</td>\n",
              "      <td>0</td>\n",
              "      <td>0</td>\n",
              "      <td>0</td>\n",
              "      <td>0</td>\n",
              "      <td>0</td>\n",
              "      <td>0</td>\n",
              "      <td>0</td>\n",
              "      <td>0</td>\n",
              "    </tr>\n",
              "    <tr>\n",
              "      <th>1</th>\n",
              "      <td>172582</td>\n",
              "      <td>2022-02-14</td>\n",
              "      <td>2</td>\n",
              "      <td>14</td>\n",
              "      <td>45</td>\n",
              "      <td>7</td>\n",
              "      <td>1</td>\n",
              "      <td>2022</td>\n",
              "      <td>0</td>\n",
              "      <td>0</td>\n",
              "      <td>0</td>\n",
              "      <td>0</td>\n",
              "      <td>0</td>\n",
              "      <td>0</td>\n",
              "      <td>0</td>\n",
              "      <td>0</td>\n",
              "    </tr>\n",
              "    <tr>\n",
              "      <th>2</th>\n",
              "      <td>1066570</td>\n",
              "      <td>2022-02-14</td>\n",
              "      <td>2</td>\n",
              "      <td>14</td>\n",
              "      <td>45</td>\n",
              "      <td>7</td>\n",
              "      <td>1</td>\n",
              "      <td>2022</td>\n",
              "      <td>0</td>\n",
              "      <td>0</td>\n",
              "      <td>0</td>\n",
              "      <td>0</td>\n",
              "      <td>0</td>\n",
              "      <td>0</td>\n",
              "      <td>0</td>\n",
              "      <td>0</td>\n",
              "    </tr>\n",
              "    <tr>\n",
              "      <th>3</th>\n",
              "      <td>1090240</td>\n",
              "      <td>2022-02-14</td>\n",
              "      <td>2</td>\n",
              "      <td>14</td>\n",
              "      <td>45</td>\n",
              "      <td>7</td>\n",
              "      <td>1</td>\n",
              "      <td>2022</td>\n",
              "      <td>0</td>\n",
              "      <td>0</td>\n",
              "      <td>0</td>\n",
              "      <td>0</td>\n",
              "      <td>0</td>\n",
              "      <td>0</td>\n",
              "      <td>0</td>\n",
              "      <td>0</td>\n",
              "    </tr>\n",
              "    <tr>\n",
              "      <th>4</th>\n",
              "      <td>1097143</td>\n",
              "      <td>2022-02-14</td>\n",
              "      <td>2</td>\n",
              "      <td>14</td>\n",
              "      <td>45</td>\n",
              "      <td>7</td>\n",
              "      <td>1</td>\n",
              "      <td>2022</td>\n",
              "      <td>0</td>\n",
              "      <td>0</td>\n",
              "      <td>0</td>\n",
              "      <td>0</td>\n",
              "      <td>0</td>\n",
              "      <td>0</td>\n",
              "      <td>0</td>\n",
              "      <td>0</td>\n",
              "    </tr>\n",
              "    <tr>\n",
              "      <th>...</th>\n",
              "      <td>...</td>\n",
              "      <td>...</td>\n",
              "      <td>...</td>\n",
              "      <td>...</td>\n",
              "      <td>...</td>\n",
              "      <td>...</td>\n",
              "      <td>...</td>\n",
              "      <td>...</td>\n",
              "      <td>...</td>\n",
              "      <td>...</td>\n",
              "      <td>...</td>\n",
              "      <td>...</td>\n",
              "      <td>...</td>\n",
              "      <td>...</td>\n",
              "      <td>...</td>\n",
              "      <td>...</td>\n",
              "    </tr>\n",
              "    <tr>\n",
              "      <th>2585</th>\n",
              "      <td>1026871</td>\n",
              "      <td>2022-03-13</td>\n",
              "      <td>3</td>\n",
              "      <td>13</td>\n",
              "      <td>72</td>\n",
              "      <td>10</td>\n",
              "      <td>7</td>\n",
              "      <td>2022</td>\n",
              "      <td>1</td>\n",
              "      <td>0</td>\n",
              "      <td>0</td>\n",
              "      <td>0</td>\n",
              "      <td>0</td>\n",
              "      <td>0</td>\n",
              "      <td>0</td>\n",
              "      <td>1</td>\n",
              "    </tr>\n",
              "    <tr>\n",
              "      <th>2586</th>\n",
              "      <td>1071124</td>\n",
              "      <td>2022-03-13</td>\n",
              "      <td>3</td>\n",
              "      <td>13</td>\n",
              "      <td>72</td>\n",
              "      <td>10</td>\n",
              "      <td>7</td>\n",
              "      <td>2022</td>\n",
              "      <td>1</td>\n",
              "      <td>0</td>\n",
              "      <td>0</td>\n",
              "      <td>0</td>\n",
              "      <td>0</td>\n",
              "      <td>0</td>\n",
              "      <td>0</td>\n",
              "      <td>1</td>\n",
              "    </tr>\n",
              "    <tr>\n",
              "      <th>2587</th>\n",
              "      <td>1050046</td>\n",
              "      <td>2022-03-13</td>\n",
              "      <td>3</td>\n",
              "      <td>13</td>\n",
              "      <td>72</td>\n",
              "      <td>10</td>\n",
              "      <td>7</td>\n",
              "      <td>2022</td>\n",
              "      <td>1</td>\n",
              "      <td>0</td>\n",
              "      <td>0</td>\n",
              "      <td>0</td>\n",
              "      <td>0</td>\n",
              "      <td>0</td>\n",
              "      <td>0</td>\n",
              "      <td>1</td>\n",
              "    </tr>\n",
              "    <tr>\n",
              "      <th>2588</th>\n",
              "      <td>1030948</td>\n",
              "      <td>2022-03-13</td>\n",
              "      <td>3</td>\n",
              "      <td>13</td>\n",
              "      <td>72</td>\n",
              "      <td>10</td>\n",
              "      <td>7</td>\n",
              "      <td>2022</td>\n",
              "      <td>1</td>\n",
              "      <td>0</td>\n",
              "      <td>0</td>\n",
              "      <td>0</td>\n",
              "      <td>0</td>\n",
              "      <td>0</td>\n",
              "      <td>0</td>\n",
              "      <td>1</td>\n",
              "    </tr>\n",
              "    <tr>\n",
              "      <th>2589</th>\n",
              "      <td>3418</td>\n",
              "      <td>2022-03-13</td>\n",
              "      <td>3</td>\n",
              "      <td>13</td>\n",
              "      <td>72</td>\n",
              "      <td>10</td>\n",
              "      <td>7</td>\n",
              "      <td>2022</td>\n",
              "      <td>1</td>\n",
              "      <td>0</td>\n",
              "      <td>0</td>\n",
              "      <td>0</td>\n",
              "      <td>0</td>\n",
              "      <td>0</td>\n",
              "      <td>0</td>\n",
              "      <td>1</td>\n",
              "    </tr>\n",
              "  </tbody>\n",
              "</table>\n",
              "<p>2590 rows × 16 columns</p>\n",
              "</div>"
            ],
            "text/plain": [
              "      ItemCode     DateID  month  day_of_month  day_of_year  week_of_year  \\\n",
              "ID                                                                          \n",
              "0      1044502 2022-02-14      2            14           45             7   \n",
              "1       172582 2022-02-14      2            14           45             7   \n",
              "2      1066570 2022-02-14      2            14           45             7   \n",
              "3      1090240 2022-02-14      2            14           45             7   \n",
              "4      1097143 2022-02-14      2            14           45             7   \n",
              "...        ...        ...    ...           ...          ...           ...   \n",
              "2585   1026871 2022-03-13      3            13           72            10   \n",
              "2586   1071124 2022-03-13      3            13           72            10   \n",
              "2587   1050046 2022-03-13      3            13           72            10   \n",
              "2588   1030948 2022-03-13      3            13           72            10   \n",
              "2589      3418 2022-03-13      3            13           72            10   \n",
              "\n",
              "      day_of_week  year  is_wknd  is_month_start  is_month_end  \\\n",
              "ID                                                               \n",
              "0               1  2022        0               0             0   \n",
              "1               1  2022        0               0             0   \n",
              "2               1  2022        0               0             0   \n",
              "3               1  2022        0               0             0   \n",
              "4               1  2022        0               0             0   \n",
              "...           ...   ...      ...             ...           ...   \n",
              "2585            7  2022        1               0             0   \n",
              "2586            7  2022        1               0             0   \n",
              "2587            7  2022        1               0             0   \n",
              "2588            7  2022        1               0             0   \n",
              "2589            7  2022        1               0             0   \n",
              "\n",
              "      is_quarter_start  is_quarter_end  is_year_start  is_year_end  season  \n",
              "ID                                                                          \n",
              "0                    0               0              0            0       0  \n",
              "1                    0               0              0            0       0  \n",
              "2                    0               0              0            0       0  \n",
              "3                    0               0              0            0       0  \n",
              "4                    0               0              0            0       0  \n",
              "...                ...             ...            ...          ...     ...  \n",
              "2585                 0               0              0            0       1  \n",
              "2586                 0               0              0            0       1  \n",
              "2587                 0               0              0            0       1  \n",
              "2588                 0               0              0            0       1  \n",
              "2589                 0               0              0            0       1  \n",
              "\n",
              "[2590 rows x 16 columns]"
            ]
          },
          "execution_count": 42,
          "metadata": {},
          "output_type": "execute_result"
        }
      ],
      "source": [
        "validation_df"
      ]
    },
    {
      "cell_type": "code",
      "execution_count": null,
      "metadata": {
        "colab": {
          "base_uri": "https://localhost:8080/",
          "height": 328
        },
        "id": "h7EwBB03yezF",
        "outputId": "5c8b2ff3-db1d-4830-9027-e580330f4239"
      },
      "outputs": [
        {
          "data": {
            "text/plain": [
              "<AxesSubplot:ylabel='ID'>"
            ]
          },
          "execution_count": 45,
          "metadata": {},
          "output_type": "execute_result"
        },
        {
          "data": {
            "image/png": "[encoded data removed]",
            "text/plain": [
              "<Figure size 432x288 with 2 Axes>"
            ]
          },
          "metadata": {
            "needs_background": "light"
          },
          "output_type": "display_data"
        }
      ],
      "source": [
        "# cols = ['ItemCode','month','year','day','dayofyear','dayofweek','DailySales','weekofyear']\n",
        "sns.heatmap(train_df.drop('DateID',axis=1))"
      ]
    },
    {
      "cell_type": "code",
      "execution_count": null,
      "metadata": {
        "colab": {
          "base_uri": "https://localhost:8080/",
          "height": 388
        },
        "id": "3ckataKtnJID",
        "outputId": "6f2cd667-3a25-4cda-d5f1-276ec839c6d4"
      },
      "outputs": [
        {
          "data": {
            "text/plain": [
              "(2590, 16)"
            ]
          },
          "execution_count": 50,
          "metadata": {},
          "output_type": "execute_result"
        }
      ],
      "source": [
        "validation_df.shape"
      ]
    },
    {
      "cell_type": "code",
      "execution_count": null,
      "metadata": {
        "colab": {
          "base_uri": "https://localhost:8080/",
          "height": 394
        },
        "id": "bpFHQw7GnJED",
        "outputId": "7a387606-9789-4114-d372-130a89030ae9"
      },
      "outputs": [
        {
          "data": {
            "text/plain": [
              "(19921, 17)"
            ]
          },
          "execution_count": 51,
          "metadata": {},
          "output_type": "execute_result"
        }
      ],
      "source": [
        "train_df.shape"
      ]
    },
    {
      "cell_type": "code",
      "execution_count": null,
      "metadata": {
        "colab": {
          "base_uri": "https://localhost:8080/",
          "height": 424
        },
        "id": "ahEC1EbjnIwx",
        "outputId": "a3725c56-0204-4b55-99d5-c063ea4d59c3"
      },
      "outputs": [
        {
          "data": {
            "text/plain": [
              "(2639, 16)"
            ]
          },
          "execution_count": 59,
          "metadata": {},
          "output_type": "execute_result"
        }
      ],
      "source": [
        "test_df.shape"
      ]
    },
    {
      "cell_type": "code",
      "execution_count": null,
      "metadata": {
        "id": "1KxBnm9QmNNa"
      },
      "outputs": [],
      "source": [
        "train_df = train_df.drop('DateID',axis=1)\n",
        "validation_df = validation_df.drop('DateID',axis=1)\n",
        "test_df = test_df.drop('DateID',axis=1)"
      ]
    },
    {
      "cell_type": "markdown",
      "metadata": {
        "id": "DLdPTgYRee6p"
      },
      "source": [
        "# LIGHTGBM"
      ]
    },
    {
      "cell_type": "code",
      "execution_count": null,
      "metadata": {
        "id": "zGHNqMnLee6q"
      },
      "outputs": [],
      "source": [
        "# train_df['DateID'] = pd.to_datetime(train_df['DateID'])\n",
        "# #validation_df['date'] = pd.to_datetime(train_df['date'])\n",
        "\n",
        "# train_df['month'] = train_df['DateID'].dt.month\n",
        "# train_df['day'] = train_df['DateID'].dt.dayofweek\n",
        "# train_df['year'] = train_df['DateID'].dt.year\n",
        "\n",
        "\n",
        "# # validation_df['month'] = validation_df['date'].dt.month\n",
        "# # validation_df['day'] = validation_df['date'].dt.dayofweek\n",
        "# # validation_df['year'] = validation_df['date'].dt.year\n",
        "# validation_df = validation_df.drop('CategoryCode',axis=1)\n",
        "col = [i for i in train_df.columns if i not in ['DailySales']]\n",
        "y = 'DailySales'\n",
        "train_x, train_y = train_df[col], train_df[y]\n",
        "val_x = validation_df[col]\n",
        "test_x = test_df[col]"
      ]
    },
    {
      "cell_type": "code",
      "execution_count": null,
      "metadata": {
        "colab": {
          "base_uri": "https://localhost:8080/"
        },
        "id": "MNtXblWgee6q",
        "outputId": "6ce30f37-628d-4de9-8f63-519468538a77"
      },
      "outputs": [
        {
          "data": {
            "text/plain": [
              "((19921, 15), (2590, 15), (2639, 15))"
            ]
          },
          "execution_count": 74,
          "metadata": {},
          "output_type": "execute_result"
        }
      ],
      "source": [
        "train_x.shape, val_x.shape, test_x.shape"
      ]
    },
    {
      "cell_type": "code",
      "execution_count": null,
      "metadata": {
        "colab": {
          "base_uri": "https://localhost:8080/",
          "height": 238
        },
        "id": "q1EF15PjFB7T",
        "outputId": "9ee92998-a557-442e-f5c7-a86343605630"
      },
      "outputs": [
        {
          "data": {
            "text/html": [
              "<div>\n",
              "<style scoped>\n",
              "    .dataframe tbody tr th:only-of-type {\n",
              "        vertical-align: middle;\n",
              "    }\n",
              "\n",
              "    .dataframe tbody tr th {\n",
              "        vertical-align: top;\n",
              "    }\n",
              "\n",
              "    .dataframe thead th {\n",
              "        text-align: right;\n",
              "    }\n",
              "</style>\n",
              "<table border=\"1\" class=\"dataframe\">\n",
              "  <thead>\n",
              "    <tr style=\"text-align: right;\">\n",
              "      <th></th>\n",
              "      <th>ItemCode</th>\n",
              "      <th>month</th>\n",
              "      <th>day_of_month</th>\n",
              "      <th>day_of_year</th>\n",
              "      <th>week_of_year</th>\n",
              "      <th>day_of_week</th>\n",
              "      <th>year</th>\n",
              "      <th>is_wknd</th>\n",
              "      <th>is_month_start</th>\n",
              "      <th>is_month_end</th>\n",
              "      <th>is_quarter_start</th>\n",
              "      <th>is_quarter_end</th>\n",
              "      <th>is_year_start</th>\n",
              "      <th>is_year_end</th>\n",
              "      <th>season</th>\n",
              "    </tr>\n",
              "    <tr>\n",
              "      <th>ID</th>\n",
              "      <th></th>\n",
              "      <th></th>\n",
              "      <th></th>\n",
              "      <th></th>\n",
              "      <th></th>\n",
              "      <th></th>\n",
              "      <th></th>\n",
              "      <th></th>\n",
              "      <th></th>\n",
              "      <th></th>\n",
              "      <th></th>\n",
              "      <th></th>\n",
              "      <th></th>\n",
              "      <th></th>\n",
              "      <th></th>\n",
              "    </tr>\n",
              "  </thead>\n",
              "  <tbody>\n",
              "    <tr>\n",
              "      <th>0</th>\n",
              "      <td>174436</td>\n",
              "      <td>10</td>\n",
              "      <td>1</td>\n",
              "      <td>274</td>\n",
              "      <td>39</td>\n",
              "      <td>5</td>\n",
              "      <td>2021</td>\n",
              "      <td>1</td>\n",
              "      <td>1</td>\n",
              "      <td>0</td>\n",
              "      <td>1</td>\n",
              "      <td>0</td>\n",
              "      <td>0</td>\n",
              "      <td>0</td>\n",
              "      <td>3</td>\n",
              "    </tr>\n",
              "    <tr>\n",
              "      <th>1</th>\n",
              "      <td>118033</td>\n",
              "      <td>10</td>\n",
              "      <td>1</td>\n",
              "      <td>274</td>\n",
              "      <td>39</td>\n",
              "      <td>5</td>\n",
              "      <td>2021</td>\n",
              "      <td>1</td>\n",
              "      <td>1</td>\n",
              "      <td>0</td>\n",
              "      <td>1</td>\n",
              "      <td>0</td>\n",
              "      <td>0</td>\n",
              "      <td>0</td>\n",
              "      <td>3</td>\n",
              "    </tr>\n",
              "    <tr>\n",
              "      <th>2</th>\n",
              "      <td>20824</td>\n",
              "      <td>10</td>\n",
              "      <td>1</td>\n",
              "      <td>274</td>\n",
              "      <td>39</td>\n",
              "      <td>5</td>\n",
              "      <td>2021</td>\n",
              "      <td>1</td>\n",
              "      <td>1</td>\n",
              "      <td>0</td>\n",
              "      <td>1</td>\n",
              "      <td>0</td>\n",
              "      <td>0</td>\n",
              "      <td>0</td>\n",
              "      <td>3</td>\n",
              "    </tr>\n",
              "    <tr>\n",
              "      <th>3</th>\n",
              "      <td>1061341</td>\n",
              "      <td>10</td>\n",
              "      <td>1</td>\n",
              "      <td>274</td>\n",
              "      <td>39</td>\n",
              "      <td>5</td>\n",
              "      <td>2021</td>\n",
              "      <td>1</td>\n",
              "      <td>1</td>\n",
              "      <td>0</td>\n",
              "      <td>1</td>\n",
              "      <td>0</td>\n",
              "      <td>0</td>\n",
              "      <td>0</td>\n",
              "      <td>3</td>\n",
              "    </tr>\n",
              "    <tr>\n",
              "      <th>4</th>\n",
              "      <td>76399</td>\n",
              "      <td>10</td>\n",
              "      <td>1</td>\n",
              "      <td>274</td>\n",
              "      <td>39</td>\n",
              "      <td>5</td>\n",
              "      <td>2021</td>\n",
              "      <td>1</td>\n",
              "      <td>1</td>\n",
              "      <td>0</td>\n",
              "      <td>1</td>\n",
              "      <td>0</td>\n",
              "      <td>0</td>\n",
              "      <td>0</td>\n",
              "      <td>3</td>\n",
              "    </tr>\n",
              "  </tbody>\n",
              "</table>\n",
              "</div>"
            ],
            "text/plain": [
              "    ItemCode  month  day_of_month  day_of_year  week_of_year  day_of_week  \\\n",
              "ID                                                                          \n",
              "0     174436     10             1          274            39            5   \n",
              "1     118033     10             1          274            39            5   \n",
              "2      20824     10             1          274            39            5   \n",
              "3    1061341     10             1          274            39            5   \n",
              "4      76399     10             1          274            39            5   \n",
              "\n",
              "    year  is_wknd  is_month_start  is_month_end  is_quarter_start  \\\n",
              "ID                                                                  \n",
              "0   2021        1               1             0                 1   \n",
              "1   2021        1               1             0                 1   \n",
              "2   2021        1               1             0                 1   \n",
              "3   2021        1               1             0                 1   \n",
              "4   2021        1               1             0                 1   \n",
              "\n",
              "    is_quarter_end  is_year_start  is_year_end  season  \n",
              "ID                                                      \n",
              "0                0              0            0       3  \n",
              "1                0              0            0       3  \n",
              "2                0              0            0       3  \n",
              "3                0              0            0       3  \n",
              "4                0              0            0       3  "
            ]
          },
          "execution_count": 75,
          "metadata": {},
          "output_type": "execute_result"
        }
      ],
      "source": [
        "train_x.head()"
      ]
    },
    {
      "cell_type": "code",
      "execution_count": null,
      "metadata": {
        "colab": {
          "base_uri": "https://localhost:8080/"
        },
        "id": "EMvH7N00ee6r",
        "outputId": "1d88a647-c6d1-451b-e20e-bf3d5d9c96b8"
      },
      "outputs": [
        {
          "data": {
            "text/plain": [
              "((19921, 1, 15), (2590, 1, 15))"
            ]
          },
          "execution_count": 66,
          "metadata": {},
          "output_type": "execute_result"
        }
      ],
      "source": [
        "#reshape\n",
        "# train_x = np.array(train_x).reshape(train_x.shape[0], 1, train_x.shape[1])\n",
        "# val_x = np.array(val_x).reshape(val_x.shape[0], 1, val_x.shape[1])\n",
        "# train_x.shape,val_x.shape"
      ]
    },
    {
      "cell_type": "code",
      "execution_count": null,
      "metadata": {
        "colab": {
          "base_uri": "https://localhost:8080/"
        },
        "id": "0GB7gk-Wee6r",
        "outputId": "75dbf30a-6e5e-4f4c-f5c0-a2ffcb071904"
      },
      "outputs": [
        {
          "data": {
            "text/plain": [
              "((19921, 15), (19921,))"
            ]
          },
          "execution_count": 94,
          "metadata": {},
          "output_type": "execute_result"
        }
      ],
      "source": [
        "train_x.shape,train_y.shape"
      ]
    },
    {
      "cell_type": "markdown",
      "metadata": {
        "id": "CZBtkFGtmNNb"
      },
      "source": [
        "mape"
      ]
    },
    {
      "cell_type": "code",
      "execution_count": null,
      "metadata": {
        "id": "7wBc5s9omNNb"
      },
      "outputs": [],
      "source": [
        "def mape(y_true, y_pred): \n",
        "    y_true, y_pred = np.array(y_true), np.array(y_pred)\n",
        "    return np.mean(np.abs((y_true - y_pred) / y_true)) * 100"
      ]
    },
    {
      "cell_type": "markdown",
      "metadata": {
        "id": "vRGD4iM9mNNb"
      },
      "source": [
        "first model"
      ]
    },
    {
      "cell_type": "markdown",
      "metadata": {
        "id": "KUbL78brmNNb"
      },
      "source": [
        "hyper-parameter tuning"
      ]
    },
    {
      "cell_type": "code",
      "execution_count": null,
      "metadata": {
        "id": "l76vKxiDmNNb"
      },
      "outputs": [],
      "source": [
        "from sklearn.model_selection import TimeSeriesSplit, GridSearchCV, RandomizedSearchCV\n",
        "from sklearn.metrics import make_scorer"
      ]
    },
    {
      "cell_type": "code",
      "execution_count": null,
      "metadata": {
        "id": "D_STFHzvmNNc"
      },
      "outputs": [],
      "source": [
        "lgbm_params = {\n",
        "\n",
        "\"num_leaves\":[20,31,40], # Default 31\n",
        "\"max_depth\":[-1,10, 20], # Default -1\n",
        "\"learning_rate\":[0.1, 0.05,0.3], # Default 0.1\n",
        "\"n_estimators\":[10000,12000, 15000], # Default 100\n",
        "\"min_split_gain\":[0.0, 2,5], # Default 0\n",
        "\"min_child_samples\":[10, 20, 30], # Default 20\n",
        "\"colsample_bytree\":[0.5, 0.8, 1.0], # Default 1\n",
        "\"reg_alpha\":[0.0, 0.5, 1], # Default 0\n",
        "\"reg_lambda\":[0.0, 0.5, 1], # Default 0\n",
        "\"min_data_in_leaf\":[200,1000],\n",
        "\"min_gain_to_split\": [3,9]\n",
        "}"
      ]
    },
    {
      "cell_type": "code",
      "execution_count": null,
      "metadata": {
        "id": "qoMBIZRAmNNc",
        "outputId": "9a9bfc09-3ee5-4eab-8c8e-55b6b399807d"
      },
      "outputs": [
        {
          "name": "stdout",
          "output_type": "stream",
          "text": [
            "TRAIN MAPE: 110.0251287866572\n"
          ]
        }
      ],
      "source": [
        "first_model = lgb.LGBMRegressor(random_state=384)\n",
        "first_model.fit(train_x, train_y)\n",
        "print(\"TRAIN MAPE:\", mape(train_y, first_model.predict(train_x)))"
      ]
    },
    {
      "cell_type": "code",
      "execution_count": null,
      "metadata": {
        "id": "LUiqhV0JmNNc",
        "outputId": "526983b4-5c98-43ca-85fb-506e5036f34c"
      },
      "outputs": [
        {
          "name": "stdout",
          "output_type": "stream",
          "text": [
            "Fitting 3 folds for each of 10 candidates, totalling 30 fits\n",
            "[LightGBM] [Warning] min_data_in_leaf is set=1000, min_child_samples=30 will be ignored. Current value: min_data_in_leaf=1000\n",
            "[LightGBM] [Warning] min_gain_to_split is set=3, min_split_gain=5 will be ignored. Current value: min_gain_to_split=3\n"
          ]
        }
      ],
      "source": [
        "tscv = TimeSeriesSplit(n_splits=3)\n",
        "\n",
        "rsearch = RandomizedSearchCV(first_model, lgbm_params, random_state=384, cv=tscv, scoring=make_scorer(mape), verbose = True, n_jobs = -1).fit( train_x, train_y )"
      ]
    },
    {
      "cell_type": "code",
      "execution_count": null,
      "metadata": {
        "id": "-VrUN5MMmNNc",
        "outputId": "14c080f8-d655-48a0-b2be-4e22a09e7d60"
      },
      "outputs": [
        {
          "name": "stdout",
          "output_type": "stream",
          "text": [
            "{'reg_lambda': 0.0, 'reg_alpha': 0.0, 'num_leaves': 31, 'n_estimators': 10000, 'min_split_gain': 5, 'min_gain_to_split': 3, 'min_data_in_leaf': 1000, 'min_child_samples': 30, 'max_depth': 20, 'learning_rate': 0.1, 'colsample_bytree': 0.5}\n"
          ]
        }
      ],
      "source": [
        "print(rsearch.best_params_)"
      ]
    },
    {
      "cell_type": "code",
      "execution_count": null,
      "metadata": {
        "id": "RyeBQRb6mNNc",
        "outputId": "5fa8ecc1-b81a-430d-dfa2-4336f737c94f"
      },
      "outputs": [
        {
          "name": "stdout",
          "output_type": "stream",
          "text": [
            "TRAIN MAPE: 68.59835652653467\n"
          ]
        }
      ],
      "source": [
        "model_tuned = lgb.LGBMRegressor(**rsearch.best_params_, random_state=384).fit(train_x, train_y)\n",
        "print(\"TRAIN MAPE:\", mape(train_y, model_tuned.predict(train_x)))"
      ]
    },
    {
      "cell_type": "code",
      "execution_count": null,
      "metadata": {
        "id": "GdPb6VzOmNNc",
        "outputId": "85b39da3-8a5f-4430-9e03-b6453d0379da"
      },
      "outputs": [
        {
          "name": "stdout",
          "output_type": "stream",
          "text": [
            "[LightGBM] [Warning] min_data_in_leaf is set=1000, min_child_samples=30 will be ignored. Current value: min_data_in_leaf=1000\n",
            "[LightGBM] [Warning] min_gain_to_split is set=3, min_split_gain=5 will be ignored. Current value: min_gain_to_split=3\n",
            "TRAIN MAPE: 118.38612761230212\n"
          ]
        }
      ],
      "source": [
        "model_tuned_2 = lgb.LGBMRegressor(**rsearch.best_params_, random_state=384).fit(train_x, train_y)\n",
        "print(\"TRAIN MAPE:\", mape(train_y, model_tuned_2.predict(train_x)))"
      ]
    },
    {
      "cell_type": "code",
      "execution_count": null,
      "metadata": {
        "id": "78zN9p14mNNc",
        "outputId": "80048237-e34d-45c2-fc13-31e52a92c9c2"
      },
      "outputs": [
        {
          "name": "stdout",
          "output_type": "stream",
          "text": [
            "TRAIN MAPE: 110.0251287866572\n"
          ]
        }
      ],
      "source": [
        "first_model.fit(train_x, train_y)\n",
        "print(\"TRAIN MAPE:\", mape(train_y, first_model.predict(train_x)))"
      ]
    },
    {
      "cell_type": "markdown",
      "metadata": {
        "id": "_mD3zL9amNNd"
      },
      "source": [
        "xgboost"
      ]
    },
    {
      "cell_type": "code",
      "execution_count": null,
      "metadata": {
        "id": "XRZjs0sZmNNd"
      },
      "outputs": [],
      "source": [
        "import xgboost as xgb"
      ]
    },
    {
      "cell_type": "code",
      "execution_count": null,
      "metadata": {
        "id": "taRc75t1mNNd"
      },
      "outputs": [],
      "source": [
        "matrix_train = xgb.DMatrix(train_x, label = train_y)"
      ]
    },
    {
      "cell_type": "code",
      "execution_count": null,
      "metadata": {
        "id": "MBUEKWNjmNNd",
        "outputId": "024da520-0d3a-4c98-8844-acf528bf8e7a"
      },
      "outputs": [
        {
          "name": "stdout",
          "output_type": "stream",
          "text": [
            "[09:00:06] WARNING: C:/Users/Administrator/workspace/xgboost-win64_release_1.4.0/src/objective/regression_obj.cu:171: reg:linear is now deprecated in favor of reg:squarederror.\n"
          ]
        }
      ],
      "source": [
        "model_1 = xgb.train(params={'objective':'reg:linear','eval_metric':'mape'}\n",
        "                ,dtrain = matrix_train, num_boost_round = 500)"
      ]
    },
    {
      "cell_type": "code",
      "execution_count": null,
      "metadata": {
        "colab": {
          "base_uri": "https://localhost:8080/"
        },
        "id": "EWJhbZMM0o0n",
        "outputId": "d4f803cb-3499-4391-cd0b-8bfe8e9ff142"
      },
      "outputs": [
        {
          "name": "stdout",
          "output_type": "stream",
          "text": [
            "Wall time: 0 ns\n"
          ]
        }
      ],
      "source": [
        "# %%time\n",
        "\n",
        "# def model(train_x,train_y,val_x):\n",
        "#     params = {\n",
        "#         'nthread': 10,\n",
        "#          'max_depth': 5,\n",
        "# #         'max_depth': 9,\n",
        "#         'task': 'train',\n",
        "#         'boosting_type': 'gbdt',\n",
        "#         'objective': 'regression_l1',\n",
        "#         'metric': 'mape', # this is abs(a-e)/max(1,a)\n",
        "# #         'num_leaves': 39,\n",
        "#         'num_leaves': 64,\n",
        "#         'learning_rate': 0.2,\n",
        "#        'feature_fraction': 0.9,\n",
        "# #         'feature_fraction': 0.8108472661400657,\n",
        "# #         'bagging_fraction': 0.9837558288375402,\n",
        "#        'bagging_fraction': 0.8,\n",
        "#         'bagging_freq': 5,\n",
        "#         'lambda_l1': 3.097758978478437,\n",
        "#         'lambda_l2': 2.9482537987198496,\n",
        "# #       'lambda_l1': 0.06,\n",
        "# #       'lambda_l2': 0.1,\n",
        "#         'verbose': 1,\n",
        "#         'min_child_weight': 6.996211413900573,\n",
        "#         'min_split_gain': 0.037310344962162616,\n",
        "#         }\n",
        "    \n",
        "#     lgb_train = lgb.Dataset(train_x,train_y)\n",
        "#     # lgb_valid = lgb.Dataset(test_x,test_y)\n",
        "#     model = lgb.train(params, lgb_train, 3000, verbose_eval=50)\n",
        "#     y_test = model.predict(val_x,num_iteration=model.best_iteration)\n",
        "#     return y_test,model"
      ]
    },
    {
      "cell_type": "markdown",
      "metadata": {
        "id": "rwdxDnM6LsWT"
      },
      "source": [
        "Validation Predictions"
      ]
    },
    {
      "cell_type": "code",
      "execution_count": null,
      "metadata": {
        "id": "ZlHzQAkjmNNd",
        "outputId": "66e5752c-f3f6-4576-ae17-08f76236e141"
      },
      "outputs": [
        {
          "data": {
            "text/plain": [
              "array([8.24985674, 4.48419585, 7.13965396, ..., 8.85966305, 3.97740115,\n",
              "       7.68231719])"
            ]
          },
          "execution_count": 102,
          "metadata": {},
          "output_type": "execute_result"
        }
      ],
      "source": [
        "val_pred = first_model.predict(val_x)\n",
        "val_pred"
      ]
    },
    {
      "cell_type": "code",
      "execution_count": null,
      "metadata": {
        "id": "JYnTDeAVmNNd",
        "outputId": "c70e45bc-d5bd-4fbf-a72f-7f0e9b37c78d"
      },
      "outputs": [
        {
          "data": {
            "text/plain": [
              "array([ 7.10854693,  1.22323165, 11.03653003, ...,  0.66974024,\n",
              "       11.15039   ,  6.41168291])"
            ]
          },
          "execution_count": 119,
          "metadata": {},
          "output_type": "execute_result"
        }
      ],
      "source": [
        "val_pred_tuned = model_tuned.predict(val_x)\n",
        "val_pred_tuned"
      ]
    },
    {
      "cell_type": "code",
      "execution_count": null,
      "metadata": {
        "id": "rQ7RV6MKmNNd",
        "outputId": "82924710-0f79-44b8-e9e5-8b2ac25e3bcc"
      },
      "outputs": [
        {
          "data": {
            "text/plain": [
              "array([ 4.34560937,  3.54670555, 10.50773822, ...,  8.34535883,\n",
              "        6.56495886, 18.86837995])"
            ]
          },
          "execution_count": 136,
          "metadata": {},
          "output_type": "execute_result"
        }
      ],
      "source": [
        "val_pred_tuned = model_tuned_2.predict(val_x)\n",
        "val_pred_tuned"
      ]
    },
    {
      "cell_type": "code",
      "execution_count": null,
      "metadata": {
        "id": "_VTiT7OBmNNe",
        "outputId": "c79ca572-4e81-4c65-e654-6f877f0a3438"
      },
      "outputs": [
        {
          "data": {
            "text/plain": [
              "array([2.7438862 , 0.48539045, 7.0787263 , ..., 2.3554006 , 5.9824047 ,\n",
              "       4.4974866 ], dtype=float32)"
            ]
          },
          "execution_count": 151,
          "metadata": {},
          "output_type": "execute_result"
        }
      ],
      "source": [
        "val_pred_xgb = model.predict(xgb.DMatrix(val_x))           #xgb0\n",
        "val_pred_xgb"
      ]
    },
    {
      "cell_type": "code",
      "execution_count": null,
      "metadata": {
        "id": "UZswKMikmNNe",
        "outputId": "3ccba306-9e84-48e6-de29-eb28afbe5311"
      },
      "outputs": [
        {
          "data": {
            "text/plain": [
              "array([2.7438862 , 0.48539045, 7.0787263 , ..., 2.3554006 , 5.9824047 ,\n",
              "       4.4974866 ], dtype=float32)"
            ]
          },
          "execution_count": 159,
          "metadata": {},
          "output_type": "execute_result"
        }
      ],
      "source": [
        "val_pred_xgb = model_1.predict(xgb.DMatrix(val_x))           #xgb1\n",
        "val_pred_xgb"
      ]
    },
    {
      "cell_type": "code",
      "execution_count": null,
      "metadata": {
        "colab": {
          "base_uri": "https://localhost:8080/",
          "height": 238
        },
        "id": "_byeN_ieDU0p",
        "outputId": "f6e9892e-b707-4a28-caa4-4f56e67149a2"
      },
      "outputs": [
        {
          "data": {
            "text/html": [
              "<div>\n",
              "<style scoped>\n",
              "    .dataframe tbody tr th:only-of-type {\n",
              "        vertical-align: middle;\n",
              "    }\n",
              "\n",
              "    .dataframe tbody tr th {\n",
              "        vertical-align: top;\n",
              "    }\n",
              "\n",
              "    .dataframe thead th {\n",
              "        text-align: right;\n",
              "    }\n",
              "</style>\n",
              "<table border=\"1\" class=\"dataframe\">\n",
              "  <thead>\n",
              "    <tr style=\"text-align: right;\">\n",
              "      <th></th>\n",
              "      <th>CategoryCode</th>\n",
              "      <th>ItemCode</th>\n",
              "      <th>Week</th>\n",
              "      <th>DateID</th>\n",
              "      <th>predictions</th>\n",
              "    </tr>\n",
              "    <tr>\n",
              "      <th>ID</th>\n",
              "      <th></th>\n",
              "      <th></th>\n",
              "      <th></th>\n",
              "      <th></th>\n",
              "      <th></th>\n",
              "    </tr>\n",
              "  </thead>\n",
              "  <tbody>\n",
              "    <tr>\n",
              "      <th>0</th>\n",
              "      <td>category_2</td>\n",
              "      <td>1044502</td>\n",
              "      <td>w1</td>\n",
              "      <td>2022-02-14</td>\n",
              "      <td>8.249857</td>\n",
              "    </tr>\n",
              "    <tr>\n",
              "      <th>1</th>\n",
              "      <td>category_2</td>\n",
              "      <td>172582</td>\n",
              "      <td>w1</td>\n",
              "      <td>2022-02-14</td>\n",
              "      <td>4.484196</td>\n",
              "    </tr>\n",
              "    <tr>\n",
              "      <th>2</th>\n",
              "      <td>category_3</td>\n",
              "      <td>1066570</td>\n",
              "      <td>w1</td>\n",
              "      <td>2022-02-14</td>\n",
              "      <td>7.139654</td>\n",
              "    </tr>\n",
              "    <tr>\n",
              "      <th>3</th>\n",
              "      <td>category_2</td>\n",
              "      <td>1090240</td>\n",
              "      <td>w1</td>\n",
              "      <td>2022-02-14</td>\n",
              "      <td>3.591668</td>\n",
              "    </tr>\n",
              "    <tr>\n",
              "      <th>4</th>\n",
              "      <td>category_3</td>\n",
              "      <td>1097143</td>\n",
              "      <td>w1</td>\n",
              "      <td>2022-02-14</td>\n",
              "      <td>10.128552</td>\n",
              "    </tr>\n",
              "  </tbody>\n",
              "</table>\n",
              "</div>"
            ],
            "text/plain": [
              "   CategoryCode  ItemCode Week     DateID  predictions\n",
              "ID                                                    \n",
              "0    category_2   1044502   w1 2022-02-14     8.249857\n",
              "1    category_2    172582   w1 2022-02-14     4.484196\n",
              "2    category_3   1066570   w1 2022-02-14     7.139654\n",
              "3    category_2   1090240   w1 2022-02-14     3.591668\n",
              "4    category_3   1097143   w1 2022-02-14    10.128552"
            ]
          },
          "execution_count": 137,
          "metadata": {},
          "output_type": "execute_result"
        }
      ],
      "source": [
        "validation_df_original['predictions'] = val_pred   #first_model\n",
        "validation_df_original.head()"
      ]
    },
    {
      "cell_type": "code",
      "execution_count": null,
      "metadata": {
        "id": "-UNBpf66mNNe",
        "outputId": "9473c3fd-2e50-435f-d8d2-c0fab9b9f5fe"
      },
      "outputs": [
        {
          "data": {
            "text/html": [
              "<div>\n",
              "<style scoped>\n",
              "    .dataframe tbody tr th:only-of-type {\n",
              "        vertical-align: middle;\n",
              "    }\n",
              "\n",
              "    .dataframe tbody tr th {\n",
              "        vertical-align: top;\n",
              "    }\n",
              "\n",
              "    .dataframe thead th {\n",
              "        text-align: right;\n",
              "    }\n",
              "</style>\n",
              "<table border=\"1\" class=\"dataframe\">\n",
              "  <thead>\n",
              "    <tr style=\"text-align: right;\">\n",
              "      <th></th>\n",
              "      <th>CategoryCode</th>\n",
              "      <th>ItemCode</th>\n",
              "      <th>Week</th>\n",
              "      <th>DateID</th>\n",
              "      <th>predictions</th>\n",
              "    </tr>\n",
              "    <tr>\n",
              "      <th>ID</th>\n",
              "      <th></th>\n",
              "      <th></th>\n",
              "      <th></th>\n",
              "      <th></th>\n",
              "      <th></th>\n",
              "    </tr>\n",
              "  </thead>\n",
              "  <tbody>\n",
              "    <tr>\n",
              "      <th>0</th>\n",
              "      <td>category_2</td>\n",
              "      <td>1044502</td>\n",
              "      <td>w1</td>\n",
              "      <td>2022-02-14</td>\n",
              "      <td>4.345609</td>\n",
              "    </tr>\n",
              "    <tr>\n",
              "      <th>1</th>\n",
              "      <td>category_2</td>\n",
              "      <td>172582</td>\n",
              "      <td>w1</td>\n",
              "      <td>2022-02-14</td>\n",
              "      <td>3.546706</td>\n",
              "    </tr>\n",
              "    <tr>\n",
              "      <th>2</th>\n",
              "      <td>category_3</td>\n",
              "      <td>1066570</td>\n",
              "      <td>w1</td>\n",
              "      <td>2022-02-14</td>\n",
              "      <td>10.507738</td>\n",
              "    </tr>\n",
              "    <tr>\n",
              "      <th>3</th>\n",
              "      <td>category_2</td>\n",
              "      <td>1090240</td>\n",
              "      <td>w1</td>\n",
              "      <td>2022-02-14</td>\n",
              "      <td>6.746429</td>\n",
              "    </tr>\n",
              "    <tr>\n",
              "      <th>4</th>\n",
              "      <td>category_3</td>\n",
              "      <td>1097143</td>\n",
              "      <td>w1</td>\n",
              "      <td>2022-02-14</td>\n",
              "      <td>4.037358</td>\n",
              "    </tr>\n",
              "  </tbody>\n",
              "</table>\n",
              "</div>"
            ],
            "text/plain": [
              "   CategoryCode  ItemCode Week     DateID  predictions\n",
              "ID                                                    \n",
              "0    category_2   1044502   w1 2022-02-14     4.345609\n",
              "1    category_2    172582   w1 2022-02-14     3.546706\n",
              "2    category_3   1066570   w1 2022-02-14    10.507738\n",
              "3    category_2   1090240   w1 2022-02-14     6.746429\n",
              "4    category_3   1097143   w1 2022-02-14     4.037358"
            ]
          },
          "execution_count": 138,
          "metadata": {},
          "output_type": "execute_result"
        }
      ],
      "source": [
        "validation_df_original['predictions'] = val_pred_tuned       #model_tuned\n",
        "validation_df_original.head()"
      ]
    },
    {
      "cell_type": "code",
      "execution_count": null,
      "metadata": {
        "id": "enLuPCtVmNNe",
        "outputId": "fdb6f545-8636-40cc-b331-8300d0573fb0"
      },
      "outputs": [
        {
          "data": {
            "text/html": [
              "<div>\n",
              "<style scoped>\n",
              "    .dataframe tbody tr th:only-of-type {\n",
              "        vertical-align: middle;\n",
              "    }\n",
              "\n",
              "    .dataframe tbody tr th {\n",
              "        vertical-align: top;\n",
              "    }\n",
              "\n",
              "    .dataframe thead th {\n",
              "        text-align: right;\n",
              "    }\n",
              "</style>\n",
              "<table border=\"1\" class=\"dataframe\">\n",
              "  <thead>\n",
              "    <tr style=\"text-align: right;\">\n",
              "      <th></th>\n",
              "      <th>CategoryCode</th>\n",
              "      <th>ItemCode</th>\n",
              "      <th>Week</th>\n",
              "      <th>DateID</th>\n",
              "      <th>predictions</th>\n",
              "    </tr>\n",
              "    <tr>\n",
              "      <th>ID</th>\n",
              "      <th></th>\n",
              "      <th></th>\n",
              "      <th></th>\n",
              "      <th></th>\n",
              "      <th></th>\n",
              "    </tr>\n",
              "  </thead>\n",
              "  <tbody>\n",
              "    <tr>\n",
              "      <th>0</th>\n",
              "      <td>category_2</td>\n",
              "      <td>1044502</td>\n",
              "      <td>w1</td>\n",
              "      <td>2022-02-14</td>\n",
              "      <td>2.743886</td>\n",
              "    </tr>\n",
              "    <tr>\n",
              "      <th>1</th>\n",
              "      <td>category_2</td>\n",
              "      <td>172582</td>\n",
              "      <td>w1</td>\n",
              "      <td>2022-02-14</td>\n",
              "      <td>0.485390</td>\n",
              "    </tr>\n",
              "    <tr>\n",
              "      <th>2</th>\n",
              "      <td>category_3</td>\n",
              "      <td>1066570</td>\n",
              "      <td>w1</td>\n",
              "      <td>2022-02-14</td>\n",
              "      <td>7.078726</td>\n",
              "    </tr>\n",
              "    <tr>\n",
              "      <th>3</th>\n",
              "      <td>category_2</td>\n",
              "      <td>1090240</td>\n",
              "      <td>w1</td>\n",
              "      <td>2022-02-14</td>\n",
              "      <td>2.789671</td>\n",
              "    </tr>\n",
              "    <tr>\n",
              "      <th>4</th>\n",
              "      <td>category_3</td>\n",
              "      <td>1097143</td>\n",
              "      <td>w1</td>\n",
              "      <td>2022-02-14</td>\n",
              "      <td>9.287245</td>\n",
              "    </tr>\n",
              "  </tbody>\n",
              "</table>\n",
              "</div>"
            ],
            "text/plain": [
              "   CategoryCode  ItemCode Week     DateID  predictions\n",
              "ID                                                    \n",
              "0    category_2   1044502   w1 2022-02-14     2.743886\n",
              "1    category_2    172582   w1 2022-02-14     0.485390\n",
              "2    category_3   1066570   w1 2022-02-14     7.078726\n",
              "3    category_2   1090240   w1 2022-02-14     2.789671\n",
              "4    category_3   1097143   w1 2022-02-14     9.287245"
            ]
          },
          "execution_count": 152,
          "metadata": {},
          "output_type": "execute_result"
        }
      ],
      "source": [
        "validation_df_original['predictions'] = val_pred_xgb  #xgb_model\n",
        "validation_df_original.head()"
      ]
    },
    {
      "cell_type": "code",
      "execution_count": null,
      "metadata": {
        "id": "tRLvHrJjmNNe",
        "outputId": "85a43924-07ae-40da-ceb4-f8e80f78d2d2"
      },
      "outputs": [
        {
          "data": {
            "text/html": [
              "<div>\n",
              "<style scoped>\n",
              "    .dataframe tbody tr th:only-of-type {\n",
              "        vertical-align: middle;\n",
              "    }\n",
              "\n",
              "    .dataframe tbody tr th {\n",
              "        vertical-align: top;\n",
              "    }\n",
              "\n",
              "    .dataframe thead th {\n",
              "        text-align: right;\n",
              "    }\n",
              "</style>\n",
              "<table border=\"1\" class=\"dataframe\">\n",
              "  <thead>\n",
              "    <tr style=\"text-align: right;\">\n",
              "      <th></th>\n",
              "      <th>CategoryCode</th>\n",
              "      <th>ItemCode</th>\n",
              "      <th>Week</th>\n",
              "      <th>DateID</th>\n",
              "      <th>predictions</th>\n",
              "    </tr>\n",
              "    <tr>\n",
              "      <th>ID</th>\n",
              "      <th></th>\n",
              "      <th></th>\n",
              "      <th></th>\n",
              "      <th></th>\n",
              "      <th></th>\n",
              "    </tr>\n",
              "  </thead>\n",
              "  <tbody>\n",
              "    <tr>\n",
              "      <th>0</th>\n",
              "      <td>category_2</td>\n",
              "      <td>1044502</td>\n",
              "      <td>w1</td>\n",
              "      <td>2022-02-14</td>\n",
              "      <td>2.743886</td>\n",
              "    </tr>\n",
              "    <tr>\n",
              "      <th>1</th>\n",
              "      <td>category_2</td>\n",
              "      <td>172582</td>\n",
              "      <td>w1</td>\n",
              "      <td>2022-02-14</td>\n",
              "      <td>0.485390</td>\n",
              "    </tr>\n",
              "    <tr>\n",
              "      <th>2</th>\n",
              "      <td>category_3</td>\n",
              "      <td>1066570</td>\n",
              "      <td>w1</td>\n",
              "      <td>2022-02-14</td>\n",
              "      <td>7.078726</td>\n",
              "    </tr>\n",
              "    <tr>\n",
              "      <th>3</th>\n",
              "      <td>category_2</td>\n",
              "      <td>1090240</td>\n",
              "      <td>w1</td>\n",
              "      <td>2022-02-14</td>\n",
              "      <td>2.789671</td>\n",
              "    </tr>\n",
              "    <tr>\n",
              "      <th>4</th>\n",
              "      <td>category_3</td>\n",
              "      <td>1097143</td>\n",
              "      <td>w1</td>\n",
              "      <td>2022-02-14</td>\n",
              "      <td>9.287245</td>\n",
              "    </tr>\n",
              "  </tbody>\n",
              "</table>\n",
              "</div>"
            ],
            "text/plain": [
              "   CategoryCode  ItemCode Week     DateID  predictions\n",
              "ID                                                    \n",
              "0    category_2   1044502   w1 2022-02-14     2.743886\n",
              "1    category_2    172582   w1 2022-02-14     0.485390\n",
              "2    category_3   1066570   w1 2022-02-14     7.078726\n",
              "3    category_2   1090240   w1 2022-02-14     2.789671\n",
              "4    category_3   1097143   w1 2022-02-14     9.287245"
            ]
          },
          "execution_count": 160,
          "metadata": {},
          "output_type": "execute_result"
        }
      ],
      "source": [
        "validation_df_original['predictions'] = val_pred_xgb  #xgb_model\n",
        "validation_df_original.head()"
      ]
    },
    {
      "cell_type": "markdown",
      "metadata": {
        "id": "ZermITITmNNe"
      },
      "source": [
        "# validation set"
      ]
    },
    {
      "cell_type": "code",
      "execution_count": null,
      "metadata": {
        "id": "MveveJ-0mNNh",
        "outputId": "050a01db-5f82-43e7-8bcc-448aa2d29594"
      },
      "outputs": [
        {
          "data": {
            "text/html": [
              "<div>\n",
              "<style scoped>\n",
              "    .dataframe tbody tr th:only-of-type {\n",
              "        vertical-align: middle;\n",
              "    }\n",
              "\n",
              "    .dataframe tbody tr th {\n",
              "        vertical-align: top;\n",
              "    }\n",
              "\n",
              "    .dataframe thead th {\n",
              "        text-align: right;\n",
              "    }\n",
              "</style>\n",
              "<table border=\"1\" class=\"dataframe\">\n",
              "  <thead>\n",
              "    <tr style=\"text-align: right;\">\n",
              "      <th></th>\n",
              "      <th>CategoryCode</th>\n",
              "      <th>ItemCode</th>\n",
              "      <th>Week</th>\n",
              "      <th>WeeklySales</th>\n",
              "    </tr>\n",
              "  </thead>\n",
              "  <tbody>\n",
              "    <tr>\n",
              "      <th>0</th>\n",
              "      <td>category_2</td>\n",
              "      <td>1044502</td>\n",
              "      <td>w1</td>\n",
              "      <td>11</td>\n",
              "    </tr>\n",
              "    <tr>\n",
              "      <th>1</th>\n",
              "      <td>category_2</td>\n",
              "      <td>1105009</td>\n",
              "      <td>w1</td>\n",
              "      <td>11</td>\n",
              "    </tr>\n",
              "    <tr>\n",
              "      <th>2</th>\n",
              "      <td>category_2</td>\n",
              "      <td>913561</td>\n",
              "      <td>w4</td>\n",
              "      <td>5</td>\n",
              "    </tr>\n",
              "    <tr>\n",
              "      <th>3</th>\n",
              "      <td>category_1</td>\n",
              "      <td>1048975</td>\n",
              "      <td>w4</td>\n",
              "      <td>30</td>\n",
              "    </tr>\n",
              "    <tr>\n",
              "      <th>4</th>\n",
              "      <td>category_1</td>\n",
              "      <td>17287</td>\n",
              "      <td>w2</td>\n",
              "      <td>60</td>\n",
              "    </tr>\n",
              "    <tr>\n",
              "      <th>...</th>\n",
              "      <td>...</td>\n",
              "      <td>...</td>\n",
              "      <td>...</td>\n",
              "      <td>...</td>\n",
              "    </tr>\n",
              "    <tr>\n",
              "      <th>365</th>\n",
              "      <td>category_2</td>\n",
              "      <td>124954</td>\n",
              "      <td>w2</td>\n",
              "      <td>43</td>\n",
              "    </tr>\n",
              "    <tr>\n",
              "      <th>366</th>\n",
              "      <td>category_2</td>\n",
              "      <td>40759</td>\n",
              "      <td>w1</td>\n",
              "      <td>48</td>\n",
              "    </tr>\n",
              "    <tr>\n",
              "      <th>367</th>\n",
              "      <td>category_1</td>\n",
              "      <td>1090303</td>\n",
              "      <td>w1</td>\n",
              "      <td>19</td>\n",
              "    </tr>\n",
              "    <tr>\n",
              "      <th>368</th>\n",
              "      <td>category_2</td>\n",
              "      <td>1090276</td>\n",
              "      <td>w3</td>\n",
              "      <td>6</td>\n",
              "    </tr>\n",
              "    <tr>\n",
              "      <th>369</th>\n",
              "      <td>category_1</td>\n",
              "      <td>3418</td>\n",
              "      <td>w4</td>\n",
              "      <td>69</td>\n",
              "    </tr>\n",
              "  </tbody>\n",
              "</table>\n",
              "<p>370 rows × 4 columns</p>\n",
              "</div>"
            ],
            "text/plain": [
              "    CategoryCode  ItemCode Week  WeeklySales\n",
              "0     category_2   1044502   w1           11\n",
              "1     category_2   1105009   w1           11\n",
              "2     category_2    913561   w4            5\n",
              "3     category_1   1048975   w4           30\n",
              "4     category_1     17287   w2           60\n",
              "..           ...       ...  ...          ...\n",
              "365   category_2    124954   w2           43\n",
              "366   category_2     40759   w1           48\n",
              "367   category_1   1090303   w1           19\n",
              "368   category_2   1090276   w3            6\n",
              "369   category_1      3418   w4           69\n",
              "\n",
              "[370 rows x 4 columns]"
            ]
          },
          "execution_count": 121,
          "metadata": {},
          "output_type": "execute_result"
        }
      ],
      "source": [
        "validation_data = pd.read_csv('validation_data.csv')\n",
        "validation_data"
      ]
    },
    {
      "cell_type": "code",
      "execution_count": null,
      "metadata": {
        "id": "0WZATNeJmNNh"
      },
      "outputs": [],
      "source": [
        "weekly_data = pd.DataFrame(columns=['CategoryCode','ItemCode','Week','WeeklySales'])\n",
        "for index,row in validation_data.iterrows():\n",
        "    a=row['CategoryCode']\n",
        "    b=row['ItemCode']\n",
        "    c=row['Week']\n",
        "    d=(validation_df_original.loc[(validation_df_original.CategoryCode==a)&(validation_df_original.ItemCode==b)&(validation_df_original.Week==c)]).predictions.sum().round()\n",
        "    weekly_data = weekly_data.append({'CategoryCode':a,'ItemCode':b,'Week':c,'WeeklySales':d},ignore_index=True,sort=False)\n",
        "    "
      ]
    },
    {
      "cell_type": "code",
      "execution_count": null,
      "metadata": {
        "id": "zjplVxHomNNi",
        "outputId": "da88e4e5-aa9e-49de-8780-3c5e88d86d7d"
      },
      "outputs": [
        {
          "data": {
            "text/html": [
              "<div>\n",
              "<style scoped>\n",
              "    .dataframe tbody tr th:only-of-type {\n",
              "        vertical-align: middle;\n",
              "    }\n",
              "\n",
              "    .dataframe tbody tr th {\n",
              "        vertical-align: top;\n",
              "    }\n",
              "\n",
              "    .dataframe thead th {\n",
              "        text-align: right;\n",
              "    }\n",
              "</style>\n",
              "<table border=\"1\" class=\"dataframe\">\n",
              "  <thead>\n",
              "    <tr style=\"text-align: right;\">\n",
              "      <th></th>\n",
              "      <th>CategoryCode</th>\n",
              "      <th>ItemCode</th>\n",
              "      <th>Week</th>\n",
              "      <th>WeeklySales</th>\n",
              "    </tr>\n",
              "  </thead>\n",
              "  <tbody>\n",
              "    <tr>\n",
              "      <th>0</th>\n",
              "      <td>category_2</td>\n",
              "      <td>1044502</td>\n",
              "      <td>w1</td>\n",
              "      <td>37.0</td>\n",
              "    </tr>\n",
              "    <tr>\n",
              "      <th>1</th>\n",
              "      <td>category_2</td>\n",
              "      <td>1105009</td>\n",
              "      <td>w1</td>\n",
              "      <td>31.0</td>\n",
              "    </tr>\n",
              "    <tr>\n",
              "      <th>2</th>\n",
              "      <td>category_2</td>\n",
              "      <td>913561</td>\n",
              "      <td>w4</td>\n",
              "      <td>27.0</td>\n",
              "    </tr>\n",
              "    <tr>\n",
              "      <th>3</th>\n",
              "      <td>category_1</td>\n",
              "      <td>1048975</td>\n",
              "      <td>w4</td>\n",
              "      <td>47.0</td>\n",
              "    </tr>\n",
              "    <tr>\n",
              "      <th>4</th>\n",
              "      <td>category_1</td>\n",
              "      <td>17287</td>\n",
              "      <td>w2</td>\n",
              "      <td>120.0</td>\n",
              "    </tr>\n",
              "    <tr>\n",
              "      <th>...</th>\n",
              "      <td>...</td>\n",
              "      <td>...</td>\n",
              "      <td>...</td>\n",
              "      <td>...</td>\n",
              "    </tr>\n",
              "    <tr>\n",
              "      <th>365</th>\n",
              "      <td>category_2</td>\n",
              "      <td>124954</td>\n",
              "      <td>w2</td>\n",
              "      <td>30.0</td>\n",
              "    </tr>\n",
              "    <tr>\n",
              "      <th>366</th>\n",
              "      <td>category_2</td>\n",
              "      <td>40759</td>\n",
              "      <td>w1</td>\n",
              "      <td>65.0</td>\n",
              "    </tr>\n",
              "    <tr>\n",
              "      <th>367</th>\n",
              "      <td>category_1</td>\n",
              "      <td>1090303</td>\n",
              "      <td>w1</td>\n",
              "      <td>25.0</td>\n",
              "    </tr>\n",
              "    <tr>\n",
              "      <th>368</th>\n",
              "      <td>category_2</td>\n",
              "      <td>1090276</td>\n",
              "      <td>w3</td>\n",
              "      <td>23.0</td>\n",
              "    </tr>\n",
              "    <tr>\n",
              "      <th>369</th>\n",
              "      <td>category_1</td>\n",
              "      <td>3418</td>\n",
              "      <td>w4</td>\n",
              "      <td>131.0</td>\n",
              "    </tr>\n",
              "  </tbody>\n",
              "</table>\n",
              "<p>370 rows × 4 columns</p>\n",
              "</div>"
            ],
            "text/plain": [
              "    CategoryCode ItemCode Week  WeeklySales\n",
              "0     category_2  1044502   w1         37.0\n",
              "1     category_2  1105009   w1         31.0\n",
              "2     category_2   913561   w4         27.0\n",
              "3     category_1  1048975   w4         47.0\n",
              "4     category_1    17287   w2        120.0\n",
              "..           ...      ...  ...          ...\n",
              "365   category_2   124954   w2         30.0\n",
              "366   category_2    40759   w1         65.0\n",
              "367   category_1  1090303   w1         25.0\n",
              "368   category_2  1090276   w3         23.0\n",
              "369   category_1     3418   w4        131.0\n",
              "\n",
              "[370 rows x 4 columns]"
            ]
          },
          "execution_count": 140,
          "metadata": {},
          "output_type": "execute_result"
        }
      ],
      "source": [
        "weekly_data   #first_model"
      ]
    },
    {
      "cell_type": "code",
      "execution_count": null,
      "metadata": {
        "id": "A4ITFxB-mNNi",
        "outputId": "cfe4ea4b-81c8-4c8c-e0ee-fa171ab7df24"
      },
      "outputs": [
        {
          "data": {
            "text/html": [
              "<div>\n",
              "<style scoped>\n",
              "    .dataframe tbody tr th:only-of-type {\n",
              "        vertical-align: middle;\n",
              "    }\n",
              "\n",
              "    .dataframe tbody tr th {\n",
              "        vertical-align: top;\n",
              "    }\n",
              "\n",
              "    .dataframe thead th {\n",
              "        text-align: right;\n",
              "    }\n",
              "</style>\n",
              "<table border=\"1\" class=\"dataframe\">\n",
              "  <thead>\n",
              "    <tr style=\"text-align: right;\">\n",
              "      <th></th>\n",
              "      <th>CategoryCode</th>\n",
              "      <th>ItemCode</th>\n",
              "      <th>Week</th>\n",
              "      <th>WeeklySales</th>\n",
              "    </tr>\n",
              "  </thead>\n",
              "  <tbody>\n",
              "    <tr>\n",
              "      <th>0</th>\n",
              "      <td>category_2</td>\n",
              "      <td>1044502</td>\n",
              "      <td>w1</td>\n",
              "      <td>37.0</td>\n",
              "    </tr>\n",
              "    <tr>\n",
              "      <th>1</th>\n",
              "      <td>category_2</td>\n",
              "      <td>1105009</td>\n",
              "      <td>w1</td>\n",
              "      <td>31.0</td>\n",
              "    </tr>\n",
              "    <tr>\n",
              "      <th>2</th>\n",
              "      <td>category_2</td>\n",
              "      <td>913561</td>\n",
              "      <td>w4</td>\n",
              "      <td>27.0</td>\n",
              "    </tr>\n",
              "    <tr>\n",
              "      <th>3</th>\n",
              "      <td>category_1</td>\n",
              "      <td>1048975</td>\n",
              "      <td>w4</td>\n",
              "      <td>47.0</td>\n",
              "    </tr>\n",
              "    <tr>\n",
              "      <th>4</th>\n",
              "      <td>category_1</td>\n",
              "      <td>17287</td>\n",
              "      <td>w2</td>\n",
              "      <td>120.0</td>\n",
              "    </tr>\n",
              "    <tr>\n",
              "      <th>...</th>\n",
              "      <td>...</td>\n",
              "      <td>...</td>\n",
              "      <td>...</td>\n",
              "      <td>...</td>\n",
              "    </tr>\n",
              "    <tr>\n",
              "      <th>365</th>\n",
              "      <td>category_2</td>\n",
              "      <td>124954</td>\n",
              "      <td>w2</td>\n",
              "      <td>30.0</td>\n",
              "    </tr>\n",
              "    <tr>\n",
              "      <th>366</th>\n",
              "      <td>category_2</td>\n",
              "      <td>40759</td>\n",
              "      <td>w1</td>\n",
              "      <td>65.0</td>\n",
              "    </tr>\n",
              "    <tr>\n",
              "      <th>367</th>\n",
              "      <td>category_1</td>\n",
              "      <td>1090303</td>\n",
              "      <td>w1</td>\n",
              "      <td>25.0</td>\n",
              "    </tr>\n",
              "    <tr>\n",
              "      <th>368</th>\n",
              "      <td>category_2</td>\n",
              "      <td>1090276</td>\n",
              "      <td>w3</td>\n",
              "      <td>23.0</td>\n",
              "    </tr>\n",
              "    <tr>\n",
              "      <th>369</th>\n",
              "      <td>category_1</td>\n",
              "      <td>3418</td>\n",
              "      <td>w4</td>\n",
              "      <td>131.0</td>\n",
              "    </tr>\n",
              "  </tbody>\n",
              "</table>\n",
              "<p>370 rows × 4 columns</p>\n",
              "</div>"
            ],
            "text/plain": [
              "    CategoryCode ItemCode Week  WeeklySales\n",
              "0     category_2  1044502   w1         37.0\n",
              "1     category_2  1105009   w1         31.0\n",
              "2     category_2   913561   w4         27.0\n",
              "3     category_1  1048975   w4         47.0\n",
              "4     category_1    17287   w2        120.0\n",
              "..           ...      ...  ...          ...\n",
              "365   category_2   124954   w2         30.0\n",
              "366   category_2    40759   w1         65.0\n",
              "367   category_1  1090303   w1         25.0\n",
              "368   category_2  1090276   w3         23.0\n",
              "369   category_1     3418   w4        131.0\n",
              "\n",
              "[370 rows x 4 columns]"
            ]
          },
          "execution_count": 141,
          "metadata": {},
          "output_type": "execute_result"
        }
      ],
      "source": [
        "weekly_data   #model_tuned"
      ]
    },
    {
      "cell_type": "code",
      "execution_count": null,
      "metadata": {
        "id": "XGSj-03lmNNi",
        "outputId": "08cc677b-9906-49b6-ec2e-f43d32d78b88"
      },
      "outputs": [
        {
          "data": {
            "text/html": [
              "<div>\n",
              "<style scoped>\n",
              "    .dataframe tbody tr th:only-of-type {\n",
              "        vertical-align: middle;\n",
              "    }\n",
              "\n",
              "    .dataframe tbody tr th {\n",
              "        vertical-align: top;\n",
              "    }\n",
              "\n",
              "    .dataframe thead th {\n",
              "        text-align: right;\n",
              "    }\n",
              "</style>\n",
              "<table border=\"1\" class=\"dataframe\">\n",
              "  <thead>\n",
              "    <tr style=\"text-align: right;\">\n",
              "      <th></th>\n",
              "      <th>CategoryCode</th>\n",
              "      <th>ItemCode</th>\n",
              "      <th>Week</th>\n",
              "      <th>WeeklySales</th>\n",
              "    </tr>\n",
              "  </thead>\n",
              "  <tbody>\n",
              "    <tr>\n",
              "      <th>0</th>\n",
              "      <td>category_2</td>\n",
              "      <td>1044502</td>\n",
              "      <td>w1</td>\n",
              "      <td>24.0</td>\n",
              "    </tr>\n",
              "    <tr>\n",
              "      <th>1</th>\n",
              "      <td>category_2</td>\n",
              "      <td>1105009</td>\n",
              "      <td>w1</td>\n",
              "      <td>11.0</td>\n",
              "    </tr>\n",
              "    <tr>\n",
              "      <th>2</th>\n",
              "      <td>category_2</td>\n",
              "      <td>913561</td>\n",
              "      <td>w4</td>\n",
              "      <td>7.0</td>\n",
              "    </tr>\n",
              "    <tr>\n",
              "      <th>3</th>\n",
              "      <td>category_1</td>\n",
              "      <td>1048975</td>\n",
              "      <td>w4</td>\n",
              "      <td>25.0</td>\n",
              "    </tr>\n",
              "    <tr>\n",
              "      <th>4</th>\n",
              "      <td>category_1</td>\n",
              "      <td>17287</td>\n",
              "      <td>w2</td>\n",
              "      <td>64.0</td>\n",
              "    </tr>\n",
              "    <tr>\n",
              "      <th>...</th>\n",
              "      <td>...</td>\n",
              "      <td>...</td>\n",
              "      <td>...</td>\n",
              "      <td>...</td>\n",
              "    </tr>\n",
              "    <tr>\n",
              "      <th>365</th>\n",
              "      <td>category_2</td>\n",
              "      <td>124954</td>\n",
              "      <td>w2</td>\n",
              "      <td>44.0</td>\n",
              "    </tr>\n",
              "    <tr>\n",
              "      <th>366</th>\n",
              "      <td>category_2</td>\n",
              "      <td>40759</td>\n",
              "      <td>w1</td>\n",
              "      <td>55.0</td>\n",
              "    </tr>\n",
              "    <tr>\n",
              "      <th>367</th>\n",
              "      <td>category_1</td>\n",
              "      <td>1090303</td>\n",
              "      <td>w1</td>\n",
              "      <td>21.0</td>\n",
              "    </tr>\n",
              "    <tr>\n",
              "      <th>368</th>\n",
              "      <td>category_2</td>\n",
              "      <td>1090276</td>\n",
              "      <td>w3</td>\n",
              "      <td>15.0</td>\n",
              "    </tr>\n",
              "    <tr>\n",
              "      <th>369</th>\n",
              "      <td>category_1</td>\n",
              "      <td>3418</td>\n",
              "      <td>w4</td>\n",
              "      <td>58.0</td>\n",
              "    </tr>\n",
              "  </tbody>\n",
              "</table>\n",
              "<p>370 rows × 4 columns</p>\n",
              "</div>"
            ],
            "text/plain": [
              "    CategoryCode ItemCode Week  WeeklySales\n",
              "0     category_2  1044502   w1         24.0\n",
              "1     category_2  1105009   w1         11.0\n",
              "2     category_2   913561   w4          7.0\n",
              "3     category_1  1048975   w4         25.0\n",
              "4     category_1    17287   w2         64.0\n",
              "..           ...      ...  ...          ...\n",
              "365   category_2   124954   w2         44.0\n",
              "366   category_2    40759   w1         55.0\n",
              "367   category_1  1090303   w1         21.0\n",
              "368   category_2  1090276   w3         15.0\n",
              "369   category_1     3418   w4         58.0\n",
              "\n",
              "[370 rows x 4 columns]"
            ]
          },
          "execution_count": 154,
          "metadata": {},
          "output_type": "execute_result"
        }
      ],
      "source": [
        "weekly_data  #xgboost"
      ]
    },
    {
      "cell_type": "markdown",
      "metadata": {
        "id": "DxLpoVl_NQiw"
      },
      "source": [
        "MAPE calculation"
      ]
    },
    {
      "cell_type": "code",
      "execution_count": null,
      "metadata": {
        "colab": {
          "base_uri": "https://localhost:8080/",
          "height": 206
        },
        "id": "DdWN8sbZNS6T",
        "outputId": "c1bdb725-7972-4868-83ef-ff3ecf36d457"
      },
      "outputs": [
        {
          "data": {
            "text/html": [
              "<div>\n",
              "<style scoped>\n",
              "    .dataframe tbody tr th:only-of-type {\n",
              "        vertical-align: middle;\n",
              "    }\n",
              "\n",
              "    .dataframe tbody tr th {\n",
              "        vertical-align: top;\n",
              "    }\n",
              "\n",
              "    .dataframe thead th {\n",
              "        text-align: right;\n",
              "    }\n",
              "</style>\n",
              "<table border=\"1\" class=\"dataframe\">\n",
              "  <thead>\n",
              "    <tr style=\"text-align: right;\">\n",
              "      <th></th>\n",
              "      <th>CategoryCode</th>\n",
              "      <th>ItemCode</th>\n",
              "      <th>Week</th>\n",
              "      <th>WeeklySales</th>\n",
              "    </tr>\n",
              "  </thead>\n",
              "  <tbody>\n",
              "    <tr>\n",
              "      <th>0</th>\n",
              "      <td>category_2</td>\n",
              "      <td>1044502</td>\n",
              "      <td>w1</td>\n",
              "      <td>11</td>\n",
              "    </tr>\n",
              "    <tr>\n",
              "      <th>1</th>\n",
              "      <td>category_2</td>\n",
              "      <td>1105009</td>\n",
              "      <td>w1</td>\n",
              "      <td>11</td>\n",
              "    </tr>\n",
              "    <tr>\n",
              "      <th>2</th>\n",
              "      <td>category_2</td>\n",
              "      <td>913561</td>\n",
              "      <td>w4</td>\n",
              "      <td>5</td>\n",
              "    </tr>\n",
              "    <tr>\n",
              "      <th>3</th>\n",
              "      <td>category_1</td>\n",
              "      <td>1048975</td>\n",
              "      <td>w4</td>\n",
              "      <td>30</td>\n",
              "    </tr>\n",
              "    <tr>\n",
              "      <th>4</th>\n",
              "      <td>category_1</td>\n",
              "      <td>17287</td>\n",
              "      <td>w2</td>\n",
              "      <td>60</td>\n",
              "    </tr>\n",
              "  </tbody>\n",
              "</table>\n",
              "</div>"
            ],
            "text/plain": [
              "  CategoryCode  ItemCode Week  WeeklySales\n",
              "0   category_2   1044502   w1           11\n",
              "1   category_2   1105009   w1           11\n",
              "2   category_2    913561   w4            5\n",
              "3   category_1   1048975   w4           30\n",
              "4   category_1     17287   w2           60"
            ]
          },
          "execution_count": 155,
          "metadata": {},
          "output_type": "execute_result"
        }
      ],
      "source": [
        "validation_data.head()"
      ]
    },
    {
      "cell_type": "code",
      "execution_count": null,
      "metadata": {
        "colab": {
          "base_uri": "https://localhost:8080/",
          "height": 206
        },
        "id": "umQFmvlrYqVc",
        "outputId": "93375132-cde3-4acc-ebff-70e3650dac51"
      },
      "outputs": [
        {
          "data": {
            "text/html": [
              "<div>\n",
              "<style scoped>\n",
              "    .dataframe tbody tr th:only-of-type {\n",
              "        vertical-align: middle;\n",
              "    }\n",
              "\n",
              "    .dataframe tbody tr th {\n",
              "        vertical-align: top;\n",
              "    }\n",
              "\n",
              "    .dataframe thead th {\n",
              "        text-align: right;\n",
              "    }\n",
              "</style>\n",
              "<table border=\"1\" class=\"dataframe\">\n",
              "  <thead>\n",
              "    <tr style=\"text-align: right;\">\n",
              "      <th></th>\n",
              "      <th>CategoryCode</th>\n",
              "      <th>ItemCode</th>\n",
              "      <th>Week</th>\n",
              "      <th>WeeklySales</th>\n",
              "    </tr>\n",
              "  </thead>\n",
              "  <tbody>\n",
              "    <tr>\n",
              "      <th>0</th>\n",
              "      <td>category_2</td>\n",
              "      <td>1044502</td>\n",
              "      <td>w1</td>\n",
              "      <td>37.0</td>\n",
              "    </tr>\n",
              "    <tr>\n",
              "      <th>1</th>\n",
              "      <td>category_2</td>\n",
              "      <td>1105009</td>\n",
              "      <td>w1</td>\n",
              "      <td>31.0</td>\n",
              "    </tr>\n",
              "    <tr>\n",
              "      <th>2</th>\n",
              "      <td>category_2</td>\n",
              "      <td>913561</td>\n",
              "      <td>w4</td>\n",
              "      <td>27.0</td>\n",
              "    </tr>\n",
              "    <tr>\n",
              "      <th>3</th>\n",
              "      <td>category_1</td>\n",
              "      <td>1048975</td>\n",
              "      <td>w4</td>\n",
              "      <td>47.0</td>\n",
              "    </tr>\n",
              "    <tr>\n",
              "      <th>4</th>\n",
              "      <td>category_1</td>\n",
              "      <td>17287</td>\n",
              "      <td>w2</td>\n",
              "      <td>120.0</td>\n",
              "    </tr>\n",
              "  </tbody>\n",
              "</table>\n",
              "</div>"
            ],
            "text/plain": [
              "  CategoryCode ItemCode Week  WeeklySales\n",
              "0   category_2  1044502   w1         37.0\n",
              "1   category_2  1105009   w1         31.0\n",
              "2   category_2   913561   w4         27.0\n",
              "3   category_1  1048975   w4         47.0\n",
              "4   category_1    17287   w2        120.0"
            ]
          },
          "execution_count": 143,
          "metadata": {},
          "output_type": "execute_result"
        }
      ],
      "source": [
        "weekly_data.head()    #first_model"
      ]
    },
    {
      "cell_type": "code",
      "execution_count": null,
      "metadata": {
        "id": "wD-FgnOCmNNi",
        "outputId": "01bf1521-cc63-4a2e-ef25-30e9b5282656"
      },
      "outputs": [
        {
          "data": {
            "text/html": [
              "<div>\n",
              "<style scoped>\n",
              "    .dataframe tbody tr th:only-of-type {\n",
              "        vertical-align: middle;\n",
              "    }\n",
              "\n",
              "    .dataframe tbody tr th {\n",
              "        vertical-align: top;\n",
              "    }\n",
              "\n",
              "    .dataframe thead th {\n",
              "        text-align: right;\n",
              "    }\n",
              "</style>\n",
              "<table border=\"1\" class=\"dataframe\">\n",
              "  <thead>\n",
              "    <tr style=\"text-align: right;\">\n",
              "      <th></th>\n",
              "      <th>CategoryCode</th>\n",
              "      <th>ItemCode</th>\n",
              "      <th>Week</th>\n",
              "      <th>WeeklySales</th>\n",
              "    </tr>\n",
              "  </thead>\n",
              "  <tbody>\n",
              "    <tr>\n",
              "      <th>0</th>\n",
              "      <td>category_2</td>\n",
              "      <td>1044502</td>\n",
              "      <td>w1</td>\n",
              "      <td>37.0</td>\n",
              "    </tr>\n",
              "    <tr>\n",
              "      <th>1</th>\n",
              "      <td>category_2</td>\n",
              "      <td>1105009</td>\n",
              "      <td>w1</td>\n",
              "      <td>31.0</td>\n",
              "    </tr>\n",
              "    <tr>\n",
              "      <th>2</th>\n",
              "      <td>category_2</td>\n",
              "      <td>913561</td>\n",
              "      <td>w4</td>\n",
              "      <td>27.0</td>\n",
              "    </tr>\n",
              "    <tr>\n",
              "      <th>3</th>\n",
              "      <td>category_1</td>\n",
              "      <td>1048975</td>\n",
              "      <td>w4</td>\n",
              "      <td>47.0</td>\n",
              "    </tr>\n",
              "    <tr>\n",
              "      <th>4</th>\n",
              "      <td>category_1</td>\n",
              "      <td>17287</td>\n",
              "      <td>w2</td>\n",
              "      <td>120.0</td>\n",
              "    </tr>\n",
              "  </tbody>\n",
              "</table>\n",
              "</div>"
            ],
            "text/plain": [
              "  CategoryCode ItemCode Week  WeeklySales\n",
              "0   category_2  1044502   w1         37.0\n",
              "1   category_2  1105009   w1         31.0\n",
              "2   category_2   913561   w4         27.0\n",
              "3   category_1  1048975   w4         47.0\n",
              "4   category_1    17287   w2        120.0"
            ]
          },
          "execution_count": 144,
          "metadata": {},
          "output_type": "execute_result"
        }
      ],
      "source": [
        "weekly_data.head()   #model_tuned"
      ]
    },
    {
      "cell_type": "code",
      "execution_count": null,
      "metadata": {
        "id": "OJQDcqXimNNi",
        "outputId": "ef090cf6-a84e-46f3-a2c4-0eab3805b305"
      },
      "outputs": [
        {
          "data": {
            "text/html": [
              "<div>\n",
              "<style scoped>\n",
              "    .dataframe tbody tr th:only-of-type {\n",
              "        vertical-align: middle;\n",
              "    }\n",
              "\n",
              "    .dataframe tbody tr th {\n",
              "        vertical-align: top;\n",
              "    }\n",
              "\n",
              "    .dataframe thead th {\n",
              "        text-align: right;\n",
              "    }\n",
              "</style>\n",
              "<table border=\"1\" class=\"dataframe\">\n",
              "  <thead>\n",
              "    <tr style=\"text-align: right;\">\n",
              "      <th></th>\n",
              "      <th>CategoryCode</th>\n",
              "      <th>ItemCode</th>\n",
              "      <th>Week</th>\n",
              "      <th>WeeklySales</th>\n",
              "    </tr>\n",
              "  </thead>\n",
              "  <tbody>\n",
              "    <tr>\n",
              "      <th>0</th>\n",
              "      <td>category_2</td>\n",
              "      <td>1044502</td>\n",
              "      <td>w1</td>\n",
              "      <td>24.0</td>\n",
              "    </tr>\n",
              "    <tr>\n",
              "      <th>1</th>\n",
              "      <td>category_2</td>\n",
              "      <td>1105009</td>\n",
              "      <td>w1</td>\n",
              "      <td>11.0</td>\n",
              "    </tr>\n",
              "    <tr>\n",
              "      <th>2</th>\n",
              "      <td>category_2</td>\n",
              "      <td>913561</td>\n",
              "      <td>w4</td>\n",
              "      <td>7.0</td>\n",
              "    </tr>\n",
              "    <tr>\n",
              "      <th>3</th>\n",
              "      <td>category_1</td>\n",
              "      <td>1048975</td>\n",
              "      <td>w4</td>\n",
              "      <td>25.0</td>\n",
              "    </tr>\n",
              "    <tr>\n",
              "      <th>4</th>\n",
              "      <td>category_1</td>\n",
              "      <td>17287</td>\n",
              "      <td>w2</td>\n",
              "      <td>64.0</td>\n",
              "    </tr>\n",
              "  </tbody>\n",
              "</table>\n",
              "</div>"
            ],
            "text/plain": [
              "  CategoryCode ItemCode Week  WeeklySales\n",
              "0   category_2  1044502   w1         24.0\n",
              "1   category_2  1105009   w1         11.0\n",
              "2   category_2   913561   w4          7.0\n",
              "3   category_1  1048975   w4         25.0\n",
              "4   category_1    17287   w2         64.0"
            ]
          },
          "execution_count": 156,
          "metadata": {},
          "output_type": "execute_result"
        }
      ],
      "source": [
        "weekly_data.head()   #xgb_model"
      ]
    },
    {
      "cell_type": "code",
      "execution_count": null,
      "metadata": {
        "id": "pruw2wgRmNNi",
        "outputId": "6edccfe2-1b9a-474b-d406-934a0711be2e"
      },
      "outputs": [
        {
          "data": {
            "text/html": [
              "<div>\n",
              "<style scoped>\n",
              "    .dataframe tbody tr th:only-of-type {\n",
              "        vertical-align: middle;\n",
              "    }\n",
              "\n",
              "    .dataframe tbody tr th {\n",
              "        vertical-align: top;\n",
              "    }\n",
              "\n",
              "    .dataframe thead th {\n",
              "        text-align: right;\n",
              "    }\n",
              "</style>\n",
              "<table border=\"1\" class=\"dataframe\">\n",
              "  <thead>\n",
              "    <tr style=\"text-align: right;\">\n",
              "      <th></th>\n",
              "      <th>CategoryCode</th>\n",
              "      <th>ItemCode</th>\n",
              "      <th>Week</th>\n",
              "      <th>WeeklySales</th>\n",
              "    </tr>\n",
              "  </thead>\n",
              "  <tbody>\n",
              "    <tr>\n",
              "      <th>0</th>\n",
              "      <td>category_2</td>\n",
              "      <td>1044502</td>\n",
              "      <td>w1</td>\n",
              "      <td>24.0</td>\n",
              "    </tr>\n",
              "    <tr>\n",
              "      <th>1</th>\n",
              "      <td>category_2</td>\n",
              "      <td>1105009</td>\n",
              "      <td>w1</td>\n",
              "      <td>11.0</td>\n",
              "    </tr>\n",
              "    <tr>\n",
              "      <th>2</th>\n",
              "      <td>category_2</td>\n",
              "      <td>913561</td>\n",
              "      <td>w4</td>\n",
              "      <td>7.0</td>\n",
              "    </tr>\n",
              "    <tr>\n",
              "      <th>3</th>\n",
              "      <td>category_1</td>\n",
              "      <td>1048975</td>\n",
              "      <td>w4</td>\n",
              "      <td>25.0</td>\n",
              "    </tr>\n",
              "    <tr>\n",
              "      <th>4</th>\n",
              "      <td>category_1</td>\n",
              "      <td>17287</td>\n",
              "      <td>w2</td>\n",
              "      <td>64.0</td>\n",
              "    </tr>\n",
              "  </tbody>\n",
              "</table>\n",
              "</div>"
            ],
            "text/plain": [
              "  CategoryCode ItemCode Week  WeeklySales\n",
              "0   category_2  1044502   w1         24.0\n",
              "1   category_2  1105009   w1         11.0\n",
              "2   category_2   913561   w4          7.0\n",
              "3   category_1  1048975   w4         25.0\n",
              "4   category_1    17287   w2         64.0"
            ]
          },
          "execution_count": 162,
          "metadata": {},
          "output_type": "execute_result"
        }
      ],
      "source": [
        "weekly_data.head()"
      ]
    },
    {
      "cell_type": "code",
      "execution_count": null,
      "metadata": {
        "colab": {
          "base_uri": "https://localhost:8080/"
        },
        "id": "mr5lMATINMtR",
        "outputId": "9ab5b574-3f01-4b71-aabe-a853e339a39c"
      },
      "outputs": [
        {
          "data": {
            "text/plain": [
              "161.581071042429"
            ]
          },
          "execution_count": 108,
          "metadata": {},
          "output_type": "execute_result"
        }
      ],
      "source": [
        "mape(validation_data['WeeklySales'],weekly_data['WeeklySales'])   #first_model"
      ]
    },
    {
      "cell_type": "code",
      "execution_count": null,
      "metadata": {
        "id": "O9-kVevymNNj",
        "outputId": "f935c967-1913-4629-a21a-ad94f8ea0d42"
      },
      "outputs": [
        {
          "data": {
            "text/plain": [
              "187.3439610495313"
            ]
          },
          "execution_count": 145,
          "metadata": {},
          "output_type": "execute_result"
        }
      ],
      "source": [
        "mape(validation_data['WeeklySales'],weekly_data['WeeklySales'])  #model_tuned"
      ]
    },
    {
      "cell_type": "code",
      "execution_count": null,
      "metadata": {
        "id": "lIfFm4kfmNNj",
        "outputId": "60a01d2e-6f17-44f5-ef7f-db3c769ed02d"
      },
      "outputs": [
        {
          "data": {
            "text/plain": [
              "120.1318358161646"
            ]
          },
          "execution_count": 157,
          "metadata": {},
          "output_type": "execute_result"
        }
      ],
      "source": [
        "mape(validation_data['WeeklySales'],weekly_data['WeeklySales'])    #xgb_model"
      ]
    },
    {
      "cell_type": "code",
      "execution_count": null,
      "metadata": {
        "colab": {
          "base_uri": "https://localhost:8080/"
        },
        "id": "3GTkiDSZOH-l",
        "outputId": "1597e8f5-739f-48d8-bcf8-4a0c7ea3abc3"
      },
      "outputs": [
        {
          "data": {
            "text/plain": [
              "1.6526481942175792"
            ]
          },
          "execution_count": 127,
          "metadata": {},
          "output_type": "execute_result"
        }
      ],
      "source": [
        "from sklearn.metrics import mean_absolute_percentage_error\n",
        "mean_absolute_percentage_error(validation_data['WeeklySales'],weekly_data['WeeklySales'])"
      ]
    }
  ],
  "metadata": {
    "colab": {
      "collapsed_sections": [
        "YSHb7-cxee6j",
        "o7tcDVcDee6m",
        "zBHs3AdVee6o"
      ],
      "name": "main_colab.ipynb",
      "provenance": [],
      "include_colab_link": true
    },
    "interpreter": {
      "hash": "acb22a8b69de88320319ef34cebc68b783b44c7a14d82e341757e6edeba099a7"
    },
    "kernelspec": {
      "display_name": "Python 3.7.8 64-bit ('cv': venv)",
      "language": "python",
      "name": "python3"
    },
    "language_info": {
      "codemirror_mode": {
        "name": "ipython",
        "version": 3
      },
      "file_extension": ".py",
      "mimetype": "text/x-python",
      "name": "python",
      "nbconvert_exporter": "python",
      "pygments_lexer": "ipython3",
      "version": "3.7.8"
    },
    "orig_nbformat": 4
  },
  "nbformat": 4,
  "nbformat_minor": 0
}