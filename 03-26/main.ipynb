{
  "cells": [
    {
      "cell_type": "markdown",
      "metadata": {
        "id": "view-in-github",
        "colab_type": "text"
      },
      "source": [
        "<a href=\"https://colab.research.google.com/github/Sachini007/Data-Storm-3.0/blob/main/03-26/main.ipynb\" target=\"_parent\"><img src=\"https://colab.research.google.com/assets/colab-badge.svg\" alt=\"Open In Colab\"/></a>"
      ]
    },
    {
      "cell_type": "code",
      "execution_count": null,
      "metadata": {
        "id": "mX8HDD8iee6a"
      },
      "outputs": [],
      "source": [
        "import numpy as np\n",
        "import pandas as pd\n",
        "import plotly.graph_objs as go\n",
        "import plotly.offline as py\n",
        "from sklearn.model_selection import train_test_split"
      ]
    },
    {
      "cell_type": "code",
      "execution_count": null,
      "metadata": {
        "id": "zdpxIKECee6e"
      },
      "outputs": [],
      "source": [
        "import tensorflow as tf\n",
        "from tensorflow.keras.layers import Dense\n",
        "from tensorflow.keras.models import Sequential\n",
        "from tensorflow.keras.utils import to_categorical\n",
        "from tensorflow.keras.optimizers import SGD,Adadelta,Adam,RMSprop \n",
        "from tensorflow.keras.callbacks import EarlyStopping\n",
        "#from tensorflow.keras.utils import np_utils\n",
        "import itertools\n",
        "from tensorflow.keras.layers import LSTM\n",
        "from tensorflow.keras.layers import Conv1D\n",
        "from tensorflow.keras.layers import MaxPooling1D\n",
        "from tensorflow.keras.layers import Dropout"
      ]
    },
    {
      "cell_type": "markdown",
      "metadata": {
        "id": "nkw5gpXfee6f"
      },
      "source": [
        "# load data"
      ]
    },
    {
      "cell_type": "code",
      "execution_count": null,
      "metadata": {
        "id": "KW9kkW-zee6g",
        "outputId": "07eccf6a-c431-4398-c0b8-a0666eea855e"
      },
      "outputs": [
        {
          "name": "stdout",
          "output_type": "stream",
          "text": [
            "(19921, 4)\n"
          ]
        },
        {
          "data": {
            "text/html": [
              "<div>\n",
              "<style scoped>\n",
              "    .dataframe tbody tr th:only-of-type {\n",
              "        vertical-align: middle;\n",
              "    }\n",
              "\n",
              "    .dataframe tbody tr th {\n",
              "        vertical-align: top;\n",
              "    }\n",
              "\n",
              "    .dataframe thead th {\n",
              "        text-align: right;\n",
              "    }\n",
              "</style>\n",
              "<table border=\"1\" class=\"dataframe\">\n",
              "  <thead>\n",
              "    <tr style=\"text-align: right;\">\n",
              "      <th></th>\n",
              "      <th>CategoryCode</th>\n",
              "      <th>ItemCode</th>\n",
              "      <th>DateID</th>\n",
              "      <th>DailySales</th>\n",
              "    </tr>\n",
              "  </thead>\n",
              "  <tbody>\n",
              "    <tr>\n",
              "      <th>0</th>\n",
              "      <td>category_2</td>\n",
              "      <td>117610</td>\n",
              "      <td>11/6/2021</td>\n",
              "      <td>7</td>\n",
              "    </tr>\n",
              "    <tr>\n",
              "      <th>1</th>\n",
              "      <td>category_4</td>\n",
              "      <td>836584</td>\n",
              "      <td>11/18/2021</td>\n",
              "      <td>16</td>\n",
              "    </tr>\n",
              "    <tr>\n",
              "      <th>2</th>\n",
              "      <td>category_1</td>\n",
              "      <td>370195</td>\n",
              "      <td>1/24/2022</td>\n",
              "      <td>6</td>\n",
              "    </tr>\n",
              "    <tr>\n",
              "      <th>3</th>\n",
              "      <td>category_2</td>\n",
              "      <td>172582</td>\n",
              "      <td>10/30/2021</td>\n",
              "      <td>5</td>\n",
              "    </tr>\n",
              "    <tr>\n",
              "      <th>4</th>\n",
              "      <td>category_2</td>\n",
              "      <td>1006009</td>\n",
              "      <td>10/30/2021</td>\n",
              "      <td>5</td>\n",
              "    </tr>\n",
              "  </tbody>\n",
              "</table>\n",
              "</div>"
            ],
            "text/plain": [
              "  CategoryCode  ItemCode      DateID  DailySales\n",
              "0   category_2    117610   11/6/2021           7\n",
              "1   category_4    836584  11/18/2021          16\n",
              "2   category_1    370195   1/24/2022           6\n",
              "3   category_2    172582  10/30/2021           5\n",
              "4   category_2   1006009  10/30/2021           5"
            ]
          },
          "execution_count": 9,
          "metadata": {},
          "output_type": "execute_result"
        }
      ],
      "source": [
        "file_name = 'train_data.csv'\n",
        "train_df = pd.read_csv(file_name)\n",
        "print(train_df.shape)\n",
        "train_df.head()\n"
      ]
    },
    {
      "cell_type": "code",
      "execution_count": null,
      "metadata": {
        "id": "KSYqBDTZee6i",
        "outputId": "1d9950f1-fee6-41a8-a0d5-99eeab35a98d"
      },
      "outputs": [
        {
          "name": "stdout",
          "output_type": "stream",
          "text": [
            "(370, 4)\n"
          ]
        },
        {
          "data": {
            "text/html": [
              "<div>\n",
              "<style scoped>\n",
              "    .dataframe tbody tr th:only-of-type {\n",
              "        vertical-align: middle;\n",
              "    }\n",
              "\n",
              "    .dataframe tbody tr th {\n",
              "        vertical-align: top;\n",
              "    }\n",
              "\n",
              "    .dataframe thead th {\n",
              "        text-align: right;\n",
              "    }\n",
              "</style>\n",
              "<table border=\"1\" class=\"dataframe\">\n",
              "  <thead>\n",
              "    <tr style=\"text-align: right;\">\n",
              "      <th></th>\n",
              "      <th>CategoryCode</th>\n",
              "      <th>ItemCode</th>\n",
              "      <th>Week</th>\n",
              "      <th>WeeklySales</th>\n",
              "    </tr>\n",
              "  </thead>\n",
              "  <tbody>\n",
              "    <tr>\n",
              "      <th>0</th>\n",
              "      <td>category_2</td>\n",
              "      <td>1044502</td>\n",
              "      <td>w1</td>\n",
              "      <td>11</td>\n",
              "    </tr>\n",
              "    <tr>\n",
              "      <th>1</th>\n",
              "      <td>category_2</td>\n",
              "      <td>1105009</td>\n",
              "      <td>w1</td>\n",
              "      <td>11</td>\n",
              "    </tr>\n",
              "    <tr>\n",
              "      <th>2</th>\n",
              "      <td>category_2</td>\n",
              "      <td>913561</td>\n",
              "      <td>w4</td>\n",
              "      <td>5</td>\n",
              "    </tr>\n",
              "    <tr>\n",
              "      <th>3</th>\n",
              "      <td>category_1</td>\n",
              "      <td>1048975</td>\n",
              "      <td>w4</td>\n",
              "      <td>30</td>\n",
              "    </tr>\n",
              "    <tr>\n",
              "      <th>4</th>\n",
              "      <td>category_1</td>\n",
              "      <td>17287</td>\n",
              "      <td>w2</td>\n",
              "      <td>60</td>\n",
              "    </tr>\n",
              "  </tbody>\n",
              "</table>\n",
              "</div>"
            ],
            "text/plain": [
              "  CategoryCode  ItemCode Week  WeeklySales\n",
              "0   category_2   1044502   w1           11\n",
              "1   category_2   1105009   w1           11\n",
              "2   category_2    913561   w4            5\n",
              "3   category_1   1048975   w4           30\n",
              "4   category_1     17287   w2           60"
            ]
          },
          "execution_count": 89,
          "metadata": {},
          "output_type": "execute_result"
        }
      ],
      "source": [
        "validation_df = pd.read_csv('validation_data.csv')\n",
        "print(validation_df.shape)\n",
        "validation_df.head()"
      ]
    },
    {
      "cell_type": "markdown",
      "metadata": {
        "id": "YSHb7-cxee6j"
      },
      "source": [
        "# Daily Sales distribution"
      ]
    },
    {
      "cell_type": "code",
      "execution_count": null,
      "metadata": {
        "id": "LyQeGL0wee6j",
        "outputId": "aa9c9c8e-11cd-4457-ab1a-a11976b9cafe"
      },
      "outputs": [
        {
          "name": "stdout",
          "output_type": "stream",
          "text": [
            "Max sale: 434\n",
            "Min sale: 1\n",
            "Avg sale: 7.351889965363185\n",
            "Total sale: 146457\n"
          ]
        }
      ],
      "source": [
        "train_df['DailySales_bins']=pd.cut(train_df.DailySales,[0,1,2,3,4,5,6,7,8,9,10,20,30,40,50,100,150,200,250,300,350,400,450])\n",
        "print('Max sale:', train_df.DailySales.max())\n",
        "print('Min sale:', train_df.DailySales.min())\n",
        "print('Avg sale:', train_df.DailySales.mean())\n",
        "print('Total sale:', train_df.DailySales.sum())"
      ]
    },
    {
      "cell_type": "code",
      "execution_count": null,
      "metadata": {
        "id": "TC3rsEWOee6k",
        "outputId": "801b0a0f-56f3-4d96-b9f6-1e6085511fab"
      },
      "outputs": [
        {
          "data": {
            "text/plain": [
              "(0, 1]        4413\n",
              "(1, 2]        3503\n",
              "(2, 3]        2376\n",
              "(3, 4]        1887\n",
              "(10, 20]      1868\n",
              "(4, 5]        1297\n",
              "(5, 6]        1026\n",
              "(6, 7]         770\n",
              "(7, 8]         583\n",
              "(20, 30]       551\n",
              "(8, 9]         480\n",
              "(9, 10]        428\n",
              "(50, 100]      304\n",
              "(30, 40]       202\n",
              "(40, 50]       128\n",
              "(100, 150]      83\n",
              "(150, 200]      15\n",
              "(200, 250]       4\n",
              "(250, 300]       1\n",
              "(300, 350]       1\n",
              "(400, 450]       1\n",
              "(350, 400]       0\n",
              "Name: DailySales_bins, dtype: int64"
            ]
          },
          "execution_count": 40,
          "metadata": {},
          "output_type": "execute_result"
        }
      ],
      "source": [
        "pd.value_counts(train_df.DailySales_bins)"
      ]
    },
    {
      "cell_type": "code",
      "execution_count": null,
      "metadata": {
        "id": "mlzrzdq3ee6l",
        "outputId": "4f2c9f5a-d72e-4e6a-9307-35a71c21fbc9"
      },
      "outputs": [
        {
          "data": {
            "text/plain": [
              "<AxesSubplot:title={'center':'Sales distribution'}>"
            ]
          },
          "execution_count": 41,
          "metadata": {},
          "output_type": "execute_result"
        },
        {
          "data": {
            "image/png": "[encoded data removed]",
            "text/plain": [
              "<Figure size 432x288 with 1 Axes>"
            ]
          },
          "metadata": {
            "needs_background": "light"
          },
          "output_type": "display_data"
        }
      ],
      "source": [
        "sales_count = pd.value_counts(train_df.DailySales_bins)\n",
        "sales_count.sort_values(ascending=True).plot(kind='barh', title='Sales distribution', )"
      ]
    },
    {
      "cell_type": "code",
      "execution_count": null,
      "metadata": {
        "id": "-yoO7IYoee6l",
        "outputId": "3d859d79-5c9b-403d-aceb-17f502962c81"
      },
      "outputs": [
        {
          "data": {
            "text/plain": [
              "(0, 50]       97.946890\n",
              "(50, 100]      1.526028\n",
              "(100, 150]     0.416646\n",
              "(150, 200]     0.075297\n",
              "(200, 250]     0.020079\n",
              "(250, 300]     0.005020\n",
              "(300, 350]     0.005020\n",
              "(400, 450]     0.005020\n",
              "(350, 400]     0.000000\n",
              "Name: DailySales_bins, dtype: float64"
            ]
          },
          "execution_count": 25,
          "metadata": {},
          "output_type": "execute_result"
        }
      ],
      "source": [
        "total_points = pd.value_counts(train_df.DailySales_bins).sum()\n",
        "pd.value_counts(train_df.DailySales_bins).apply(lambda s: (s/total_points)*100)"
      ]
    },
    {
      "cell_type": "markdown",
      "metadata": {
        "id": "o7tcDVcDee6m"
      },
      "source": [
        "# Sales variation across category"
      ]
    },
    {
      "cell_type": "code",
      "execution_count": null,
      "metadata": {
        "id": "NQLmgQy_ee6m",
        "outputId": "177efddd-ecfe-4d70-d9d9-8e88894b3fe2"
      },
      "outputs": [
        {
          "data": {
            "text/html": [
              "<div>\n",
              "<style scoped>\n",
              "    .dataframe tbody tr th:only-of-type {\n",
              "        vertical-align: middle;\n",
              "    }\n",
              "\n",
              "    .dataframe tbody tr th {\n",
              "        vertical-align: top;\n",
              "    }\n",
              "\n",
              "    .dataframe thead tr th {\n",
              "        text-align: left;\n",
              "    }\n",
              "\n",
              "    .dataframe thead tr:last-of-type th {\n",
              "        text-align: right;\n",
              "    }\n",
              "</style>\n",
              "<table border=\"1\" class=\"dataframe\">\n",
              "  <thead>\n",
              "    <tr>\n",
              "      <th></th>\n",
              "      <th colspan=\"21\" halign=\"left\">DailySales</th>\n",
              "    </tr>\n",
              "    <tr>\n",
              "      <th>ItemCode</th>\n",
              "      <th>3418</th>\n",
              "      <th>3427</th>\n",
              "      <th>7666</th>\n",
              "      <th>9925</th>\n",
              "      <th>16936</th>\n",
              "      <th>17287</th>\n",
              "      <th>17296</th>\n",
              "      <th>20824</th>\n",
              "      <th>23200</th>\n",
              "      <th>23569</th>\n",
              "      <th>...</th>\n",
              "      <th>1098502</th>\n",
              "      <th>1101553</th>\n",
              "      <th>1101562</th>\n",
              "      <th>1101571</th>\n",
              "      <th>1101661</th>\n",
              "      <th>1101769</th>\n",
              "      <th>1103056</th>\n",
              "      <th>1105009</th>\n",
              "      <th>1105018</th>\n",
              "      <th>1105027</th>\n",
              "    </tr>\n",
              "    <tr>\n",
              "      <th>CategoryCode</th>\n",
              "      <th></th>\n",
              "      <th></th>\n",
              "      <th></th>\n",
              "      <th></th>\n",
              "      <th></th>\n",
              "      <th></th>\n",
              "      <th></th>\n",
              "      <th></th>\n",
              "      <th></th>\n",
              "      <th></th>\n",
              "      <th></th>\n",
              "      <th></th>\n",
              "      <th></th>\n",
              "      <th></th>\n",
              "      <th></th>\n",
              "      <th></th>\n",
              "      <th></th>\n",
              "      <th></th>\n",
              "      <th></th>\n",
              "      <th></th>\n",
              "      <th></th>\n",
              "    </tr>\n",
              "  </thead>\n",
              "  <tbody>\n",
              "    <tr>\n",
              "      <th>category_1</th>\n",
              "      <td>9.829457</td>\n",
              "      <td>6.538462</td>\n",
              "      <td>NaN</td>\n",
              "      <td>NaN</td>\n",
              "      <td>NaN</td>\n",
              "      <td>4.293478</td>\n",
              "      <td>71.191176</td>\n",
              "      <td>NaN</td>\n",
              "      <td>NaN</td>\n",
              "      <td>NaN</td>\n",
              "      <td>...</td>\n",
              "      <td>NaN</td>\n",
              "      <td>NaN</td>\n",
              "      <td>NaN</td>\n",
              "      <td>NaN</td>\n",
              "      <td>NaN</td>\n",
              "      <td>NaN</td>\n",
              "      <td>NaN</td>\n",
              "      <td>NaN</td>\n",
              "      <td>NaN</td>\n",
              "      <td>NaN</td>\n",
              "    </tr>\n",
              "    <tr>\n",
              "      <th>category_2</th>\n",
              "      <td>NaN</td>\n",
              "      <td>NaN</td>\n",
              "      <td>NaN</td>\n",
              "      <td>2.479167</td>\n",
              "      <td>NaN</td>\n",
              "      <td>NaN</td>\n",
              "      <td>NaN</td>\n",
              "      <td>18.647059</td>\n",
              "      <td>NaN</td>\n",
              "      <td>3.530973</td>\n",
              "      <td>...</td>\n",
              "      <td>1.594937</td>\n",
              "      <td>1.906667</td>\n",
              "      <td>2.265957</td>\n",
              "      <td>4.8</td>\n",
              "      <td>NaN</td>\n",
              "      <td>2.921053</td>\n",
              "      <td>2.826923</td>\n",
              "      <td>1.898551</td>\n",
              "      <td>1.863636</td>\n",
              "      <td>1.961538</td>\n",
              "    </tr>\n",
              "    <tr>\n",
              "      <th>category_3</th>\n",
              "      <td>NaN</td>\n",
              "      <td>NaN</td>\n",
              "      <td>14.80531</td>\n",
              "      <td>NaN</td>\n",
              "      <td>8.135135</td>\n",
              "      <td>NaN</td>\n",
              "      <td>NaN</td>\n",
              "      <td>NaN</td>\n",
              "      <td>NaN</td>\n",
              "      <td>NaN</td>\n",
              "      <td>...</td>\n",
              "      <td>NaN</td>\n",
              "      <td>NaN</td>\n",
              "      <td>NaN</td>\n",
              "      <td>NaN</td>\n",
              "      <td>6.205607</td>\n",
              "      <td>NaN</td>\n",
              "      <td>NaN</td>\n",
              "      <td>NaN</td>\n",
              "      <td>NaN</td>\n",
              "      <td>NaN</td>\n",
              "    </tr>\n",
              "    <tr>\n",
              "      <th>category_4</th>\n",
              "      <td>NaN</td>\n",
              "      <td>NaN</td>\n",
              "      <td>NaN</td>\n",
              "      <td>NaN</td>\n",
              "      <td>NaN</td>\n",
              "      <td>NaN</td>\n",
              "      <td>NaN</td>\n",
              "      <td>NaN</td>\n",
              "      <td>13.860759</td>\n",
              "      <td>NaN</td>\n",
              "      <td>...</td>\n",
              "      <td>NaN</td>\n",
              "      <td>NaN</td>\n",
              "      <td>NaN</td>\n",
              "      <td>NaN</td>\n",
              "      <td>NaN</td>\n",
              "      <td>NaN</td>\n",
              "      <td>NaN</td>\n",
              "      <td>NaN</td>\n",
              "      <td>NaN</td>\n",
              "      <td>NaN</td>\n",
              "    </tr>\n",
              "  </tbody>\n",
              "</table>\n",
              "<p>4 rows × 194 columns</p>\n",
              "</div>"
            ],
            "text/plain": [
              "             DailySales                                                    \\\n",
              "ItemCode        3418      3427      7666      9925      16936     17287     \n",
              "CategoryCode                                                                \n",
              "category_1     9.829457  6.538462       NaN       NaN       NaN  4.293478   \n",
              "category_2          NaN       NaN       NaN  2.479167       NaN       NaN   \n",
              "category_3          NaN       NaN  14.80531       NaN  8.135135       NaN   \n",
              "category_4          NaN       NaN       NaN       NaN       NaN       NaN   \n",
              "\n",
              "                                                         ...            \\\n",
              "ItemCode        17296      20824      23200     23569    ...   1098502   \n",
              "CategoryCode                                             ...             \n",
              "category_1    71.191176        NaN        NaN       NaN  ...       NaN   \n",
              "category_2          NaN  18.647059        NaN  3.530973  ...  1.594937   \n",
              "category_3          NaN        NaN        NaN       NaN  ...       NaN   \n",
              "category_4          NaN        NaN  13.860759       NaN  ...       NaN   \n",
              "\n",
              "                                                                        \\\n",
              "ItemCode       1101553   1101562 1101571   1101661   1101769   1103056   \n",
              "CategoryCode                                                             \n",
              "category_1         NaN       NaN     NaN       NaN       NaN       NaN   \n",
              "category_2    1.906667  2.265957     4.8       NaN  2.921053  2.826923   \n",
              "category_3         NaN       NaN     NaN  6.205607       NaN       NaN   \n",
              "category_4         NaN       NaN     NaN       NaN       NaN       NaN   \n",
              "\n",
              "                                            \n",
              "ItemCode       1105009   1105018   1105027  \n",
              "CategoryCode                                \n",
              "category_1         NaN       NaN       NaN  \n",
              "category_2    1.898551  1.863636  1.961538  \n",
              "category_3         NaN       NaN       NaN  \n",
              "category_4         NaN       NaN       NaN  \n",
              "\n",
              "[4 rows x 194 columns]"
            ]
          },
          "execution_count": 46,
          "metadata": {},
          "output_type": "execute_result"
        }
      ],
      "source": [
        "sales_pivoted_df = pd.pivot_table(train_df, index='CategoryCode', values=['DailySales','DateID'], columns='ItemCode', aggfunc=np.mean)\n",
        "sales_pivoted_df"
      ]
    },
    {
      "cell_type": "code",
      "execution_count": null,
      "metadata": {
        "id": "D5UDpfzdee6n",
        "outputId": "674da40f-bdf0-40da-a8d6-562c4472fe07"
      },
      "outputs": [
        {
          "data": {
            "text/plain": [
              "CategoryCode\n",
              "category_1     6.280729\n",
              "category_2     4.139096\n",
              "category_3    10.856383\n",
              "category_4    15.820818\n",
              "Name: AvgDailySale, dtype: float64"
            ]
          },
          "execution_count": 59,
          "metadata": {},
          "output_type": "execute_result"
        }
      ],
      "source": [
        "sales_across_store_df = sales_pivoted_df.copy()\n",
        "sales_across_store_df['AvgDailySale'] = sales_across_store_df.apply(lambda r: r.mean(), axis=1)\n",
        "sales_across_store_df['AvgDailySale']\n"
      ]
    },
    {
      "cell_type": "code",
      "execution_count": null,
      "metadata": {
        "id": "iioaBpckee6n",
        "outputId": "b5de700e-55c4-4db3-842f-7b97ac278a22"
      },
      "outputs": [
        {
          "data": {
            "application/vnd.plotly.v1+json": {
              "config": {
                "linkText": "Export to plot.ly",
                "plotlyServerURL": "https://plot.ly",
                "showLink": false
              },
              "data": [
                {
                  "marker": {
                    "color": [
                      6.280729437415185,
                      4.139095683586096,
                      10.856383408876546,
                      15.82081798425951
                    ],
                    "colorscale": [
                      [
                        0,
                        "#440154"
                      ],
                      [
                        0.1111111111111111,
                        "#482878"
                      ],
                      [
                        0.2222222222222222,
                        "#3e4989"
                      ],
                      [
                        0.3333333333333333,
                        "#31688e"
                      ],
                      [
                        0.4444444444444444,
                        "#26828e"
                      ],
                      [
                        0.5555555555555556,
                        "#1f9e89"
                      ],
                      [
                        0.6666666666666666,
                        "#35b779"
                      ],
                      [
                        0.7777777777777778,
                        "#6ece58"
                      ],
                      [
                        0.8888888888888888,
                        "#b5de2b"
                      ],
                      [
                        1,
                        "#fde725"
                      ]
                    ],
                    "showscale": true,
                    "size": [
                      6.280729437415185,
                      4.139095683586096,
                      10.856383408876546,
                      15.82081798425951
                    ]
                  },
                  "mode": "markers",
                  "text": [
                    "category_1",
                    "category_2",
                    "category_3",
                    "category_4"
                  ],
                  "type": "scatter",
                  "y": [
                    6.280729437415185,
                    4.139095683586096,
                    10.856383408876546,
                    15.82081798425951
                  ]
                }
              ],
              "layout": {
                "autosize": true,
                "hovermode": "closest",
                "showlegend": false,
                "template": {
                  "data": {
                    "bar": [
                      {
                        "error_x": {
                          "color": "#2a3f5f"
                        },
                        "error_y": {
                          "color": "#2a3f5f"
                        },
                        "marker": {
                          "line": {
                            "color": "#E5ECF6",
                            "width": 0.5
                          }
                        },
                        "type": "bar"
                      }
                    ],
                    "barpolar": [
                      {
                        "marker": {
                          "line": {
                            "color": "#E5ECF6",
                            "width": 0.5
                          }
                        },
                        "type": "barpolar"
                      }
                    ],
                    "carpet": [
                      {
                        "aaxis": {
                          "endlinecolor": "#2a3f5f",
                          "gridcolor": "white",
                          "linecolor": "white",
                          "minorgridcolor": "white",
                          "startlinecolor": "#2a3f5f"
                        },
                        "baxis": {
                          "endlinecolor": "#2a3f5f",
                          "gridcolor": "white",
                          "linecolor": "white",
                          "minorgridcolor": "white",
                          "startlinecolor": "#2a3f5f"
                        },
                        "type": "carpet"
                      }
                    ],
                    "choropleth": [
                      {
                        "colorbar": {
                          "outlinewidth": 0,
                          "ticks": ""
                        },
                        "type": "choropleth"
                      }
                    ],
                    "contour": [
                      {
                        "colorbar": {
                          "outlinewidth": 0,
                          "ticks": ""
                        },
                        "colorscale": [
                          [
                            0,
                            "#0d0887"
                          ],
                          [
                            0.1111111111111111,
                            "#46039f"
                          ],
                          [
                            0.2222222222222222,
                            "#7201a8"
                          ],
                          [
                            0.3333333333333333,
                            "#9c179e"
                          ],
                          [
                            0.4444444444444444,
                            "#bd3786"
                          ],
                          [
                            0.5555555555555556,
                            "#d8576b"
                          ],
                          [
                            0.6666666666666666,
                            "#ed7953"
                          ],
                          [
                            0.7777777777777778,
                            "#fb9f3a"
                          ],
                          [
                            0.8888888888888888,
                            "#fdca26"
                          ],
                          [
                            1,
                            "#f0f921"
                          ]
                        ],
                        "type": "contour"
                      }
                    ],
                    "contourcarpet": [
                      {
                        "colorbar": {
                          "outlinewidth": 0,
                          "ticks": ""
                        },
                        "type": "contourcarpet"
                      }
                    ],
                    "heatmap": [
                      {
                        "colorbar": {
                          "outlinewidth": 0,
                          "ticks": ""
                        },
                        "colorscale": [
                          [
                            0,
                            "#0d0887"
                          ],
                          [
                            0.1111111111111111,
                            "#46039f"
                          ],
                          [
                            0.2222222222222222,
                            "#7201a8"
                          ],
                          [
                            0.3333333333333333,
                            "#9c179e"
                          ],
                          [
                            0.4444444444444444,
                            "#bd3786"
                          ],
                          [
                            0.5555555555555556,
                            "#d8576b"
                          ],
                          [
                            0.6666666666666666,
                            "#ed7953"
                          ],
                          [
                            0.7777777777777778,
                            "#fb9f3a"
                          ],
                          [
                            0.8888888888888888,
                            "#fdca26"
                          ],
                          [
                            1,
                            "#f0f921"
                          ]
                        ],
                        "type": "heatmap"
                      }
                    ],
                    "heatmapgl": [
                      {
                        "colorbar": {
                          "outlinewidth": 0,
                          "ticks": ""
                        },
                        "colorscale": [
                          [
                            0,
                            "#0d0887"
                          ],
                          [
                            0.1111111111111111,
                            "#46039f"
                          ],
                          [
                            0.2222222222222222,
                            "#7201a8"
                          ],
                          [
                            0.3333333333333333,
                            "#9c179e"
                          ],
                          [
                            0.4444444444444444,
                            "#bd3786"
                          ],
                          [
                            0.5555555555555556,
                            "#d8576b"
                          ],
                          [
                            0.6666666666666666,
                            "#ed7953"
                          ],
                          [
                            0.7777777777777778,
                            "#fb9f3a"
                          ],
                          [
                            0.8888888888888888,
                            "#fdca26"
                          ],
                          [
                            1,
                            "#f0f921"
                          ]
                        ],
                        "type": "heatmapgl"
                      }
                    ],
                    "histogram": [
                      {
                        "marker": {
                          "colorbar": {
                            "outlinewidth": 0,
                            "ticks": ""
                          }
                        },
                        "type": "histogram"
                      }
                    ],
                    "histogram2d": [
                      {
                        "colorbar": {
                          "outlinewidth": 0,
                          "ticks": ""
                        },
                        "colorscale": [
                          [
                            0,
                            "#0d0887"
                          ],
                          [
                            0.1111111111111111,
                            "#46039f"
                          ],
                          [
                            0.2222222222222222,
                            "#7201a8"
                          ],
                          [
                            0.3333333333333333,
                            "#9c179e"
                          ],
                          [
                            0.4444444444444444,
                            "#bd3786"
                          ],
                          [
                            0.5555555555555556,
                            "#d8576b"
                          ],
                          [
                            0.6666666666666666,
                            "#ed7953"
                          ],
                          [
                            0.7777777777777778,
                            "#fb9f3a"
                          ],
                          [
                            0.8888888888888888,
                            "#fdca26"
                          ],
                          [
                            1,
                            "#f0f921"
                          ]
                        ],
                        "type": "histogram2d"
                      }
                    ],
                    "histogram2dcontour": [
                      {
                        "colorbar": {
                          "outlinewidth": 0,
                          "ticks": ""
                        },
                        "colorscale": [
                          [
                            0,
                            "#0d0887"
                          ],
                          [
                            0.1111111111111111,
                            "#46039f"
                          ],
                          [
                            0.2222222222222222,
                            "#7201a8"
                          ],
                          [
                            0.3333333333333333,
                            "#9c179e"
                          ],
                          [
                            0.4444444444444444,
                            "#bd3786"
                          ],
                          [
                            0.5555555555555556,
                            "#d8576b"
                          ],
                          [
                            0.6666666666666666,
                            "#ed7953"
                          ],
                          [
                            0.7777777777777778,
                            "#fb9f3a"
                          ],
                          [
                            0.8888888888888888,
                            "#fdca26"
                          ],
                          [
                            1,
                            "#f0f921"
                          ]
                        ],
                        "type": "histogram2dcontour"
                      }
                    ],
                    "mesh3d": [
                      {
                        "colorbar": {
                          "outlinewidth": 0,
                          "ticks": ""
                        },
                        "type": "mesh3d"
                      }
                    ],
                    "parcoords": [
                      {
                        "line": {
                          "colorbar": {
                            "outlinewidth": 0,
                            "ticks": ""
                          }
                        },
                        "type": "parcoords"
                      }
                    ],
                    "pie": [
                      {
                        "automargin": true,
                        "type": "pie"
                      }
                    ],
                    "scatter": [
                      {
                        "marker": {
                          "colorbar": {
                            "outlinewidth": 0,
                            "ticks": ""
                          }
                        },
                        "type": "scatter"
                      }
                    ],
                    "scatter3d": [
                      {
                        "line": {
                          "colorbar": {
                            "outlinewidth": 0,
                            "ticks": ""
                          }
                        },
                        "marker": {
                          "colorbar": {
                            "outlinewidth": 0,
                            "ticks": ""
                          }
                        },
                        "type": "scatter3d"
                      }
                    ],
                    "scattercarpet": [
                      {
                        "marker": {
                          "colorbar": {
                            "outlinewidth": 0,
                            "ticks": ""
                          }
                        },
                        "type": "scattercarpet"
                      }
                    ],
                    "scattergeo": [
                      {
                        "marker": {
                          "colorbar": {
                            "outlinewidth": 0,
                            "ticks": ""
                          }
                        },
                        "type": "scattergeo"
                      }
                    ],
                    "scattergl": [
                      {
                        "marker": {
                          "colorbar": {
                            "outlinewidth": 0,
                            "ticks": ""
                          }
                        },
                        "type": "scattergl"
                      }
                    ],
                    "scattermapbox": [
                      {
                        "marker": {
                          "colorbar": {
                            "outlinewidth": 0,
                            "ticks": ""
                          }
                        },
                        "type": "scattermapbox"
                      }
                    ],
                    "scatterpolar": [
                      {
                        "marker": {
                          "colorbar": {
                            "outlinewidth": 0,
                            "ticks": ""
                          }
                        },
                        "type": "scatterpolar"
                      }
                    ],
                    "scatterpolargl": [
                      {
                        "marker": {
                          "colorbar": {
                            "outlinewidth": 0,
                            "ticks": ""
                          }
                        },
                        "type": "scatterpolargl"
                      }
                    ],
                    "scatterternary": [
                      {
                        "marker": {
                          "colorbar": {
                            "outlinewidth": 0,
                            "ticks": ""
                          }
                        },
                        "type": "scatterternary"
                      }
                    ],
                    "surface": [
                      {
                        "colorbar": {
                          "outlinewidth": 0,
                          "ticks": ""
                        },
                        "colorscale": [
                          [
                            0,
                            "#0d0887"
                          ],
                          [
                            0.1111111111111111,
                            "#46039f"
                          ],
                          [
                            0.2222222222222222,
                            "#7201a8"
                          ],
                          [
                            0.3333333333333333,
                            "#9c179e"
                          ],
                          [
                            0.4444444444444444,
                            "#bd3786"
                          ],
                          [
                            0.5555555555555556,
                            "#d8576b"
                          ],
                          [
                            0.6666666666666666,
                            "#ed7953"
                          ],
                          [
                            0.7777777777777778,
                            "#fb9f3a"
                          ],
                          [
                            0.8888888888888888,
                            "#fdca26"
                          ],
                          [
                            1,
                            "#f0f921"
                          ]
                        ],
                        "type": "surface"
                      }
                    ],
                    "table": [
                      {
                        "cells": {
                          "fill": {
                            "color": "#EBF0F8"
                          },
                          "line": {
                            "color": "white"
                          }
                        },
                        "header": {
                          "fill": {
                            "color": "#C8D4E3"
                          },
                          "line": {
                            "color": "white"
                          }
                        },
                        "type": "table"
                      }
                    ]
                  },
                  "layout": {
                    "annotationdefaults": {
                      "arrowcolor": "#2a3f5f",
                      "arrowhead": 0,
                      "arrowwidth": 1
                    },
                    "autotypenumbers": "strict",
                    "coloraxis": {
                      "colorbar": {
                        "outlinewidth": 0,
                        "ticks": ""
                      }
                    },
                    "colorscale": {
                      "diverging": [
                        [
                          0,
                          "#8e0152"
                        ],
                        [
                          0.1,
                          "#c51b7d"
                        ],
                        [
                          0.2,
                          "#de77ae"
                        ],
                        [
                          0.3,
                          "#f1b6da"
                        ],
                        [
                          0.4,
                          "#fde0ef"
                        ],
                        [
                          0.5,
                          "#f7f7f7"
                        ],
                        [
                          0.6,
                          "#e6f5d0"
                        ],
                        [
                          0.7,
                          "#b8e186"
                        ],
                        [
                          0.8,
                          "#7fbc41"
                        ],
                        [
                          0.9,
                          "#4d9221"
                        ],
                        [
                          1,
                          "#276419"
                        ]
                      ],
                      "sequential": [
                        [
                          0,
                          "#0d0887"
                        ],
                        [
                          0.1111111111111111,
                          "#46039f"
                        ],
                        [
                          0.2222222222222222,
                          "#7201a8"
                        ],
                        [
                          0.3333333333333333,
                          "#9c179e"
                        ],
                        [
                          0.4444444444444444,
                          "#bd3786"
                        ],
                        [
                          0.5555555555555556,
                          "#d8576b"
                        ],
                        [
                          0.6666666666666666,
                          "#ed7953"
                        ],
                        [
                          0.7777777777777778,
                          "#fb9f3a"
                        ],
                        [
                          0.8888888888888888,
                          "#fdca26"
                        ],
                        [
                          1,
                          "#f0f921"
                        ]
                      ],
                      "sequentialminus": [
                        [
                          0,
                          "#0d0887"
                        ],
                        [
                          0.1111111111111111,
                          "#46039f"
                        ],
                        [
                          0.2222222222222222,
                          "#7201a8"
                        ],
                        [
                          0.3333333333333333,
                          "#9c179e"
                        ],
                        [
                          0.4444444444444444,
                          "#bd3786"
                        ],
                        [
                          0.5555555555555556,
                          "#d8576b"
                        ],
                        [
                          0.6666666666666666,
                          "#ed7953"
                        ],
                        [
                          0.7777777777777778,
                          "#fb9f3a"
                        ],
                        [
                          0.8888888888888888,
                          "#fdca26"
                        ],
                        [
                          1,
                          "#f0f921"
                        ]
                      ]
                    },
                    "colorway": [
                      "#636efa",
                      "#EF553B",
                      "#00cc96",
                      "#ab63fa",
                      "#FFA15A",
                      "#19d3f3",
                      "#FF6692",
                      "#B6E880",
                      "#FF97FF",
                      "#FECB52"
                    ],
                    "font": {
                      "color": "#2a3f5f"
                    },
                    "geo": {
                      "bgcolor": "white",
                      "lakecolor": "white",
                      "landcolor": "#E5ECF6",
                      "showlakes": true,
                      "showland": true,
                      "subunitcolor": "white"
                    },
                    "hoverlabel": {
                      "align": "left"
                    },
                    "hovermode": "closest",
                    "mapbox": {
                      "style": "light"
                    },
                    "paper_bgcolor": "white",
                    "plot_bgcolor": "#E5ECF6",
                    "polar": {
                      "angularaxis": {
                        "gridcolor": "white",
                        "linecolor": "white",
                        "ticks": ""
                      },
                      "bgcolor": "#E5ECF6",
                      "radialaxis": {
                        "gridcolor": "white",
                        "linecolor": "white",
                        "ticks": ""
                      }
                    },
                    "scene": {
                      "xaxis": {
                        "backgroundcolor": "#E5ECF6",
                        "gridcolor": "white",
                        "gridwidth": 2,
                        "linecolor": "white",
                        "showbackground": true,
                        "ticks": "",
                        "zerolinecolor": "white"
                      },
                      "yaxis": {
                        "backgroundcolor": "#E5ECF6",
                        "gridcolor": "white",
                        "gridwidth": 2,
                        "linecolor": "white",
                        "showbackground": true,
                        "ticks": "",
                        "zerolinecolor": "white"
                      },
                      "zaxis": {
                        "backgroundcolor": "#E5ECF6",
                        "gridcolor": "white",
                        "gridwidth": 2,
                        "linecolor": "white",
                        "showbackground": true,
                        "ticks": "",
                        "zerolinecolor": "white"
                      }
                    },
                    "shapedefaults": {
                      "line": {
                        "color": "#2a3f5f"
                      }
                    },
                    "ternary": {
                      "aaxis": {
                        "gridcolor": "white",
                        "linecolor": "white",
                        "ticks": ""
                      },
                      "baxis": {
                        "gridcolor": "white",
                        "linecolor": "white",
                        "ticks": ""
                      },
                      "bgcolor": "#E5ECF6",
                      "caxis": {
                        "gridcolor": "white",
                        "linecolor": "white",
                        "ticks": ""
                      }
                    },
                    "title": {
                      "x": 0.05
                    },
                    "xaxis": {
                      "automargin": true,
                      "gridcolor": "white",
                      "linecolor": "white",
                      "ticks": "",
                      "title": {
                        "standoff": 15
                      },
                      "zerolinecolor": "white",
                      "zerolinewidth": 2
                    },
                    "yaxis": {
                      "automargin": true,
                      "gridcolor": "white",
                      "linecolor": "white",
                      "ticks": "",
                      "title": {
                        "standoff": 15
                      },
                      "zerolinecolor": "white",
                      "zerolinewidth": 2
                    }
                  }
                },
                "title": {
                  "text": "Scatter plot of avg Daily sales per Category"
                },
                "xaxis": {
                  "gridwidth": 1,
                  "ticklen": 4,
                  "title": {
                    "text": "Category"
                  },
                  "zeroline": false
                },
                "yaxis": {
                  "gridwidth": 1,
                  "ticklen": 10,
                  "title": {
                    "text": "Avg Daily Sales"
                  },
                  "zeroline": false
                }
              }
            },
            "text/html": [
              "<div>                            <div id=\"9fc7c9cf-e2a7-4014-8a87-dc8b13849d8b\" class=\"plotly-graph-div\" style=\"height:525px; width:100%;\"></div>            <script type=\"text/javascript\">                require([\"plotly\"], function(Plotly) {                    window.PLOTLYENV=window.PLOTLYENV || {};                                    if (document.getElementById(\"9fc7c9cf-e2a7-4014-8a87-dc8b13849d8b\")) {                    Plotly.newPlot(                        \"9fc7c9cf-e2a7-4014-8a87-dc8b13849d8b\",                        [{\"marker\": {\"color\": [6.280729437415185, 4.139095683586096, 10.856383408876546, 15.82081798425951], \"colorscale\": [[0.0, \"#440154\"], [0.1111111111111111, \"#482878\"], [0.2222222222222222, \"#3e4989\"], [0.3333333333333333, \"#31688e\"], [0.4444444444444444, \"#26828e\"], [0.5555555555555556, \"#1f9e89\"], [0.6666666666666666, \"#35b779\"], [0.7777777777777778, \"#6ece58\"], [0.8888888888888888, \"#b5de2b\"], [1.0, \"#fde725\"]], \"showscale\": true, \"size\": [6.280729437415185, 4.139095683586096, 10.856383408876546, 15.82081798425951]}, \"mode\": \"markers\", \"text\": [\"category_1\", \"category_2\", \"category_3\", \"category_4\"], \"type\": \"scatter\", \"y\": [6.280729437415185, 4.139095683586096, 10.856383408876546, 15.82081798425951]}],                        {\"autosize\": true, \"hovermode\": \"closest\", \"showlegend\": false, \"template\": {\"data\": {\"bar\": [{\"error_x\": {\"color\": \"#2a3f5f\"}, \"error_y\": {\"color\": \"#2a3f5f\"}, \"marker\": {\"line\": {\"color\": \"#E5ECF6\", \"width\": 0.5}}, \"type\": \"bar\"}], \"barpolar\": [{\"marker\": {\"line\": {\"color\": \"#E5ECF6\", \"width\": 0.5}}, \"type\": \"barpolar\"}], \"carpet\": [{\"aaxis\": {\"endlinecolor\": \"#2a3f5f\", \"gridcolor\": \"white\", \"linecolor\": \"white\", \"minorgridcolor\": \"white\", \"startlinecolor\": \"#2a3f5f\"}, \"baxis\": {\"endlinecolor\": \"#2a3f5f\", \"gridcolor\": \"white\", \"linecolor\": \"white\", \"minorgridcolor\": \"white\", \"startlinecolor\": \"#2a3f5f\"}, \"type\": \"carpet\"}], \"choropleth\": [{\"colorbar\": {\"outlinewidth\": 0, \"ticks\": \"\"}, \"type\": \"choropleth\"}], \"contour\": [{\"colorbar\": {\"outlinewidth\": 0, \"ticks\": \"\"}, \"colorscale\": [[0.0, \"#0d0887\"], [0.1111111111111111, \"#46039f\"], [0.2222222222222222, \"#7201a8\"], [0.3333333333333333, \"#9c179e\"], [0.4444444444444444, \"#bd3786\"], [0.5555555555555556, \"#d8576b\"], [0.6666666666666666, \"#ed7953\"], [0.7777777777777778, \"#fb9f3a\"], [0.8888888888888888, \"#fdca26\"], [1.0, \"#f0f921\"]], \"type\": \"contour\"}], \"contourcarpet\": [{\"colorbar\": {\"outlinewidth\": 0, \"ticks\": \"\"}, \"type\": \"contourcarpet\"}], \"heatmap\": [{\"colorbar\": {\"outlinewidth\": 0, \"ticks\": \"\"}, \"colorscale\": [[0.0, \"#0d0887\"], [0.1111111111111111, \"#46039f\"], [0.2222222222222222, \"#7201a8\"], [0.3333333333333333, \"#9c179e\"], [0.4444444444444444, \"#bd3786\"], [0.5555555555555556, \"#d8576b\"], [0.6666666666666666, \"#ed7953\"], [0.7777777777777778, \"#fb9f3a\"], [0.8888888888888888, \"#fdca26\"], [1.0, \"#f0f921\"]], \"type\": \"heatmap\"}], \"heatmapgl\": [{\"colorbar\": {\"outlinewidth\": 0, \"ticks\": \"\"}, \"colorscale\": [[0.0, \"#0d0887\"], [0.1111111111111111, \"#46039f\"], [0.2222222222222222, \"#7201a8\"], [0.3333333333333333, \"#9c179e\"], [0.4444444444444444, \"#bd3786\"], [0.5555555555555556, \"#d8576b\"], [0.6666666666666666, \"#ed7953\"], [0.7777777777777778, \"#fb9f3a\"], [0.8888888888888888, \"#fdca26\"], [1.0, \"#f0f921\"]], \"type\": \"heatmapgl\"}], \"histogram\": [{\"marker\": {\"colorbar\": {\"outlinewidth\": 0, \"ticks\": \"\"}}, \"type\": \"histogram\"}], \"histogram2d\": [{\"colorbar\": {\"outlinewidth\": 0, \"ticks\": \"\"}, \"colorscale\": [[0.0, \"#0d0887\"], [0.1111111111111111, \"#46039f\"], [0.2222222222222222, \"#7201a8\"], [0.3333333333333333, \"#9c179e\"], [0.4444444444444444, \"#bd3786\"], [0.5555555555555556, \"#d8576b\"], [0.6666666666666666, \"#ed7953\"], [0.7777777777777778, \"#fb9f3a\"], [0.8888888888888888, \"#fdca26\"], [1.0, \"#f0f921\"]], \"type\": \"histogram2d\"}], \"histogram2dcontour\": [{\"colorbar\": {\"outlinewidth\": 0, \"ticks\": \"\"}, \"colorscale\": [[0.0, \"#0d0887\"], [0.1111111111111111, \"#46039f\"], [0.2222222222222222, \"#7201a8\"], [0.3333333333333333, \"#9c179e\"], [0.4444444444444444, \"#bd3786\"], [0.5555555555555556, \"#d8576b\"], [0.6666666666666666, \"#ed7953\"], [0.7777777777777778, \"#fb9f3a\"], [0.8888888888888888, \"#fdca26\"], [1.0, \"#f0f921\"]], \"type\": \"histogram2dcontour\"}], \"mesh3d\": [{\"colorbar\": {\"outlinewidth\": 0, \"ticks\": \"\"}, \"type\": \"mesh3d\"}], \"parcoords\": [{\"line\": {\"colorbar\": {\"outlinewidth\": 0, \"ticks\": \"\"}}, \"type\": \"parcoords\"}], \"pie\": [{\"automargin\": true, \"type\": \"pie\"}], \"scatter\": [{\"marker\": {\"colorbar\": {\"outlinewidth\": 0, \"ticks\": \"\"}}, \"type\": \"scatter\"}], \"scatter3d\": [{\"line\": {\"colorbar\": {\"outlinewidth\": 0, \"ticks\": \"\"}}, \"marker\": {\"colorbar\": {\"outlinewidth\": 0, \"ticks\": \"\"}}, \"type\": \"scatter3d\"}], \"scattercarpet\": [{\"marker\": {\"colorbar\": {\"outlinewidth\": 0, \"ticks\": \"\"}}, \"type\": \"scattercarpet\"}], \"scattergeo\": [{\"marker\": {\"colorbar\": {\"outlinewidth\": 0, \"ticks\": \"\"}}, \"type\": \"scattergeo\"}], \"scattergl\": [{\"marker\": {\"colorbar\": {\"outlinewidth\": 0, \"ticks\": \"\"}}, \"type\": \"scattergl\"}], \"scattermapbox\": [{\"marker\": {\"colorbar\": {\"outlinewidth\": 0, \"ticks\": \"\"}}, \"type\": \"scattermapbox\"}], \"scatterpolar\": [{\"marker\": {\"colorbar\": {\"outlinewidth\": 0, \"ticks\": \"\"}}, \"type\": \"scatterpolar\"}], \"scatterpolargl\": [{\"marker\": {\"colorbar\": {\"outlinewidth\": 0, \"ticks\": \"\"}}, \"type\": \"scatterpolargl\"}], \"scatterternary\": [{\"marker\": {\"colorbar\": {\"outlinewidth\": 0, \"ticks\": \"\"}}, \"type\": \"scatterternary\"}], \"surface\": [{\"colorbar\": {\"outlinewidth\": 0, \"ticks\": \"\"}, \"colorscale\": [[0.0, \"#0d0887\"], [0.1111111111111111, \"#46039f\"], [0.2222222222222222, \"#7201a8\"], [0.3333333333333333, \"#9c179e\"], [0.4444444444444444, \"#bd3786\"], [0.5555555555555556, \"#d8576b\"], [0.6666666666666666, \"#ed7953\"], [0.7777777777777778, \"#fb9f3a\"], [0.8888888888888888, \"#fdca26\"], [1.0, \"#f0f921\"]], \"type\": \"surface\"}], \"table\": [{\"cells\": {\"fill\": {\"color\": \"#EBF0F8\"}, \"line\": {\"color\": \"white\"}}, \"header\": {\"fill\": {\"color\": \"#C8D4E3\"}, \"line\": {\"color\": \"white\"}}, \"type\": \"table\"}]}, \"layout\": {\"annotationdefaults\": {\"arrowcolor\": \"#2a3f5f\", \"arrowhead\": 0, \"arrowwidth\": 1}, \"autotypenumbers\": \"strict\", \"coloraxis\": {\"colorbar\": {\"outlinewidth\": 0, \"ticks\": \"\"}}, \"colorscale\": {\"diverging\": [[0, \"#8e0152\"], [0.1, \"#c51b7d\"], [0.2, \"#de77ae\"], [0.3, \"#f1b6da\"], [0.4, \"#fde0ef\"], [0.5, \"#f7f7f7\"], [0.6, \"#e6f5d0\"], [0.7, \"#b8e186\"], [0.8, \"#7fbc41\"], [0.9, \"#4d9221\"], [1, \"#276419\"]], \"sequential\": [[0.0, \"#0d0887\"], [0.1111111111111111, \"#46039f\"], [0.2222222222222222, \"#7201a8\"], [0.3333333333333333, \"#9c179e\"], [0.4444444444444444, \"#bd3786\"], [0.5555555555555556, \"#d8576b\"], [0.6666666666666666, \"#ed7953\"], [0.7777777777777778, \"#fb9f3a\"], [0.8888888888888888, \"#fdca26\"], [1.0, \"#f0f921\"]], \"sequentialminus\": [[0.0, \"#0d0887\"], [0.1111111111111111, \"#46039f\"], [0.2222222222222222, \"#7201a8\"], [0.3333333333333333, \"#9c179e\"], [0.4444444444444444, \"#bd3786\"], [0.5555555555555556, \"#d8576b\"], [0.6666666666666666, \"#ed7953\"], [0.7777777777777778, \"#fb9f3a\"], [0.8888888888888888, \"#fdca26\"], [1.0, \"#f0f921\"]]}, \"colorway\": [\"#636efa\", \"#EF553B\", \"#00cc96\", \"#ab63fa\", \"#FFA15A\", \"#19d3f3\", \"#FF6692\", \"#B6E880\", \"#FF97FF\", \"#FECB52\"], \"font\": {\"color\": \"#2a3f5f\"}, \"geo\": {\"bgcolor\": \"white\", \"lakecolor\": \"white\", \"landcolor\": \"#E5ECF6\", \"showlakes\": true, \"showland\": true, \"subunitcolor\": \"white\"}, \"hoverlabel\": {\"align\": \"left\"}, \"hovermode\": \"closest\", \"mapbox\": {\"style\": \"light\"}, \"paper_bgcolor\": \"white\", \"plot_bgcolor\": \"#E5ECF6\", \"polar\": {\"angularaxis\": {\"gridcolor\": \"white\", \"linecolor\": \"white\", \"ticks\": \"\"}, \"bgcolor\": \"#E5ECF6\", \"radialaxis\": {\"gridcolor\": \"white\", \"linecolor\": \"white\", \"ticks\": \"\"}}, \"scene\": {\"xaxis\": {\"backgroundcolor\": \"#E5ECF6\", \"gridcolor\": \"white\", \"gridwidth\": 2, \"linecolor\": \"white\", \"showbackground\": true, \"ticks\": \"\", \"zerolinecolor\": \"white\"}, \"yaxis\": {\"backgroundcolor\": \"#E5ECF6\", \"gridcolor\": \"white\", \"gridwidth\": 2, \"linecolor\": \"white\", \"showbackground\": true, \"ticks\": \"\", \"zerolinecolor\": \"white\"}, \"zaxis\": {\"backgroundcolor\": \"#E5ECF6\", \"gridcolor\": \"white\", \"gridwidth\": 2, \"linecolor\": \"white\", \"showbackground\": true, \"ticks\": \"\", \"zerolinecolor\": \"white\"}}, \"shapedefaults\": {\"line\": {\"color\": \"#2a3f5f\"}}, \"ternary\": {\"aaxis\": {\"gridcolor\": \"white\", \"linecolor\": \"white\", \"ticks\": \"\"}, \"baxis\": {\"gridcolor\": \"white\", \"linecolor\": \"white\", \"ticks\": \"\"}, \"bgcolor\": \"#E5ECF6\", \"caxis\": {\"gridcolor\": \"white\", \"linecolor\": \"white\", \"ticks\": \"\"}}, \"title\": {\"x\": 0.05}, \"xaxis\": {\"automargin\": true, \"gridcolor\": \"white\", \"linecolor\": \"white\", \"ticks\": \"\", \"title\": {\"standoff\": 15}, \"zerolinecolor\": \"white\", \"zerolinewidth\": 2}, \"yaxis\": {\"automargin\": true, \"gridcolor\": \"white\", \"linecolor\": \"white\", \"ticks\": \"\", \"title\": {\"standoff\": 15}, \"zerolinecolor\": \"white\", \"zerolinewidth\": 2}}}, \"title\": {\"text\": \"Scatter plot of avg Daily sales per Category\"}, \"xaxis\": {\"gridwidth\": 1, \"ticklen\": 4, \"title\": {\"text\": \"Category\"}, \"zeroline\": false}, \"yaxis\": {\"gridwidth\": 1, \"ticklen\": 10, \"title\": {\"text\": \"Avg Daily Sales\"}, \"zeroline\": false}},                        {\"responsive\": true}                    ).then(function(){\n",
              "                            \n",
              "var gd = document.getElementById('9fc7c9cf-e2a7-4014-8a87-dc8b13849d8b');\n",
              "var x = new MutationObserver(function (mutations, observer) {{\n",
              "        var display = window.getComputedStyle(gd).display;\n",
              "        if (!display || display === 'none') {{\n",
              "            console.log([gd, 'removed!']);\n",
              "            Plotly.purge(gd);\n",
              "            observer.disconnect();\n",
              "        }}\n",
              "}});\n",
              "\n",
              "// Listen for the removal of the full notebook cells\n",
              "var notebookContainer = gd.closest('#notebook-container');\n",
              "if (notebookContainer) {{\n",
              "    x.observe(notebookContainer, {childList: true});\n",
              "}}\n",
              "\n",
              "// Listen for the clearing of the current output cell\n",
              "var outputEl = gd.closest('.output');\n",
              "if (outputEl) {{\n",
              "    x.observe(outputEl, {childList: true});\n",
              "}}\n",
              "\n",
              "                        })                };                });            </script>        </div>"
            ]
          },
          "metadata": {},
          "output_type": "display_data"
        }
      ],
      "source": [
        "# Scatter plot of average sales per store\n",
        "sales_store_data = go.Scatter(\n",
        "    y = sales_across_store_df.AvgDailySale.values,\n",
        "    mode='markers',\n",
        "    marker=dict(\n",
        "        size = sales_across_store_df.AvgDailySale.values,\n",
        "        color = sales_across_store_df.AvgDailySale.values,\n",
        "        colorscale='Viridis',\n",
        "        showscale=True\n",
        "    ),\n",
        "    text = sales_across_store_df.index.values\n",
        ")\n",
        "data = [sales_store_data]\n",
        "\n",
        "sales_store_layout = go.Layout(\n",
        "    autosize= True,\n",
        "    title= 'Scatter plot of avg Daily sales per Category',\n",
        "    hovermode= 'closest',\n",
        "    xaxis= dict(\n",
        "        title= 'Category',\n",
        "        ticklen= 4,\n",
        "        zeroline= False,\n",
        "        gridwidth= 1,\n",
        "    ),\n",
        "    yaxis=dict(\n",
        "        title= 'Avg Daily Sales',\n",
        "        ticklen= 10,\n",
        "        zeroline= False,\n",
        "        gridwidth= 1,\n",
        "    ),\n",
        "    showlegend= False\n",
        ")\n",
        "fig = go.Figure(data=data, layout=sales_store_layout)\n",
        "py.iplot(fig,filename='scatter_sales_store')"
      ]
    },
    {
      "cell_type": "markdown",
      "metadata": {
        "id": "zBHs3AdVee6o"
      },
      "source": [
        "# Sales variation across item"
      ]
    },
    {
      "cell_type": "code",
      "execution_count": null,
      "metadata": {
        "id": "uwWIiJ7Zee6o",
        "outputId": "52953147-bddd-481d-9aff-91c0e2f4af81"
      },
      "outputs": [
        {
          "data": {
            "text/html": [
              "<div>\n",
              "<style scoped>\n",
              "    .dataframe tbody tr th:only-of-type {\n",
              "        vertical-align: middle;\n",
              "    }\n",
              "\n",
              "    .dataframe tbody tr th {\n",
              "        vertical-align: top;\n",
              "    }\n",
              "\n",
              "    .dataframe thead th {\n",
              "        text-align: right;\n",
              "    }\n",
              "</style>\n",
              "<table border=\"1\" class=\"dataframe\">\n",
              "  <thead>\n",
              "    <tr style=\"text-align: right;\">\n",
              "      <th></th>\n",
              "      <th>ItemID</th>\n",
              "      <th>AvgDailySale</th>\n",
              "    </tr>\n",
              "  </thead>\n",
              "  <tbody>\n",
              "    <tr>\n",
              "      <th>60</th>\n",
              "      <td>61</td>\n",
              "      <td>89.355556</td>\n",
              "    </tr>\n",
              "    <tr>\n",
              "      <th>49</th>\n",
              "      <td>50</td>\n",
              "      <td>71.310606</td>\n",
              "    </tr>\n",
              "    <tr>\n",
              "      <th>6</th>\n",
              "      <td>7</td>\n",
              "      <td>71.191176</td>\n",
              "    </tr>\n",
              "    <tr>\n",
              "      <th>157</th>\n",
              "      <td>158</td>\n",
              "      <td>34.094118</td>\n",
              "    </tr>\n",
              "    <tr>\n",
              "      <th>48</th>\n",
              "      <td>49</td>\n",
              "      <td>22.742647</td>\n",
              "    </tr>\n",
              "    <tr>\n",
              "      <th>90</th>\n",
              "      <td>91</td>\n",
              "      <td>22.442478</td>\n",
              "    </tr>\n",
              "    <tr>\n",
              "      <th>54</th>\n",
              "      <td>55</td>\n",
              "      <td>22.213235</td>\n",
              "    </tr>\n",
              "    <tr>\n",
              "      <th>18</th>\n",
              "      <td>19</td>\n",
              "      <td>20.066667</td>\n",
              "    </tr>\n",
              "    <tr>\n",
              "      <th>7</th>\n",
              "      <td>8</td>\n",
              "      <td>18.647059</td>\n",
              "    </tr>\n",
              "    <tr>\n",
              "      <th>121</th>\n",
              "      <td>122</td>\n",
              "      <td>18.029851</td>\n",
              "    </tr>\n",
              "  </tbody>\n",
              "</table>\n",
              "</div>"
            ],
            "text/plain": [
              "     ItemID  AvgDailySale\n",
              "60       61     89.355556\n",
              "49       50     71.310606\n",
              "6         7     71.191176\n",
              "157     158     34.094118\n",
              "48       49     22.742647\n",
              "90       91     22.442478\n",
              "54       55     22.213235\n",
              "18       19     20.066667\n",
              "7         8     18.647059\n",
              "121     122     18.029851"
            ]
          },
          "execution_count": 67,
          "metadata": {},
          "output_type": "execute_result"
        }
      ],
      "source": [
        "    sales_across_item_df = sales_pivoted_df.copy()\n",
        "    # Aggregate the sales per item and add it as a new row in the same dataframe\n",
        "    sales_across_item_df.loc[11] = sales_across_item_df.apply(lambda r: r.mean(), axis=0)\n",
        "    # Note the 11th index row, which is the average sale of each of the item across all the stores\n",
        "    #display(sales_across_item_df.loc[11:])\n",
        "    avg_sales_per_item_across_stores_df = pd.DataFrame(data=[[i+1,a] for i,a in enumerate(sales_across_item_df.loc[11:].values[0])], columns=['ItemID', 'AvgDailySale'])\n",
        "    # And finally, sort by avg sale\n",
        "    avg_sales_per_item_across_stores_df.sort_values(by='AvgDailySale', ascending=False, inplace=True)\n",
        "    # Display the top 10 rows\n",
        "    avg_sales_per_item_across_stores_df.head(10)"
      ]
    },
    {
      "cell_type": "code",
      "execution_count": null,
      "metadata": {
        "id": "4RPiIttIee6p",
        "outputId": "1c95c51d-22b7-47b2-f6fd-722a933c3eab"
      },
      "outputs": [
        {
          "data": {
            "application/vnd.plotly.v1+json": {
              "config": {
                "linkText": "Export to plot.ly",
                "plotlyServerURL": "https://plot.ly",
                "showLink": false
              },
              "data": [
                {
                  "marker": {
                    "color": [
                      89.35555555555555,
                      71.31060606060606,
                      71.19117647058823,
                      34.09411764705882,
                      22.74264705882353,
                      22.442477876106196,
                      22.21323529411765,
                      20.066666666666666,
                      18.647058823529413,
                      18.029850746268657,
                      16.904411764705884,
                      15.244444444444444,
                      15.220588235294118,
                      14.805309734513274,
                      14.099236641221374,
                      14.063636363636364,
                      13.860759493670885,
                      13.852941176470589,
                      13.47107438016529,
                      12.481818181818182,
                      12.323529411764707,
                      11,
                      10.669565217391304,
                      10.614814814814816,
                      10.488888888888889,
                      10.358695652173912,
                      9.829457364341085,
                      9.681818181818182,
                      9.037593984962406,
                      8.955555555555556,
                      8.763157894736842,
                      8.472527472527473,
                      8.346153846153847,
                      8.318518518518518,
                      8.223880597014926,
                      8.197916666666666,
                      8.186440677966102,
                      8.135135135135135,
                      7.82962962962963,
                      7.598484848484849,
                      7.376146788990826,
                      7.274336283185841,
                      7.230769230769231,
                      7.205882352941177,
                      7.096153846153846,
                      6.7936507936507935,
                      6.649122807017544,
                      6.622047244094488,
                      6.538461538461538,
                      6.350746268656716,
                      6.306666666666667,
                      6.298387096774194,
                      6.2384615384615385,
                      6.205607476635514,
                      6.1441441441441444,
                      6.1328125,
                      6.106870229007634,
                      6,
                      5.956521739130435,
                      5.7819548872180455,
                      5.65625,
                      5.650406504065041,
                      5.492957746478873,
                      5.477611940298507,
                      5.357142857142857,
                      5.260273972602739,
                      5.257142857142857,
                      5.207920792079208,
                      5.203252032520325,
                      5.134328358208955,
                      5.052631578947368,
                      4.8,
                      4.780821917808219,
                      4.757009345794392,
                      4.71969696969697,
                      4.552,
                      4.509803921568627,
                      4.506024096385542,
                      4.351145038167939,
                      4.30379746835443,
                      4.293478260869565,
                      4.163636363636364,
                      4.153846153846154,
                      4.084615384615384,
                      4.064,
                      3.9904761904761905,
                      3.9655172413793105,
                      3.9615384615384617,
                      3.9324324324324325,
                      3.9035087719298245,
                      3.8958333333333335,
                      3.8925619834710745,
                      3.826771653543307,
                      3.775,
                      3.768,
                      3.742424242424242,
                      3.682926829268293,
                      3.6736842105263157,
                      3.6444444444444444,
                      3.622448979591837,
                      3.6206896551724137,
                      3.617391304347826,
                      3.5309734513274336,
                      3.518987341772152,
                      3.513888888888889,
                      3.4835164835164836,
                      3.4431818181818183,
                      3.4285714285714284,
                      3.4054054054054053,
                      3.3979591836734695,
                      3.393700787401575,
                      3.376146788990826,
                      3.330188679245283,
                      3.3066666666666666,
                      3.303370786516854,
                      3.272727272727273,
                      3.260869565217391,
                      3.25,
                      3.2413793103448274,
                      3.21505376344086,
                      3.1926605504587156,
                      3.177570093457944,
                      3.1721311475409837,
                      3.1487603305785123,
                      3.13,
                      3.0825688073394497,
                      3.076923076923077,
                      3,
                      2.983050847457627,
                      2.9391304347826086,
                      2.9263157894736844,
                      2.9210526315789473,
                      2.8857142857142857,
                      2.8645833333333335,
                      2.826923076923077,
                      2.7567567567567566,
                      2.7107438016528924,
                      2.696969696969697,
                      2.694915254237288,
                      2.6666666666666665,
                      2.643835616438356,
                      2.623853211009174,
                      2.6198347107438016,
                      2.618181818181818,
                      2.611111111111111,
                      2.574468085106383,
                      2.542372881355932,
                      2.511904761904762,
                      2.5,
                      2.5,
                      2.4791666666666665,
                      2.4299065420560746,
                      2.417910447761194,
                      2.361111111111111,
                      2.3529411764705883,
                      2.3488372093023258,
                      2.3440860215053765,
                      2.3176470588235296,
                      2.308641975308642,
                      2.306451612903226,
                      2.288659793814433,
                      2.268292682926829,
                      2.265957446808511,
                      2.2588235294117647,
                      2.2253521126760565,
                      2.164705882352941,
                      2.1515151515151514,
                      2.1511627906976742,
                      2.1323529411764706,
                      2.0930232558139537,
                      2.087912087912088,
                      2.0135135135135136,
                      1.9861111111111112,
                      1.967741935483871,
                      1.9615384615384615,
                      1.9382716049382716,
                      1.934065934065934,
                      1.9295774647887325,
                      1.9230769230769231,
                      1.9166666666666667,
                      1.9157894736842105,
                      1.9066666666666667,
                      1.8985507246376812,
                      1.8636363636363635,
                      1.8620689655172413,
                      1.846938775510204,
                      1.837837837837838,
                      1.8144329896907216,
                      1.6507936507936507,
                      1.5949367088607596,
                      1.532258064516129,
                      1.5205479452054795,
                      1.4736842105263157,
                      1.421875
                    ],
                    "colorscale": [
                      [
                        0,
                        "rgb(0,0,0)"
                      ],
                      [
                        0.25,
                        "rgb(230,0,0)"
                      ],
                      [
                        0.5,
                        "rgb(230,210,0)"
                      ],
                      [
                        0.75,
                        "rgb(255,255,255)"
                      ],
                      [
                        1,
                        "rgb(160,200,255)"
                      ]
                    ],
                    "showscale": true
                  },
                  "text": [
                    61,
                    50,
                    7,
                    158,
                    49,
                    91,
                    55,
                    19,
                    8,
                    122,
                    133,
                    121,
                    149,
                    3,
                    42,
                    106,
                    9,
                    71,
                    107,
                    141,
                    92,
                    118,
                    147,
                    17,
                    12,
                    143,
                    1,
                    164,
                    22,
                    86,
                    94,
                    100,
                    79,
                    65,
                    132,
                    183,
                    76,
                    5,
                    39,
                    137,
                    95,
                    62,
                    138,
                    33,
                    142,
                    130,
                    129,
                    87,
                    2,
                    44,
                    178,
                    58,
                    139,
                    189,
                    176,
                    13,
                    145,
                    148,
                    21,
                    89,
                    24,
                    25,
                    170,
                    60,
                    140,
                    167,
                    37,
                    109,
                    11,
                    54,
                    171,
                    188,
                    80,
                    136,
                    81,
                    99,
                    97,
                    113,
                    26,
                    38,
                    6,
                    64,
                    101,
                    88,
                    150,
                    51,
                    135,
                    84,
                    162,
                    56,
                    53,
                    57,
                    41,
                    177,
                    155,
                    163,
                    165,
                    108,
                    114,
                    30,
                    78,
                    173,
                    10,
                    125,
                    169,
                    123,
                    98,
                    131,
                    15,
                    134,
                    52,
                    35,
                    72,
                    117,
                    29,
                    43,
                    182,
                    161,
                    90,
                    168,
                    28,
                    85,
                    126,
                    63,
                    47,
                    20,
                    111,
                    14,
                    154,
                    124,
                    67,
                    190,
                    105,
                    83,
                    191,
                    127,
                    69,
                    32,
                    23,
                    156,
                    159,
                    73,
                    93,
                    48,
                    157,
                    70,
                    180,
                    172,
                    166,
                    77,
                    4,
                    45,
                    112,
                    59,
                    179,
                    74,
                    144,
                    96,
                    46,
                    181,
                    128,
                    160,
                    187,
                    115,
                    40,
                    153,
                    119,
                    36,
                    31,
                    151,
                    146,
                    75,
                    110,
                    27,
                    194,
                    66,
                    68,
                    16,
                    104,
                    82,
                    184,
                    186,
                    192,
                    193,
                    116,
                    102,
                    18,
                    103,
                    175,
                    185,
                    152,
                    174,
                    120,
                    34
                  ],
                  "type": "bar",
                  "x": [
                    0,
                    1,
                    2,
                    3,
                    4,
                    5,
                    6,
                    7,
                    8,
                    9,
                    10,
                    11,
                    12,
                    13,
                    14,
                    15,
                    16,
                    17,
                    18,
                    19,
                    20,
                    21,
                    22,
                    23,
                    24,
                    25,
                    26,
                    27,
                    28,
                    29,
                    30,
                    31,
                    32,
                    33,
                    34,
                    35,
                    36,
                    37,
                    38,
                    39,
                    40,
                    41,
                    42,
                    43,
                    44,
                    45,
                    46,
                    47,
                    48,
                    49,
                    50,
                    51,
                    52,
                    53,
                    54,
                    55,
                    56,
                    57,
                    58,
                    59,
                    60,
                    61,
                    62,
                    63,
                    64,
                    65,
                    66,
                    67,
                    68,
                    69,
                    70,
                    71,
                    72,
                    73,
                    74,
                    75,
                    76,
                    77,
                    78,
                    79,
                    80,
                    81,
                    82,
                    83,
                    84,
                    85,
                    86,
                    87,
                    88,
                    89,
                    90,
                    91,
                    92,
                    93,
                    94,
                    95,
                    96,
                    97,
                    98,
                    99,
                    100,
                    101,
                    102,
                    103,
                    104,
                    105,
                    106,
                    107,
                    108,
                    109,
                    110,
                    111,
                    112,
                    113,
                    114,
                    115,
                    116,
                    117,
                    118,
                    119,
                    120,
                    121,
                    122,
                    123,
                    124,
                    125,
                    126,
                    127,
                    128,
                    129,
                    130,
                    131,
                    132,
                    133,
                    134,
                    135,
                    136,
                    137,
                    138,
                    139,
                    140,
                    141,
                    142,
                    143,
                    144,
                    145,
                    146,
                    147,
                    148,
                    149,
                    150,
                    151,
                    152,
                    153,
                    154,
                    155,
                    156,
                    157,
                    158,
                    159,
                    160,
                    161,
                    162,
                    163,
                    164,
                    165,
                    166,
                    167,
                    168,
                    169,
                    170,
                    171,
                    172,
                    173,
                    174,
                    175,
                    176,
                    177,
                    178,
                    179,
                    180,
                    181,
                    182,
                    183,
                    184,
                    185,
                    186,
                    187,
                    188,
                    189,
                    190,
                    191,
                    192,
                    193,
                    194,
                    195,
                    196,
                    197,
                    198,
                    199
                  ],
                  "y": [
                    89.35555555555555,
                    71.31060606060606,
                    71.19117647058823,
                    34.09411764705882,
                    22.74264705882353,
                    22.442477876106196,
                    22.21323529411765,
                    20.066666666666666,
                    18.647058823529413,
                    18.029850746268657,
                    16.904411764705884,
                    15.244444444444444,
                    15.220588235294118,
                    14.805309734513274,
                    14.099236641221374,
                    14.063636363636364,
                    13.860759493670885,
                    13.852941176470589,
                    13.47107438016529,
                    12.481818181818182,
                    12.323529411764707,
                    11,
                    10.669565217391304,
                    10.614814814814816,
                    10.488888888888889,
                    10.358695652173912,
                    9.829457364341085,
                    9.681818181818182,
                    9.037593984962406,
                    8.955555555555556,
                    8.763157894736842,
                    8.472527472527473,
                    8.346153846153847,
                    8.318518518518518,
                    8.223880597014926,
                    8.197916666666666,
                    8.186440677966102,
                    8.135135135135135,
                    7.82962962962963,
                    7.598484848484849,
                    7.376146788990826,
                    7.274336283185841,
                    7.230769230769231,
                    7.205882352941177,
                    7.096153846153846,
                    6.7936507936507935,
                    6.649122807017544,
                    6.622047244094488,
                    6.538461538461538,
                    6.350746268656716,
                    6.306666666666667,
                    6.298387096774194,
                    6.2384615384615385,
                    6.205607476635514,
                    6.1441441441441444,
                    6.1328125,
                    6.106870229007634,
                    6,
                    5.956521739130435,
                    5.7819548872180455,
                    5.65625,
                    5.650406504065041,
                    5.492957746478873,
                    5.477611940298507,
                    5.357142857142857,
                    5.260273972602739,
                    5.257142857142857,
                    5.207920792079208,
                    5.203252032520325,
                    5.134328358208955,
                    5.052631578947368,
                    4.8,
                    4.780821917808219,
                    4.757009345794392,
                    4.71969696969697,
                    4.552,
                    4.509803921568627,
                    4.506024096385542,
                    4.351145038167939,
                    4.30379746835443,
                    4.293478260869565,
                    4.163636363636364,
                    4.153846153846154,
                    4.084615384615384,
                    4.064,
                    3.9904761904761905,
                    3.9655172413793105,
                    3.9615384615384617,
                    3.9324324324324325,
                    3.9035087719298245,
                    3.8958333333333335,
                    3.8925619834710745,
                    3.826771653543307,
                    3.775,
                    3.768,
                    3.742424242424242,
                    3.682926829268293,
                    3.6736842105263157,
                    3.6444444444444444,
                    3.622448979591837,
                    3.6206896551724137,
                    3.617391304347826,
                    3.5309734513274336,
                    3.518987341772152,
                    3.513888888888889,
                    3.4835164835164836,
                    3.4431818181818183,
                    3.4285714285714284,
                    3.4054054054054053,
                    3.3979591836734695,
                    3.393700787401575,
                    3.376146788990826,
                    3.330188679245283,
                    3.3066666666666666,
                    3.303370786516854,
                    3.272727272727273,
                    3.260869565217391,
                    3.25,
                    3.2413793103448274,
                    3.21505376344086,
                    3.1926605504587156,
                    3.177570093457944,
                    3.1721311475409837,
                    3.1487603305785123,
                    3.13,
                    3.0825688073394497,
                    3.076923076923077,
                    3,
                    2.983050847457627,
                    2.9391304347826086,
                    2.9263157894736844,
                    2.9210526315789473,
                    2.8857142857142857,
                    2.8645833333333335,
                    2.826923076923077,
                    2.7567567567567566,
                    2.7107438016528924,
                    2.696969696969697,
                    2.694915254237288,
                    2.6666666666666665,
                    2.643835616438356,
                    2.623853211009174,
                    2.6198347107438016,
                    2.618181818181818,
                    2.611111111111111,
                    2.574468085106383,
                    2.542372881355932,
                    2.511904761904762,
                    2.5,
                    2.5,
                    2.4791666666666665,
                    2.4299065420560746,
                    2.417910447761194,
                    2.361111111111111,
                    2.3529411764705883,
                    2.3488372093023258,
                    2.3440860215053765,
                    2.3176470588235296,
                    2.308641975308642,
                    2.306451612903226,
                    2.288659793814433,
                    2.268292682926829,
                    2.265957446808511,
                    2.2588235294117647,
                    2.2253521126760565,
                    2.164705882352941,
                    2.1515151515151514,
                    2.1511627906976742,
                    2.1323529411764706,
                    2.0930232558139537,
                    2.087912087912088,
                    2.0135135135135136,
                    1.9861111111111112,
                    1.967741935483871,
                    1.9615384615384615,
                    1.9382716049382716,
                    1.934065934065934,
                    1.9295774647887325,
                    1.9230769230769231,
                    1.9166666666666667,
                    1.9157894736842105,
                    1.9066666666666667,
                    1.8985507246376812,
                    1.8636363636363635,
                    1.8620689655172413,
                    1.846938775510204,
                    1.837837837837838,
                    1.8144329896907216,
                    1.6507936507936507,
                    1.5949367088607596,
                    1.532258064516129,
                    1.5205479452054795,
                    1.4736842105263157,
                    1.421875
                  ]
                }
              ],
              "layout": {
                "autosize": true,
                "hovermode": "closest",
                "showlegend": false,
                "template": {
                  "data": {
                    "bar": [
                      {
                        "error_x": {
                          "color": "#2a3f5f"
                        },
                        "error_y": {
                          "color": "#2a3f5f"
                        },
                        "marker": {
                          "line": {
                            "color": "#E5ECF6",
                            "width": 0.5
                          }
                        },
                        "type": "bar"
                      }
                    ],
                    "barpolar": [
                      {
                        "marker": {
                          "line": {
                            "color": "#E5ECF6",
                            "width": 0.5
                          }
                        },
                        "type": "barpolar"
                      }
                    ],
                    "carpet": [
                      {
                        "aaxis": {
                          "endlinecolor": "#2a3f5f",
                          "gridcolor": "white",
                          "linecolor": "white",
                          "minorgridcolor": "white",
                          "startlinecolor": "#2a3f5f"
                        },
                        "baxis": {
                          "endlinecolor": "#2a3f5f",
                          "gridcolor": "white",
                          "linecolor": "white",
                          "minorgridcolor": "white",
                          "startlinecolor": "#2a3f5f"
                        },
                        "type": "carpet"
                      }
                    ],
                    "choropleth": [
                      {
                        "colorbar": {
                          "outlinewidth": 0,
                          "ticks": ""
                        },
                        "type": "choropleth"
                      }
                    ],
                    "contour": [
                      {
                        "colorbar": {
                          "outlinewidth": 0,
                          "ticks": ""
                        },
                        "colorscale": [
                          [
                            0,
                            "#0d0887"
                          ],
                          [
                            0.1111111111111111,
                            "#46039f"
                          ],
                          [
                            0.2222222222222222,
                            "#7201a8"
                          ],
                          [
                            0.3333333333333333,
                            "#9c179e"
                          ],
                          [
                            0.4444444444444444,
                            "#bd3786"
                          ],
                          [
                            0.5555555555555556,
                            "#d8576b"
                          ],
                          [
                            0.6666666666666666,
                            "#ed7953"
                          ],
                          [
                            0.7777777777777778,
                            "#fb9f3a"
                          ],
                          [
                            0.8888888888888888,
                            "#fdca26"
                          ],
                          [
                            1,
                            "#f0f921"
                          ]
                        ],
                        "type": "contour"
                      }
                    ],
                    "contourcarpet": [
                      {
                        "colorbar": {
                          "outlinewidth": 0,
                          "ticks": ""
                        },
                        "type": "contourcarpet"
                      }
                    ],
                    "heatmap": [
                      {
                        "colorbar": {
                          "outlinewidth": 0,
                          "ticks": ""
                        },
                        "colorscale": [
                          [
                            0,
                            "#0d0887"
                          ],
                          [
                            0.1111111111111111,
                            "#46039f"
                          ],
                          [
                            0.2222222222222222,
                            "#7201a8"
                          ],
                          [
                            0.3333333333333333,
                            "#9c179e"
                          ],
                          [
                            0.4444444444444444,
                            "#bd3786"
                          ],
                          [
                            0.5555555555555556,
                            "#d8576b"
                          ],
                          [
                            0.6666666666666666,
                            "#ed7953"
                          ],
                          [
                            0.7777777777777778,
                            "#fb9f3a"
                          ],
                          [
                            0.8888888888888888,
                            "#fdca26"
                          ],
                          [
                            1,
                            "#f0f921"
                          ]
                        ],
                        "type": "heatmap"
                      }
                    ],
                    "heatmapgl": [
                      {
                        "colorbar": {
                          "outlinewidth": 0,
                          "ticks": ""
                        },
                        "colorscale": [
                          [
                            0,
                            "#0d0887"
                          ],
                          [
                            0.1111111111111111,
                            "#46039f"
                          ],
                          [
                            0.2222222222222222,
                            "#7201a8"
                          ],
                          [
                            0.3333333333333333,
                            "#9c179e"
                          ],
                          [
                            0.4444444444444444,
                            "#bd3786"
                          ],
                          [
                            0.5555555555555556,
                            "#d8576b"
                          ],
                          [
                            0.6666666666666666,
                            "#ed7953"
                          ],
                          [
                            0.7777777777777778,
                            "#fb9f3a"
                          ],
                          [
                            0.8888888888888888,
                            "#fdca26"
                          ],
                          [
                            1,
                            "#f0f921"
                          ]
                        ],
                        "type": "heatmapgl"
                      }
                    ],
                    "histogram": [
                      {
                        "marker": {
                          "colorbar": {
                            "outlinewidth": 0,
                            "ticks": ""
                          }
                        },
                        "type": "histogram"
                      }
                    ],
                    "histogram2d": [
                      {
                        "colorbar": {
                          "outlinewidth": 0,
                          "ticks": ""
                        },
                        "colorscale": [
                          [
                            0,
                            "#0d0887"
                          ],
                          [
                            0.1111111111111111,
                            "#46039f"
                          ],
                          [
                            0.2222222222222222,
                            "#7201a8"
                          ],
                          [
                            0.3333333333333333,
                            "#9c179e"
                          ],
                          [
                            0.4444444444444444,
                            "#bd3786"
                          ],
                          [
                            0.5555555555555556,
                            "#d8576b"
                          ],
                          [
                            0.6666666666666666,
                            "#ed7953"
                          ],
                          [
                            0.7777777777777778,
                            "#fb9f3a"
                          ],
                          [
                            0.8888888888888888,
                            "#fdca26"
                          ],
                          [
                            1,
                            "#f0f921"
                          ]
                        ],
                        "type": "histogram2d"
                      }
                    ],
                    "histogram2dcontour": [
                      {
                        "colorbar": {
                          "outlinewidth": 0,
                          "ticks": ""
                        },
                        "colorscale": [
                          [
                            0,
                            "#0d0887"
                          ],
                          [
                            0.1111111111111111,
                            "#46039f"
                          ],
                          [
                            0.2222222222222222,
                            "#7201a8"
                          ],
                          [
                            0.3333333333333333,
                            "#9c179e"
                          ],
                          [
                            0.4444444444444444,
                            "#bd3786"
                          ],
                          [
                            0.5555555555555556,
                            "#d8576b"
                          ],
                          [
                            0.6666666666666666,
                            "#ed7953"
                          ],
                          [
                            0.7777777777777778,
                            "#fb9f3a"
                          ],
                          [
                            0.8888888888888888,
                            "#fdca26"
                          ],
                          [
                            1,
                            "#f0f921"
                          ]
                        ],
                        "type": "histogram2dcontour"
                      }
                    ],
                    "mesh3d": [
                      {
                        "colorbar": {
                          "outlinewidth": 0,
                          "ticks": ""
                        },
                        "type": "mesh3d"
                      }
                    ],
                    "parcoords": [
                      {
                        "line": {
                          "colorbar": {
                            "outlinewidth": 0,
                            "ticks": ""
                          }
                        },
                        "type": "parcoords"
                      }
                    ],
                    "pie": [
                      {
                        "automargin": true,
                        "type": "pie"
                      }
                    ],
                    "scatter": [
                      {
                        "marker": {
                          "colorbar": {
                            "outlinewidth": 0,
                            "ticks": ""
                          }
                        },
                        "type": "scatter"
                      }
                    ],
                    "scatter3d": [
                      {
                        "line": {
                          "colorbar": {
                            "outlinewidth": 0,
                            "ticks": ""
                          }
                        },
                        "marker": {
                          "colorbar": {
                            "outlinewidth": 0,
                            "ticks": ""
                          }
                        },
                        "type": "scatter3d"
                      }
                    ],
                    "scattercarpet": [
                      {
                        "marker": {
                          "colorbar": {
                            "outlinewidth": 0,
                            "ticks": ""
                          }
                        },
                        "type": "scattercarpet"
                      }
                    ],
                    "scattergeo": [
                      {
                        "marker": {
                          "colorbar": {
                            "outlinewidth": 0,
                            "ticks": ""
                          }
                        },
                        "type": "scattergeo"
                      }
                    ],
                    "scattergl": [
                      {
                        "marker": {
                          "colorbar": {
                            "outlinewidth": 0,
                            "ticks": ""
                          }
                        },
                        "type": "scattergl"
                      }
                    ],
                    "scattermapbox": [
                      {
                        "marker": {
                          "colorbar": {
                            "outlinewidth": 0,
                            "ticks": ""
                          }
                        },
                        "type": "scattermapbox"
                      }
                    ],
                    "scatterpolar": [
                      {
                        "marker": {
                          "colorbar": {
                            "outlinewidth": 0,
                            "ticks": ""
                          }
                        },
                        "type": "scatterpolar"
                      }
                    ],
                    "scatterpolargl": [
                      {
                        "marker": {
                          "colorbar": {
                            "outlinewidth": 0,
                            "ticks": ""
                          }
                        },
                        "type": "scatterpolargl"
                      }
                    ],
                    "scatterternary": [
                      {
                        "marker": {
                          "colorbar": {
                            "outlinewidth": 0,
                            "ticks": ""
                          }
                        },
                        "type": "scatterternary"
                      }
                    ],
                    "surface": [
                      {
                        "colorbar": {
                          "outlinewidth": 0,
                          "ticks": ""
                        },
                        "colorscale": [
                          [
                            0,
                            "#0d0887"
                          ],
                          [
                            0.1111111111111111,
                            "#46039f"
                          ],
                          [
                            0.2222222222222222,
                            "#7201a8"
                          ],
                          [
                            0.3333333333333333,
                            "#9c179e"
                          ],
                          [
                            0.4444444444444444,
                            "#bd3786"
                          ],
                          [
                            0.5555555555555556,
                            "#d8576b"
                          ],
                          [
                            0.6666666666666666,
                            "#ed7953"
                          ],
                          [
                            0.7777777777777778,
                            "#fb9f3a"
                          ],
                          [
                            0.8888888888888888,
                            "#fdca26"
                          ],
                          [
                            1,
                            "#f0f921"
                          ]
                        ],
                        "type": "surface"
                      }
                    ],
                    "table": [
                      {
                        "cells": {
                          "fill": {
                            "color": "#EBF0F8"
                          },
                          "line": {
                            "color": "white"
                          }
                        },
                        "header": {
                          "fill": {
                            "color": "#C8D4E3"
                          },
                          "line": {
                            "color": "white"
                          }
                        },
                        "type": "table"
                      }
                    ]
                  },
                  "layout": {
                    "annotationdefaults": {
                      "arrowcolor": "#2a3f5f",
                      "arrowhead": 0,
                      "arrowwidth": 1
                    },
                    "autotypenumbers": "strict",
                    "coloraxis": {
                      "colorbar": {
                        "outlinewidth": 0,
                        "ticks": ""
                      }
                    },
                    "colorscale": {
                      "diverging": [
                        [
                          0,
                          "#8e0152"
                        ],
                        [
                          0.1,
                          "#c51b7d"
                        ],
                        [
                          0.2,
                          "#de77ae"
                        ],
                        [
                          0.3,
                          "#f1b6da"
                        ],
                        [
                          0.4,
                          "#fde0ef"
                        ],
                        [
                          0.5,
                          "#f7f7f7"
                        ],
                        [
                          0.6,
                          "#e6f5d0"
                        ],
                        [
                          0.7,
                          "#b8e186"
                        ],
                        [
                          0.8,
                          "#7fbc41"
                        ],
                        [
                          0.9,
                          "#4d9221"
                        ],
                        [
                          1,
                          "#276419"
                        ]
                      ],
                      "sequential": [
                        [
                          0,
                          "#0d0887"
                        ],
                        [
                          0.1111111111111111,
                          "#46039f"
                        ],
                        [
                          0.2222222222222222,
                          "#7201a8"
                        ],
                        [
                          0.3333333333333333,
                          "#9c179e"
                        ],
                        [
                          0.4444444444444444,
                          "#bd3786"
                        ],
                        [
                          0.5555555555555556,
                          "#d8576b"
                        ],
                        [
                          0.6666666666666666,
                          "#ed7953"
                        ],
                        [
                          0.7777777777777778,
                          "#fb9f3a"
                        ],
                        [
                          0.8888888888888888,
                          "#fdca26"
                        ],
                        [
                          1,
                          "#f0f921"
                        ]
                      ],
                      "sequentialminus": [
                        [
                          0,
                          "#0d0887"
                        ],
                        [
                          0.1111111111111111,
                          "#46039f"
                        ],
                        [
                          0.2222222222222222,
                          "#7201a8"
                        ],
                        [
                          0.3333333333333333,
                          "#9c179e"
                        ],
                        [
                          0.4444444444444444,
                          "#bd3786"
                        ],
                        [
                          0.5555555555555556,
                          "#d8576b"
                        ],
                        [
                          0.6666666666666666,
                          "#ed7953"
                        ],
                        [
                          0.7777777777777778,
                          "#fb9f3a"
                        ],
                        [
                          0.8888888888888888,
                          "#fdca26"
                        ],
                        [
                          1,
                          "#f0f921"
                        ]
                      ]
                    },
                    "colorway": [
                      "#636efa",
                      "#EF553B",
                      "#00cc96",
                      "#ab63fa",
                      "#FFA15A",
                      "#19d3f3",
                      "#FF6692",
                      "#B6E880",
                      "#FF97FF",
                      "#FECB52"
                    ],
                    "font": {
                      "color": "#2a3f5f"
                    },
                    "geo": {
                      "bgcolor": "white",
                      "lakecolor": "white",
                      "landcolor": "#E5ECF6",
                      "showlakes": true,
                      "showland": true,
                      "subunitcolor": "white"
                    },
                    "hoverlabel": {
                      "align": "left"
                    },
                    "hovermode": "closest",
                    "mapbox": {
                      "style": "light"
                    },
                    "paper_bgcolor": "white",
                    "plot_bgcolor": "#E5ECF6",
                    "polar": {
                      "angularaxis": {
                        "gridcolor": "white",
                        "linecolor": "white",
                        "ticks": ""
                      },
                      "bgcolor": "#E5ECF6",
                      "radialaxis": {
                        "gridcolor": "white",
                        "linecolor": "white",
                        "ticks": ""
                      }
                    },
                    "scene": {
                      "xaxis": {
                        "backgroundcolor": "#E5ECF6",
                        "gridcolor": "white",
                        "gridwidth": 2,
                        "linecolor": "white",
                        "showbackground": true,
                        "ticks": "",
                        "zerolinecolor": "white"
                      },
                      "yaxis": {
                        "backgroundcolor": "#E5ECF6",
                        "gridcolor": "white",
                        "gridwidth": 2,
                        "linecolor": "white",
                        "showbackground": true,
                        "ticks": "",
                        "zerolinecolor": "white"
                      },
                      "zaxis": {
                        "backgroundcolor": "#E5ECF6",
                        "gridcolor": "white",
                        "gridwidth": 2,
                        "linecolor": "white",
                        "showbackground": true,
                        "ticks": "",
                        "zerolinecolor": "white"
                      }
                    },
                    "shapedefaults": {
                      "line": {
                        "color": "#2a3f5f"
                      }
                    },
                    "ternary": {
                      "aaxis": {
                        "gridcolor": "white",
                        "linecolor": "white",
                        "ticks": ""
                      },
                      "baxis": {
                        "gridcolor": "white",
                        "linecolor": "white",
                        "ticks": ""
                      },
                      "bgcolor": "#E5ECF6",
                      "caxis": {
                        "gridcolor": "white",
                        "linecolor": "white",
                        "ticks": ""
                      }
                    },
                    "title": {
                      "x": 0.05
                    },
                    "xaxis": {
                      "automargin": true,
                      "gridcolor": "white",
                      "linecolor": "white",
                      "ticks": "",
                      "title": {
                        "standoff": 15
                      },
                      "zerolinecolor": "white",
                      "zerolinewidth": 2
                    },
                    "yaxis": {
                      "automargin": true,
                      "gridcolor": "white",
                      "linecolor": "white",
                      "ticks": "",
                      "title": {
                        "standoff": 15
                      },
                      "zerolinecolor": "white",
                      "zerolinewidth": 2
                    }
                  }
                },
                "title": {
                  "text": "Scatter plot of avg sales per item"
                },
                "xaxis": {
                  "gridwidth": 1,
                  "ticklen": 200,
                  "title": {
                    "text": "Items"
                  },
                  "zeroline": false
                },
                "yaxis": {
                  "gridwidth": 1,
                  "ticklen": 10,
                  "title": {
                    "text": "Avg Sales"
                  },
                  "zeroline": false
                }
              }
            },
            "text/html": [
              "<div>                            <div id=\"f68f9e4a-66e7-459a-a8a0-0fd2e00ffefa\" class=\"plotly-graph-div\" style=\"height:525px; width:100%;\"></div>            <script type=\"text/javascript\">                require([\"plotly\"], function(Plotly) {                    window.PLOTLYENV=window.PLOTLYENV || {};                                    if (document.getElementById(\"f68f9e4a-66e7-459a-a8a0-0fd2e00ffefa\")) {                    Plotly.newPlot(                        \"f68f9e4a-66e7-459a-a8a0-0fd2e00ffefa\",                        [{\"marker\": {\"color\": [89.35555555555555, 71.31060606060606, 71.19117647058823, 34.09411764705882, 22.74264705882353, 22.442477876106196, 22.21323529411765, 20.066666666666666, 18.647058823529413, 18.029850746268657, 16.904411764705884, 15.244444444444444, 15.220588235294118, 14.805309734513274, 14.099236641221374, 14.063636363636364, 13.860759493670885, 13.852941176470589, 13.47107438016529, 12.481818181818182, 12.323529411764707, 11.0, 10.669565217391304, 10.614814814814816, 10.488888888888889, 10.358695652173912, 9.829457364341085, 9.681818181818182, 9.037593984962406, 8.955555555555556, 8.763157894736842, 8.472527472527473, 8.346153846153847, 8.318518518518518, 8.223880597014926, 8.197916666666666, 8.186440677966102, 8.135135135135135, 7.82962962962963, 7.598484848484849, 7.376146788990826, 7.274336283185841, 7.230769230769231, 7.205882352941177, 7.096153846153846, 6.7936507936507935, 6.649122807017544, 6.622047244094488, 6.538461538461538, 6.350746268656716, 6.306666666666667, 6.298387096774194, 6.2384615384615385, 6.205607476635514, 6.1441441441441444, 6.1328125, 6.106870229007634, 6.0, 5.956521739130435, 5.7819548872180455, 5.65625, 5.650406504065041, 5.492957746478873, 5.477611940298507, 5.357142857142857, 5.260273972602739, 5.257142857142857, 5.207920792079208, 5.203252032520325, 5.134328358208955, 5.052631578947368, 4.8, 4.780821917808219, 4.757009345794392, 4.71969696969697, 4.552, 4.509803921568627, 4.506024096385542, 4.351145038167939, 4.30379746835443, 4.293478260869565, 4.163636363636364, 4.153846153846154, 4.084615384615384, 4.064, 3.9904761904761905, 3.9655172413793105, 3.9615384615384617, 3.9324324324324325, 3.9035087719298245, 3.8958333333333335, 3.8925619834710745, 3.826771653543307, 3.775, 3.768, 3.742424242424242, 3.682926829268293, 3.6736842105263157, 3.6444444444444444, 3.622448979591837, 3.6206896551724137, 3.617391304347826, 3.5309734513274336, 3.518987341772152, 3.513888888888889, 3.4835164835164836, 3.4431818181818183, 3.4285714285714284, 3.4054054054054053, 3.3979591836734695, 3.393700787401575, 3.376146788990826, 3.330188679245283, 3.3066666666666666, 3.303370786516854, 3.272727272727273, 3.260869565217391, 3.25, 3.2413793103448274, 3.21505376344086, 3.1926605504587156, 3.177570093457944, 3.1721311475409837, 3.1487603305785123, 3.13, 3.0825688073394497, 3.076923076923077, 3.0, 2.983050847457627, 2.9391304347826086, 2.9263157894736844, 2.9210526315789473, 2.8857142857142857, 2.8645833333333335, 2.826923076923077, 2.7567567567567566, 2.7107438016528924, 2.696969696969697, 2.694915254237288, 2.6666666666666665, 2.643835616438356, 2.623853211009174, 2.6198347107438016, 2.618181818181818, 2.611111111111111, 2.574468085106383, 2.542372881355932, 2.511904761904762, 2.5, 2.5, 2.4791666666666665, 2.4299065420560746, 2.417910447761194, 2.361111111111111, 2.3529411764705883, 2.3488372093023258, 2.3440860215053765, 2.3176470588235296, 2.308641975308642, 2.306451612903226, 2.288659793814433, 2.268292682926829, 2.265957446808511, 2.2588235294117647, 2.2253521126760565, 2.164705882352941, 2.1515151515151514, 2.1511627906976742, 2.1323529411764706, 2.0930232558139537, 2.087912087912088, 2.0135135135135136, 1.9861111111111112, 1.967741935483871, 1.9615384615384615, 1.9382716049382716, 1.934065934065934, 1.9295774647887325, 1.9230769230769231, 1.9166666666666667, 1.9157894736842105, 1.9066666666666667, 1.8985507246376812, 1.8636363636363635, 1.8620689655172413, 1.846938775510204, 1.837837837837838, 1.8144329896907216, 1.6507936507936507, 1.5949367088607596, 1.532258064516129, 1.5205479452054795, 1.4736842105263157, 1.421875], \"colorscale\": [[0.0, \"rgb(0,0,0)\"], [0.25, \"rgb(230,0,0)\"], [0.5, \"rgb(230,210,0)\"], [0.75, \"rgb(255,255,255)\"], [1.0, \"rgb(160,200,255)\"]], \"showscale\": true}, \"text\": [61.0, 50.0, 7.0, 158.0, 49.0, 91.0, 55.0, 19.0, 8.0, 122.0, 133.0, 121.0, 149.0, 3.0, 42.0, 106.0, 9.0, 71.0, 107.0, 141.0, 92.0, 118.0, 147.0, 17.0, 12.0, 143.0, 1.0, 164.0, 22.0, 86.0, 94.0, 100.0, 79.0, 65.0, 132.0, 183.0, 76.0, 5.0, 39.0, 137.0, 95.0, 62.0, 138.0, 33.0, 142.0, 130.0, 129.0, 87.0, 2.0, 44.0, 178.0, 58.0, 139.0, 189.0, 176.0, 13.0, 145.0, 148.0, 21.0, 89.0, 24.0, 25.0, 170.0, 60.0, 140.0, 167.0, 37.0, 109.0, 11.0, 54.0, 171.0, 188.0, 80.0, 136.0, 81.0, 99.0, 97.0, 113.0, 26.0, 38.0, 6.0, 64.0, 101.0, 88.0, 150.0, 51.0, 135.0, 84.0, 162.0, 56.0, 53.0, 57.0, 41.0, 177.0, 155.0, 163.0, 165.0, 108.0, 114.0, 30.0, 78.0, 173.0, 10.0, 125.0, 169.0, 123.0, 98.0, 131.0, 15.0, 134.0, 52.0, 35.0, 72.0, 117.0, 29.0, 43.0, 182.0, 161.0, 90.0, 168.0, 28.0, 85.0, 126.0, 63.0, 47.0, 20.0, 111.0, 14.0, 154.0, 124.0, 67.0, 190.0, 105.0, 83.0, 191.0, 127.0, 69.0, 32.0, 23.0, 156.0, 159.0, 73.0, 93.0, 48.0, 157.0, 70.0, 180.0, 172.0, 166.0, 77.0, 4.0, 45.0, 112.0, 59.0, 179.0, 74.0, 144.0, 96.0, 46.0, 181.0, 128.0, 160.0, 187.0, 115.0, 40.0, 153.0, 119.0, 36.0, 31.0, 151.0, 146.0, 75.0, 110.0, 27.0, 194.0, 66.0, 68.0, 16.0, 104.0, 82.0, 184.0, 186.0, 192.0, 193.0, 116.0, 102.0, 18.0, 103.0, 175.0, 185.0, 152.0, 174.0, 120.0, 34.0], \"type\": \"bar\", \"x\": [0, 1, 2, 3, 4, 5, 6, 7, 8, 9, 10, 11, 12, 13, 14, 15, 16, 17, 18, 19, 20, 21, 22, 23, 24, 25, 26, 27, 28, 29, 30, 31, 32, 33, 34, 35, 36, 37, 38, 39, 40, 41, 42, 43, 44, 45, 46, 47, 48, 49, 50, 51, 52, 53, 54, 55, 56, 57, 58, 59, 60, 61, 62, 63, 64, 65, 66, 67, 68, 69, 70, 71, 72, 73, 74, 75, 76, 77, 78, 79, 80, 81, 82, 83, 84, 85, 86, 87, 88, 89, 90, 91, 92, 93, 94, 95, 96, 97, 98, 99, 100, 101, 102, 103, 104, 105, 106, 107, 108, 109, 110, 111, 112, 113, 114, 115, 116, 117, 118, 119, 120, 121, 122, 123, 124, 125, 126, 127, 128, 129, 130, 131, 132, 133, 134, 135, 136, 137, 138, 139, 140, 141, 142, 143, 144, 145, 146, 147, 148, 149, 150, 151, 152, 153, 154, 155, 156, 157, 158, 159, 160, 161, 162, 163, 164, 165, 166, 167, 168, 169, 170, 171, 172, 173, 174, 175, 176, 177, 178, 179, 180, 181, 182, 183, 184, 185, 186, 187, 188, 189, 190, 191, 192, 193, 194, 195, 196, 197, 198, 199], \"y\": [89.35555555555555, 71.31060606060606, 71.19117647058823, 34.09411764705882, 22.74264705882353, 22.442477876106196, 22.21323529411765, 20.066666666666666, 18.647058823529413, 18.029850746268657, 16.904411764705884, 15.244444444444444, 15.220588235294118, 14.805309734513274, 14.099236641221374, 14.063636363636364, 13.860759493670885, 13.852941176470589, 13.47107438016529, 12.481818181818182, 12.323529411764707, 11.0, 10.669565217391304, 10.614814814814816, 10.488888888888889, 10.358695652173912, 9.829457364341085, 9.681818181818182, 9.037593984962406, 8.955555555555556, 8.763157894736842, 8.472527472527473, 8.346153846153847, 8.318518518518518, 8.223880597014926, 8.197916666666666, 8.186440677966102, 8.135135135135135, 7.82962962962963, 7.598484848484849, 7.376146788990826, 7.274336283185841, 7.230769230769231, 7.205882352941177, 7.096153846153846, 6.7936507936507935, 6.649122807017544, 6.622047244094488, 6.538461538461538, 6.350746268656716, 6.306666666666667, 6.298387096774194, 6.2384615384615385, 6.205607476635514, 6.1441441441441444, 6.1328125, 6.106870229007634, 6.0, 5.956521739130435, 5.7819548872180455, 5.65625, 5.650406504065041, 5.492957746478873, 5.477611940298507, 5.357142857142857, 5.260273972602739, 5.257142857142857, 5.207920792079208, 5.203252032520325, 5.134328358208955, 5.052631578947368, 4.8, 4.780821917808219, 4.757009345794392, 4.71969696969697, 4.552, 4.509803921568627, 4.506024096385542, 4.351145038167939, 4.30379746835443, 4.293478260869565, 4.163636363636364, 4.153846153846154, 4.084615384615384, 4.064, 3.9904761904761905, 3.9655172413793105, 3.9615384615384617, 3.9324324324324325, 3.9035087719298245, 3.8958333333333335, 3.8925619834710745, 3.826771653543307, 3.775, 3.768, 3.742424242424242, 3.682926829268293, 3.6736842105263157, 3.6444444444444444, 3.622448979591837, 3.6206896551724137, 3.617391304347826, 3.5309734513274336, 3.518987341772152, 3.513888888888889, 3.4835164835164836, 3.4431818181818183, 3.4285714285714284, 3.4054054054054053, 3.3979591836734695, 3.393700787401575, 3.376146788990826, 3.330188679245283, 3.3066666666666666, 3.303370786516854, 3.272727272727273, 3.260869565217391, 3.25, 3.2413793103448274, 3.21505376344086, 3.1926605504587156, 3.177570093457944, 3.1721311475409837, 3.1487603305785123, 3.13, 3.0825688073394497, 3.076923076923077, 3.0, 2.983050847457627, 2.9391304347826086, 2.9263157894736844, 2.9210526315789473, 2.8857142857142857, 2.8645833333333335, 2.826923076923077, 2.7567567567567566, 2.7107438016528924, 2.696969696969697, 2.694915254237288, 2.6666666666666665, 2.643835616438356, 2.623853211009174, 2.6198347107438016, 2.618181818181818, 2.611111111111111, 2.574468085106383, 2.542372881355932, 2.511904761904762, 2.5, 2.5, 2.4791666666666665, 2.4299065420560746, 2.417910447761194, 2.361111111111111, 2.3529411764705883, 2.3488372093023258, 2.3440860215053765, 2.3176470588235296, 2.308641975308642, 2.306451612903226, 2.288659793814433, 2.268292682926829, 2.265957446808511, 2.2588235294117647, 2.2253521126760565, 2.164705882352941, 2.1515151515151514, 2.1511627906976742, 2.1323529411764706, 2.0930232558139537, 2.087912087912088, 2.0135135135135136, 1.9861111111111112, 1.967741935483871, 1.9615384615384615, 1.9382716049382716, 1.934065934065934, 1.9295774647887325, 1.9230769230769231, 1.9166666666666667, 1.9157894736842105, 1.9066666666666667, 1.8985507246376812, 1.8636363636363635, 1.8620689655172413, 1.846938775510204, 1.837837837837838, 1.8144329896907216, 1.6507936507936507, 1.5949367088607596, 1.532258064516129, 1.5205479452054795, 1.4736842105263157, 1.421875]}],                        {\"autosize\": true, \"hovermode\": \"closest\", \"showlegend\": false, \"template\": {\"data\": {\"bar\": [{\"error_x\": {\"color\": \"#2a3f5f\"}, \"error_y\": {\"color\": \"#2a3f5f\"}, \"marker\": {\"line\": {\"color\": \"#E5ECF6\", \"width\": 0.5}}, \"type\": \"bar\"}], \"barpolar\": [{\"marker\": {\"line\": {\"color\": \"#E5ECF6\", \"width\": 0.5}}, \"type\": \"barpolar\"}], \"carpet\": [{\"aaxis\": {\"endlinecolor\": \"#2a3f5f\", \"gridcolor\": \"white\", \"linecolor\": \"white\", \"minorgridcolor\": \"white\", \"startlinecolor\": \"#2a3f5f\"}, \"baxis\": {\"endlinecolor\": \"#2a3f5f\", \"gridcolor\": \"white\", \"linecolor\": \"white\", \"minorgridcolor\": \"white\", \"startlinecolor\": \"#2a3f5f\"}, \"type\": \"carpet\"}], \"choropleth\": [{\"colorbar\": {\"outlinewidth\": 0, \"ticks\": \"\"}, \"type\": \"choropleth\"}], \"contour\": [{\"colorbar\": {\"outlinewidth\": 0, \"ticks\": \"\"}, \"colorscale\": [[0.0, \"#0d0887\"], [0.1111111111111111, \"#46039f\"], [0.2222222222222222, \"#7201a8\"], [0.3333333333333333, \"#9c179e\"], [0.4444444444444444, \"#bd3786\"], [0.5555555555555556, \"#d8576b\"], [0.6666666666666666, \"#ed7953\"], [0.7777777777777778, \"#fb9f3a\"], [0.8888888888888888, \"#fdca26\"], [1.0, \"#f0f921\"]], \"type\": \"contour\"}], \"contourcarpet\": [{\"colorbar\": {\"outlinewidth\": 0, \"ticks\": \"\"}, \"type\": \"contourcarpet\"}], \"heatmap\": [{\"colorbar\": {\"outlinewidth\": 0, \"ticks\": \"\"}, \"colorscale\": [[0.0, \"#0d0887\"], [0.1111111111111111, \"#46039f\"], [0.2222222222222222, \"#7201a8\"], [0.3333333333333333, \"#9c179e\"], [0.4444444444444444, \"#bd3786\"], [0.5555555555555556, \"#d8576b\"], [0.6666666666666666, \"#ed7953\"], [0.7777777777777778, \"#fb9f3a\"], [0.8888888888888888, \"#fdca26\"], [1.0, \"#f0f921\"]], \"type\": \"heatmap\"}], \"heatmapgl\": [{\"colorbar\": {\"outlinewidth\": 0, \"ticks\": \"\"}, \"colorscale\": [[0.0, \"#0d0887\"], [0.1111111111111111, \"#46039f\"], [0.2222222222222222, \"#7201a8\"], [0.3333333333333333, \"#9c179e\"], [0.4444444444444444, \"#bd3786\"], [0.5555555555555556, \"#d8576b\"], [0.6666666666666666, \"#ed7953\"], [0.7777777777777778, \"#fb9f3a\"], [0.8888888888888888, \"#fdca26\"], [1.0, \"#f0f921\"]], \"type\": \"heatmapgl\"}], \"histogram\": [{\"marker\": {\"colorbar\": {\"outlinewidth\": 0, \"ticks\": \"\"}}, \"type\": \"histogram\"}], \"histogram2d\": [{\"colorbar\": {\"outlinewidth\": 0, \"ticks\": \"\"}, \"colorscale\": [[0.0, \"#0d0887\"], [0.1111111111111111, \"#46039f\"], [0.2222222222222222, \"#7201a8\"], [0.3333333333333333, \"#9c179e\"], [0.4444444444444444, \"#bd3786\"], [0.5555555555555556, \"#d8576b\"], [0.6666666666666666, \"#ed7953\"], [0.7777777777777778, \"#fb9f3a\"], [0.8888888888888888, \"#fdca26\"], [1.0, \"#f0f921\"]], \"type\": \"histogram2d\"}], \"histogram2dcontour\": [{\"colorbar\": {\"outlinewidth\": 0, \"ticks\": \"\"}, \"colorscale\": [[0.0, \"#0d0887\"], [0.1111111111111111, \"#46039f\"], [0.2222222222222222, \"#7201a8\"], [0.3333333333333333, \"#9c179e\"], [0.4444444444444444, \"#bd3786\"], [0.5555555555555556, \"#d8576b\"], [0.6666666666666666, \"#ed7953\"], [0.7777777777777778, \"#fb9f3a\"], [0.8888888888888888, \"#fdca26\"], [1.0, \"#f0f921\"]], \"type\": \"histogram2dcontour\"}], \"mesh3d\": [{\"colorbar\": {\"outlinewidth\": 0, \"ticks\": \"\"}, \"type\": \"mesh3d\"}], \"parcoords\": [{\"line\": {\"colorbar\": {\"outlinewidth\": 0, \"ticks\": \"\"}}, \"type\": \"parcoords\"}], \"pie\": [{\"automargin\": true, \"type\": \"pie\"}], \"scatter\": [{\"marker\": {\"colorbar\": {\"outlinewidth\": 0, \"ticks\": \"\"}}, \"type\": \"scatter\"}], \"scatter3d\": [{\"line\": {\"colorbar\": {\"outlinewidth\": 0, \"ticks\": \"\"}}, \"marker\": {\"colorbar\": {\"outlinewidth\": 0, \"ticks\": \"\"}}, \"type\": \"scatter3d\"}], \"scattercarpet\": [{\"marker\": {\"colorbar\": {\"outlinewidth\": 0, \"ticks\": \"\"}}, \"type\": \"scattercarpet\"}], \"scattergeo\": [{\"marker\": {\"colorbar\": {\"outlinewidth\": 0, \"ticks\": \"\"}}, \"type\": \"scattergeo\"}], \"scattergl\": [{\"marker\": {\"colorbar\": {\"outlinewidth\": 0, \"ticks\": \"\"}}, \"type\": \"scattergl\"}], \"scattermapbox\": [{\"marker\": {\"colorbar\": {\"outlinewidth\": 0, \"ticks\": \"\"}}, \"type\": \"scattermapbox\"}], \"scatterpolar\": [{\"marker\": {\"colorbar\": {\"outlinewidth\": 0, \"ticks\": \"\"}}, \"type\": \"scatterpolar\"}], \"scatterpolargl\": [{\"marker\": {\"colorbar\": {\"outlinewidth\": 0, \"ticks\": \"\"}}, \"type\": \"scatterpolargl\"}], \"scatterternary\": [{\"marker\": {\"colorbar\": {\"outlinewidth\": 0, \"ticks\": \"\"}}, \"type\": \"scatterternary\"}], \"surface\": [{\"colorbar\": {\"outlinewidth\": 0, \"ticks\": \"\"}, \"colorscale\": [[0.0, \"#0d0887\"], [0.1111111111111111, \"#46039f\"], [0.2222222222222222, \"#7201a8\"], [0.3333333333333333, \"#9c179e\"], [0.4444444444444444, \"#bd3786\"], [0.5555555555555556, \"#d8576b\"], [0.6666666666666666, \"#ed7953\"], [0.7777777777777778, \"#fb9f3a\"], [0.8888888888888888, \"#fdca26\"], [1.0, \"#f0f921\"]], \"type\": \"surface\"}], \"table\": [{\"cells\": {\"fill\": {\"color\": \"#EBF0F8\"}, \"line\": {\"color\": \"white\"}}, \"header\": {\"fill\": {\"color\": \"#C8D4E3\"}, \"line\": {\"color\": \"white\"}}, \"type\": \"table\"}]}, \"layout\": {\"annotationdefaults\": {\"arrowcolor\": \"#2a3f5f\", \"arrowhead\": 0, \"arrowwidth\": 1}, \"autotypenumbers\": \"strict\", \"coloraxis\": {\"colorbar\": {\"outlinewidth\": 0, \"ticks\": \"\"}}, \"colorscale\": {\"diverging\": [[0, \"#8e0152\"], [0.1, \"#c51b7d\"], [0.2, \"#de77ae\"], [0.3, \"#f1b6da\"], [0.4, \"#fde0ef\"], [0.5, \"#f7f7f7\"], [0.6, \"#e6f5d0\"], [0.7, \"#b8e186\"], [0.8, \"#7fbc41\"], [0.9, \"#4d9221\"], [1, \"#276419\"]], \"sequential\": [[0.0, \"#0d0887\"], [0.1111111111111111, \"#46039f\"], [0.2222222222222222, \"#7201a8\"], [0.3333333333333333, \"#9c179e\"], [0.4444444444444444, \"#bd3786\"], [0.5555555555555556, \"#d8576b\"], [0.6666666666666666, \"#ed7953\"], [0.7777777777777778, \"#fb9f3a\"], [0.8888888888888888, \"#fdca26\"], [1.0, \"#f0f921\"]], \"sequentialminus\": [[0.0, \"#0d0887\"], [0.1111111111111111, \"#46039f\"], [0.2222222222222222, \"#7201a8\"], [0.3333333333333333, \"#9c179e\"], [0.4444444444444444, \"#bd3786\"], [0.5555555555555556, \"#d8576b\"], [0.6666666666666666, \"#ed7953\"], [0.7777777777777778, \"#fb9f3a\"], [0.8888888888888888, \"#fdca26\"], [1.0, \"#f0f921\"]]}, \"colorway\": [\"#636efa\", \"#EF553B\", \"#00cc96\", \"#ab63fa\", \"#FFA15A\", \"#19d3f3\", \"#FF6692\", \"#B6E880\", \"#FF97FF\", \"#FECB52\"], \"font\": {\"color\": \"#2a3f5f\"}, \"geo\": {\"bgcolor\": \"white\", \"lakecolor\": \"white\", \"landcolor\": \"#E5ECF6\", \"showlakes\": true, \"showland\": true, \"subunitcolor\": \"white\"}, \"hoverlabel\": {\"align\": \"left\"}, \"hovermode\": \"closest\", \"mapbox\": {\"style\": \"light\"}, \"paper_bgcolor\": \"white\", \"plot_bgcolor\": \"#E5ECF6\", \"polar\": {\"angularaxis\": {\"gridcolor\": \"white\", \"linecolor\": \"white\", \"ticks\": \"\"}, \"bgcolor\": \"#E5ECF6\", \"radialaxis\": {\"gridcolor\": \"white\", \"linecolor\": \"white\", \"ticks\": \"\"}}, \"scene\": {\"xaxis\": {\"backgroundcolor\": \"#E5ECF6\", \"gridcolor\": \"white\", \"gridwidth\": 2, \"linecolor\": \"white\", \"showbackground\": true, \"ticks\": \"\", \"zerolinecolor\": \"white\"}, \"yaxis\": {\"backgroundcolor\": \"#E5ECF6\", \"gridcolor\": \"white\", \"gridwidth\": 2, \"linecolor\": \"white\", \"showbackground\": true, \"ticks\": \"\", \"zerolinecolor\": \"white\"}, \"zaxis\": {\"backgroundcolor\": \"#E5ECF6\", \"gridcolor\": \"white\", \"gridwidth\": 2, \"linecolor\": \"white\", \"showbackground\": true, \"ticks\": \"\", \"zerolinecolor\": \"white\"}}, \"shapedefaults\": {\"line\": {\"color\": \"#2a3f5f\"}}, \"ternary\": {\"aaxis\": {\"gridcolor\": \"white\", \"linecolor\": \"white\", \"ticks\": \"\"}, \"baxis\": {\"gridcolor\": \"white\", \"linecolor\": \"white\", \"ticks\": \"\"}, \"bgcolor\": \"#E5ECF6\", \"caxis\": {\"gridcolor\": \"white\", \"linecolor\": \"white\", \"ticks\": \"\"}}, \"title\": {\"x\": 0.05}, \"xaxis\": {\"automargin\": true, \"gridcolor\": \"white\", \"linecolor\": \"white\", \"ticks\": \"\", \"title\": {\"standoff\": 15}, \"zerolinecolor\": \"white\", \"zerolinewidth\": 2}, \"yaxis\": {\"automargin\": true, \"gridcolor\": \"white\", \"linecolor\": \"white\", \"ticks\": \"\", \"title\": {\"standoff\": 15}, \"zerolinecolor\": \"white\", \"zerolinewidth\": 2}}}, \"title\": {\"text\": \"Scatter plot of avg sales per item\"}, \"xaxis\": {\"gridwidth\": 1, \"ticklen\": 200, \"title\": {\"text\": \"Items\"}, \"zeroline\": false}, \"yaxis\": {\"gridwidth\": 1, \"ticklen\": 10, \"title\": {\"text\": \"Avg Sales\"}, \"zeroline\": false}},                        {\"responsive\": true}                    ).then(function(){\n",
              "                            \n",
              "var gd = document.getElementById('f68f9e4a-66e7-459a-a8a0-0fd2e00ffefa');\n",
              "var x = new MutationObserver(function (mutations, observer) {{\n",
              "        var display = window.getComputedStyle(gd).display;\n",
              "        if (!display || display === 'none') {{\n",
              "            console.log([gd, 'removed!']);\n",
              "            Plotly.purge(gd);\n",
              "            observer.disconnect();\n",
              "        }}\n",
              "}});\n",
              "\n",
              "// Listen for the removal of the full notebook cells\n",
              "var notebookContainer = gd.closest('#notebook-container');\n",
              "if (notebookContainer) {{\n",
              "    x.observe(notebookContainer, {childList: true});\n",
              "}}\n",
              "\n",
              "// Listen for the clearing of the current output cell\n",
              "var outputEl = gd.closest('.output');\n",
              "if (outputEl) {{\n",
              "    x.observe(outputEl, {childList: true});\n",
              "}}\n",
              "\n",
              "                        })                };                });            </script>        </div>"
            ]
          },
          "metadata": {},
          "output_type": "display_data"
        }
      ],
      "source": [
        "avg_sales_per_item_across_stores_sorted = avg_sales_per_item_across_stores_df.AvgDailySale.values\n",
        "# Scatter plot of average sales per item\n",
        "sales_item_data = go.Bar(\n",
        "    x=[i for i in range(0, 200)],\n",
        "    y=avg_sales_per_item_across_stores_sorted,\n",
        "    marker=dict(\n",
        "        color=avg_sales_per_item_across_stores_sorted,\n",
        "        colorscale='Blackbody',\n",
        "        showscale=True\n",
        "    ),\n",
        "    text = avg_sales_per_item_across_stores_df.ItemID.values\n",
        ")\n",
        "data = [sales_item_data]\n",
        "\n",
        "sales_item_layout = go.Layout(\n",
        "    autosize= True,\n",
        "    title= 'Scatter plot of avg sales per item',\n",
        "    hovermode= 'closest',\n",
        "    xaxis= dict(\n",
        "        title= 'Items',\n",
        "        ticklen= 200,\n",
        "        zeroline= False,\n",
        "        gridwidth= 1,\n",
        "    ),\n",
        "    yaxis=dict(\n",
        "        title= 'Avg Sales',\n",
        "        ticklen= 10,\n",
        "        zeroline= False,\n",
        "        gridwidth= 1,\n",
        "    ),\n",
        "    showlegend= False\n",
        ")\n",
        "fig = go.Figure(data=data, layout=sales_item_layout)\n",
        "py.iplot(fig,filename='scatter_sales_item')"
      ]
    },
    {
      "cell_type": "markdown",
      "metadata": {
        "id": "MF8IJfi2ee6p"
      },
      "source": [
        "# time series visualization of sales"
      ]
    },
    {
      "cell_type": "code",
      "execution_count": null,
      "metadata": {
        "id": "XdyQNOEZee6p",
        "outputId": "b5ef7a2b-400f-413d-e1f4-63d7c0baa133"
      },
      "outputs": [
        {
          "name": "stdout",
          "output_type": "stream",
          "text": [
            "Before filter: (19921, 5)\n",
            "After filter: (100, 5)\n"
          ]
        },
        {
          "data": {
            "application/vnd.plotly.v1+json": {
              "config": {
                "linkText": "Export to plot.ly",
                "plotlyServerURL": "https://plot.ly",
                "showLink": false
              },
              "data": [
                {
                  "type": "scatter",
                  "x": [
                    "11/6/2021",
                    "11/18/2021",
                    "2/8/2022",
                    "1/4/2022",
                    "12/7/2021",
                    "10/23/2021",
                    "10/30/2021",
                    "10/3/2021",
                    "11/24/2021",
                    "10/27/2021",
                    "11/8/2021",
                    "11/23/2021",
                    "11/16/2021",
                    "10/21/2021",
                    "10/8/2021",
                    "12/26/2021",
                    "1/22/2022",
                    "12/12/2021",
                    "12/18/2021",
                    "12/30/2021",
                    "2/3/2022",
                    "12/24/2021",
                    "1/23/2022",
                    "1/21/2022",
                    "11/21/2021",
                    "1/11/2022",
                    "10/31/2021",
                    "12/10/2021",
                    "1/13/2022",
                    "12/3/2021",
                    "2/10/2022",
                    "12/20/2021",
                    "11/20/2021",
                    "2/11/2022",
                    "1/28/2022",
                    "1/25/2022",
                    "10/25/2021",
                    "11/1/2021",
                    "11/3/2021",
                    "10/28/2021",
                    "10/22/2021",
                    "11/15/2021",
                    "10/4/2021",
                    "10/1/2021",
                    "11/9/2021",
                    "11/30/2021",
                    "11/4/2021",
                    "1/3/2022",
                    "11/2/2021",
                    "11/11/2021",
                    "11/7/2021",
                    "10/10/2021",
                    "12/5/2021",
                    "11/28/2021",
                    "12/23/2021",
                    "1/2/2022",
                    "1/16/2022",
                    "2/6/2022",
                    "12/31/2021",
                    "1/30/2022",
                    "1/1/2022",
                    "12/22/2021",
                    "2/12/2022",
                    "1/20/2022",
                    "1/7/2022",
                    "2/2/2022",
                    "11/27/2021",
                    "1/12/2022",
                    "11/26/2021",
                    "1/18/2022",
                    "1/26/2022",
                    "12/4/2021",
                    "11/13/2021",
                    "12/14/2021",
                    "12/15/2021",
                    "11/25/2021",
                    "12/16/2021",
                    "11/10/2021",
                    "12/1/2021",
                    "10/16/2021",
                    "1/31/2022",
                    "10/24/2021",
                    "10/17/2021",
                    "10/15/2021",
                    "10/20/2021",
                    "10/11/2021",
                    "10/9/2021",
                    "10/19/2021",
                    "10/2/2021",
                    "11/22/2021",
                    "11/5/2021",
                    "10/29/2021",
                    "10/7/2021",
                    "10/6/2021",
                    "10/13/2021",
                    "10/5/2021",
                    "12/2/2021",
                    "10/14/2021",
                    "12/6/2021",
                    "11/19/2021"
                  ],
                  "y": [
                    7,
                    4,
                    3,
                    1,
                    1,
                    2,
                    3,
                    2,
                    7,
                    1,
                    4,
                    6,
                    1,
                    1,
                    1,
                    1,
                    1,
                    1,
                    2,
                    2,
                    2,
                    2,
                    1,
                    2,
                    8,
                    2,
                    11,
                    1,
                    2,
                    1,
                    2,
                    2,
                    5,
                    1,
                    1,
                    2,
                    5,
                    7,
                    11,
                    3,
                    5,
                    2,
                    3,
                    1,
                    5,
                    2,
                    12,
                    3,
                    7,
                    15,
                    13,
                    1,
                    1,
                    4,
                    2,
                    7,
                    6,
                    2,
                    1,
                    2,
                    1,
                    1,
                    1,
                    1,
                    2,
                    2,
                    2,
                    1,
                    2,
                    1,
                    2,
                    1,
                    1,
                    1,
                    1,
                    3,
                    24,
                    4,
                    1,
                    1,
                    4,
                    3,
                    2,
                    1,
                    1,
                    2,
                    1,
                    2,
                    1,
                    2,
                    8,
                    4,
                    2,
                    1,
                    3,
                    2,
                    1,
                    2,
                    1,
                    1
                  ]
                }
              ],
              "layout": {
                "template": {
                  "data": {
                    "bar": [
                      {
                        "error_x": {
                          "color": "#2a3f5f"
                        },
                        "error_y": {
                          "color": "#2a3f5f"
                        },
                        "marker": {
                          "line": {
                            "color": "#E5ECF6",
                            "width": 0.5
                          }
                        },
                        "type": "bar"
                      }
                    ],
                    "barpolar": [
                      {
                        "marker": {
                          "line": {
                            "color": "#E5ECF6",
                            "width": 0.5
                          }
                        },
                        "type": "barpolar"
                      }
                    ],
                    "carpet": [
                      {
                        "aaxis": {
                          "endlinecolor": "#2a3f5f",
                          "gridcolor": "white",
                          "linecolor": "white",
                          "minorgridcolor": "white",
                          "startlinecolor": "#2a3f5f"
                        },
                        "baxis": {
                          "endlinecolor": "#2a3f5f",
                          "gridcolor": "white",
                          "linecolor": "white",
                          "minorgridcolor": "white",
                          "startlinecolor": "#2a3f5f"
                        },
                        "type": "carpet"
                      }
                    ],
                    "choropleth": [
                      {
                        "colorbar": {
                          "outlinewidth": 0,
                          "ticks": ""
                        },
                        "type": "choropleth"
                      }
                    ],
                    "contour": [
                      {
                        "colorbar": {
                          "outlinewidth": 0,
                          "ticks": ""
                        },
                        "colorscale": [
                          [
                            0,
                            "#0d0887"
                          ],
                          [
                            0.1111111111111111,
                            "#46039f"
                          ],
                          [
                            0.2222222222222222,
                            "#7201a8"
                          ],
                          [
                            0.3333333333333333,
                            "#9c179e"
                          ],
                          [
                            0.4444444444444444,
                            "#bd3786"
                          ],
                          [
                            0.5555555555555556,
                            "#d8576b"
                          ],
                          [
                            0.6666666666666666,
                            "#ed7953"
                          ],
                          [
                            0.7777777777777778,
                            "#fb9f3a"
                          ],
                          [
                            0.8888888888888888,
                            "#fdca26"
                          ],
                          [
                            1,
                            "#f0f921"
                          ]
                        ],
                        "type": "contour"
                      }
                    ],
                    "contourcarpet": [
                      {
                        "colorbar": {
                          "outlinewidth": 0,
                          "ticks": ""
                        },
                        "type": "contourcarpet"
                      }
                    ],
                    "heatmap": [
                      {
                        "colorbar": {
                          "outlinewidth": 0,
                          "ticks": ""
                        },
                        "colorscale": [
                          [
                            0,
                            "#0d0887"
                          ],
                          [
                            0.1111111111111111,
                            "#46039f"
                          ],
                          [
                            0.2222222222222222,
                            "#7201a8"
                          ],
                          [
                            0.3333333333333333,
                            "#9c179e"
                          ],
                          [
                            0.4444444444444444,
                            "#bd3786"
                          ],
                          [
                            0.5555555555555556,
                            "#d8576b"
                          ],
                          [
                            0.6666666666666666,
                            "#ed7953"
                          ],
                          [
                            0.7777777777777778,
                            "#fb9f3a"
                          ],
                          [
                            0.8888888888888888,
                            "#fdca26"
                          ],
                          [
                            1,
                            "#f0f921"
                          ]
                        ],
                        "type": "heatmap"
                      }
                    ],
                    "heatmapgl": [
                      {
                        "colorbar": {
                          "outlinewidth": 0,
                          "ticks": ""
                        },
                        "colorscale": [
                          [
                            0,
                            "#0d0887"
                          ],
                          [
                            0.1111111111111111,
                            "#46039f"
                          ],
                          [
                            0.2222222222222222,
                            "#7201a8"
                          ],
                          [
                            0.3333333333333333,
                            "#9c179e"
                          ],
                          [
                            0.4444444444444444,
                            "#bd3786"
                          ],
                          [
                            0.5555555555555556,
                            "#d8576b"
                          ],
                          [
                            0.6666666666666666,
                            "#ed7953"
                          ],
                          [
                            0.7777777777777778,
                            "#fb9f3a"
                          ],
                          [
                            0.8888888888888888,
                            "#fdca26"
                          ],
                          [
                            1,
                            "#f0f921"
                          ]
                        ],
                        "type": "heatmapgl"
                      }
                    ],
                    "histogram": [
                      {
                        "marker": {
                          "colorbar": {
                            "outlinewidth": 0,
                            "ticks": ""
                          }
                        },
                        "type": "histogram"
                      }
                    ],
                    "histogram2d": [
                      {
                        "colorbar": {
                          "outlinewidth": 0,
                          "ticks": ""
                        },
                        "colorscale": [
                          [
                            0,
                            "#0d0887"
                          ],
                          [
                            0.1111111111111111,
                            "#46039f"
                          ],
                          [
                            0.2222222222222222,
                            "#7201a8"
                          ],
                          [
                            0.3333333333333333,
                            "#9c179e"
                          ],
                          [
                            0.4444444444444444,
                            "#bd3786"
                          ],
                          [
                            0.5555555555555556,
                            "#d8576b"
                          ],
                          [
                            0.6666666666666666,
                            "#ed7953"
                          ],
                          [
                            0.7777777777777778,
                            "#fb9f3a"
                          ],
                          [
                            0.8888888888888888,
                            "#fdca26"
                          ],
                          [
                            1,
                            "#f0f921"
                          ]
                        ],
                        "type": "histogram2d"
                      }
                    ],
                    "histogram2dcontour": [
                      {
                        "colorbar": {
                          "outlinewidth": 0,
                          "ticks": ""
                        },
                        "colorscale": [
                          [
                            0,
                            "#0d0887"
                          ],
                          [
                            0.1111111111111111,
                            "#46039f"
                          ],
                          [
                            0.2222222222222222,
                            "#7201a8"
                          ],
                          [
                            0.3333333333333333,
                            "#9c179e"
                          ],
                          [
                            0.4444444444444444,
                            "#bd3786"
                          ],
                          [
                            0.5555555555555556,
                            "#d8576b"
                          ],
                          [
                            0.6666666666666666,
                            "#ed7953"
                          ],
                          [
                            0.7777777777777778,
                            "#fb9f3a"
                          ],
                          [
                            0.8888888888888888,
                            "#fdca26"
                          ],
                          [
                            1,
                            "#f0f921"
                          ]
                        ],
                        "type": "histogram2dcontour"
                      }
                    ],
                    "mesh3d": [
                      {
                        "colorbar": {
                          "outlinewidth": 0,
                          "ticks": ""
                        },
                        "type": "mesh3d"
                      }
                    ],
                    "parcoords": [
                      {
                        "line": {
                          "colorbar": {
                            "outlinewidth": 0,
                            "ticks": ""
                          }
                        },
                        "type": "parcoords"
                      }
                    ],
                    "pie": [
                      {
                        "automargin": true,
                        "type": "pie"
                      }
                    ],
                    "scatter": [
                      {
                        "marker": {
                          "colorbar": {
                            "outlinewidth": 0,
                            "ticks": ""
                          }
                        },
                        "type": "scatter"
                      }
                    ],
                    "scatter3d": [
                      {
                        "line": {
                          "colorbar": {
                            "outlinewidth": 0,
                            "ticks": ""
                          }
                        },
                        "marker": {
                          "colorbar": {
                            "outlinewidth": 0,
                            "ticks": ""
                          }
                        },
                        "type": "scatter3d"
                      }
                    ],
                    "scattercarpet": [
                      {
                        "marker": {
                          "colorbar": {
                            "outlinewidth": 0,
                            "ticks": ""
                          }
                        },
                        "type": "scattercarpet"
                      }
                    ],
                    "scattergeo": [
                      {
                        "marker": {
                          "colorbar": {
                            "outlinewidth": 0,
                            "ticks": ""
                          }
                        },
                        "type": "scattergeo"
                      }
                    ],
                    "scattergl": [
                      {
                        "marker": {
                          "colorbar": {
                            "outlinewidth": 0,
                            "ticks": ""
                          }
                        },
                        "type": "scattergl"
                      }
                    ],
                    "scattermapbox": [
                      {
                        "marker": {
                          "colorbar": {
                            "outlinewidth": 0,
                            "ticks": ""
                          }
                        },
                        "type": "scattermapbox"
                      }
                    ],
                    "scatterpolar": [
                      {
                        "marker": {
                          "colorbar": {
                            "outlinewidth": 0,
                            "ticks": ""
                          }
                        },
                        "type": "scatterpolar"
                      }
                    ],
                    "scatterpolargl": [
                      {
                        "marker": {
                          "colorbar": {
                            "outlinewidth": 0,
                            "ticks": ""
                          }
                        },
                        "type": "scatterpolargl"
                      }
                    ],
                    "scatterternary": [
                      {
                        "marker": {
                          "colorbar": {
                            "outlinewidth": 0,
                            "ticks": ""
                          }
                        },
                        "type": "scatterternary"
                      }
                    ],
                    "surface": [
                      {
                        "colorbar": {
                          "outlinewidth": 0,
                          "ticks": ""
                        },
                        "colorscale": [
                          [
                            0,
                            "#0d0887"
                          ],
                          [
                            0.1111111111111111,
                            "#46039f"
                          ],
                          [
                            0.2222222222222222,
                            "#7201a8"
                          ],
                          [
                            0.3333333333333333,
                            "#9c179e"
                          ],
                          [
                            0.4444444444444444,
                            "#bd3786"
                          ],
                          [
                            0.5555555555555556,
                            "#d8576b"
                          ],
                          [
                            0.6666666666666666,
                            "#ed7953"
                          ],
                          [
                            0.7777777777777778,
                            "#fb9f3a"
                          ],
                          [
                            0.8888888888888888,
                            "#fdca26"
                          ],
                          [
                            1,
                            "#f0f921"
                          ]
                        ],
                        "type": "surface"
                      }
                    ],
                    "table": [
                      {
                        "cells": {
                          "fill": {
                            "color": "#EBF0F8"
                          },
                          "line": {
                            "color": "white"
                          }
                        },
                        "header": {
                          "fill": {
                            "color": "#C8D4E3"
                          },
                          "line": {
                            "color": "white"
                          }
                        },
                        "type": "table"
                      }
                    ]
                  },
                  "layout": {
                    "annotationdefaults": {
                      "arrowcolor": "#2a3f5f",
                      "arrowhead": 0,
                      "arrowwidth": 1
                    },
                    "autotypenumbers": "strict",
                    "coloraxis": {
                      "colorbar": {
                        "outlinewidth": 0,
                        "ticks": ""
                      }
                    },
                    "colorscale": {
                      "diverging": [
                        [
                          0,
                          "#8e0152"
                        ],
                        [
                          0.1,
                          "#c51b7d"
                        ],
                        [
                          0.2,
                          "#de77ae"
                        ],
                        [
                          0.3,
                          "#f1b6da"
                        ],
                        [
                          0.4,
                          "#fde0ef"
                        ],
                        [
                          0.5,
                          "#f7f7f7"
                        ],
                        [
                          0.6,
                          "#e6f5d0"
                        ],
                        [
                          0.7,
                          "#b8e186"
                        ],
                        [
                          0.8,
                          "#7fbc41"
                        ],
                        [
                          0.9,
                          "#4d9221"
                        ],
                        [
                          1,
                          "#276419"
                        ]
                      ],
                      "sequential": [
                        [
                          0,
                          "#0d0887"
                        ],
                        [
                          0.1111111111111111,
                          "#46039f"
                        ],
                        [
                          0.2222222222222222,
                          "#7201a8"
                        ],
                        [
                          0.3333333333333333,
                          "#9c179e"
                        ],
                        [
                          0.4444444444444444,
                          "#bd3786"
                        ],
                        [
                          0.5555555555555556,
                          "#d8576b"
                        ],
                        [
                          0.6666666666666666,
                          "#ed7953"
                        ],
                        [
                          0.7777777777777778,
                          "#fb9f3a"
                        ],
                        [
                          0.8888888888888888,
                          "#fdca26"
                        ],
                        [
                          1,
                          "#f0f921"
                        ]
                      ],
                      "sequentialminus": [
                        [
                          0,
                          "#0d0887"
                        ],
                        [
                          0.1111111111111111,
                          "#46039f"
                        ],
                        [
                          0.2222222222222222,
                          "#7201a8"
                        ],
                        [
                          0.3333333333333333,
                          "#9c179e"
                        ],
                        [
                          0.4444444444444444,
                          "#bd3786"
                        ],
                        [
                          0.5555555555555556,
                          "#d8576b"
                        ],
                        [
                          0.6666666666666666,
                          "#ed7953"
                        ],
                        [
                          0.7777777777777778,
                          "#fb9f3a"
                        ],
                        [
                          0.8888888888888888,
                          "#fdca26"
                        ],
                        [
                          1,
                          "#f0f921"
                        ]
                      ]
                    },
                    "colorway": [
                      "#636efa",
                      "#EF553B",
                      "#00cc96",
                      "#ab63fa",
                      "#FFA15A",
                      "#19d3f3",
                      "#FF6692",
                      "#B6E880",
                      "#FF97FF",
                      "#FECB52"
                    ],
                    "font": {
                      "color": "#2a3f5f"
                    },
                    "geo": {
                      "bgcolor": "white",
                      "lakecolor": "white",
                      "landcolor": "#E5ECF6",
                      "showlakes": true,
                      "showland": true,
                      "subunitcolor": "white"
                    },
                    "hoverlabel": {
                      "align": "left"
                    },
                    "hovermode": "closest",
                    "mapbox": {
                      "style": "light"
                    },
                    "paper_bgcolor": "white",
                    "plot_bgcolor": "#E5ECF6",
                    "polar": {
                      "angularaxis": {
                        "gridcolor": "white",
                        "linecolor": "white",
                        "ticks": ""
                      },
                      "bgcolor": "#E5ECF6",
                      "radialaxis": {
                        "gridcolor": "white",
                        "linecolor": "white",
                        "ticks": ""
                      }
                    },
                    "scene": {
                      "xaxis": {
                        "backgroundcolor": "#E5ECF6",
                        "gridcolor": "white",
                        "gridwidth": 2,
                        "linecolor": "white",
                        "showbackground": true,
                        "ticks": "",
                        "zerolinecolor": "white"
                      },
                      "yaxis": {
                        "backgroundcolor": "#E5ECF6",
                        "gridcolor": "white",
                        "gridwidth": 2,
                        "linecolor": "white",
                        "showbackground": true,
                        "ticks": "",
                        "zerolinecolor": "white"
                      },
                      "zaxis": {
                        "backgroundcolor": "#E5ECF6",
                        "gridcolor": "white",
                        "gridwidth": 2,
                        "linecolor": "white",
                        "showbackground": true,
                        "ticks": "",
                        "zerolinecolor": "white"
                      }
                    },
                    "shapedefaults": {
                      "line": {
                        "color": "#2a3f5f"
                      }
                    },
                    "ternary": {
                      "aaxis": {
                        "gridcolor": "white",
                        "linecolor": "white",
                        "ticks": ""
                      },
                      "baxis": {
                        "gridcolor": "white",
                        "linecolor": "white",
                        "ticks": ""
                      },
                      "bgcolor": "#E5ECF6",
                      "caxis": {
                        "gridcolor": "white",
                        "linecolor": "white",
                        "ticks": ""
                      }
                    },
                    "title": {
                      "x": 0.05
                    },
                    "xaxis": {
                      "automargin": true,
                      "gridcolor": "white",
                      "linecolor": "white",
                      "ticks": "",
                      "title": {
                        "standoff": 15
                      },
                      "zerolinecolor": "white",
                      "zerolinewidth": 2
                    },
                    "yaxis": {
                      "automargin": true,
                      "gridcolor": "white",
                      "linecolor": "white",
                      "ticks": "",
                      "title": {
                        "standoff": 15
                      },
                      "zerolinecolor": "white",
                      "zerolinewidth": 2
                    }
                  }
                }
              }
            },
            "text/html": [
              "<div>                            <div id=\"801661ce-78f4-4dae-8eb5-8045a7c610ab\" class=\"plotly-graph-div\" style=\"height:525px; width:100%;\"></div>            <script type=\"text/javascript\">                require([\"plotly\"], function(Plotly) {                    window.PLOTLYENV=window.PLOTLYENV || {};                                    if (document.getElementById(\"801661ce-78f4-4dae-8eb5-8045a7c610ab\")) {                    Plotly.newPlot(                        \"801661ce-78f4-4dae-8eb5-8045a7c610ab\",                        [{\"type\": \"scatter\", \"x\": [\"11/6/2021\", \"11/18/2021\", \"2/8/2022\", \"1/4/2022\", \"12/7/2021\", \"10/23/2021\", \"10/30/2021\", \"10/3/2021\", \"11/24/2021\", \"10/27/2021\", \"11/8/2021\", \"11/23/2021\", \"11/16/2021\", \"10/21/2021\", \"10/8/2021\", \"12/26/2021\", \"1/22/2022\", \"12/12/2021\", \"12/18/2021\", \"12/30/2021\", \"2/3/2022\", \"12/24/2021\", \"1/23/2022\", \"1/21/2022\", \"11/21/2021\", \"1/11/2022\", \"10/31/2021\", \"12/10/2021\", \"1/13/2022\", \"12/3/2021\", \"2/10/2022\", \"12/20/2021\", \"11/20/2021\", \"2/11/2022\", \"1/28/2022\", \"1/25/2022\", \"10/25/2021\", \"11/1/2021\", \"11/3/2021\", \"10/28/2021\", \"10/22/2021\", \"11/15/2021\", \"10/4/2021\", \"10/1/2021\", \"11/9/2021\", \"11/30/2021\", \"11/4/2021\", \"1/3/2022\", \"11/2/2021\", \"11/11/2021\", \"11/7/2021\", \"10/10/2021\", \"12/5/2021\", \"11/28/2021\", \"12/23/2021\", \"1/2/2022\", \"1/16/2022\", \"2/6/2022\", \"12/31/2021\", \"1/30/2022\", \"1/1/2022\", \"12/22/2021\", \"2/12/2022\", \"1/20/2022\", \"1/7/2022\", \"2/2/2022\", \"11/27/2021\", \"1/12/2022\", \"11/26/2021\", \"1/18/2022\", \"1/26/2022\", \"12/4/2021\", \"11/13/2021\", \"12/14/2021\", \"12/15/2021\", \"11/25/2021\", \"12/16/2021\", \"11/10/2021\", \"12/1/2021\", \"10/16/2021\", \"1/31/2022\", \"10/24/2021\", \"10/17/2021\", \"10/15/2021\", \"10/20/2021\", \"10/11/2021\", \"10/9/2021\", \"10/19/2021\", \"10/2/2021\", \"11/22/2021\", \"11/5/2021\", \"10/29/2021\", \"10/7/2021\", \"10/6/2021\", \"10/13/2021\", \"10/5/2021\", \"12/2/2021\", \"10/14/2021\", \"12/6/2021\", \"11/19/2021\"], \"y\": [7, 4, 3, 1, 1, 2, 3, 2, 7, 1, 4, 6, 1, 1, 1, 1, 1, 1, 2, 2, 2, 2, 1, 2, 8, 2, 11, 1, 2, 1, 2, 2, 5, 1, 1, 2, 5, 7, 11, 3, 5, 2, 3, 1, 5, 2, 12, 3, 7, 15, 13, 1, 1, 4, 2, 7, 6, 2, 1, 2, 1, 1, 1, 1, 2, 2, 2, 1, 2, 1, 2, 1, 1, 1, 1, 3, 24, 4, 1, 1, 4, 3, 2, 1, 1, 2, 1, 2, 1, 2, 8, 4, 2, 1, 3, 2, 1, 2, 1, 1]}],                        {\"template\": {\"data\": {\"bar\": [{\"error_x\": {\"color\": \"#2a3f5f\"}, \"error_y\": {\"color\": \"#2a3f5f\"}, \"marker\": {\"line\": {\"color\": \"#E5ECF6\", \"width\": 0.5}}, \"type\": \"bar\"}], \"barpolar\": [{\"marker\": {\"line\": {\"color\": \"#E5ECF6\", \"width\": 0.5}}, \"type\": \"barpolar\"}], \"carpet\": [{\"aaxis\": {\"endlinecolor\": \"#2a3f5f\", \"gridcolor\": \"white\", \"linecolor\": \"white\", \"minorgridcolor\": \"white\", \"startlinecolor\": \"#2a3f5f\"}, \"baxis\": {\"endlinecolor\": \"#2a3f5f\", \"gridcolor\": \"white\", \"linecolor\": \"white\", \"minorgridcolor\": \"white\", \"startlinecolor\": \"#2a3f5f\"}, \"type\": \"carpet\"}], \"choropleth\": [{\"colorbar\": {\"outlinewidth\": 0, \"ticks\": \"\"}, \"type\": \"choropleth\"}], \"contour\": [{\"colorbar\": {\"outlinewidth\": 0, \"ticks\": \"\"}, \"colorscale\": [[0.0, \"#0d0887\"], [0.1111111111111111, \"#46039f\"], [0.2222222222222222, \"#7201a8\"], [0.3333333333333333, \"#9c179e\"], [0.4444444444444444, \"#bd3786\"], [0.5555555555555556, \"#d8576b\"], [0.6666666666666666, \"#ed7953\"], [0.7777777777777778, \"#fb9f3a\"], [0.8888888888888888, \"#fdca26\"], [1.0, \"#f0f921\"]], \"type\": \"contour\"}], \"contourcarpet\": [{\"colorbar\": {\"outlinewidth\": 0, \"ticks\": \"\"}, \"type\": \"contourcarpet\"}], \"heatmap\": [{\"colorbar\": {\"outlinewidth\": 0, \"ticks\": \"\"}, \"colorscale\": [[0.0, \"#0d0887\"], [0.1111111111111111, \"#46039f\"], [0.2222222222222222, \"#7201a8\"], [0.3333333333333333, \"#9c179e\"], [0.4444444444444444, \"#bd3786\"], [0.5555555555555556, \"#d8576b\"], [0.6666666666666666, \"#ed7953\"], [0.7777777777777778, \"#fb9f3a\"], [0.8888888888888888, \"#fdca26\"], [1.0, \"#f0f921\"]], \"type\": \"heatmap\"}], \"heatmapgl\": [{\"colorbar\": {\"outlinewidth\": 0, \"ticks\": \"\"}, \"colorscale\": [[0.0, \"#0d0887\"], [0.1111111111111111, \"#46039f\"], [0.2222222222222222, \"#7201a8\"], [0.3333333333333333, \"#9c179e\"], [0.4444444444444444, \"#bd3786\"], [0.5555555555555556, \"#d8576b\"], [0.6666666666666666, \"#ed7953\"], [0.7777777777777778, \"#fb9f3a\"], [0.8888888888888888, \"#fdca26\"], [1.0, \"#f0f921\"]], \"type\": \"heatmapgl\"}], \"histogram\": [{\"marker\": {\"colorbar\": {\"outlinewidth\": 0, \"ticks\": \"\"}}, \"type\": \"histogram\"}], \"histogram2d\": [{\"colorbar\": {\"outlinewidth\": 0, \"ticks\": \"\"}, \"colorscale\": [[0.0, \"#0d0887\"], [0.1111111111111111, \"#46039f\"], [0.2222222222222222, \"#7201a8\"], [0.3333333333333333, \"#9c179e\"], [0.4444444444444444, \"#bd3786\"], [0.5555555555555556, \"#d8576b\"], [0.6666666666666666, \"#ed7953\"], [0.7777777777777778, \"#fb9f3a\"], [0.8888888888888888, \"#fdca26\"], [1.0, \"#f0f921\"]], \"type\": \"histogram2d\"}], \"histogram2dcontour\": [{\"colorbar\": {\"outlinewidth\": 0, \"ticks\": \"\"}, \"colorscale\": [[0.0, \"#0d0887\"], [0.1111111111111111, \"#46039f\"], [0.2222222222222222, \"#7201a8\"], [0.3333333333333333, \"#9c179e\"], [0.4444444444444444, \"#bd3786\"], [0.5555555555555556, \"#d8576b\"], [0.6666666666666666, \"#ed7953\"], [0.7777777777777778, \"#fb9f3a\"], [0.8888888888888888, \"#fdca26\"], [1.0, \"#f0f921\"]], \"type\": \"histogram2dcontour\"}], \"mesh3d\": [{\"colorbar\": {\"outlinewidth\": 0, \"ticks\": \"\"}, \"type\": \"mesh3d\"}], \"parcoords\": [{\"line\": {\"colorbar\": {\"outlinewidth\": 0, \"ticks\": \"\"}}, \"type\": \"parcoords\"}], \"pie\": [{\"automargin\": true, \"type\": \"pie\"}], \"scatter\": [{\"marker\": {\"colorbar\": {\"outlinewidth\": 0, \"ticks\": \"\"}}, \"type\": \"scatter\"}], \"scatter3d\": [{\"line\": {\"colorbar\": {\"outlinewidth\": 0, \"ticks\": \"\"}}, \"marker\": {\"colorbar\": {\"outlinewidth\": 0, \"ticks\": \"\"}}, \"type\": \"scatter3d\"}], \"scattercarpet\": [{\"marker\": {\"colorbar\": {\"outlinewidth\": 0, \"ticks\": \"\"}}, \"type\": \"scattercarpet\"}], \"scattergeo\": [{\"marker\": {\"colorbar\": {\"outlinewidth\": 0, \"ticks\": \"\"}}, \"type\": \"scattergeo\"}], \"scattergl\": [{\"marker\": {\"colorbar\": {\"outlinewidth\": 0, \"ticks\": \"\"}}, \"type\": \"scattergl\"}], \"scattermapbox\": [{\"marker\": {\"colorbar\": {\"outlinewidth\": 0, \"ticks\": \"\"}}, \"type\": \"scattermapbox\"}], \"scatterpolar\": [{\"marker\": {\"colorbar\": {\"outlinewidth\": 0, \"ticks\": \"\"}}, \"type\": \"scatterpolar\"}], \"scatterpolargl\": [{\"marker\": {\"colorbar\": {\"outlinewidth\": 0, \"ticks\": \"\"}}, \"type\": \"scatterpolargl\"}], \"scatterternary\": [{\"marker\": {\"colorbar\": {\"outlinewidth\": 0, \"ticks\": \"\"}}, \"type\": \"scatterternary\"}], \"surface\": [{\"colorbar\": {\"outlinewidth\": 0, \"ticks\": \"\"}, \"colorscale\": [[0.0, \"#0d0887\"], [0.1111111111111111, \"#46039f\"], [0.2222222222222222, \"#7201a8\"], [0.3333333333333333, \"#9c179e\"], [0.4444444444444444, \"#bd3786\"], [0.5555555555555556, \"#d8576b\"], [0.6666666666666666, \"#ed7953\"], [0.7777777777777778, \"#fb9f3a\"], [0.8888888888888888, \"#fdca26\"], [1.0, \"#f0f921\"]], \"type\": \"surface\"}], \"table\": [{\"cells\": {\"fill\": {\"color\": \"#EBF0F8\"}, \"line\": {\"color\": \"white\"}}, \"header\": {\"fill\": {\"color\": \"#C8D4E3\"}, \"line\": {\"color\": \"white\"}}, \"type\": \"table\"}]}, \"layout\": {\"annotationdefaults\": {\"arrowcolor\": \"#2a3f5f\", \"arrowhead\": 0, \"arrowwidth\": 1}, \"autotypenumbers\": \"strict\", \"coloraxis\": {\"colorbar\": {\"outlinewidth\": 0, \"ticks\": \"\"}}, \"colorscale\": {\"diverging\": [[0, \"#8e0152\"], [0.1, \"#c51b7d\"], [0.2, \"#de77ae\"], [0.3, \"#f1b6da\"], [0.4, \"#fde0ef\"], [0.5, \"#f7f7f7\"], [0.6, \"#e6f5d0\"], [0.7, \"#b8e186\"], [0.8, \"#7fbc41\"], [0.9, \"#4d9221\"], [1, \"#276419\"]], \"sequential\": [[0.0, \"#0d0887\"], [0.1111111111111111, \"#46039f\"], [0.2222222222222222, \"#7201a8\"], [0.3333333333333333, \"#9c179e\"], [0.4444444444444444, \"#bd3786\"], [0.5555555555555556, \"#d8576b\"], [0.6666666666666666, \"#ed7953\"], [0.7777777777777778, \"#fb9f3a\"], [0.8888888888888888, \"#fdca26\"], [1.0, \"#f0f921\"]], \"sequentialminus\": [[0.0, \"#0d0887\"], [0.1111111111111111, \"#46039f\"], [0.2222222222222222, \"#7201a8\"], [0.3333333333333333, \"#9c179e\"], [0.4444444444444444, \"#bd3786\"], [0.5555555555555556, \"#d8576b\"], [0.6666666666666666, \"#ed7953\"], [0.7777777777777778, \"#fb9f3a\"], [0.8888888888888888, \"#fdca26\"], [1.0, \"#f0f921\"]]}, \"colorway\": [\"#636efa\", \"#EF553B\", \"#00cc96\", \"#ab63fa\", \"#FFA15A\", \"#19d3f3\", \"#FF6692\", \"#B6E880\", \"#FF97FF\", \"#FECB52\"], \"font\": {\"color\": \"#2a3f5f\"}, \"geo\": {\"bgcolor\": \"white\", \"lakecolor\": \"white\", \"landcolor\": \"#E5ECF6\", \"showlakes\": true, \"showland\": true, \"subunitcolor\": \"white\"}, \"hoverlabel\": {\"align\": \"left\"}, \"hovermode\": \"closest\", \"mapbox\": {\"style\": \"light\"}, \"paper_bgcolor\": \"white\", \"plot_bgcolor\": \"#E5ECF6\", \"polar\": {\"angularaxis\": {\"gridcolor\": \"white\", \"linecolor\": \"white\", \"ticks\": \"\"}, \"bgcolor\": \"#E5ECF6\", \"radialaxis\": {\"gridcolor\": \"white\", \"linecolor\": \"white\", \"ticks\": \"\"}}, \"scene\": {\"xaxis\": {\"backgroundcolor\": \"#E5ECF6\", \"gridcolor\": \"white\", \"gridwidth\": 2, \"linecolor\": \"white\", \"showbackground\": true, \"ticks\": \"\", \"zerolinecolor\": \"white\"}, \"yaxis\": {\"backgroundcolor\": \"#E5ECF6\", \"gridcolor\": \"white\", \"gridwidth\": 2, \"linecolor\": \"white\", \"showbackground\": true, \"ticks\": \"\", \"zerolinecolor\": \"white\"}, \"zaxis\": {\"backgroundcolor\": \"#E5ECF6\", \"gridcolor\": \"white\", \"gridwidth\": 2, \"linecolor\": \"white\", \"showbackground\": true, \"ticks\": \"\", \"zerolinecolor\": \"white\"}}, \"shapedefaults\": {\"line\": {\"color\": \"#2a3f5f\"}}, \"ternary\": {\"aaxis\": {\"gridcolor\": \"white\", \"linecolor\": \"white\", \"ticks\": \"\"}, \"baxis\": {\"gridcolor\": \"white\", \"linecolor\": \"white\", \"ticks\": \"\"}, \"bgcolor\": \"#E5ECF6\", \"caxis\": {\"gridcolor\": \"white\", \"linecolor\": \"white\", \"ticks\": \"\"}}, \"title\": {\"x\": 0.05}, \"xaxis\": {\"automargin\": true, \"gridcolor\": \"white\", \"linecolor\": \"white\", \"ticks\": \"\", \"title\": {\"standoff\": 15}, \"zerolinecolor\": \"white\", \"zerolinewidth\": 2}, \"yaxis\": {\"automargin\": true, \"gridcolor\": \"white\", \"linecolor\": \"white\", \"ticks\": \"\", \"title\": {\"standoff\": 15}, \"zerolinecolor\": \"white\", \"zerolinewidth\": 2}}}},                        {\"responsive\": true}                    ).then(function(){\n",
              "                            \n",
              "var gd = document.getElementById('801661ce-78f4-4dae-8eb5-8045a7c610ab');\n",
              "var x = new MutationObserver(function (mutations, observer) {{\n",
              "        var display = window.getComputedStyle(gd).display;\n",
              "        if (!display || display === 'none') {{\n",
              "            console.log([gd, 'removed!']);\n",
              "            Plotly.purge(gd);\n",
              "            observer.disconnect();\n",
              "        }}\n",
              "}});\n",
              "\n",
              "// Listen for the removal of the full notebook cells\n",
              "var notebookContainer = gd.closest('#notebook-container');\n",
              "if (notebookContainer) {{\n",
              "    x.observe(notebookContainer, {childList: true});\n",
              "}}\n",
              "\n",
              "// Listen for the clearing of the current output cell\n",
              "var outputEl = gd.closest('.output');\n",
              "if (outputEl) {{\n",
              "    x.observe(outputEl, {childList: true});\n",
              "}}\n",
              "\n",
              "                        })                };                });            </script>        </div>"
            ]
          },
          "metadata": {},
          "output_type": "display_data"
        }
      ],
      "source": [
        "store_item_df = train_df.copy()\n",
        "# First, let us filterout the required data\n",
        "item_id = 117610   # Some item\n",
        "print('Before filter:', store_item_df.shape)\n",
        "store_item_df = store_item_df[store_item_df.ItemCode == item_id]\n",
        "print('After filter:', store_item_df.shape)\n",
        "store_item_df.head()\n",
        "\n",
        "store_item_ts_data = [go.Scatter(\n",
        "        x=store_item_df.DateID,\n",
        "        y=store_item_df.DailySales)]\n",
        "py.iplot(store_item_ts_data)\n",
        "    "
      ]
    },
    {
      "cell_type": "markdown",
      "metadata": {
        "id": "DLdPTgYRee6p"
      },
      "source": [
        "# LIGHTGBM"
      ]
    },
    {
      "cell_type": "code",
      "execution_count": null,
      "metadata": {
        "id": "ygdqi7p8ee6q",
        "outputId": "d9643dc2-4153-40ab-98a1-3f52355b4a21"
      },
      "outputs": [
        {
          "data": {
            "text/plain": [
              "Index(['CategoryCode', 'ItemCode', 'DateID', 'DailySales', 'DailySales_bins',\n",
              "       'month', 'day', 'year'],\n",
              "      dtype='object')"
            ]
          },
          "execution_count": 92,
          "metadata": {},
          "output_type": "execute_result"
        }
      ],
      "source": [
        "train_df.columns"
      ]
    },
    {
      "cell_type": "code",
      "execution_count": null,
      "metadata": {
        "id": "zGHNqMnLee6q"
      },
      "outputs": [],
      "source": [
        "train_df['DateID'] = pd.to_datetime(train_df['DateID'])\n",
        "#validation_df['date'] = pd.to_datetime(train_df['date'])\n",
        "\n",
        "train_df['month'] = train_df['DateID'].dt.month\n",
        "train_df['day'] = train_df['DateID'].dt.dayofweek\n",
        "train_df['year'] = train_df['DateID'].dt.year\n",
        "\n",
        "'''validation_df['month'] = validation_df['date'].dt.month\n",
        "validation_df['day'] = validation_df['date'].dt.dayofweek\n",
        "validation_df['year'] = validation_df['date'].dt.year'''\n",
        "\n",
        "col = [i for i in train_df.columns if i not in ['DateID','CategoryCode','DailySales_bins']]\n",
        "y = 'DailySales'\n",
        "train_x, test_x, train_y, test_y = train_test_split(train_df[col],train_df[y], test_size=0.2, random_state=2018)"
      ]
    },
    {
      "cell_type": "code",
      "execution_count": null,
      "metadata": {
        "id": "MNtXblWgee6q",
        "outputId": "ea8bcf80-a21d-4a3f-bd49-51d5d7787e1d"
      },
      "outputs": [
        {
          "data": {
            "text/plain": [
              "((15936, 5), (3985, 5))"
            ]
          },
          "execution_count": 117,
          "metadata": {},
          "output_type": "execute_result"
        }
      ],
      "source": [
        "train_x.shape, test_x.shape"
      ]
    },
    {
      "cell_type": "code",
      "execution_count": null,
      "metadata": {
        "id": "EMvH7N00ee6r",
        "outputId": "d11ede2e-be01-4aaf-dfa7-87b56042fcb4"
      },
      "outputs": [
        {
          "data": {
            "text/plain": [
              "((15936, 1, 5), (3985, 1, 5))"
            ]
          },
          "execution_count": 118,
          "metadata": {},
          "output_type": "execute_result"
        }
      ],
      "source": [
        "#reshape\n",
        "train_x = np.array(train_x).reshape(train_x.shape[0], 1, train_x.shape[1])\n",
        "test_x = np.array(test_x).reshape(test_x.shape[0], 1, test_x.shape[1])\n",
        "train_x.shape,test_x.shape"
      ]
    },
    {
      "cell_type": "code",
      "execution_count": null,
      "metadata": {
        "id": "0GB7gk-Wee6r",
        "outputId": "b4dd7d4a-7029-4cf6-d24a-bb793ddcae89"
      },
      "outputs": [
        {
          "data": {
            "text/plain": [
              "array([[[ 877624,       6,      10,       3,    2021]],\n",
              "\n",
              "       [[1030948,       1,      11,       2,    2021]],\n",
              "\n",
              "       [[1047967,      11,       1,       0,    2022]],\n",
              "\n",
              "       ...,\n",
              "\n",
              "       [[ 124774,       5,      11,       1,    2021]],\n",
              "\n",
              "       [[  17287,       1,       2,       2,    2022]],\n",
              "\n",
              "       [[ 216151,       1,      11,       1,    2021]]], dtype=int64)"
            ]
          },
          "execution_count": 119,
          "metadata": {},
          "output_type": "execute_result"
        }
      ],
      "source": [
        "train_x"
      ]
    },
    {
      "cell_type": "code",
      "execution_count": null,
      "metadata": {
        "id": "QJ_53SC5ee6r"
      },
      "outputs": [],
      "source": [
        "train_x = np.asarray(train_x).astype('float32')"
      ]
    },
    {
      "cell_type": "code",
      "execution_count": null,
      "metadata": {
        "id": "3i_yxskmee6r",
        "outputId": "ca667e77-4bcf-48c9-cd99-fbf67a45ba7e"
      },
      "outputs": [
        {
          "name": "stdout",
          "output_type": "stream",
          "text": [
            "Model: \"sequential_5\"\n",
            "_________________________________________________________________\n",
            "Layer (type)                 Output Shape              Param #   \n",
            "=================================================================\n",
            "lstm_5 (LSTM)                (32, 144)                 86400     \n",
            "_________________________________________________________________\n",
            "dense_5 (Dense)              (32, 1)                   145       \n",
            "=================================================================\n",
            "Total params: 86,545\n",
            "Trainable params: 86,545\n",
            "Non-trainable params: 0\n",
            "_________________________________________________________________\n",
            "Epoch 1/25\n",
            "498/498 [==============================] - 2s 2ms/step - loss: 208.9823\n",
            "Epoch 2/25\n",
            "498/498 [==============================] - 1s 2ms/step - loss: 208.7965\n",
            "Epoch 3/25\n",
            "498/498 [==============================] - 1s 2ms/step - loss: 214.2827\n",
            "Epoch 4/25\n",
            "498/498 [==============================] - 1s 2ms/step - loss: 209.2308\n",
            "Epoch 5/25\n",
            "498/498 [==============================] - 1s 2ms/step - loss: 200.6652\n",
            "Epoch 6/25\n",
            "498/498 [==============================] - 1s 2ms/step - loss: 190.2348\n",
            "Epoch 7/25\n",
            "498/498 [==============================] - 1s 2ms/step - loss: 205.9604\n",
            "Epoch 8/25\n",
            "498/498 [==============================] - 1s 2ms/step - loss: 198.6617\n",
            "Epoch 9/25\n",
            "498/498 [==============================] - 1s 2ms/step - loss: 209.0704\n",
            "Epoch 10/25\n",
            "498/498 [==============================] - 1s 2ms/step - loss: 184.9317\n",
            "Epoch 11/25\n",
            "498/498 [==============================] - 1s 2ms/step - loss: 201.1454\n",
            "Epoch 12/25\n",
            "498/498 [==============================] - 1s 2ms/step - loss: 204.1912\n",
            "Epoch 13/25\n",
            "498/498 [==============================] - 1s 2ms/step - loss: 199.6194\n",
            "Epoch 14/25\n",
            "498/498 [==============================] - 1s 2ms/step - loss: 200.5467\n",
            "Epoch 15/25\n",
            "498/498 [==============================] - 1s 2ms/step - loss: 187.3544\n",
            "Epoch 16/25\n",
            "498/498 [==============================] - 1s 2ms/step - loss: 196.1084\n",
            "Epoch 17/25\n",
            "498/498 [==============================] - 1s 2ms/step - loss: 203.0292\n",
            "Epoch 18/25\n",
            "498/498 [==============================] - 1s 2ms/step - loss: 194.3710\n",
            "Epoch 19/25\n",
            "498/498 [==============================] - 1s 2ms/step - loss: 205.4742\n",
            "Epoch 20/25\n",
            "498/498 [==============================] - 1s 2ms/step - loss: 199.6137\n",
            "Epoch 21/25\n",
            "498/498 [==============================] - 1s 2ms/step - loss: 214.7307\n",
            "Epoch 22/25\n",
            "498/498 [==============================] - 1s 2ms/step - loss: 212.1841\n",
            "Epoch 23/25\n",
            "498/498 [==============================] - 1s 2ms/step - loss: 206.4061\n",
            "Epoch 24/25\n",
            "498/498 [==============================] - 2s 3ms/step - loss: 200.3930\n",
            "Epoch 25/25\n",
            "498/498 [==============================] - 2s 4ms/step - loss: 198.3241\n"
          ]
        },
        {
          "data": {
            "text/plain": [
              "<tensorflow.python.keras.callbacks.History at 0x1a2e932df88>"
            ]
          },
          "execution_count": 124,
          "metadata": {},
          "output_type": "execute_result"
        }
      ],
      "source": [
        "_optimiser = ['Adam','Nadam','RMSprop']\n",
        "model = Sequential()\n",
        "model.add(LSTM(144, batch_input_shape=(32, 1, 5), stateful=True))\n",
        "model.add(Dense(1))\n",
        "model.compile(loss='mean_squared_error', optimizer=_optimiser[0])\n",
        "model.summary()\n",
        "model.fit(train_x,train_y, batch_size=32,epochs=25)\n",
        "#submission = pd.read_csv(\"../input/demand-forecasting-kernels-only/sample_submission.csv\")\n",
        "#submission['sales'] = model.predict(test_x)\n",
        "#submission.to_csv(\"submission_Adam\")"
      ]
    }
  ],
  "metadata": {
    "interpreter": {
      "hash": "acb22a8b69de88320319ef34cebc68b783b44c7a14d82e341757e6edeba099a7"
    },
    "kernelspec": {
      "display_name": "Python 3.7.8 64-bit ('cv': venv)",
      "language": "python",
      "name": "python3"
    },
    "language_info": {
      "codemirror_mode": {
        "name": "ipython",
        "version": 3
      },
      "file_extension": ".py",
      "mimetype": "text/x-python",
      "name": "python",
      "nbconvert_exporter": "python",
      "pygments_lexer": "ipython3",
      "version": "3.7.8"
    },
    "orig_nbformat": 4,
    "colab": {
      "name": "main.ipynb",
      "provenance": [],
      "include_colab_link": true
    }
  },
  "nbformat": 4,
  "nbformat_minor": 0
}